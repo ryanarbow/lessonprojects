{
 "cells": [
  {
   "cell_type": "code",
   "execution_count": 9,
   "metadata": {
    "collapsed": false
   },
   "outputs": [],
   "source": [
    "import requests\n",
    "from bs4 import BeautifulSoup as soup\n",
    "import time\n",
    "import pandas as pd\n",
    "import sqlite3 as lite\n",
    "import os\n",
    "import sys\n",
    "#import matplotlib.pyplot as plt\n",
    "import numpy as np\n",
    "import statsmodels.api as sm\n",
    "#%matplotlib inline\n",
    "from collections import Counter\n",
    "import itertools\n",
    "#import BeautifulSoup as soup"
   ]
  },
  {
   "cell_type": "code",
   "execution_count": 10,
   "metadata": {
    "collapsed": true
   },
   "outputs": [],
   "source": [
    "headers = {'User-Agent': 'Mozilla/5.0 (Macintosh; Intel Mac OS X 10_10_0) AppleWebKit/537.36 (KHTML, like Gecko) Chrome/43.0.2357.124 Safari/537.36'}"
   ]
  },
  {
   "cell_type": "code",
   "execution_count": 11,
   "metadata": {
    "collapsed": true
   },
   "outputs": [],
   "source": [
    "cities = [['tx', \"austin\"] ,[ 'ca' , 'los-angeles'] ,[ 'ga' , 'atlanta'] ,[ 'ma' , 'boston'] ,[ 'nc' , 'charlotte'] ,[ 'tx' , 'dallas'] ,[ 'co' , 'denver'] ,[ 'tx' , 'houston'] ,[ 'fl' , 'miami'] ,[ 'mn' , 'minneapolis'] ,[ 'ny' , 'new-york'] ,[ 'pa' , 'philadelphia'] ,[ 'az' , 'phoenix'] ,[ 'or' , 'portland'] ,[ 'ca' , 'san-francisco'] ,[ 'ca' , 'san-diego'] ,[ 'wa' , 'seattle'] ,[ 'dc' , 'washington'] ]"
   ]
  },
  {
   "cell_type": "code",
   "execution_count": 12,
   "metadata": {
    "collapsed": true
   },
   "outputs": [],
   "source": [
    "url = \"https://dogvacay.com/dog-boarding--tx--austin\"#+ k + \"--\" + v + \"?p=\"+str(page)"
   ]
  },
  {
   "cell_type": "code",
   "execution_count": 23,
   "metadata": {
    "collapsed": false
   },
   "outputs": [
    {
     "data": {
      "text/plain": [
       "<Response [200]>"
      ]
     },
     "execution_count": 23,
     "metadata": {},
     "output_type": "execute_result"
    }
   ],
   "source": [
    "r = requests.get(url)"
   ]
  },
  {
   "cell_type": "code",
   "execution_count": 25,
   "metadata": {
    "collapsed": false
   },
   "outputs": [],
   "source": [
    "s = soup(r.text)"
   ]
  },
  {
   "cell_type": "code",
   "execution_count": 79,
   "metadata": {
    "collapsed": false
   },
   "outputs": [],
   "source": [
    "pagination_links = s.findAll('a',{'class': 'pagination-link dv-button'}) #dv-host-list-items "
   ]
  },
  {
   "cell_type": "code",
   "execution_count": 80,
   "metadata": {
    "collapsed": false
   },
   "outputs": [
    {
     "name": "stdout",
     "output_type": "stream",
     "text": [
      "<a class=\"pagination-link dv-button\" data-page=\"2\" href=\"/dog-boarding--tx--austin?p=2\">Next »</a>\n"
     ]
    }
   ],
   "source": [
    "for pl in pagination_links:\n",
    "        if pl.text.find('Next') == 0:\n",
    "            print pl"
   ]
  },
  {
   "cell_type": "code",
   "execution_count": 65,
   "metadata": {
    "collapsed": false
   },
   "outputs": [
    {
     "ename": "TypeError",
     "evalue": "unbound method find_all() must be called with BeautifulSoup instance as first argument (got str instance instead)",
     "output_type": "error",
     "traceback": [
      "\u001b[0;31m---------------------------------------------------------------------------\u001b[0m",
      "\u001b[0;31mTypeError\u001b[0m                                 Traceback (most recent call last)",
      "\u001b[0;32m<ipython-input-65-fd2253dfe863>\u001b[0m in \u001b[0;36m<module>\u001b[0;34m()\u001b[0m\n\u001b[0;32m----> 1\u001b[0;31m \u001b[0mpagination_links\u001b[0m \u001b[0;34m=\u001b[0m \u001b[0msoup\u001b[0m\u001b[0;34m.\u001b[0m\u001b[0mfindAll\u001b[0m\u001b[0;34m(\u001b[0m\u001b[0;34m'li'\u001b[0m\u001b[0;34m,\u001b[0m \u001b[0;34m{\u001b[0m\u001b[0;34m'class'\u001b[0m\u001b[0;34m:\u001b[0m \u001b[0;34m'pagination-item dv-pagination__item'\u001b[0m\u001b[0;34m}\u001b[0m\u001b[0;34m)\u001b[0m\u001b[0;34m\u001b[0m\u001b[0m\n\u001b[0m",
      "\u001b[0;31mTypeError\u001b[0m: unbound method find_all() must be called with BeautifulSoup instance as first argument (got str instance instead)"
     ]
    }
   ],
   "source": [
    "pagination_links = soup.findAll('li', {'class': 'pagination-item dv-pagination__item'})"
   ]
  },
  {
   "cell_type": "code",
   "execution_count": 78,
   "metadata": {
    "collapsed": false
   },
   "outputs": [
    {
     "ename": "AttributeError",
     "evalue": "'list' object has no attribute 'iteritem'",
     "output_type": "error",
     "traceback": [
      "\u001b[0;31m---------------------------------------------------------------------------\u001b[0m",
      "\u001b[0;31mAttributeError\u001b[0m                            Traceback (most recent call last)",
      "\u001b[0;32m<ipython-input-78-a2153178d7b8>\u001b[0m in \u001b[0;36m<module>\u001b[0;34m()\u001b[0m\n\u001b[1;32m      2\u001b[0m \u001b[0mv\u001b[0m \u001b[0;34m=\u001b[0m \u001b[0mcity\u001b[0m\u001b[0;34m[\u001b[0m\u001b[0;36m1\u001b[0m\u001b[0;34m]\u001b[0m\u001b[0;34m\u001b[0m\u001b[0m\n\u001b[1;32m      3\u001b[0m \u001b[0;34m\u001b[0m\u001b[0m\n\u001b[0;32m----> 4\u001b[0;31m \u001b[0;32mfor\u001b[0m \u001b[0mk\u001b[0m\u001b[0;34m,\u001b[0m \u001b[0mv\u001b[0m \u001b[0;32min\u001b[0m \u001b[0mcities\u001b[0m\u001b[0;34m.\u001b[0m\u001b[0miteritem\u001b[0m\u001b[0;34m:\u001b[0m\u001b[0;34m\u001b[0m\u001b[0m\n\u001b[0m\u001b[1;32m      5\u001b[0m     \u001b[0mrunning\u001b[0m \u001b[0;34m=\u001b[0m \u001b[0mTrue\u001b[0m\u001b[0;34m\u001b[0m\u001b[0m\n\u001b[1;32m      6\u001b[0m     \u001b[0;31m#page = 1\u001b[0m\u001b[0;34m\u001b[0m\u001b[0;34m\u001b[0m\u001b[0m\n",
      "\u001b[0;31mAttributeError\u001b[0m: 'list' object has no attribute 'iteritem'"
     ]
    }
   ],
   "source": [
    "k = city[0]\n",
    "v = city[1]\n",
    "\n",
    "for k, v in cities.iteritem:\n",
    "    running = True\n",
    "    #page = 1\n",
    "    #print ''\n",
    "    print k,v\n",
    "    while running:\n",
    "        url = \"https://dogvacay.com/dog-boarding--\" + k + \"--\" + v + \"?p=\"+str(page)\n",
    "        filename = k + '-' + v + '-' + str(page) + '.htm'\n",
    "        if (os.path.isfile(filename)):\n",
    "            sys.stdout.write('-')\n",
    "            r = requests.get(url, headers=headers)\n",
    "            time.sleep(1)\n",
    "            f = open(filename, 'w')\n",
    "            f.write(r.text.encode('ascii', 'replace'))\n",
    "            f.close()\n",
    "            data = r.text\n",
    "        else:\n",
    "            sys.stdout.write('.')\n",
    "            f = open(filename, 'r')\n",
    "            data = f.read()\n",
    "            f.close()\n",
    "        soup = BeautifulSoup(data)\n",
    "        pagination_links = soup.findAll('div', {'class': 'paginator dv-pagination'})\n",
    "        running = False\n",
    "        for pl in pagination_links:\n",
    "            if pl.text.find('Next') == 0:\n",
    "                running = True\n",
    "        page+=1\n"
   ]
  },
  {
   "cell_type": "code",
   "execution_count": 53,
   "metadata": {
    "collapsed": false
   },
   "outputs": [],
   "source": [
    "# Data extraction phase\n",
    "\n",
    "times = []\n",
    "fees = []\n",
    "reviews = []\n",
    "repeats = []\n",
    "city = []\n",
    "service = []\n",
    "rating = []\n",
    "name = []\n",
    "\n",
    "soup = BeautifulSoup(data)\n",
    "sitters = soup.findAll('div', {'class': 'card-content'}) #change w dv-host-list-items\n",
    "for sitter in sitters:\n",
    "    rtwrap = sitter.findAll('div', {'class': 'icon-wrapper'})\n",
    "    if len(rtwrap) > 0:\n",
    "        response_time = rtwrap[0].text.strip('\\n')[19:]\n",
    "    else:\n",
    "        response_time = -1\n",
    "    fee = sitter.findAll('div', {'class': 'price price--primary u-text-center'})\n",
    "    review = sitter.find('span', {'class': 'vcard-review'})\n",
    "    if review is not None and len(review) > 0:\n",
    "        review = int(review.text.replace('Reviews', '').replace('Review', '').strip())\n",
    "    else:\n",
    "        review = 0\n",
    "    repeat = sitter.findAll('div', {'class': 'icon-wrapper'})\n",
    "    if len(repeat) == 2 and len(repeat[1].text.strip()) > 12:\n",
    "        repeat = repeat[1].text.strip()[:2]\n",
    "    else:\n",
    "        repeat = 0\n",
    "    #services = sitter.findAll('div', {'class': 'vcard-line-item'})\n",
    "    full_star = sitter.findAll('i', {'class': 'ck-star'})\n",
    "    ratings = len(full_star)\n",
    "    half_star = sitter.findAll('i', {'class': 'ck-star-half'})\n",
    "    if len(half_star) > 0:\n",
    "        ratings += .5\n",
    "    names = sitter.find('h2', {'class': 'vcard-title'}).text.strip('\\n$')#.split(' ')\n",
    "    fees.append(fee[0].text.strip('\\n$')[:2])\n",
    "    title = soup.find('title').text\n",
    "    i = title.find(' Dog Boarding')\n",
    "    title = title[0:i]\n",
    "    city.append(title)\n",
    "    #times.append(response_time)\n",
    "    reviews.append(review)\n",
    "    repeats.append(repeat)\n",
    "    #service.append(services[-1].text.strip('\\n'))\n",
    "    rating.append(ratings)\n",
    "    name.append(names)\n",
    "\n",
    "df = pd.DataFrame({'city': city, 'fee': fees, 'review' : reviews, 'repeat' : repeats, 'ratings': rating, 'names': name})    "
   ]
  },
  {
   "cell_type": "code",
   "execution_count": 61,
   "metadata": {
    "collapsed": false
   },
   "outputs": [],
   "source": [
    "df['names'] = df['names'].apply(lambda x: str(x).split())"
   ]
  },
  {
   "cell_type": "code",
   "execution_count": 62,
   "metadata": {
    "collapsed": false
   },
   "outputs": [
    {
     "data": {
      "text/html": [
       "<div style=\"max-height:1000px;max-width:1500px;overflow:auto;\">\n",
       "<table border=\"1\" class=\"dataframe\">\n",
       "  <thead>\n",
       "    <tr style=\"text-align: right;\">\n",
       "      <th></th>\n",
       "      <th>city</th>\n",
       "      <th>fee</th>\n",
       "      <th>names</th>\n",
       "      <th>ratings</th>\n",
       "      <th>repeat</th>\n",
       "      <th>review</th>\n",
       "    </tr>\n",
       "  </thead>\n",
       "  <tbody>\n",
       "    <tr>\n",
       "      <th>0 </th>\n",
       "      <td> Washington, District Of Columbia</td>\n",
       "      <td> 33</td>\n",
       "      <td>                      [Doggies, Galore!]</td>\n",
       "      <td> 5</td>\n",
       "      <td> 2 </td>\n",
       "      <td>  6</td>\n",
       "    </tr>\n",
       "    <tr>\n",
       "      <th>1 </th>\n",
       "      <td> Washington, District Of Columbia</td>\n",
       "      <td> 35</td>\n",
       "      <td>             [Petite, Poochie, Paradise]</td>\n",
       "      <td> 5</td>\n",
       "      <td> 2 </td>\n",
       "      <td>  3</td>\n",
       "    </tr>\n",
       "    <tr>\n",
       "      <th>2 </th>\n",
       "      <td> Washington, District Of Columbia</td>\n",
       "      <td> 40</td>\n",
       "      <td>               [Happy, tails, unleashed]</td>\n",
       "      <td> 5</td>\n",
       "      <td> 6 </td>\n",
       "      <td> 10</td>\n",
       "    </tr>\n",
       "    <tr>\n",
       "      <th>3 </th>\n",
       "      <td> Washington, District Of Columbia</td>\n",
       "      <td> 40</td>\n",
       "      <td>            [Mount, Vernon, Doggy, Care]</td>\n",
       "      <td> 5</td>\n",
       "      <td> 1 </td>\n",
       "      <td>  6</td>\n",
       "    </tr>\n",
       "    <tr>\n",
       "      <th>4 </th>\n",
       "      <td> Washington, District Of Columbia</td>\n",
       "      <td> 45</td>\n",
       "      <td>          [Brewer's, Hill, Dog-Sitting!]</td>\n",
       "      <td> 5</td>\n",
       "      <td> 3 </td>\n",
       "      <td>  8</td>\n",
       "    </tr>\n",
       "    <tr>\n",
       "      <th>5 </th>\n",
       "      <td> Washington, District Of Columbia</td>\n",
       "      <td> 35</td>\n",
       "      <td>          [Fun, Retreat, For, Your, Pet]</td>\n",
       "      <td> 5</td>\n",
       "      <td> 7 </td>\n",
       "      <td> 17</td>\n",
       "    </tr>\n",
       "    <tr>\n",
       "      <th>6 </th>\n",
       "      <td> Washington, District Of Columbia</td>\n",
       "      <td> 30</td>\n",
       "      <td>           [Vacay, in, Johnston, Square]</td>\n",
       "      <td> 5</td>\n",
       "      <td> 12</td>\n",
       "      <td> 27</td>\n",
       "    </tr>\n",
       "    <tr>\n",
       "      <th>7 </th>\n",
       "      <td> Washington, District Of Columbia</td>\n",
       "      <td> 28</td>\n",
       "      <td>                      [Bank, St., Bliss]</td>\n",
       "      <td> 5</td>\n",
       "      <td> 1 </td>\n",
       "      <td>  2</td>\n",
       "    </tr>\n",
       "    <tr>\n",
       "      <th>8 </th>\n",
       "      <td> Washington, District Of Columbia</td>\n",
       "      <td> 30</td>\n",
       "      <td>                [Your, pet's, 2nd, home]</td>\n",
       "      <td> 5</td>\n",
       "      <td> 33</td>\n",
       "      <td> 79</td>\n",
       "    </tr>\n",
       "    <tr>\n",
       "      <th>9 </th>\n",
       "      <td> Washington, District Of Columbia</td>\n",
       "      <td> 40</td>\n",
       "      <td>      [City, home, in, country, setting]</td>\n",
       "      <td> 5</td>\n",
       "      <td> 2 </td>\n",
       "      <td> 10</td>\n",
       "    </tr>\n",
       "    <tr>\n",
       "      <th>10</th>\n",
       "      <td> Washington, District Of Columbia</td>\n",
       "      <td> 35</td>\n",
       "      <td>                      [Love, the, dogs!]</td>\n",
       "      <td> 5</td>\n",
       "      <td>  0</td>\n",
       "      <td>  3</td>\n",
       "    </tr>\n",
       "    <tr>\n",
       "      <th>11</th>\n",
       "      <td> Washington, District Of Columbia</td>\n",
       "      <td> 33</td>\n",
       "      <td>            [Tuesday's, Holistic, Haven]</td>\n",
       "      <td> 0</td>\n",
       "      <td>  0</td>\n",
       "      <td>  0</td>\n",
       "    </tr>\n",
       "    <tr>\n",
       "      <th>12</th>\n",
       "      <td> Washington, District Of Columbia</td>\n",
       "      <td> 40</td>\n",
       "      <td> [Work-From-Home, Pampering, Dog, Lover]</td>\n",
       "      <td> 5</td>\n",
       "      <td> 1 </td>\n",
       "      <td>  1</td>\n",
       "    </tr>\n",
       "    <tr>\n",
       "      <th>13</th>\n",
       "      <td> Washington, District Of Columbia</td>\n",
       "      <td> 30</td>\n",
       "      <td>             [Lifetime, Labrador, Lover]</td>\n",
       "      <td> 5</td>\n",
       "      <td>  0</td>\n",
       "      <td>  1</td>\n",
       "    </tr>\n",
       "    <tr>\n",
       "      <th>14</th>\n",
       "      <td> Washington, District Of Columbia</td>\n",
       "      <td> 15</td>\n",
       "      <td>                [Heavenly, Hound, Hotel]</td>\n",
       "      <td> 0</td>\n",
       "      <td>  0</td>\n",
       "      <td>  0</td>\n",
       "    </tr>\n",
       "  </tbody>\n",
       "</table>\n",
       "</div>"
      ],
      "text/plain": [
       "                                city fee  \\\n",
       "0   Washington, District Of Columbia  33   \n",
       "1   Washington, District Of Columbia  35   \n",
       "2   Washington, District Of Columbia  40   \n",
       "3   Washington, District Of Columbia  40   \n",
       "4   Washington, District Of Columbia  45   \n",
       "5   Washington, District Of Columbia  35   \n",
       "6   Washington, District Of Columbia  30   \n",
       "7   Washington, District Of Columbia  28   \n",
       "8   Washington, District Of Columbia  30   \n",
       "9   Washington, District Of Columbia  40   \n",
       "10  Washington, District Of Columbia  35   \n",
       "11  Washington, District Of Columbia  33   \n",
       "12  Washington, District Of Columbia  40   \n",
       "13  Washington, District Of Columbia  30   \n",
       "14  Washington, District Of Columbia  15   \n",
       "\n",
       "                                      names  ratings repeat  review  \n",
       "0                        [Doggies, Galore!]        5     2        6  \n",
       "1               [Petite, Poochie, Paradise]        5     2        3  \n",
       "2                 [Happy, tails, unleashed]        5     6       10  \n",
       "3              [Mount, Vernon, Doggy, Care]        5     1        6  \n",
       "4            [Brewer's, Hill, Dog-Sitting!]        5     3        8  \n",
       "5            [Fun, Retreat, For, Your, Pet]        5     7       17  \n",
       "6             [Vacay, in, Johnston, Square]        5     12      27  \n",
       "7                        [Bank, St., Bliss]        5     1        2  \n",
       "8                  [Your, pet's, 2nd, home]        5     33      79  \n",
       "9        [City, home, in, country, setting]        5     2       10  \n",
       "10                       [Love, the, dogs!]        5      0       3  \n",
       "11             [Tuesday's, Holistic, Haven]        0      0       0  \n",
       "12  [Work-From-Home, Pampering, Dog, Lover]        5     1        1  \n",
       "13              [Lifetime, Labrador, Lover]        5      0       1  \n",
       "14                 [Heavenly, Hound, Hotel]        0      0       0  "
      ]
     },
     "execution_count": 62,
     "metadata": {},
     "output_type": "execute_result"
    }
   ],
   "source": [
    "df"
   ]
  },
  {
   "cell_type": "code",
   "execution_count": 63,
   "metadata": {
    "collapsed": false
   },
   "outputs": [
    {
     "data": {
      "text/plain": [
       "Counter({'in': 2, 'home': 2, 'Lover': 2, 'Your': 2, 'City': 1, 'Holistic': 1, 'For': 1, 'Pet': 1, 'St.': 1, 'Paradise': 1, '2nd': 1, 'Bliss': 1, 'Hill': 1, 'Heavenly': 1, \"Tuesday's\": 1, 'Doggy': 1, 'Happy': 1, 'Pampering': 1, 'Petite': 1, 'Hotel': 1, 'unleashed': 1, 'Vernon': 1, 'setting': 1, \"Brewer's\": 1, 'Haven': 1, 'Retreat': 1, 'Care': 1, 'Vacay': 1, \"pet's\": 1, 'Poochie': 1, 'Mount': 1, 'Dog': 1, 'dogs!': 1, 'Dog-Sitting!': 1, 'tails': 1, 'Fun': 1, 'Doggies': 1, 'Square': 1, 'Love': 1, 'Labrador': 1, 'country': 1, 'Work-From-Home': 1, 'Johnston': 1, 'Bank': 1, 'Lifetime': 1, 'the': 1, 'Hound': 1, 'Galore!': 1})"
      ]
     },
     "execution_count": 63,
     "metadata": {},
     "output_type": "execute_result"
    }
   ],
   "source": [
    "list_ = df['names'].tolist()\n",
    "merged_list = list(itertools.chain(*list_))\n",
    "Counter(merged_list)#.most_common(10)"
   ]
  },
  {
   "cell_type": "code",
   "execution_count": 59,
   "metadata": {
    "collapsed": false
   },
   "outputs": [],
   "source": [
    "words = df['names'].tolist()"
   ]
  },
  {
   "cell_type": "code",
   "execution_count": 60,
   "metadata": {
    "collapsed": false
   },
   "outputs": [
    {
     "data": {
      "text/plain": [
       "Counter({u' ': 37, u'e': 33, u'o': 28, u't': 20, u'r': 19, u'a': 18, u'i': 18, u'n': 18, u's': 14, u'g': 10, u'l': 9, u'u': 9, u'H': 8, u'd': 7, u'y': 7, u'h': 6, u'm': 6, u'L': 5, u'P': 5, u'v': 5, u'D': 4, u'c': 4, u'p': 4, u'!': 3, u\"'\": 3, u'-': 3, u'B': 3, u'F': 3, u'S': 3, u'C': 2, u'V': 2, u'Y': 2, u'k': 2, u'.': 1, u'2': 1, u'G': 1, u'J': 1, u'M': 1, u'R': 1, u'T': 1, u'W': 1, u'b': 1, u'f': 1, u'q': 1, u'w': 1})"
      ]
     },
     "execution_count": 60,
     "metadata": {},
     "output_type": "execute_result"
    }
   ],
   "source": [
    "Counter(word for line in words for word in line)"
   ]
  },
  {
   "cell_type": "code",
   "execution_count": 290,
   "metadata": {
    "collapsed": false
   },
   "outputs": [
    {
     "data": {
      "text/plain": [
       "[u'Summit', u'Dog', u'Inn', u\"Holli's\", u'House', u'For', u'Hounds!']"
      ]
     },
     "execution_count": 290,
     "metadata": {},
     "output_type": "execute_result"
    }
   ],
   "source": [
    "df['names'][0]+df['names'][1]"
   ]
  },
  {
   "cell_type": "code",
   "execution_count": 289,
   "metadata": {
    "collapsed": false
   },
   "outputs": [
    {
     "name": "stdout",
     "output_type": "stream",
     "text": [
      "[u'Summit', u'Dog', u'Inn']\n",
      "[u\"Holli's\", u'House', u'For', u'Hounds!']\n",
      "[u'doggy', u'dogs', u'heaven']\n",
      "[u'The', u'Bark', u'-', u'Dog', u'Destination', u'Vacation']\n",
      "[u'The', u'Happy', u'Pack']\n",
      "[u'Furry', u'Friends', u'Home', u'Away', u'From', u'Home']\n",
      "[u'Lucky-Dog', u'Boarding']\n",
      "[u'Pampered', u'Puppy', u'Paradise']\n",
      "[u'Enter', u'as', u'Friends,', u'Leave', u'as', u'Family']\n",
      "[u'WAGZ-N-WIGGLES']\n",
      "[u'A', u\"Pug's\", u'Paradise']\n",
      "[u'Cloud', u'K9']\n",
      "[u'The', u'Farm']\n",
      "[u'Reliable,', u'loving', u'care', u'for', u'your', u'dogs']\n",
      "[u'I', u'love', u'all', u'Fur', u'Babies:)']\n"
     ]
    }
   ],
   "source": [
    "list = []\n",
    "for row in (df['names']):\n",
    "    row = list.append(row)\n",
    "    print list[-1]"
   ]
  },
  {
   "cell_type": "code",
   "execution_count": 269,
   "metadata": {
    "collapsed": false
   },
   "outputs": [
    {
     "data": {
      "text/plain": [
       "([u'Summit', u'Dog', u'Inn'],\n",
       " [u\"Holli's\", u'House', u'For', u'Hounds!'],\n",
       " [u'doggy', u'dogs', u'heaven'],\n",
       " [u'The', u'Bark', u'-', u'Dog', u'Destination', u'Vacation'],\n",
       " [u'The', u'Happy', u'Pack'],\n",
       " [u'Furry', u'Friends', u'Home', u'Away', u'From', u'Home'],\n",
       " [u'Lucky-Dog', u'Boarding'],\n",
       " [u'Pampered', u'Puppy', u'Paradise'],\n",
       " [u'Enter', u'as', u'Friends,', u'Leave', u'as', u'Family'],\n",
       " [u'WAGZ-N-WIGGLES'],\n",
       " [u'A', u\"Pug's\", u'Paradise'],\n",
       " [u'Cloud', u'K9'],\n",
       " [u'The', u'Farm'],\n",
       " [u'Reliable,', u'loving', u'care', u'for', u'your', u'dogs'],\n",
       " [u'I', u'love', u'all', u'Fur', u'Babies:)'])"
      ]
     },
     "execution_count": 269,
     "metadata": {},
     "output_type": "execute_result"
    }
   ],
   "source": [
    "tuple(list)"
   ]
  },
  {
   "cell_type": "code",
   "execution_count": 303,
   "metadata": {
    "collapsed": false
   },
   "outputs": [
    {
     "ename": "TypeError",
     "evalue": "unhashable type: 'list'",
     "output_type": "error",
     "traceback": [
      "\u001b[0;31m---------------------------------------------------------------------------\u001b[0m",
      "\u001b[0;31mTypeError\u001b[0m                                 Traceback (most recent call last)",
      "\u001b[0;32m<ipython-input-303-a66a6034a9cc>\u001b[0m in \u001b[0;36m<module>\u001b[0;34m()\u001b[0m\n\u001b[0;32m----> 1\u001b[0;31m \u001b[0mCounter\u001b[0m\u001b[0;34m(\u001b[0m\u001b[0mlist\u001b[0m\u001b[0;34m)\u001b[0m\u001b[0;34m\u001b[0m\u001b[0m\n\u001b[0m",
      "\u001b[0;32m/Users/Ryan/anaconda/lib/python2.7/collections.pyc\u001b[0m in \u001b[0;36m__init__\u001b[0;34m(*args, **kwds)\u001b[0m\n\u001b[1;32m    463\u001b[0m             \u001b[0;32mraise\u001b[0m \u001b[0mTypeError\u001b[0m\u001b[0;34m(\u001b[0m\u001b[0;34m'expected at most 1 arguments, got %d'\u001b[0m \u001b[0;34m%\u001b[0m \u001b[0mlen\u001b[0m\u001b[0;34m(\u001b[0m\u001b[0margs\u001b[0m\u001b[0;34m)\u001b[0m\u001b[0;34m)\u001b[0m\u001b[0;34m\u001b[0m\u001b[0m\n\u001b[1;32m    464\u001b[0m         \u001b[0msuper\u001b[0m\u001b[0;34m(\u001b[0m\u001b[0mCounter\u001b[0m\u001b[0;34m,\u001b[0m \u001b[0mself\u001b[0m\u001b[0;34m)\u001b[0m\u001b[0;34m.\u001b[0m\u001b[0m__init__\u001b[0m\u001b[0;34m(\u001b[0m\u001b[0;34m)\u001b[0m\u001b[0;34m\u001b[0m\u001b[0m\n\u001b[0;32m--> 465\u001b[0;31m         \u001b[0mself\u001b[0m\u001b[0;34m.\u001b[0m\u001b[0mupdate\u001b[0m\u001b[0;34m(\u001b[0m\u001b[0;34m*\u001b[0m\u001b[0margs\u001b[0m\u001b[0;34m,\u001b[0m \u001b[0;34m**\u001b[0m\u001b[0mkwds\u001b[0m\u001b[0;34m)\u001b[0m\u001b[0;34m\u001b[0m\u001b[0m\n\u001b[0m\u001b[1;32m    466\u001b[0m \u001b[0;34m\u001b[0m\u001b[0m\n\u001b[1;32m    467\u001b[0m     \u001b[0;32mdef\u001b[0m \u001b[0m__missing__\u001b[0m\u001b[0;34m(\u001b[0m\u001b[0mself\u001b[0m\u001b[0;34m,\u001b[0m \u001b[0mkey\u001b[0m\u001b[0;34m)\u001b[0m\u001b[0;34m:\u001b[0m\u001b[0;34m\u001b[0m\u001b[0m\n",
      "\u001b[0;32m/Users/Ryan/anaconda/lib/python2.7/collections.pyc\u001b[0m in \u001b[0;36mupdate\u001b[0;34m(*args, **kwds)\u001b[0m\n\u001b[1;32m    553\u001b[0m                 \u001b[0mself_get\u001b[0m \u001b[0;34m=\u001b[0m \u001b[0mself\u001b[0m\u001b[0;34m.\u001b[0m\u001b[0mget\u001b[0m\u001b[0;34m\u001b[0m\u001b[0m\n\u001b[1;32m    554\u001b[0m                 \u001b[0;32mfor\u001b[0m \u001b[0melem\u001b[0m \u001b[0;32min\u001b[0m \u001b[0miterable\u001b[0m\u001b[0;34m:\u001b[0m\u001b[0;34m\u001b[0m\u001b[0m\n\u001b[0;32m--> 555\u001b[0;31m                     \u001b[0mself\u001b[0m\u001b[0;34m[\u001b[0m\u001b[0melem\u001b[0m\u001b[0;34m]\u001b[0m \u001b[0;34m=\u001b[0m \u001b[0mself_get\u001b[0m\u001b[0;34m(\u001b[0m\u001b[0melem\u001b[0m\u001b[0;34m,\u001b[0m \u001b[0;36m0\u001b[0m\u001b[0;34m)\u001b[0m \u001b[0;34m+\u001b[0m \u001b[0;36m1\u001b[0m\u001b[0;34m\u001b[0m\u001b[0m\n\u001b[0m\u001b[1;32m    556\u001b[0m         \u001b[0;32mif\u001b[0m \u001b[0mkwds\u001b[0m\u001b[0;34m:\u001b[0m\u001b[0;34m\u001b[0m\u001b[0m\n\u001b[1;32m    557\u001b[0m             \u001b[0mself\u001b[0m\u001b[0;34m.\u001b[0m\u001b[0mupdate\u001b[0m\u001b[0;34m(\u001b[0m\u001b[0mkwds\u001b[0m\u001b[0;34m)\u001b[0m\u001b[0;34m\u001b[0m\u001b[0m\n",
      "\u001b[0;31mTypeError\u001b[0m: unhashable type: 'list'"
     ]
    }
   ],
   "source": [
    "Counter(list)"
   ]
  },
  {
   "cell_type": "code",
   "execution_count": 129,
   "metadata": {
    "collapsed": false
   },
   "outputs": [],
   "source": [
    "a = np.array(df['names']).tolist()"
   ]
  },
  {
   "cell_type": "code",
   "execution_count": null,
   "metadata": {
    "collapsed": true
   },
   "outputs": [],
   "source": []
  }
 ],
 "metadata": {
  "kernelspec": {
   "display_name": "Python 2",
   "language": "python",
   "name": "python2"
  },
  "language_info": {
   "codemirror_mode": {
    "name": "ipython",
    "version": 2
   },
   "file_extension": ".py",
   "mimetype": "text/x-python",
   "name": "python",
   "nbconvert_exporter": "python",
   "pygments_lexer": "ipython2",
   "version": "2.7.11"
  }
 },
 "nbformat": 4,
 "nbformat_minor": 0
}
