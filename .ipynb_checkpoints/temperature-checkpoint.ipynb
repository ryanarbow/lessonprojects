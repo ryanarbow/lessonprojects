{
 "cells": [
  {
   "cell_type": "code",
   "execution_count": 26,
   "metadata": {
    "_datascience": {},
    "collapsed": false
   },
   "outputs": [],
   "source": [
    "import requests\n",
    "import datetime\n",
    "import sqlite3 as lite\n",
    "import pandas as pd\n",
    "import matplotlib.pyplot as plt\n",
    "import collections\n",
    "import scipy.stats as stats\n",
    "import numpy as np\n",
    "\n"
   ]
  },
  {
   "cell_type": "code",
   "execution_count": 2,
   "metadata": {
    "_datascience": {},
    "collapsed": true
   },
   "outputs": [],
   "source": [
    "cities = {\"Austin\": '30.303936,-97.754355', \"Boston\": '42.331960,-71.020173', \"New_York\": '40.663619,-73.938589', \"Philadelphia\": '40.009376,-75.133346', \"Seattle\": '47.620499,-122.350876'}"
   ]
  },
  {
   "cell_type": "code",
   "execution_count": 3,
   "metadata": {
    "_datascience": {},
    "collapsed": false
   },
   "outputs": [],
   "source": [
    "APIKEY = 'dc6b130f33e13a20201deb99ea5d59c1'"
   ]
  },
  {
   "cell_type": "code",
   "execution_count": 4,
   "metadata": {
    "_datascience": {},
    "collapsed": true
   },
   "outputs": [],
   "source": [
    "#connect to db\n",
    "con = lite.connect('weather.db')\n",
    "cur = con.cursor()"
   ]
  },
  {
   "cell_type": "code",
   "execution_count": 5,
   "metadata": {
    "_datascience": {},
    "collapsed": false
   },
   "outputs": [],
   "source": [
    "#From text - get start date and iterate until the present day\n",
    "start_date = datetime.datetime.now()-datetime.timedelta(days=30)"
   ]
  },
  {
   "cell_type": "code",
   "execution_count": 6,
   "metadata": {
    "_datascience": {},
    "collapsed": false
   },
   "outputs": [],
   "source": [
    "start_date = datetime.datetime.now()-datetime.timedelta(days=30)\n",
    "start_date = start_date.replace(minute=0, hour=0, second=0, microsecond=0)\n",
    "total_start_date = start_date"
   ]
  },
  {
   "cell_type": "code",
   "execution_count": 7,
   "metadata": {
    "_datascience": {},
    "collapsed": false
   },
   "outputs": [],
   "source": [
    "#https://api.forecast.io/forecast/APIKEY/LATITUDE,LONGITUDE,TIME\n",
    "url = 'https://api.forecast.io/forecast/' + APIKEY"
   ]
  },
  {
   "cell_type": "code",
   "execution_count": 86,
   "metadata": {
    "_datascience": {},
    "collapsed": false
   },
   "outputs": [],
   "source": [
    "#Example \n",
    "#Austin = 'https://api.forecast.io/forecast/dc6b130f33e13a20201deb99ea5d59c1/30.303936,-97.754355'"
   ]
  },
  {
   "cell_type": "code",
   "execution_count": 87,
   "metadata": {
    "_datascience": {},
    "collapsed": false
   },
   "outputs": [],
   "source": [
    "#Test\n",
    "#r = requests.get(\"https://api.forecast.io/forecast/dc6b130f33e13a20201deb99ea5d59c1/30.303936,-97.754355\")"
   ]
  },
  {
   "cell_type": "code",
   "execution_count": 8,
   "metadata": {
    "_datascience": {},
    "collapsed": false
   },
   "outputs": [
    {
     "ename": "NameError",
     "evalue": "name 'r' is not defined",
     "output_type": "error",
     "traceback": [
      "\u001b[0;31m---------------------------------------------------------------------------\u001b[0m",
      "\u001b[0;31mNameError\u001b[0m                                 Traceback (most recent call last)",
      "\u001b[0;32m<ipython-input-8-dfacd144ec91>\u001b[0m in \u001b[0;36m<module>\u001b[0;34m()\u001b[0m\n\u001b[0;32m----> 1\u001b[0;31m \u001b[0mr\u001b[0m\u001b[0;34m.\u001b[0m\u001b[0mstatus_code\u001b[0m\u001b[0;34m\u001b[0m\u001b[0m\n\u001b[0m",
      "\u001b[0;31mNameError\u001b[0m: name 'r' is not defined"
     ]
    }
   ],
   "source": [
    "r.status_code"
   ]
  },
  {
   "cell_type": "code",
   "execution_count": 15,
   "metadata": {
    "_datascience": {},
    "collapsed": false
   },
   "outputs": [
    {
     "data": {
      "text/plain": [
       "[u'hourly',\n",
       " u'currently',\n",
       " u'longitude',\n",
       " u'flags',\n",
       " u'daily',\n",
       " u'offset',\n",
       " u'latitude',\n",
       " u'timezone',\n",
       " u'minutely']"
      ]
     },
     "execution_count": 15,
     "metadata": {},
     "output_type": "execute_result"
    }
   ],
   "source": [
    "r.json().keys()"
   ]
  },
  {
   "cell_type": "code",
   "execution_count": 11,
   "metadata": {
    "_datascience": {},
    "collapsed": false
   },
   "outputs": [
    {
     "ename": "OperationalError",
     "evalue": "no such table: daily_temp",
     "output_type": "error",
     "traceback": [
      "\u001b[0;31m---------------------------------------------------------------------------\u001b[0m",
      "\u001b[0;31mOperationalError\u001b[0m                          Traceback (most recent call last)",
      "\u001b[0;32m<ipython-input-11-299d2e4b97d7>\u001b[0m in \u001b[0;36m<module>\u001b[0;34m()\u001b[0m\n\u001b[1;32m      1\u001b[0m \u001b[0mquery\u001b[0m \u001b[0;34m=\u001b[0m \u001b[0;34m\"DROP TABLE daily_temp\"\u001b[0m\u001b[0;34m\u001b[0m\u001b[0m\n\u001b[0;32m----> 2\u001b[0;31m \u001b[0mcur\u001b[0m\u001b[0;34m.\u001b[0m\u001b[0mexecute\u001b[0m\u001b[0;34m(\u001b[0m\u001b[0mquery\u001b[0m\u001b[0;34m)\u001b[0m\u001b[0;34m\u001b[0m\u001b[0m\n\u001b[0m",
      "\u001b[0;31mOperationalError\u001b[0m: no such table: daily_temp"
     ]
    }
   ],
   "source": [
    "#query = \"DROP TABLE daily_temp\"\n",
    "#cur.execute(query)"
   ]
  },
  {
   "cell_type": "code",
   "execution_count": 14,
   "metadata": {
    "_datascience": {},
    "collapsed": false
   },
   "outputs": [],
   "source": [
    "#Create table\n",
    "with con:\n",
    "    cur.execute('CREATE TABLE daily_temp ( day INT, Austin REAL, Boston REAL, New_York REAL, Philadelphia REAL, Seattle REAL)')"
   ]
  },
  {
   "cell_type": "code",
   "execution_count": 13,
   "metadata": {
    "_datascience": {},
    "collapsed": false
   },
   "outputs": [
    {
     "data": {
      "text/plain": [
       "<sqlite3.Cursor at 0x108c88f80>"
      ]
     },
     "execution_count": 13,
     "metadata": {},
     "output_type": "execute_result"
    }
   ],
   "source": [
    "cur.execute(query)"
   ]
  },
  {
   "cell_type": "code",
   "execution_count": 15,
   "metadata": {
    "_datascience": {},
    "collapsed": false
   },
   "outputs": [],
   "source": [
    "with con:\n",
    "    while start_date<datetime.datetime.now():\n",
    "        cur.execute('INSERT INTO daily_temp (day) VALUES (?)', (int(start_date.strftime('%s')),)) #inserting the time in Unix time \n",
    "        start_date += datetime.timedelta(days=1)"
   ]
  },
  {
   "cell_type": "code",
   "execution_count": 16,
   "metadata": {
    "_datascience": {},
    "collapsed": false,
    "scrolled": false
   },
   "outputs": [
    {
     "name": "stdout",
     "output_type": "stream",
     "text": [
      "UPDATE daily_temp SET New_York=77.81 WHERE day = 1432962000\n",
      "UPDATE daily_temp SET New_York=78.03 WHERE day = 1433048400\n",
      "UPDATE daily_temp SET New_York=60.37 WHERE day = 1433134800\n",
      "UPDATE daily_temp SET New_York=54.83 WHERE day = 1433221200\n",
      "UPDATE daily_temp SET New_York=63.27 WHERE day = 1433307600\n",
      "UPDATE daily_temp SET New_York=63.34 WHERE day = 1433394000\n",
      "UPDATE daily_temp SET New_York=63.06 WHERE day = 1433480400\n",
      "UPDATE daily_temp SET New_York=74.94 WHERE day = 1433566800\n",
      "UPDATE daily_temp SET New_York=67.92 WHERE day = 1433653200\n",
      "UPDATE daily_temp SET New_York=73.69 WHERE day = 1433739600\n",
      "UPDATE daily_temp SET New_York=81.38 WHERE day = 1433826000\n",
      "UPDATE daily_temp SET New_York=77.51 WHERE day = 1433912400\n",
      "UPDATE daily_temp SET New_York=87.06 WHERE day = 1433998800\n",
      "UPDATE daily_temp SET New_York=82.7 WHERE day = 1434085200\n",
      "UPDATE daily_temp SET New_York=82.7 WHERE day = 1434171600\n",
      "UPDATE daily_temp SET New_York=80.18 WHERE day = 1434258000\n",
      "UPDATE daily_temp SET New_York=78.49 WHERE day = 1434344400\n",
      "UPDATE daily_temp SET New_York=74.6 WHERE day = 1434430800\n",
      "UPDATE daily_temp SET New_York=75.78 WHERE day = 1434517200\n",
      "UPDATE daily_temp SET New_York=68.21 WHERE day = 1434603600\n",
      "UPDATE daily_temp SET New_York=82.48 WHERE day = 1434690000\n",
      "UPDATE daily_temp SET New_York=73.67 WHERE day = 1434776400\n",
      "UPDATE daily_temp SET New_York=84.26 WHERE day = 1434862800\n",
      "UPDATE daily_temp SET New_York=84.36 WHERE day = 1434949200\n",
      "UPDATE daily_temp SET New_York=87.44 WHERE day = 1435035600\n",
      "UPDATE daily_temp SET New_York=81.66 WHERE day = 1435122000\n",
      "UPDATE daily_temp SET New_York=80.04 WHERE day = 1435208400\n",
      "UPDATE daily_temp SET New_York=78.05 WHERE day = 1435294800\n",
      "UPDATE daily_temp SET New_York=70.05 WHERE day = 1435381200\n",
      "UPDATE daily_temp SET New_York=74.2 WHERE day = 1435467600\n",
      "UPDATE daily_temp SET New_York=77.67 WHERE day = 1435554000\n",
      "UPDATE daily_temp SET Boston=84.3 WHERE day = 1432962000\n",
      "UPDATE daily_temp SET Boston=75.84 WHERE day = 1433048400\n",
      "UPDATE daily_temp SET Boston=49.24 WHERE day = 1433134800\n",
      "UPDATE daily_temp SET Boston=49.03 WHERE day = 1433221200\n",
      "UPDATE daily_temp SET Boston=54.06 WHERE day = 1433307600\n",
      "UPDATE daily_temp SET Boston=56.12 WHERE day = 1433394000\n",
      "UPDATE daily_temp SET Boston=57.81 WHERE day = 1433480400\n",
      "UPDATE daily_temp SET Boston=64.8 WHERE day = 1433566800\n",
      "UPDATE daily_temp SET Boston=65.72 WHERE day = 1433653200\n",
      "UPDATE daily_temp SET Boston=74.06 WHERE day = 1433739600\n",
      "UPDATE daily_temp SET Boston=74.66 WHERE day = 1433826000\n",
      "UPDATE daily_temp SET Boston=81.19 WHERE day = 1433912400\n",
      "UPDATE daily_temp SET Boston=86.49 WHERE day = 1433998800\n",
      "UPDATE daily_temp SET Boston=76.5 WHERE day = 1434085200\n",
      "UPDATE daily_temp SET Boston=81.47 WHERE day = 1434171600\n",
      "UPDATE daily_temp SET Boston=72.32 WHERE day = 1434258000\n",
      "UPDATE daily_temp SET Boston=64.22 WHERE day = 1434344400\n",
      "UPDATE daily_temp SET Boston=69.29 WHERE day = 1434430800\n",
      "UPDATE daily_temp SET Boston=66.68 WHERE day = 1434517200\n",
      "UPDATE daily_temp SET Boston=71.71 WHERE day = 1434603600\n",
      "UPDATE daily_temp SET Boston=79.91 WHERE day = 1434690000\n",
      "UPDATE daily_temp SET Boston=71.01 WHERE day = 1434776400\n",
      "UPDATE daily_temp SET Boston=72.26 WHERE day = 1434862800\n",
      "UPDATE daily_temp SET Boston=74.56 WHERE day = 1434949200\n",
      "UPDATE daily_temp SET Boston=81.57 WHERE day = 1435035600\n",
      "UPDATE daily_temp SET Boston=80.13 WHERE day = 1435122000\n",
      "UPDATE daily_temp SET Boston=76.54 WHERE day = 1435208400\n",
      "UPDATE daily_temp SET Boston=70.1 WHERE day = 1435294800\n",
      "UPDATE daily_temp SET Boston=68.23 WHERE day = 1435381200\n",
      "UPDATE daily_temp SET Boston=59.95 WHERE day = 1435467600\n",
      "UPDATE daily_temp SET Boston=71.62 WHERE day = 1435554000\n",
      "UPDATE daily_temp SET Seattle=67.36 WHERE day = 1432962000\n",
      "UPDATE daily_temp SET Seattle=68.29 WHERE day = 1433048400\n",
      "UPDATE daily_temp SET Seattle=60.52 WHERE day = 1433134800\n",
      "UPDATE daily_temp SET Seattle=60.98 WHERE day = 1433221200\n",
      "UPDATE daily_temp SET Seattle=62.44 WHERE day = 1433307600\n",
      "UPDATE daily_temp SET Seattle=66.87 WHERE day = 1433394000\n",
      "UPDATE daily_temp SET Seattle=73.16 WHERE day = 1433480400\n",
      "UPDATE daily_temp SET Seattle=77.2 WHERE day = 1433566800\n",
      "UPDATE daily_temp SET Seattle=81.74 WHERE day = 1433653200\n",
      "UPDATE daily_temp SET Seattle=78.16 WHERE day = 1433739600\n",
      "UPDATE daily_temp SET Seattle=75.76 WHERE day = 1433826000\n",
      "UPDATE daily_temp SET Seattle=74.25 WHERE day = 1433912400\n",
      "UPDATE daily_temp SET Seattle=69.52 WHERE day = 1433998800\n",
      "UPDATE daily_temp SET Seattle=63.06 WHERE day = 1434085200\n",
      "UPDATE daily_temp SET Seattle=70.03 WHERE day = 1434171600\n",
      "UPDATE daily_temp SET Seattle=74.44 WHERE day = 1434258000\n",
      "UPDATE daily_temp SET Seattle=76.82 WHERE day = 1434344400\n",
      "UPDATE daily_temp SET Seattle=69.97 WHERE day = 1434430800\n",
      "UPDATE daily_temp SET Seattle=72.29 WHERE day = 1434517200\n",
      "UPDATE daily_temp SET Seattle=73.29 WHERE day = 1434603600\n",
      "UPDATE daily_temp SET Seattle=69.55 WHERE day = 1434690000\n",
      "UPDATE daily_temp SET Seattle=73.17 WHERE day = 1434776400\n",
      "UPDATE daily_temp SET Seattle=76.22 WHERE day = 1434862800\n",
      "UPDATE daily_temp SET Seattle=73.68 WHERE day = 1434949200\n",
      "UPDATE daily_temp SET Seattle=76.42 WHERE day = 1435035600\n",
      "UPDATE daily_temp SET Seattle=75.97 WHERE day = 1435122000\n",
      "UPDATE daily_temp SET Seattle=82.56 WHERE day = 1435208400\n",
      "UPDATE daily_temp SET Seattle=84 WHERE day = 1435294800\n",
      "UPDATE daily_temp SET Seattle=86.93 WHERE day = 1435381200\n",
      "UPDATE daily_temp SET Seattle=79.44 WHERE day = 1435467600\n",
      "UPDATE daily_temp SET Seattle=83.97 WHERE day = 1435554000\n",
      "UPDATE daily_temp SET Austin=85.5 WHERE day = 1432962000\n",
      "UPDATE daily_temp SET Austin=84.99 WHERE day = 1433048400\n",
      "UPDATE daily_temp SET Austin=86.62 WHERE day = 1433134800\n",
      "UPDATE daily_temp SET Austin=87.9 WHERE day = 1433221200\n",
      "UPDATE daily_temp SET Austin=88.7 WHERE day = 1433307600\n",
      "UPDATE daily_temp SET Austin=88.08 WHERE day = 1433394000\n",
      "UPDATE daily_temp SET Austin=88.7 WHERE day = 1433480400\n",
      "UPDATE daily_temp SET Austin=89.45 WHERE day = 1433566800\n",
      "UPDATE daily_temp SET Austin=89.79 WHERE day = 1433653200\n",
      "UPDATE daily_temp SET Austin=91.86 WHERE day = 1433739600\n",
      "UPDATE daily_temp SET Austin=93.7 WHERE day = 1433826000\n",
      "UPDATE daily_temp SET Austin=92.66 WHERE day = 1433912400\n",
      "UPDATE daily_temp SET Austin=91.87 WHERE day = 1433998800\n",
      "UPDATE daily_temp SET Austin=91.98 WHERE day = 1434085200\n",
      "UPDATE daily_temp SET Austin=92.9 WHERE day = 1434171600\n",
      "UPDATE daily_temp SET Austin=84.48 WHERE day = 1434258000\n",
      "UPDATE daily_temp SET Austin=87.37 WHERE day = 1434344400\n",
      "UPDATE daily_temp SET Austin=80.32 WHERE day = 1434430800\n",
      "UPDATE daily_temp SET Austin=85.99 WHERE day = 1434517200\n",
      "UPDATE daily_temp SET Austin=86.54 WHERE day = 1434603600\n",
      "UPDATE daily_temp SET Austin=83.52 WHERE day = 1434690000\n",
      "UPDATE daily_temp SET Austin=81.86 WHERE day = 1434776400\n",
      "UPDATE daily_temp SET Austin=85.16 WHERE day = 1434862800\n",
      "UPDATE daily_temp SET Austin=87.17 WHERE day = 1434949200\n",
      "UPDATE daily_temp SET Austin=89.12 WHERE day = 1435035600\n",
      "UPDATE daily_temp SET Austin=89.75 WHERE day = 1435122000\n",
      "UPDATE daily_temp SET Austin=91.22 WHERE day = 1435208400\n",
      "UPDATE daily_temp SET Austin=91.61 WHERE day = 1435294800\n",
      "UPDATE daily_temp SET Austin=87.89 WHERE day = 1435381200\n",
      "UPDATE daily_temp SET Austin=87.53 WHERE day = 1435467600\n",
      "UPDATE daily_temp SET Austin=91.25 WHERE day = 1435554000\n",
      "UPDATE daily_temp SET Philadelphia=87.02 WHERE day = 1432962000\n",
      "UPDATE daily_temp SET Philadelphia=90.55 WHERE day = 1433048400\n",
      "UPDATE daily_temp SET Philadelphia=74.27 WHERE day = 1433134800\n",
      "UPDATE daily_temp SET Philadelphia=57.68 WHERE day = 1433221200\n",
      "UPDATE daily_temp SET Philadelphia=68.49 WHERE day = 1433307600\n",
      "UPDATE daily_temp SET Philadelphia=67.53 WHERE day = 1433394000\n",
      "UPDATE daily_temp SET Philadelphia=74.23 WHERE day = 1433480400\n",
      "UPDATE daily_temp SET Philadelphia=79.28 WHERE day = 1433566800\n",
      "UPDATE daily_temp SET Philadelphia=76.79 WHERE day = 1433653200\n",
      "UPDATE daily_temp SET Philadelphia=85.02 WHERE day = 1433739600\n",
      "UPDATE daily_temp SET Philadelphia=84.51 WHERE day = 1433826000\n",
      "UPDATE daily_temp SET Philadelphia=84.58 WHERE day = 1433912400\n",
      "UPDATE daily_temp SET Philadelphia=92.07 WHERE day = 1433998800\n",
      "UPDATE daily_temp SET Philadelphia=92.47 WHERE day = 1434085200\n",
      "UPDATE daily_temp SET Philadelphia=85.49 WHERE day = 1434171600\n",
      "UPDATE daily_temp SET Philadelphia=88.44 WHERE day = 1434258000\n",
      "UPDATE daily_temp SET Philadelphia=88.58 WHERE day = 1434344400\n",
      "UPDATE daily_temp SET Philadelphia=86.03 WHERE day = 1434430800\n",
      "UPDATE daily_temp SET Philadelphia=82.08 WHERE day = 1434517200\n",
      "UPDATE daily_temp SET Philadelphia=71.37 WHERE day = 1434603600\n",
      "UPDATE daily_temp SET Philadelphia=84.83 WHERE day = 1434690000\n",
      "UPDATE daily_temp SET Philadelphia=80.42 WHERE day = 1434776400\n",
      "UPDATE daily_temp SET Philadelphia=87.73 WHERE day = 1434862800\n",
      "UPDATE daily_temp SET Philadelphia=88.33 WHERE day = 1434949200\n",
      "UPDATE daily_temp SET Philadelphia=91.26 WHERE day = 1435035600\n",
      "UPDATE daily_temp SET Philadelphia=83 WHERE day = 1435122000\n",
      "UPDATE daily_temp SET Philadelphia=82.75 WHERE day = 1435208400\n",
      "UPDATE daily_temp SET Philadelphia=80.74 WHERE day = 1435294800\n",
      "UPDATE daily_temp SET Philadelphia=68.3 WHERE day = 1435381200\n",
      "UPDATE daily_temp SET Philadelphia=75.9 WHERE day = 1435467600\n",
      "UPDATE daily_temp SET Philadelphia=78.86 WHERE day = 1435554000\n"
     ]
    }
   ],
   "source": [
    "for k, v in cities.iteritems():\n",
    "    start_date = total_start_date\n",
    "    while start_date < datetime.datetime.now():\n",
    "        #query for the value\n",
    "        r = requests.get(url + '/' + v + ',' + start_date.strftime('%Y-%m-%dT12:00:00')) # insert url+lat/long+time\n",
    "        #insert temperatureMax into the db\n",
    "        with con:\n",
    "            query = 'UPDATE daily_temp SET ' + k + '=' + str(r.json()['daily']['data'][0]['temperatureMax']) + ' WHERE day = ' + start_date.strftime('%s')\n",
    "            print query\n",
    "            cur.execute(query)\n",
    "        \n",
    "        #increment query_date to the next day for next operation of loop\n",
    "        start_date += datetime.timedelta(days=1) #increment query_date to the next day\n",
    "\n",
    "con.close() # a good practice to close connection to database"
   ]
  },
  {
   "cell_type": "code",
   "execution_count": 66,
   "metadata": {
    "_datascience": {},
    "collapsed": false
   },
   "outputs": [],
   "source": [
    "#Fixing No JSON error - added '/' to request\n",
    "r = url + '/' + v + ',' + (start_date.strftime('%Y-%m-%dT12:00:00'))"
   ]
  },
  {
   "cell_type": "code",
   "execution_count": 67,
   "metadata": {
    "_datascience": {},
    "collapsed": false
   },
   "outputs": [
    {
     "data": {
      "text/plain": [
       "'https://api.forecast.io/forecast/dc6b130f33e13a20201deb99ea5d59c1/40.663619,-73.938589,2015-05-16T12:00:00'"
      ]
     },
     "execution_count": 67,
     "metadata": {},
     "output_type": "execute_result"
    }
   ],
   "source": [
    "r"
   ]
  },
  {
   "cell_type": "code",
   "execution_count": 17,
   "metadata": {
    "_datascience": {},
    "collapsed": false
   },
   "outputs": [],
   "source": [
    "con = lite.connect('weather.db')\n",
    "cur = con.cursor()"
   ]
  },
  {
   "cell_type": "code",
   "execution_count": 18,
   "metadata": {
    "_datascience": {},
    "collapsed": false
   },
   "outputs": [],
   "source": [
    "df = pd.read_sql_query(\"SELECT * FROM daily_temp ORDER BY day\",con,index_col='day')"
   ]
  },
  {
   "cell_type": "code",
   "execution_count": 76,
   "metadata": {
    "_datascience": {},
    "collapsed": false
   },
   "outputs": [
    {
     "data": {
      "text/html": [
       "<div style=\"max-height:1000px;max-width:1500px;overflow:auto;\">\n",
       "<table border=\"1\" class=\"dataframe\">\n",
       "  <thead>\n",
       "    <tr style=\"text-align: right;\">\n",
       "      <th></th>\n",
       "      <th>Austin</th>\n",
       "      <th>Boston</th>\n",
       "      <th>New_York</th>\n",
       "      <th>Philadelphia</th>\n",
       "      <th>Seattle</th>\n",
       "    </tr>\n",
       "    <tr>\n",
       "      <th>day</th>\n",
       "      <th></th>\n",
       "      <th></th>\n",
       "      <th></th>\n",
       "      <th></th>\n",
       "      <th></th>\n",
       "    </tr>\n",
       "  </thead>\n",
       "  <tbody>\n",
       "    <tr>\n",
       "      <th>1432357200</th>\n",
       "      <td> 84.65</td>\n",
       "      <td> 63.25</td>\n",
       "      <td> 66.20</td>\n",
       "      <td> 71.07</td>\n",
       "      <td> 60.03</td>\n",
       "    </tr>\n",
       "    <tr>\n",
       "      <th>1432443600</th>\n",
       "      <td> 80.95</td>\n",
       "      <td> 80.50</td>\n",
       "      <td> 73.86</td>\n",
       "      <td> 81.79</td>\n",
       "      <td> 60.77</td>\n",
       "    </tr>\n",
       "    <tr>\n",
       "      <th>1432530000</th>\n",
       "      <td> 81.39</td>\n",
       "      <td> 78.12</td>\n",
       "      <td> 81.01</td>\n",
       "      <td> 87.04</td>\n",
       "      <td> 59.77</td>\n",
       "    </tr>\n",
       "    <tr>\n",
       "      <th>1432616400</th>\n",
       "      <td> 88.14</td>\n",
       "      <td> 83.62</td>\n",
       "      <td> 80.62</td>\n",
       "      <td> 88.53</td>\n",
       "      <td> 64.88</td>\n",
       "    </tr>\n",
       "    <tr>\n",
       "      <th>1432702800</th>\n",
       "      <td> 84.22</td>\n",
       "      <td> 82.63</td>\n",
       "      <td> 75.45</td>\n",
       "      <td> 88.39</td>\n",
       "      <td> 70.30</td>\n",
       "    </tr>\n",
       "    <tr>\n",
       "      <th>1432789200</th>\n",
       "      <td> 86.05</td>\n",
       "      <td> 83.03</td>\n",
       "      <td> 79.01</td>\n",
       "      <td> 85.37</td>\n",
       "      <td> 75.41</td>\n",
       "    </tr>\n",
       "    <tr>\n",
       "      <th>1432875600</th>\n",
       "      <td> 88.51</td>\n",
       "      <td> 70.50</td>\n",
       "      <td> 78.62</td>\n",
       "      <td> 87.84</td>\n",
       "      <td> 71.85</td>\n",
       "    </tr>\n",
       "    <tr>\n",
       "      <th>1432962000</th>\n",
       "      <td> 85.50</td>\n",
       "      <td> 84.30</td>\n",
       "      <td> 77.81</td>\n",
       "      <td> 87.02</td>\n",
       "      <td> 67.36</td>\n",
       "    </tr>\n",
       "    <tr>\n",
       "      <th>1433048400</th>\n",
       "      <td> 84.99</td>\n",
       "      <td> 75.84</td>\n",
       "      <td> 78.03</td>\n",
       "      <td> 90.55</td>\n",
       "      <td> 68.29</td>\n",
       "    </tr>\n",
       "    <tr>\n",
       "      <th>1433134800</th>\n",
       "      <td> 86.62</td>\n",
       "      <td> 49.24</td>\n",
       "      <td> 60.37</td>\n",
       "      <td> 74.27</td>\n",
       "      <td> 60.52</td>\n",
       "    </tr>\n",
       "    <tr>\n",
       "      <th>1433221200</th>\n",
       "      <td> 87.90</td>\n",
       "      <td> 49.03</td>\n",
       "      <td> 54.83</td>\n",
       "      <td> 57.68</td>\n",
       "      <td> 60.98</td>\n",
       "    </tr>\n",
       "    <tr>\n",
       "      <th>1433307600</th>\n",
       "      <td> 88.70</td>\n",
       "      <td> 54.06</td>\n",
       "      <td> 63.27</td>\n",
       "      <td> 68.49</td>\n",
       "      <td> 62.44</td>\n",
       "    </tr>\n",
       "    <tr>\n",
       "      <th>1433394000</th>\n",
       "      <td> 88.08</td>\n",
       "      <td> 56.12</td>\n",
       "      <td> 63.34</td>\n",
       "      <td> 67.53</td>\n",
       "      <td> 66.87</td>\n",
       "    </tr>\n",
       "    <tr>\n",
       "      <th>1433480400</th>\n",
       "      <td> 88.70</td>\n",
       "      <td> 57.81</td>\n",
       "      <td> 63.06</td>\n",
       "      <td> 74.23</td>\n",
       "      <td> 73.16</td>\n",
       "    </tr>\n",
       "    <tr>\n",
       "      <th>1433566800</th>\n",
       "      <td> 89.45</td>\n",
       "      <td> 64.80</td>\n",
       "      <td> 74.94</td>\n",
       "      <td> 79.28</td>\n",
       "      <td> 77.20</td>\n",
       "    </tr>\n",
       "    <tr>\n",
       "      <th>1433653200</th>\n",
       "      <td> 89.79</td>\n",
       "      <td> 65.72</td>\n",
       "      <td> 67.92</td>\n",
       "      <td> 76.79</td>\n",
       "      <td> 81.74</td>\n",
       "    </tr>\n",
       "    <tr>\n",
       "      <th>1433739600</th>\n",
       "      <td> 91.86</td>\n",
       "      <td> 74.06</td>\n",
       "      <td> 73.69</td>\n",
       "      <td> 85.02</td>\n",
       "      <td> 78.71</td>\n",
       "    </tr>\n",
       "    <tr>\n",
       "      <th>1433826000</th>\n",
       "      <td> 91.99</td>\n",
       "      <td> 73.04</td>\n",
       "      <td> 76.13</td>\n",
       "      <td> 84.10</td>\n",
       "      <td> 79.37</td>\n",
       "    </tr>\n",
       "    <tr>\n",
       "      <th>1433912400</th>\n",
       "      <td> 91.67</td>\n",
       "      <td> 77.88</td>\n",
       "      <td> 76.18</td>\n",
       "      <td> 82.44</td>\n",
       "      <td> 76.27</td>\n",
       "    </tr>\n",
       "    <tr>\n",
       "      <th>1433998800</th>\n",
       "      <td> 91.49</td>\n",
       "      <td> 83.05</td>\n",
       "      <td> 84.84</td>\n",
       "      <td> 90.31</td>\n",
       "      <td> 72.02</td>\n",
       "    </tr>\n",
       "    <tr>\n",
       "      <th>1434085200</th>\n",
       "      <td> 91.25</td>\n",
       "      <td> 77.39</td>\n",
       "      <td> 81.78</td>\n",
       "      <td> 91.89</td>\n",
       "      <td> 65.93</td>\n",
       "    </tr>\n",
       "    <tr>\n",
       "      <th>1434171600</th>\n",
       "      <td> 91.96</td>\n",
       "      <td> 77.63</td>\n",
       "      <td> 81.53</td>\n",
       "      <td> 85.55</td>\n",
       "      <td> 71.90</td>\n",
       "    </tr>\n",
       "    <tr>\n",
       "      <th>1434258000</th>\n",
       "      <td> 84.39</td>\n",
       "      <td> 70.82</td>\n",
       "      <td> 80.86</td>\n",
       "      <td> 87.83</td>\n",
       "      <td> 76.61</td>\n",
       "    </tr>\n",
       "    <tr>\n",
       "      <th>1434344400</th>\n",
       "      <td> 86.93</td>\n",
       "      <td> 63.11</td>\n",
       "      <td> 76.09</td>\n",
       "      <td> 87.22</td>\n",
       "      <td> 80.48</td>\n",
       "    </tr>\n",
       "    <tr>\n",
       "      <th>1434430800</th>\n",
       "      <td> 81.15</td>\n",
       "      <td> 68.25</td>\n",
       "      <td> 74.78</td>\n",
       "      <td> 86.87</td>\n",
       "      <td> 70.79</td>\n",
       "    </tr>\n",
       "    <tr>\n",
       "      <th>1434517200</th>\n",
       "      <td> 85.88</td>\n",
       "      <td> 67.25</td>\n",
       "      <td> 75.93</td>\n",
       "      <td> 81.99</td>\n",
       "      <td> 73.46</td>\n",
       "    </tr>\n",
       "    <tr>\n",
       "      <th>1434603600</th>\n",
       "      <td> 86.14</td>\n",
       "      <td> 72.06</td>\n",
       "      <td> 69.06</td>\n",
       "      <td> 71.54</td>\n",
       "      <td> 74.28</td>\n",
       "    </tr>\n",
       "    <tr>\n",
       "      <th>1434690000</th>\n",
       "      <td> 83.58</td>\n",
       "      <td> 79.60</td>\n",
       "      <td> 82.44</td>\n",
       "      <td> 84.43</td>\n",
       "      <td> 71.23</td>\n",
       "    </tr>\n",
       "    <tr>\n",
       "      <th>1434776400</th>\n",
       "      <td> 81.10</td>\n",
       "      <td> 70.32</td>\n",
       "      <td> 72.69</td>\n",
       "      <td> 79.86</td>\n",
       "      <td> 73.88</td>\n",
       "    </tr>\n",
       "    <tr>\n",
       "      <th>1434862800</th>\n",
       "      <td> 84.87</td>\n",
       "      <td> 73.50</td>\n",
       "      <td> 85.89</td>\n",
       "      <td> 87.79</td>\n",
       "      <td> 77.24</td>\n",
       "    </tr>\n",
       "    <tr>\n",
       "      <th>1434949200</th>\n",
       "      <td> 86.66</td>\n",
       "      <td> 77.04</td>\n",
       "      <td> 84.20</td>\n",
       "      <td> 87.88</td>\n",
       "      <td> 73.19</td>\n",
       "    </tr>\n",
       "  </tbody>\n",
       "</table>\n",
       "</div>"
      ],
      "text/plain": [
       "            Austin  Boston  New_York  Philadelphia  Seattle\n",
       "day                                                        \n",
       "1432357200   84.65   63.25     66.20         71.07    60.03\n",
       "1432443600   80.95   80.50     73.86         81.79    60.77\n",
       "1432530000   81.39   78.12     81.01         87.04    59.77\n",
       "1432616400   88.14   83.62     80.62         88.53    64.88\n",
       "1432702800   84.22   82.63     75.45         88.39    70.30\n",
       "1432789200   86.05   83.03     79.01         85.37    75.41\n",
       "1432875600   88.51   70.50     78.62         87.84    71.85\n",
       "1432962000   85.50   84.30     77.81         87.02    67.36\n",
       "1433048400   84.99   75.84     78.03         90.55    68.29\n",
       "1433134800   86.62   49.24     60.37         74.27    60.52\n",
       "1433221200   87.90   49.03     54.83         57.68    60.98\n",
       "1433307600   88.70   54.06     63.27         68.49    62.44\n",
       "1433394000   88.08   56.12     63.34         67.53    66.87\n",
       "1433480400   88.70   57.81     63.06         74.23    73.16\n",
       "1433566800   89.45   64.80     74.94         79.28    77.20\n",
       "1433653200   89.79   65.72     67.92         76.79    81.74\n",
       "1433739600   91.86   74.06     73.69         85.02    78.71\n",
       "1433826000   91.99   73.04     76.13         84.10    79.37\n",
       "1433912400   91.67   77.88     76.18         82.44    76.27\n",
       "1433998800   91.49   83.05     84.84         90.31    72.02\n",
       "1434085200   91.25   77.39     81.78         91.89    65.93\n",
       "1434171600   91.96   77.63     81.53         85.55    71.90\n",
       "1434258000   84.39   70.82     80.86         87.83    76.61\n",
       "1434344400   86.93   63.11     76.09         87.22    80.48\n",
       "1434430800   81.15   68.25     74.78         86.87    70.79\n",
       "1434517200   85.88   67.25     75.93         81.99    73.46\n",
       "1434603600   86.14   72.06     69.06         71.54    74.28\n",
       "1434690000   83.58   79.60     82.44         84.43    71.23\n",
       "1434776400   81.10   70.32     72.69         79.86    73.88\n",
       "1434862800   84.87   73.50     85.89         87.79    77.24\n",
       "1434949200   86.66   77.04     84.20         87.88    73.19"
      ]
     },
     "execution_count": 76,
     "metadata": {},
     "output_type": "execute_result"
    }
   ],
   "source": [
    "df"
   ]
  },
  {
   "cell_type": "code",
   "execution_count": null,
   "metadata": {
    "_datascience": {},
    "collapsed": true
   },
   "outputs": [],
   "source": [
    "#What's the range of temperatures for each city? \n",
    "#Whatis the mean temperature for each city? \n",
    "#What's the variance? Are there any patterns in the data? \n",
    "#Which cities had the largest temperature changes over the time period?"
   ]
  },
  {
   "cell_type": "code",
   "execution_count": 19,
   "metadata": {
    "collapsed": false
   },
   "outputs": [
    {
     "name": "stdout",
     "output_type": "stream",
     "text": [
      "13.38 37.46 32.61 34.79 26.41\n"
     ]
    }
   ],
   "source": [
    "#What's the range of temperatures for each city? \n",
    "max(df['Seattle'])-min(df['Seattle'])\n",
    "a = max(df['Austin'])-min(df['Austin'])\n",
    "b = max(df['Boston'])-min(df['Boston'])\n",
    "c = max(df['New_York'])-min(df['New_York'])\n",
    "d = max(df['Philadelphia'])-min(df['Philadelphia'])\n",
    "e = max(df['Seattle'])-min(df['Seattle'])\n",
    "print a, b, c, d, e"
   ]
  },
  {
   "cell_type": "code",
   "execution_count": 20,
   "metadata": {
    "collapsed": false
   },
   "outputs": [
    {
     "name": "stdout",
     "output_type": "stream",
     "text": [
      "88.2412903226 70.3674193548 75.4758064516 81.2451612903 73.4858064516\n"
     ]
    }
   ],
   "source": [
    "#Whatis the mean temperature for each city? \n",
    "a = df['Austin'].mean()\n",
    "b = df['Boston'].mean()\n",
    "c = df['New_York'].mean()\n",
    "d = df['Philadelphia'].mean()\n",
    "e = df['Seattle'].mean()\n",
    "print a, b, c, d, e"
   ]
  },
  {
   "cell_type": "code",
   "execution_count": 21,
   "metadata": {
    "collapsed": false
   },
   "outputs": [
    {
     "name": "stdout",
     "output_type": "stream",
     "text": [
      "10.9541316129 97.3120664516 66.4319051613 69.5010924731 46.118671828\n"
     ]
    }
   ],
   "source": [
    "#What's the variance? \n",
    "a = df['Austin'].var()\n",
    "b = df['Boston'].var()\n",
    "c = df['New_York'].var()\n",
    "d = df['Philadelphia'].var()\n",
    "e = df['Seattle'].var()\n",
    "print a, b, c, d, e"
   ]
  },
  {
   "cell_type": "code",
   "execution_count": null,
   "metadata": {
    "collapsed": true
   },
   "outputs": [],
   "source": [
    "#Just as you did with the Citi Bike data, go through the the sequence \n",
    "#of temperature readings and calculate the change between days and\n",
    "#find the greatest range in high temperatures in the month you measured. \n",
    "#Which city had the greatest variation? \n",
    "#What is the distribution of the difference? Does the result surprise you? \n",
    "#Why or why not?"
   ]
  },
  {
   "cell_type": "code",
   "execution_count": 23,
   "metadata": {
    "collapsed": true
   },
   "outputs": [],
   "source": [
    "daily_change = collections.defaultdict(int) #defaultdict should contain integer values\n",
    "for col in df.columns: # loop through columns in dataframe\n",
    "    city_vals = df[col].tolist() #creates list of values?\n",
    "    city_id = col \n",
    "    city_change = 0\n",
    "    for k, v in enumerate(city_vals): \n",
    "        if k < len(city_vals) - 1:\n",
    "            city_change += abs(city_vals[k] - city_vals[k+1])\n",
    "    daily_change[str(city_id)] = city_change #city_id is str and city_change int is added"
   ]
  },
  {
   "cell_type": "code",
   "execution_count": 24,
   "metadata": {
    "collapsed": false
   },
   "outputs": [
    {
     "data": {
      "text/plain": [
       "defaultdict(<type 'int'>, {'New_York': 161.06, 'Boston': 178.59999999999991, 'Seattle': 111.65000000000001, 'Austin': 60.130000000000052, 'Philadelphia': 168.61999999999995})"
      ]
     },
     "execution_count": 24,
     "metadata": {},
     "output_type": "execute_result"
    }
   ],
   "source": [
    "daily_change"
   ]
  },
  {
   "cell_type": "code",
   "execution_count": 22,
   "metadata": {
    "collapsed": false
   },
   "outputs": [
    {
     "name": "stdout",
     "output_type": "stream",
     "text": [
      "3.3097026472 9.86468785373 8.15057698334 8.33673152219 6.79107295116\n"
     ]
    }
   ],
   "source": [
    "#Greatest variation = Boston\n",
    "a = df['Austin'].std()\n",
    "b = df['Boston'].std()\n",
    "c = df['New_York'].std()\n",
    "d = df['Philadelphia'].std()\n",
    "e = df['Seattle'].std()\n",
    "print a, b, c, d, e"
   ]
  },
  {
   "cell_type": "code",
   "execution_count": 37,
   "metadata": {
    "collapsed": true
   },
   "outputs": [],
   "source": [
    "#Test normal distribution\n",
    "plt.figure()\n",
    "test_data = df['Boston']   \n",
    "graph1 = stats.probplot(test_data, dist=\"norm\", plot=plt)\n",
    "plt.show()"
   ]
  },
  {
   "cell_type": "code",
   "execution_count": 45,
   "metadata": {
    "collapsed": false
   },
   "outputs": [],
   "source": [
    "plt.hist(boston_vals, histtype='bar')\n",
    "plt.show()"
   ]
  },
  {
   "cell_type": "code",
   "execution_count": 43,
   "metadata": {
    "collapsed": true
   },
   "outputs": [],
   "source": [
    "boston_vals = df['Boston'].tolist()"
   ]
  },
  {
   "cell_type": "code",
   "execution_count": null,
   "metadata": {
    "collapsed": true
   },
   "outputs": [],
   "source": []
  }
 ],
 "metadata": {
  "_datascience": {},
  "kernelspec": {
   "display_name": "Python 2",
   "language": "python",
   "name": "python2"
  },
  "language_info": {
   "codemirror_mode": {
    "name": "ipython",
    "version": 2
   },
   "file_extension": ".py",
   "mimetype": "text/x-python",
   "name": "python",
   "nbconvert_exporter": "python",
   "pygments_lexer": "ipython2",
   "version": "2.7.9"
  }
 },
 "nbformat": 4,
 "nbformat_minor": 0
}
