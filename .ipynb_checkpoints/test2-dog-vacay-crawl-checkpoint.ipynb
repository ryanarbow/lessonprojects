{
 "cells": [
  {
   "cell_type": "code",
   "execution_count": 2,
   "metadata": {
    "collapsed": false
   },
   "outputs": [],
   "source": [
    "import requests\n",
    "from bs4 import BeautifulSoup\n",
    "import time\n",
    "import pandas as pd\n",
    "#import matplotlib"
   ]
  },
  {
   "cell_type": "code",
   "execution_count": 3,
   "metadata": {
    "collapsed": true
   },
   "outputs": [],
   "source": [
    "url = 'https://dogvacay.com/dog-boarding--az--phoenix'"
   ]
  },
  {
   "cell_type": "code",
   "execution_count": 4,
   "metadata": {
    "collapsed": true
   },
   "outputs": [],
   "source": [
    "r = requests.get(url)\n",
    "time.sleep(1)"
   ]
  },
  {
   "cell_type": "code",
   "execution_count": 5,
   "metadata": {
    "collapsed": false
   },
   "outputs": [
    {
     "data": {
      "text/plain": [
       "200"
      ]
     },
     "execution_count": 5,
     "metadata": {},
     "output_type": "execute_result"
    }
   ],
   "source": [
    "r.status_code"
   ]
  },
  {
   "cell_type": "code",
   "execution_count": 7,
   "metadata": {
    "collapsed": false
   },
   "outputs": [],
   "source": [
    "soup = BeautifulSoup(r.text)"
   ]
  },
  {
   "cell_type": "code",
   "execution_count": 8,
   "metadata": {
    "collapsed": false
   },
   "outputs": [],
   "source": [
    "sitters = soup.findAll(lambda tag:tag.name == \"div\" and \\\n",
    "                        len(tag.attrs) == 1 and \\\n",
    "                        tag.attrs.keys()[0] == \"search-list-item\")"
   ]
  },
  {
   "cell_type": "code",
   "execution_count": 9,
   "metadata": {
    "collapsed": false
   },
   "outputs": [
    {
     "data": {
      "text/plain": [
       "15"
      ]
     },
     "execution_count": 9,
     "metadata": {},
     "output_type": "execute_result"
    }
   ],
   "source": [
    "len(sitters)"
   ]
  },
  {
   "cell_type": "code",
   "execution_count": 11,
   "metadata": {
    "collapsed": false
   },
   "outputs": [
    {
     "data": {
      "text/html": [
       "<div style=\"max-height:1000px;max-width:1500px;overflow:auto;\">\n",
       "<table border=\"1\" class=\"dataframe\">\n",
       "  <thead>\n",
       "    <tr style=\"text-align: right;\">\n",
       "      <th></th>\n",
       "      <th>fee</th>\n",
       "      <th>names</th>\n",
       "      <th>repeat</th>\n",
       "      <th>response_time</th>\n",
       "      <th>review</th>\n",
       "      <th>services</th>\n",
       "      <th>title</th>\n",
       "    </tr>\n",
       "  </thead>\n",
       "  <tbody>\n",
       "    <tr>\n",
       "      <th>0 </th>\n",
       "      <td> 25</td>\n",
       "      <td>                  [patricia's, pet, heaven]</td>\n",
       "      <td> 9</td>\n",
       "      <td> Few Hours</td>\n",
       "      <td> 11</td>\n",
       "      <td>                                     Boarding  ...</td>\n",
       "      <td> Phoenix, Arizona</td>\n",
       "    </tr>\n",
       "    <tr>\n",
       "      <th>1 </th>\n",
       "      <td> 35</td>\n",
       "      <td>             [**DOGGIE, BED, &amp;, BARKFEST**]</td>\n",
       "      <td> 1</td>\n",
       "      <td>       Day</td>\n",
       "      <td> 45</td>\n",
       "      <td>                                     Boarding, ...</td>\n",
       "      <td> Phoenix, Arizona</td>\n",
       "    </tr>\n",
       "    <tr>\n",
       "      <th>2 </th>\n",
       "      <td> 20</td>\n",
       "      <td>                           [Doggie, Heaven]</td>\n",
       "      <td> 1</td>\n",
       "      <td>  Few Days</td>\n",
       "      <td> 28</td>\n",
       "      <td>                                     Boarding, ...</td>\n",
       "      <td> Phoenix, Arizona</td>\n",
       "    </tr>\n",
       "    <tr>\n",
       "      <th>3 </th>\n",
       "      <td> 25</td>\n",
       "      <td> [Stay, at, home, mother, and, dog, lover!]</td>\n",
       "      <td> 5</td>\n",
       "      <td>       Day</td>\n",
       "      <td>  6</td>\n",
       "      <td>                                     Boarding, ...</td>\n",
       "      <td> Phoenix, Arizona</td>\n",
       "    </tr>\n",
       "    <tr>\n",
       "      <th>4 </th>\n",
       "      <td> 20</td>\n",
       "      <td>             [Kelrey's, Doggy, Dream, Stay]</td>\n",
       "      <td> 3</td>\n",
       "      <td> Few Hours</td>\n",
       "      <td>  3</td>\n",
       "      <td>                                     Boarding, ...</td>\n",
       "      <td> Phoenix, Arizona</td>\n",
       "    </tr>\n",
       "    <tr>\n",
       "      <th>5 </th>\n",
       "      <td> 35</td>\n",
       "      <td>                 [SUZY, Q, to, the, Rescue]</td>\n",
       "      <td> 2</td>\n",
       "      <td>       Day</td>\n",
       "      <td> 50</td>\n",
       "      <td>                                     Boarding, ...</td>\n",
       "      <td> Phoenix, Arizona</td>\n",
       "    </tr>\n",
       "    <tr>\n",
       "      <th>6 </th>\n",
       "      <td> 25</td>\n",
       "      <td>    [HappyTails, @Camelback, East, Village]</td>\n",
       "      <td> 0</td>\n",
       "      <td> Few Hours</td>\n",
       "      <td>  4</td>\n",
       "      <td>                                     Boarding, ...</td>\n",
       "      <td> Phoenix, Arizona</td>\n",
       "    </tr>\n",
       "    <tr>\n",
       "      <th>7 </th>\n",
       "      <td> 20</td>\n",
       "      <td>                           [DogsBestFriend]</td>\n",
       "      <td> 0</td>\n",
       "      <td> Few Hours</td>\n",
       "      <td>  2</td>\n",
       "      <td>                                     Boarding, ...</td>\n",
       "      <td> Phoenix, Arizona</td>\n",
       "    </tr>\n",
       "    <tr>\n",
       "      <th>8 </th>\n",
       "      <td> 25</td>\n",
       "      <td>              [North, Central, Dog, Lovers]</td>\n",
       "      <td> 4</td>\n",
       "      <td> Few Hours</td>\n",
       "      <td>  9</td>\n",
       "      <td>                                     Boarding &amp;...</td>\n",
       "      <td> Phoenix, Arizona</td>\n",
       "    </tr>\n",
       "    <tr>\n",
       "      <th>9 </th>\n",
       "      <td> 35</td>\n",
       "      <td>      [Big, Backyard, in, Central, Phoenix]</td>\n",
       "      <td> 2</td>\n",
       "      <td> Few Hours</td>\n",
       "      <td> 41</td>\n",
       "      <td>                                     Boarding &amp;...</td>\n",
       "      <td> Phoenix, Arizona</td>\n",
       "    </tr>\n",
       "    <tr>\n",
       "      <th>10</th>\n",
       "      <td> 35</td>\n",
       "      <td>           [Furever, Friends, Pet, Sitting]</td>\n",
       "      <td> 0</td>\n",
       "      <td> Few Hours</td>\n",
       "      <td>  1</td>\n",
       "      <td>                                     Sitting, C...</td>\n",
       "      <td> Phoenix, Arizona</td>\n",
       "    </tr>\n",
       "    <tr>\n",
       "      <th>11</th>\n",
       "      <td> 26</td>\n",
       "      <td>               [Pup, Play, Night, and, Day]</td>\n",
       "      <td> 0</td>\n",
       "      <td> Few Hours</td>\n",
       "      <td>  0</td>\n",
       "      <td>                                     Boarding, ...</td>\n",
       "      <td> Phoenix, Arizona</td>\n",
       "    </tr>\n",
       "    <tr>\n",
       "      <th>12</th>\n",
       "      <td> 25</td>\n",
       "      <td>                [pawsitively, great, care!]</td>\n",
       "      <td> 6</td>\n",
       "      <td>       Day</td>\n",
       "      <td> 10</td>\n",
       "      <td>                                     Boarding  ...</td>\n",
       "      <td> Phoenix, Arizona</td>\n",
       "    </tr>\n",
       "    <tr>\n",
       "      <th>13</th>\n",
       "      <td> 30</td>\n",
       "      <td>       [Pawsitively, Professional, Sitter!]</td>\n",
       "      <td> 1</td>\n",
       "      <td> Few Hours</td>\n",
       "      <td> 19</td>\n",
       "      <td>                                     Boarding  ...</td>\n",
       "      <td> Phoenix, Arizona</td>\n",
       "    </tr>\n",
       "    <tr>\n",
       "      <th>14</th>\n",
       "      <td> 40</td>\n",
       "      <td>                               [Messy4Dogs]</td>\n",
       "      <td> 3</td>\n",
       "      <td>  Few Days</td>\n",
       "      <td> 10</td>\n",
       "      <td>                                     Boarding &amp;...</td>\n",
       "      <td> Phoenix, Arizona</td>\n",
       "    </tr>\n",
       "  </tbody>\n",
       "</table>\n",
       "</div>"
      ],
      "text/plain": [
       "   fee                                       names repeat response_time  \\\n",
       "0   25                   [patricia's, pet, heaven]      9     Few Hours   \n",
       "1   35              [**DOGGIE, BED, &, BARKFEST**]      1           Day   \n",
       "2   20                            [Doggie, Heaven]      1      Few Days   \n",
       "3   25  [Stay, at, home, mother, and, dog, lover!]      5           Day   \n",
       "4   20              [Kelrey's, Doggy, Dream, Stay]      3     Few Hours   \n",
       "5   35                  [SUZY, Q, to, the, Rescue]      2           Day   \n",
       "6   25     [HappyTails, @Camelback, East, Village]      0     Few Hours   \n",
       "7   20                            [DogsBestFriend]      0     Few Hours   \n",
       "8   25               [North, Central, Dog, Lovers]      4     Few Hours   \n",
       "9   35       [Big, Backyard, in, Central, Phoenix]      2     Few Hours   \n",
       "10  35            [Furever, Friends, Pet, Sitting]      0     Few Hours   \n",
       "11  26                [Pup, Play, Night, and, Day]      0     Few Hours   \n",
       "12  25                 [pawsitively, great, care!]      6           Day   \n",
       "13  30        [Pawsitively, Professional, Sitter!]      1     Few Hours   \n",
       "14  40                                [Messy4Dogs]      3      Few Days   \n",
       "\n",
       "    review                                           services  \\\n",
       "0       11                                      Boarding  ...   \n",
       "1       45                                      Boarding, ...   \n",
       "2       28                                      Boarding, ...   \n",
       "3        6                                      Boarding, ...   \n",
       "4        3                                      Boarding, ...   \n",
       "5       50                                      Boarding, ...   \n",
       "6        4                                      Boarding, ...   \n",
       "7        2                                      Boarding, ...   \n",
       "8        9                                      Boarding &...   \n",
       "9       41                                      Boarding &...   \n",
       "10       1                                      Sitting, C...   \n",
       "11       0                                      Boarding, ...   \n",
       "12      10                                      Boarding  ...   \n",
       "13      19                                      Boarding  ...   \n",
       "14      10                                      Boarding &...   \n",
       "\n",
       "               title  \n",
       "0   Phoenix, Arizona  \n",
       "1   Phoenix, Arizona  \n",
       "2   Phoenix, Arizona  \n",
       "3   Phoenix, Arizona  \n",
       "4   Phoenix, Arizona  \n",
       "5   Phoenix, Arizona  \n",
       "6   Phoenix, Arizona  \n",
       "7   Phoenix, Arizona  \n",
       "8   Phoenix, Arizona  \n",
       "9   Phoenix, Arizona  \n",
       "10  Phoenix, Arizona  \n",
       "11  Phoenix, Arizona  \n",
       "12  Phoenix, Arizona  \n",
       "13  Phoenix, Arizona  \n",
       "14  Phoenix, Arizona  "
      ]
     },
     "execution_count": 11,
     "metadata": {},
     "output_type": "execute_result"
    }
   ],
   "source": [
    "sitter = sitters[0]\n",
    "times = []\n",
    "fees = []\n",
    "reviews = []\n",
    "repeats = []\n",
    "city = []\n",
    "name = []\n",
    "rating = []\n",
    "service = []\n",
    "\n",
    "for sitter in sitters:\n",
    "    rtwrap = sitter.findAll('li', {'class': 'dv-search-badge-item'})\n",
    "    if len(rtwrap) > 0:\n",
    "        response_time = rtwrap[0].text.strip('\\n')[18:]\n",
    "    else:\n",
    "        response_time = -1\n",
    "    fee = sitter.findAll('span', {'class': 'dv-host-list-item__price__amount'})[0].text.strip()[1:]\n",
    "    review = sitter.find('span', {'class': 'dv-host-review'})\n",
    "    if review is not None and len(review) > 0:\n",
    "        review = int(review.text.replace('Reviews', '').replace('Review', '').strip())\n",
    "    else:\n",
    "        review = 0\n",
    "    rpwrap = sitter.findAll('span', {'class': 'dv-host-repeat'})\n",
    "    if len(rpwrap) == 1: # and len(repeat.strip()) > 12:\n",
    "        repeat = rpwrap[0].text.strip()[:1]\n",
    "    else:\n",
    "        repeat = 0\n",
    "    names = sitter.find('a', {'class': 'dv-host-list-item__body__link'}).text.strip('\\n$').split(' ')\n",
    "    services = sitter.findAll('div', {'class': 'dv-host-list-item__info dv-host-list-item__services'})[0].text.strip('\\n')\n",
    "    #ratings = sitter.findAll('i', {'class': 'ck ck-star dv-icon dv-icon__star'})\n",
    "    #ratings = len(full_star)\n",
    "    #half_star = sitter.findAll('i', {'class': 'ck-star-half'})\n",
    "    #if len(half_star) > 0:\n",
    "    #    ratings += .5\n",
    "    title = soup.find('title').text\n",
    "    i = title.find(' Dog Boarding')\n",
    "    title = title[0:i]\n",
    "    times.append(response_time)\n",
    "    fees.append(fee)\n",
    "    reviews.append(review)\n",
    "    repeats.append(repeat)\n",
    "    city.append(title)\n",
    "    name.append(names)\n",
    "    #rating.append(ratings)\n",
    "    service.append(services)#.text.strip('\\n'))\n",
    "df = pd.DataFrame({'services' : service, 'names': name, 'title':city, 'response_time': times, 'fee':fees, 'review':reviews,'repeat':repeats})\n",
    "df"
   ]
  },
  {
   "cell_type": "code",
   "execution_count": 17,
   "metadata": {
    "collapsed": false
   },
   "outputs": [
    {
     "data": {
      "text/html": [
       "<div style=\"max-height:1000px;max-width:1500px;overflow:auto;\">\n",
       "<table border=\"1\" class=\"dataframe\">\n",
       "  <thead>\n",
       "    <tr style=\"text-align: right;\">\n",
       "      <th></th>\n",
       "      <th>fee</th>\n",
       "      <th>names</th>\n",
       "      <th>repeat</th>\n",
       "      <th>response_time</th>\n",
       "      <th>review</th>\n",
       "      <th>services</th>\n",
       "      <th>title</th>\n",
       "    </tr>\n",
       "  </thead>\n",
       "  <tbody>\n",
       "    <tr>\n",
       "      <th>0</th>\n",
       "      <td> 35</td>\n",
       "      <td> [Bubba's, South, Austin, Dog, Hangout]</td>\n",
       "      <td> 9</td>\n",
       "      <td>       Responds Within a Day</td>\n",
       "      <td> 19</td>\n",
       "      <td>                                     Boarding, ...</td>\n",
       "      <td> Austin, Texas</td>\n",
       "    </tr>\n",
       "    <tr>\n",
       "      <th>1</th>\n",
       "      <td> 30</td>\n",
       "      <td>     [Dude, and, Gonzo's, Play, Palace]</td>\n",
       "      <td> 9</td>\n",
       "      <td> Responds Within a Few Hours</td>\n",
       "      <td> 14</td>\n",
       "      <td>                                     Boarding, ...</td>\n",
       "      <td> Austin, Texas</td>\n",
       "    </tr>\n",
       "    <tr>\n",
       "      <th>2</th>\n",
       "      <td> 40</td>\n",
       "      <td>             [Bouldin, Creek, Bungalow]</td>\n",
       "      <td> 0</td>\n",
       "      <td> Responds Within a Few Hours</td>\n",
       "      <td>  0</td>\n",
       "      <td>                                     Boarding, ...</td>\n",
       "      <td> Austin, Texas</td>\n",
       "    </tr>\n",
       "    <tr>\n",
       "      <th>3</th>\n",
       "      <td> 40</td>\n",
       "      <td>     [Central/East, Austin, Dog, Lover]</td>\n",
       "      <td> 2</td>\n",
       "      <td> Responds Within a Few Hours</td>\n",
       "      <td>  6</td>\n",
       "      <td>                                     Boarding, ...</td>\n",
       "      <td> Austin, Texas</td>\n",
       "    </tr>\n",
       "    <tr>\n",
       "      <th>4</th>\n",
       "      <td> 30</td>\n",
       "      <td>           [Lover, of, all, the, dogs!]</td>\n",
       "      <td> 5</td>\n",
       "      <td> Responds Within a Few Hours</td>\n",
       "      <td> 18</td>\n",
       "      <td>                                     Boarding, ...</td>\n",
       "      <td> Austin, Texas</td>\n",
       "    </tr>\n",
       "  </tbody>\n",
       "</table>\n",
       "</div>"
      ],
      "text/plain": [
       "  fee                                   names repeat  \\\n",
       "0  35  [Bubba's, South, Austin, Dog, Hangout]      9   \n",
       "1  30      [Dude, and, Gonzo's, Play, Palace]      9   \n",
       "2  40              [Bouldin, Creek, Bungalow]      0   \n",
       "3  40      [Central/East, Austin, Dog, Lover]      2   \n",
       "4  30            [Lover, of, all, the, dogs!]      5   \n",
       "\n",
       "                 response_time  review  \\\n",
       "0        Responds Within a Day      19   \n",
       "1  Responds Within a Few Hours      14   \n",
       "2  Responds Within a Few Hours       0   \n",
       "3  Responds Within a Few Hours       6   \n",
       "4  Responds Within a Few Hours      18   \n",
       "\n",
       "                                            services          title  \n",
       "0                                      Boarding, ...  Austin, Texas  \n",
       "1                                      Boarding, ...  Austin, Texas  \n",
       "2                                      Boarding, ...  Austin, Texas  \n",
       "3                                      Boarding, ...  Austin, Texas  \n",
       "4                                      Boarding, ...  Austin, Texas  "
      ]
     },
     "execution_count": 17,
     "metadata": {},
     "output_type": "execute_result"
    }
   ],
   "source": [
    "df.head()"
   ]
  },
  {
   "cell_type": "code",
   "execution_count": 18,
   "metadata": {
    "collapsed": false
   },
   "outputs": [
    {
     "ename": "ImportError",
     "evalue": "dlopen(/Users/Ryan/anaconda/lib/python2.7/site-packages/matplotlib/_png.so, 2): Library not loaded: @loader_path/../../../libpng15.15.dylib\n  Referenced from: /Users/Ryan/anaconda/lib/python2.7/site-packages/matplotlib/_png.so\n  Reason: image not found",
     "output_type": "error",
     "traceback": [
      "\u001b[0;31m---------------------------------------------------------------------------\u001b[0m",
      "\u001b[0;31mImportError\u001b[0m                               Traceback (most recent call last)",
      "\u001b[0;32m<ipython-input-18-11fff72f8ea3>\u001b[0m in \u001b[0;36m<module>\u001b[0;34m()\u001b[0m\n\u001b[0;32m----> 1\u001b[0;31m \u001b[0ma\u001b[0m \u001b[0;34m=\u001b[0m \u001b[0mpd\u001b[0m\u001b[0;34m.\u001b[0m\u001b[0mscatter_matrix\u001b[0m\u001b[0;34m(\u001b[0m\u001b[0mdf\u001b[0m\u001b[0;34m,\u001b[0m \u001b[0malpha\u001b[0m\u001b[0;34m=\u001b[0m\u001b[0;36m.05\u001b[0m\u001b[0;34m,\u001b[0m \u001b[0mfigsize\u001b[0m\u001b[0;34m=\u001b[0m\u001b[0;34m(\u001b[0m\u001b[0;36m10\u001b[0m\u001b[0;34m,\u001b[0m\u001b[0;36m10\u001b[0m\u001b[0;34m)\u001b[0m\u001b[0;34m)\u001b[0m\u001b[0;34m\u001b[0m\u001b[0m\n\u001b[0m\u001b[1;32m      2\u001b[0m \u001b[0mplt\u001b[0m\u001b[0;34m.\u001b[0m\u001b[0mshow\u001b[0m\u001b[0;34m(\u001b[0m\u001b[0;34m)\u001b[0m\u001b[0;34m\u001b[0m\u001b[0m\n",
      "\u001b[0;32m/Users/Ryan/anaconda/lib/python2.7/site-packages/pandas/tools/plotting.pyc\u001b[0m in \u001b[0;36mscatter_matrix\u001b[0;34m(frame, alpha, figsize, ax, grid, diagonal, marker, density_kwds, hist_kwds, range_padding, **kwds)\u001b[0m\n\u001b[1;32m    246\u001b[0m     \u001b[0;34m>>\u001b[0m\u001b[0;34m>\u001b[0m \u001b[0mscatter_matrix\u001b[0m\u001b[0;34m(\u001b[0m\u001b[0mdf\u001b[0m\u001b[0;34m,\u001b[0m \u001b[0malpha\u001b[0m\u001b[0;34m=\u001b[0m\u001b[0;36m0.2\u001b[0m\u001b[0;34m)\u001b[0m\u001b[0;34m\u001b[0m\u001b[0m\n\u001b[1;32m    247\u001b[0m     \"\"\"\n\u001b[0;32m--> 248\u001b[0;31m     \u001b[0;32mimport\u001b[0m \u001b[0mmatplotlib\u001b[0m\u001b[0;34m.\u001b[0m\u001b[0mpyplot\u001b[0m \u001b[0;32mas\u001b[0m \u001b[0mplt\u001b[0m\u001b[0;34m\u001b[0m\u001b[0m\n\u001b[0m\u001b[1;32m    249\u001b[0m     \u001b[0;32mfrom\u001b[0m \u001b[0mmatplotlib\u001b[0m\u001b[0;34m.\u001b[0m\u001b[0martist\u001b[0m \u001b[0;32mimport\u001b[0m \u001b[0msetp\u001b[0m\u001b[0;34m\u001b[0m\u001b[0m\n\u001b[1;32m    250\u001b[0m \u001b[0;34m\u001b[0m\u001b[0m\n",
      "\u001b[0;32m/Users/Ryan/anaconda/lib/python2.7/site-packages/matplotlib/pyplot.py\u001b[0m in \u001b[0;36m<module>\u001b[0;34m()\u001b[0m\n\u001b[1;32m     25\u001b[0m \u001b[0;34m\u001b[0m\u001b[0m\n\u001b[1;32m     26\u001b[0m \u001b[0;32mimport\u001b[0m \u001b[0mmatplotlib\u001b[0m\u001b[0;34m\u001b[0m\u001b[0m\n\u001b[0;32m---> 27\u001b[0;31m \u001b[0;32mimport\u001b[0m \u001b[0mmatplotlib\u001b[0m\u001b[0;34m.\u001b[0m\u001b[0mcolorbar\u001b[0m\u001b[0;34m\u001b[0m\u001b[0m\n\u001b[0m\u001b[1;32m     28\u001b[0m \u001b[0;32mfrom\u001b[0m \u001b[0mmatplotlib\u001b[0m \u001b[0;32mimport\u001b[0m \u001b[0mstyle\u001b[0m\u001b[0;34m\u001b[0m\u001b[0m\n\u001b[1;32m     29\u001b[0m \u001b[0;32mfrom\u001b[0m \u001b[0mmatplotlib\u001b[0m \u001b[0;32mimport\u001b[0m \u001b[0m_pylab_helpers\u001b[0m\u001b[0;34m,\u001b[0m \u001b[0minteractive\u001b[0m\u001b[0;34m\u001b[0m\u001b[0m\n",
      "\u001b[0;32m/Users/Ryan/anaconda/lib/python2.7/site-packages/matplotlib/colorbar.py\u001b[0m in \u001b[0;36m<module>\u001b[0;34m()\u001b[0m\n\u001b[1;32m     32\u001b[0m \u001b[0;32mimport\u001b[0m \u001b[0mmatplotlib\u001b[0m\u001b[0;34m.\u001b[0m\u001b[0martist\u001b[0m \u001b[0;32mas\u001b[0m \u001b[0mmartist\u001b[0m\u001b[0;34m\u001b[0m\u001b[0m\n\u001b[1;32m     33\u001b[0m \u001b[0;32mimport\u001b[0m \u001b[0mmatplotlib\u001b[0m\u001b[0;34m.\u001b[0m\u001b[0mcbook\u001b[0m \u001b[0;32mas\u001b[0m \u001b[0mcbook\u001b[0m\u001b[0;34m\u001b[0m\u001b[0m\n\u001b[0;32m---> 34\u001b[0;31m \u001b[0;32mimport\u001b[0m \u001b[0mmatplotlib\u001b[0m\u001b[0;34m.\u001b[0m\u001b[0mcollections\u001b[0m \u001b[0;32mas\u001b[0m \u001b[0mcollections\u001b[0m\u001b[0;34m\u001b[0m\u001b[0m\n\u001b[0m\u001b[1;32m     35\u001b[0m \u001b[0;32mimport\u001b[0m \u001b[0mmatplotlib\u001b[0m\u001b[0;34m.\u001b[0m\u001b[0mcolors\u001b[0m \u001b[0;32mas\u001b[0m \u001b[0mcolors\u001b[0m\u001b[0;34m\u001b[0m\u001b[0m\n\u001b[1;32m     36\u001b[0m \u001b[0;32mimport\u001b[0m \u001b[0mmatplotlib\u001b[0m\u001b[0;34m.\u001b[0m\u001b[0mcontour\u001b[0m \u001b[0;32mas\u001b[0m \u001b[0mcontour\u001b[0m\u001b[0;34m\u001b[0m\u001b[0m\n",
      "\u001b[0;32m/Users/Ryan/anaconda/lib/python2.7/site-packages/matplotlib/collections.py\u001b[0m in \u001b[0;36m<module>\u001b[0;34m()\u001b[0m\n\u001b[1;32m     25\u001b[0m \u001b[0;32mimport\u001b[0m \u001b[0mmatplotlib\u001b[0m\u001b[0;34m.\u001b[0m\u001b[0martist\u001b[0m \u001b[0;32mas\u001b[0m \u001b[0martist\u001b[0m\u001b[0;34m\u001b[0m\u001b[0m\n\u001b[1;32m     26\u001b[0m \u001b[0;32mfrom\u001b[0m \u001b[0mmatplotlib\u001b[0m\u001b[0;34m.\u001b[0m\u001b[0martist\u001b[0m \u001b[0;32mimport\u001b[0m \u001b[0mallow_rasterization\u001b[0m\u001b[0;34m\u001b[0m\u001b[0m\n\u001b[0;32m---> 27\u001b[0;31m \u001b[0;32mimport\u001b[0m \u001b[0mmatplotlib\u001b[0m\u001b[0;34m.\u001b[0m\u001b[0mbackend_bases\u001b[0m \u001b[0;32mas\u001b[0m \u001b[0mbackend_bases\u001b[0m\u001b[0;34m\u001b[0m\u001b[0m\n\u001b[0m\u001b[1;32m     28\u001b[0m \u001b[0;32mimport\u001b[0m \u001b[0mmatplotlib\u001b[0m\u001b[0;34m.\u001b[0m\u001b[0mpath\u001b[0m \u001b[0;32mas\u001b[0m \u001b[0mmpath\u001b[0m\u001b[0;34m\u001b[0m\u001b[0m\n\u001b[1;32m     29\u001b[0m \u001b[0;32mfrom\u001b[0m \u001b[0mmatplotlib\u001b[0m \u001b[0;32mimport\u001b[0m \u001b[0m_path\u001b[0m\u001b[0;34m\u001b[0m\u001b[0m\n",
      "\u001b[0;32m/Users/Ryan/anaconda/lib/python2.7/site-packages/matplotlib/backend_bases.py\u001b[0m in \u001b[0;36m<module>\u001b[0;34m()\u001b[0m\n\u001b[1;32m     54\u001b[0m \u001b[0;34m\u001b[0m\u001b[0m\n\u001b[1;32m     55\u001b[0m \u001b[0;32mimport\u001b[0m \u001b[0mmatplotlib\u001b[0m\u001b[0;34m.\u001b[0m\u001b[0mtight_bbox\u001b[0m \u001b[0;32mas\u001b[0m \u001b[0mtight_bbox\u001b[0m\u001b[0;34m\u001b[0m\u001b[0m\n\u001b[0;32m---> 56\u001b[0;31m \u001b[0;32mimport\u001b[0m \u001b[0mmatplotlib\u001b[0m\u001b[0;34m.\u001b[0m\u001b[0mtextpath\u001b[0m \u001b[0;32mas\u001b[0m \u001b[0mtextpath\u001b[0m\u001b[0;34m\u001b[0m\u001b[0m\n\u001b[0m\u001b[1;32m     57\u001b[0m \u001b[0;32mfrom\u001b[0m \u001b[0mmatplotlib\u001b[0m\u001b[0;34m.\u001b[0m\u001b[0mpath\u001b[0m \u001b[0;32mimport\u001b[0m \u001b[0mPath\u001b[0m\u001b[0;34m\u001b[0m\u001b[0m\n\u001b[1;32m     58\u001b[0m \u001b[0;32mfrom\u001b[0m \u001b[0mmatplotlib\u001b[0m\u001b[0;34m.\u001b[0m\u001b[0mcbook\u001b[0m \u001b[0;32mimport\u001b[0m \u001b[0mmplDeprecation\u001b[0m\u001b[0;34m\u001b[0m\u001b[0m\n",
      "\u001b[0;32m/Users/Ryan/anaconda/lib/python2.7/site-packages/matplotlib/textpath.py\u001b[0m in \u001b[0;36m<module>\u001b[0;34m()\u001b[0m\n\u001b[1;32m     20\u001b[0m \u001b[0;32mfrom\u001b[0m \u001b[0mmatplotlib\u001b[0m\u001b[0;34m.\u001b[0m\u001b[0mft2font\u001b[0m \u001b[0;32mimport\u001b[0m \u001b[0mFT2Font\u001b[0m\u001b[0;34m,\u001b[0m \u001b[0mKERNING_DEFAULT\u001b[0m\u001b[0;34m,\u001b[0m \u001b[0mLOAD_NO_HINTING\u001b[0m\u001b[0;34m\u001b[0m\u001b[0m\n\u001b[1;32m     21\u001b[0m \u001b[0;32mfrom\u001b[0m \u001b[0mmatplotlib\u001b[0m\u001b[0;34m.\u001b[0m\u001b[0mft2font\u001b[0m \u001b[0;32mimport\u001b[0m \u001b[0mLOAD_TARGET_LIGHT\u001b[0m\u001b[0;34m\u001b[0m\u001b[0m\n\u001b[0;32m---> 22\u001b[0;31m \u001b[0;32mfrom\u001b[0m \u001b[0mmatplotlib\u001b[0m\u001b[0;34m.\u001b[0m\u001b[0mmathtext\u001b[0m \u001b[0;32mimport\u001b[0m \u001b[0mMathTextParser\u001b[0m\u001b[0;34m\u001b[0m\u001b[0m\n\u001b[0m\u001b[1;32m     23\u001b[0m \u001b[0;32mimport\u001b[0m \u001b[0mmatplotlib\u001b[0m\u001b[0;34m.\u001b[0m\u001b[0mdviread\u001b[0m \u001b[0;32mas\u001b[0m \u001b[0mdviread\u001b[0m\u001b[0;34m\u001b[0m\u001b[0m\n\u001b[1;32m     24\u001b[0m \u001b[0;32mfrom\u001b[0m \u001b[0mmatplotlib\u001b[0m\u001b[0;34m.\u001b[0m\u001b[0mfont_manager\u001b[0m \u001b[0;32mimport\u001b[0m \u001b[0mFontProperties\u001b[0m\u001b[0;34m\u001b[0m\u001b[0m\n",
      "\u001b[0;32m/Users/Ryan/anaconda/lib/python2.7/site-packages/matplotlib/mathtext.py\u001b[0m in \u001b[0;36m<module>\u001b[0;34m()\u001b[0m\n\u001b[1;32m     61\u001b[0m \u001b[0;34m\u001b[0m\u001b[0m\n\u001b[1;32m     62\u001b[0m \u001b[0;32mimport\u001b[0m \u001b[0mmatplotlib\u001b[0m\u001b[0;34m.\u001b[0m\u001b[0mcolors\u001b[0m \u001b[0;32mas\u001b[0m \u001b[0mmcolors\u001b[0m\u001b[0;34m\u001b[0m\u001b[0m\n\u001b[0;32m---> 63\u001b[0;31m \u001b[0;32mimport\u001b[0m \u001b[0mmatplotlib\u001b[0m\u001b[0;34m.\u001b[0m\u001b[0m_png\u001b[0m \u001b[0;32mas\u001b[0m \u001b[0m_png\u001b[0m\u001b[0;34m\u001b[0m\u001b[0m\n\u001b[0m\u001b[1;32m     64\u001b[0m \u001b[0;31m####################\u001b[0m\u001b[0;34m\u001b[0m\u001b[0;34m\u001b[0m\u001b[0m\n\u001b[1;32m     65\u001b[0m \u001b[0;34m\u001b[0m\u001b[0m\n",
      "\u001b[0;31mImportError\u001b[0m: dlopen(/Users/Ryan/anaconda/lib/python2.7/site-packages/matplotlib/_png.so, 2): Library not loaded: @loader_path/../../../libpng15.15.dylib\n  Referenced from: /Users/Ryan/anaconda/lib/python2.7/site-packages/matplotlib/_png.so\n  Reason: image not found"
     ]
    }
   ],
   "source": [
    "a = pd.scatter_matrix(df, alpha=.05, figsize=(10,10))\n",
    "plt.show()"
   ]
  },
  {
   "cell_type": "code",
   "execution_count": null,
   "metadata": {
    "collapsed": true
   },
   "outputs": [],
   "source": []
  }
 ],
 "metadata": {
  "kernelspec": {
   "display_name": "Python 2",
   "language": "python",
   "name": "python2"
  },
  "language_info": {
   "codemirror_mode": {
    "name": "ipython",
    "version": 2
   },
   "file_extension": ".py",
   "mimetype": "text/x-python",
   "name": "python",
   "nbconvert_exporter": "python",
   "pygments_lexer": "ipython2",
   "version": "2.7.11"
  }
 },
 "nbformat": 4,
 "nbformat_minor": 0
}
