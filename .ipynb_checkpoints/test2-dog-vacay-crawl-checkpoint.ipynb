{
 "cells": [
  {
   "cell_type": "code",
   "execution_count": 30,
   "metadata": {
    "collapsed": false
   },
   "outputs": [],
   "source": [
    "import requests\n",
    "from bs4 import BeautifulSoup\n",
    "import time\n",
    "import pandas as pd\n",
    "import numpy as np\n",
    "import statsmodels.api as sm\n",
    "#import matplotlib"
   ]
  },
  {
   "cell_type": "code",
   "execution_count": 2,
   "metadata": {
    "collapsed": true
   },
   "outputs": [],
   "source": [
    "url = 'https://dogvacay.com/dog-boarding--az--phoenix'"
   ]
  },
  {
   "cell_type": "code",
   "execution_count": 3,
   "metadata": {
    "collapsed": true
   },
   "outputs": [],
   "source": [
    "r = requests.get(url)\n",
    "time.sleep(1)"
   ]
  },
  {
   "cell_type": "code",
   "execution_count": 4,
   "metadata": {
    "collapsed": false
   },
   "outputs": [
    {
     "data": {
      "text/plain": [
       "200"
      ]
     },
     "execution_count": 4,
     "metadata": {},
     "output_type": "execute_result"
    }
   ],
   "source": [
    "r.status_code"
   ]
  },
  {
   "cell_type": "code",
   "execution_count": 5,
   "metadata": {
    "collapsed": false
   },
   "outputs": [],
   "source": [
    "soup = BeautifulSoup(r.text)"
   ]
  },
  {
   "cell_type": "code",
   "execution_count": 6,
   "metadata": {
    "collapsed": false
   },
   "outputs": [],
   "source": [
    "sitters = soup.findAll(lambda tag:tag.name == \"div\" and \\\n",
    "                        len(tag.attrs) == 1 and \\\n",
    "                        tag.attrs.keys()[0] == \"search-list-item\")"
   ]
  },
  {
   "cell_type": "code",
   "execution_count": 7,
   "metadata": {
    "collapsed": false
   },
   "outputs": [
    {
     "data": {
      "text/plain": [
       "15"
      ]
     },
     "execution_count": 7,
     "metadata": {},
     "output_type": "execute_result"
    }
   ],
   "source": [
    "len(sitters)"
   ]
  },
  {
   "cell_type": "code",
   "execution_count": 19,
   "metadata": {
    "collapsed": false
   },
   "outputs": [],
   "source": [
    "sitter = sitters[0]\n",
    "times = []\n",
    "fees = []\n",
    "reviews = []\n",
    "repeats = []\n",
    "city = []\n",
    "name = []\n",
    "rating = []\n",
    "service = []\n",
    "\n",
    "for sitter in sitters:\n",
    "    rtwrap = sitter.findAll('li', {'class': 'dv-search-badge-item'})\n",
    "    if len(rtwrap) > 0:\n",
    "        response_time = rtwrap[0].text.strip('\\n')[18:]\n",
    "    else:\n",
    "        response_time = -1\n",
    "    fee = sitter.findAll('span', {'class': \"dv-host-list-item__price__amount\"})[0].text.strip()[1:]\n",
    "    #if len(price) > 0:\n",
    "    #    fee = price[0].text.strip()[1:]\n",
    "    #else:\n",
    "    #    fee = 0\n",
    "    review = sitter.find('span', {'class': 'dv-host-review'})\n",
    "    if review is not None and len(review) > 0:\n",
    "        review = int(review.text.replace('Reviews', '').replace('Review', '').strip())\n",
    "    else:\n",
    "        review = 0\n",
    "    rpwrap = sitter.findAll('span', {'class': 'dv-host-repeat'})\n",
    "    if len(rpwrap) == 1: # and len(repeat.strip()) > 12:\n",
    "        repeat = rpwrap[0].text.strip()[:1]\n",
    "    else:\n",
    "        repeat = 0\n",
    "    names = sitter.find('a', {'class': 'dv-host-list-item__body__link'}).text#.strip('\\n$').split(' ')\n",
    "    services = sitter.findAll('div', {'class': 'dv-host-list-item__info dv-host-list-item__services'})[0].text.strip('\\n')\n",
    "    full_star = sitter.findAll('i', {'class':\" dv-icon dv-icon__star \"})\n",
    "    ratings = len(full_star)\n",
    "    half_star = sitter.findAll('i', {'class': \" dv-icon dv-icon__star-half \"})\n",
    "    if len(half_star) > 0:\n",
    "        ratings += .5\n",
    "    title = soup.find('title').text\n",
    "    i = title.find(' Dog Boarding')\n",
    "    title = title[0:i]\n",
    "    times.append(response_time)\n",
    "    fees.append(fee)\n",
    "    reviews.append(review)\n",
    "    repeats.append(repeat)\n",
    "    city.append(title)\n",
    "    name.append(names)\n",
    "    rating.append(ratings)\n",
    "    service.append(services)#.text.strip('\\n'))\n",
    "df = pd.DataFrame({'ratings': rating, 'services' : service, 'names': name, 'title':city, 'response_time': times, 'fee':fees, 'review':reviews,'repeat':repeats})"
   ]
  },
  {
   "cell_type": "code",
   "execution_count": 23,
   "metadata": {
    "collapsed": false,
    "scrolled": true
   },
   "outputs": [
    {
     "data": {
      "text/html": [
       "<div style=\"max-height:1000px;max-width:1500px;overflow:auto;\">\n",
       "<table border=\"1\" class=\"dataframe\">\n",
       "  <thead>\n",
       "    <tr style=\"text-align: right;\">\n",
       "      <th></th>\n",
       "      <th>fee</th>\n",
       "      <th>names</th>\n",
       "      <th>ratings</th>\n",
       "      <th>repeat</th>\n",
       "      <th>response_time</th>\n",
       "      <th>review</th>\n",
       "      <th>services</th>\n",
       "      <th>title</th>\n",
       "    </tr>\n",
       "  </thead>\n",
       "  <tbody>\n",
       "    <tr>\n",
       "      <th>0</th>\n",
       "      <td> 25</td>\n",
       "      <td>              patricia's pet heaven</td>\n",
       "      <td> 4.5</td>\n",
       "      <td> 9</td>\n",
       "      <td> Few Hours</td>\n",
       "      <td> 11</td>\n",
       "      <td>                                     Boarding  ...</td>\n",
       "      <td> Phoenix, Arizona</td>\n",
       "    </tr>\n",
       "    <tr>\n",
       "      <th>1</th>\n",
       "      <td> 20</td>\n",
       "      <td>                     DogsBestFriend</td>\n",
       "      <td> 5.0</td>\n",
       "      <td> 0</td>\n",
       "      <td> Few Hours</td>\n",
       "      <td>  2</td>\n",
       "      <td>                                     Boarding, ...</td>\n",
       "      <td> Phoenix, Arizona</td>\n",
       "    </tr>\n",
       "    <tr>\n",
       "      <th>2</th>\n",
       "      <td> 35</td>\n",
       "      <td>               SUZY Q to the Rescue</td>\n",
       "      <td> 5.0</td>\n",
       "      <td> 2</td>\n",
       "      <td>       Day</td>\n",
       "      <td> 50</td>\n",
       "      <td>                                     Boarding, ...</td>\n",
       "      <td> Phoenix, Arizona</td>\n",
       "    </tr>\n",
       "    <tr>\n",
       "      <th>3</th>\n",
       "      <td> 25</td>\n",
       "      <td> HappyTails @Camelback East Village</td>\n",
       "      <td> 5.0</td>\n",
       "      <td> 0</td>\n",
       "      <td> Few Hours</td>\n",
       "      <td>  4</td>\n",
       "      <td>                                     Boarding, ...</td>\n",
       "      <td> Phoenix, Arizona</td>\n",
       "    </tr>\n",
       "    <tr>\n",
       "      <th>4</th>\n",
       "      <td> 20</td>\n",
       "      <td>          Kelrey's Doggy Dream Stay</td>\n",
       "      <td> 4.5</td>\n",
       "      <td> 3</td>\n",
       "      <td> Few Hours</td>\n",
       "      <td>  3</td>\n",
       "      <td>                                     Boarding, ...</td>\n",
       "      <td> Phoenix, Arizona</td>\n",
       "    </tr>\n",
       "  </tbody>\n",
       "</table>\n",
       "</div>"
      ],
      "text/plain": [
       "  fee                               names  ratings repeat response_time  \\\n",
       "0  25               patricia's pet heaven      4.5      9     Few Hours   \n",
       "1  20                      DogsBestFriend      5.0      0     Few Hours   \n",
       "2  35                SUZY Q to the Rescue      5.0      2           Day   \n",
       "3  25  HappyTails @Camelback East Village      5.0      0     Few Hours   \n",
       "4  20           Kelrey's Doggy Dream Stay      4.5      3     Few Hours   \n",
       "\n",
       "   review                                           services             title  \n",
       "0      11                                      Boarding  ...  Phoenix, Arizona  \n",
       "1       2                                      Boarding, ...  Phoenix, Arizona  \n",
       "2      50                                      Boarding, ...  Phoenix, Arizona  \n",
       "3       4                                      Boarding, ...  Phoenix, Arizona  \n",
       "4       3                                      Boarding, ...  Phoenix, Arizona  "
      ]
     },
     "execution_count": 23,
     "metadata": {},
     "output_type": "execute_result"
    }
   ],
   "source": [
    "df.head()"
   ]
  },
  {
   "cell_type": "code",
   "execution_count": 21,
   "metadata": {
    "collapsed": false
   },
   "outputs": [],
   "source": [
    "#eliminate trailing spaces from response_time\n",
    "df['response_time'] = df['response_time'].apply(lambda x: str(x).strip())"
   ]
  },
  {
   "cell_type": "code",
   "execution_count": 34,
   "metadata": {
    "collapsed": true
   },
   "outputs": [],
   "source": [
    "df[\"fee\"] = df[\"fee\"].astype(float)\n",
    "df[\"repeat\"] = df[\"repeat\"].astype(int)"
   ]
  },
  {
   "cell_type": "code",
   "execution_count": 37,
   "metadata": {
    "collapsed": false
   },
   "outputs": [],
   "source": [
    "#df.ix[df['fee']=='', 'fee'] = 0"
   ]
  },
  {
   "cell_type": "code",
   "execution_count": 24,
   "metadata": {
    "collapsed": true
   },
   "outputs": [],
   "source": [
    "#Extract columns\n",
    "fee = df['fee']\n",
    "repeat = df['repeat']\n",
    "ratings = df['ratings']"
   ]
  },
  {
   "cell_type": "code",
   "execution_count": 40,
   "metadata": {
    "collapsed": false
   },
   "outputs": [
    {
     "data": {
      "text/plain": [
       "pandas.core.series.Series"
      ]
     },
     "execution_count": 40,
     "metadata": {},
     "output_type": "execute_result"
    }
   ],
   "source": [
    "type(df['review'])"
   ]
  },
  {
   "cell_type": "code",
   "execution_count": 28,
   "metadata": {
    "collapsed": false
   },
   "outputs": [],
   "source": [
    "#The dependent variable\n",
    "y = np.matrix(fee).transpose()\n",
    "#The independent variable\n",
    "x1 = np.matrix(repeat).transpose()\n",
    "x2 = np.matrix(rating).transpose()"
   ]
  },
  {
   "cell_type": "code",
   "execution_count": 32,
   "metadata": {
    "collapsed": true
   },
   "outputs": [],
   "source": [
    "x = np.column_stack([x1, x2])"
   ]
  },
  {
   "cell_type": "code",
   "execution_count": 35,
   "metadata": {
    "collapsed": false
   },
   "outputs": [
    {
     "ename": "TypeError",
     "evalue": "coercing to Unicode: need string or buffer, int found",
     "output_type": "error",
     "traceback": [
      "\u001b[0;31m---------------------------------------------------------------------------\u001b[0m",
      "\u001b[0;31mTypeError\u001b[0m                                 Traceback (most recent call last)",
      "\u001b[0;32m<ipython-input-35-89fb7dfc5b45>\u001b[0m in \u001b[0;36m<module>\u001b[0;34m()\u001b[0m\n\u001b[0;32m----> 1\u001b[0;31m \u001b[0mX\u001b[0m \u001b[0;34m=\u001b[0m \u001b[0msm\u001b[0m\u001b[0;34m.\u001b[0m\u001b[0madd_constant\u001b[0m\u001b[0;34m(\u001b[0m\u001b[0mx\u001b[0m\u001b[0;34m)\u001b[0m\u001b[0;34m\u001b[0m\u001b[0m\n\u001b[0m\u001b[1;32m      2\u001b[0m \u001b[0mmodel\u001b[0m \u001b[0;34m=\u001b[0m \u001b[0msm\u001b[0m\u001b[0;34m.\u001b[0m\u001b[0mOLS\u001b[0m\u001b[0;34m(\u001b[0m\u001b[0my\u001b[0m\u001b[0;34m,\u001b[0m\u001b[0mX\u001b[0m\u001b[0;34m)\u001b[0m\u001b[0;34m\u001b[0m\u001b[0m\n\u001b[1;32m      3\u001b[0m \u001b[0mf\u001b[0m \u001b[0;34m=\u001b[0m \u001b[0mmodel\u001b[0m\u001b[0;34m.\u001b[0m\u001b[0mfit\u001b[0m\u001b[0;34m(\u001b[0m\u001b[0;34m)\u001b[0m\u001b[0;34m\u001b[0m\u001b[0m\n\u001b[1;32m      4\u001b[0m \u001b[0mf\u001b[0m\u001b[0;34m.\u001b[0m\u001b[0msummary\u001b[0m\u001b[0;34m(\u001b[0m\u001b[0;34m)\u001b[0m\u001b[0;34m\u001b[0m\u001b[0m\n",
      "\u001b[0;32m/Users/Ryan/anaconda/lib/python2.7/site-packages/statsmodels-0.6.1-py2.7-macosx-10.5-x86_64.egg/statsmodels/tools/tools.pyc\u001b[0m in \u001b[0;36madd_constant\u001b[0;34m(data, prepend, has_constant)\u001b[0m\n\u001b[1;32m    313\u001b[0m         \u001b[0mdata\u001b[0m \u001b[0;34m=\u001b[0m \u001b[0mnp\u001b[0m\u001b[0;34m.\u001b[0m\u001b[0masarray\u001b[0m\u001b[0;34m(\u001b[0m\u001b[0mdata\u001b[0m\u001b[0;34m)\u001b[0m\u001b[0;34m\u001b[0m\u001b[0m\n\u001b[1;32m    314\u001b[0m     \u001b[0;32mif\u001b[0m \u001b[0;32mnot\u001b[0m \u001b[0mdata\u001b[0m\u001b[0;34m.\u001b[0m\u001b[0mdtype\u001b[0m\u001b[0;34m.\u001b[0m\u001b[0mnames\u001b[0m\u001b[0;34m:\u001b[0m\u001b[0;34m\u001b[0m\u001b[0m\n\u001b[0;32m--> 315\u001b[0;31m         \u001b[0mvar0\u001b[0m \u001b[0;34m=\u001b[0m \u001b[0mdata\u001b[0m\u001b[0;34m.\u001b[0m\u001b[0mvar\u001b[0m\u001b[0;34m(\u001b[0m\u001b[0;36m0\u001b[0m\u001b[0;34m)\u001b[0m \u001b[0;34m==\u001b[0m \u001b[0;36m0\u001b[0m\u001b[0;34m\u001b[0m\u001b[0m\n\u001b[0m\u001b[1;32m    316\u001b[0m         \u001b[0;32mif\u001b[0m \u001b[0mnp\u001b[0m\u001b[0;34m.\u001b[0m\u001b[0many\u001b[0m\u001b[0;34m(\u001b[0m\u001b[0mvar0\u001b[0m\u001b[0;34m)\u001b[0m\u001b[0;34m:\u001b[0m\u001b[0;34m\u001b[0m\u001b[0m\n\u001b[1;32m    317\u001b[0m             \u001b[0;32mif\u001b[0m \u001b[0mhas_constant\u001b[0m \u001b[0;34m==\u001b[0m \u001b[0;34m'raise'\u001b[0m\u001b[0;34m:\u001b[0m\u001b[0;34m\u001b[0m\u001b[0m\n",
      "\u001b[0;32m/Users/Ryan/anaconda/lib/python2.7/site-packages/numpy/core/_methods.pyc\u001b[0m in \u001b[0;36m_var\u001b[0;34m(a, axis, dtype, out, ddof, keepdims)\u001b[0m\n\u001b[1;32m     89\u001b[0m     \u001b[0;31m# Note that if dtype is not of inexact type then arraymean will\u001b[0m\u001b[0;34m\u001b[0m\u001b[0;34m\u001b[0m\u001b[0m\n\u001b[1;32m     90\u001b[0m     \u001b[0;31m# not be either.\u001b[0m\u001b[0;34m\u001b[0m\u001b[0;34m\u001b[0m\u001b[0m\n\u001b[0;32m---> 91\u001b[0;31m     \u001b[0marrmean\u001b[0m \u001b[0;34m=\u001b[0m \u001b[0mumr_sum\u001b[0m\u001b[0;34m(\u001b[0m\u001b[0marr\u001b[0m\u001b[0;34m,\u001b[0m \u001b[0maxis\u001b[0m\u001b[0;34m,\u001b[0m \u001b[0mdtype\u001b[0m\u001b[0;34m,\u001b[0m \u001b[0mkeepdims\u001b[0m\u001b[0;34m=\u001b[0m\u001b[0mTrue\u001b[0m\u001b[0;34m)\u001b[0m\u001b[0;34m\u001b[0m\u001b[0m\n\u001b[0m\u001b[1;32m     92\u001b[0m     \u001b[0;32mif\u001b[0m \u001b[0misinstance\u001b[0m\u001b[0;34m(\u001b[0m\u001b[0marrmean\u001b[0m\u001b[0;34m,\u001b[0m \u001b[0mmu\u001b[0m\u001b[0;34m.\u001b[0m\u001b[0mndarray\u001b[0m\u001b[0;34m)\u001b[0m\u001b[0;34m:\u001b[0m\u001b[0;34m\u001b[0m\u001b[0m\n\u001b[1;32m     93\u001b[0m         arrmean = um.true_divide(\n",
      "\u001b[0;31mTypeError\u001b[0m: coercing to Unicode: need string or buffer, int found"
     ]
    }
   ],
   "source": [
    "X = sm.add_constant(x)\n",
    "model = sm.OLS(y,X)\n",
    "f = model.fit()\n",
    "f.summary()"
   ]
  },
  {
   "cell_type": "code",
   "execution_count": 22,
   "metadata": {
    "collapsed": false
   },
   "outputs": [],
   "source": [
    "#a = pd.scatter_matrix(df, alpha=.05, figsize=(10,10))\n",
    "#plt.show()"
   ]
  }
 ],
 "metadata": {
  "kernelspec": {
   "display_name": "Python 2",
   "language": "python",
   "name": "python2"
  },
  "language_info": {
   "codemirror_mode": {
    "name": "ipython",
    "version": 2
   },
   "file_extension": ".py",
   "mimetype": "text/x-python",
   "name": "python",
   "nbconvert_exporter": "python",
   "pygments_lexer": "ipython2",
   "version": "2.7.11"
  }
 },
 "nbformat": 4,
 "nbformat_minor": 0
}
