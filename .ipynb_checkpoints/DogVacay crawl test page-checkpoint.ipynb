{
 "cells": [
  {
   "cell_type": "code",
   "execution_count": 304,
   "metadata": {
    "collapsed": false
   },
   "outputs": [],
   "source": [
    "import requests\n",
    "from bs4 import BeautifulSoup\n",
    "import time\n",
    "import pandas as pd\n",
    "import sqlite3 as lite\n",
    "import os\n",
    "import sys\n",
    "import matplotlib.pyplot as plt\n",
    "import numpy as np\n",
    "import statsmodels.api as sm\n",
    "%matplotlib inline\n",
    "from collections import Counter"
   ]
  },
  {
   "cell_type": "code",
   "execution_count": 305,
   "metadata": {
    "collapsed": true
   },
   "outputs": [],
   "source": [
    "headers = {'User-Agent': 'Mozilla/5.0 (Macintosh; Intel Mac OS X 10_10_0) AppleWebKit/537.36 (KHTML, like Gecko) Chrome/43.0.2357.124 Safari/537.36'}"
   ]
  },
  {
   "cell_type": "code",
   "execution_count": 306,
   "metadata": {
    "collapsed": true
   },
   "outputs": [],
   "source": [
    "cities = [['tx', \"austin\"] ,[ 'ca' , 'los-angeles'] ,[ 'ga' , 'atlanta'] ,[ 'ma' , 'boston'] ,[ 'nc' , 'charlotte'] ,[ 'tx' , 'dallas'] ,[ 'co' , 'denver'] ,[ 'tx' , 'houston'] ,[ 'fl' , 'miami'] ,[ 'mn' , 'minneapolis'] ,[ 'ny' , 'new-york'] ,[ 'pa' , 'philadelphia'] ,[ 'az' , 'phoenix'] ,[ 'or' , 'portland'] ,[ 'ca' , 'san-francisco'] ,[ 'ca' , 'san-diego'] ,[ 'wa' , 'seattle'] ,[ 'dc' , 'washington'] ]"
   ]
  },
  {
   "cell_type": "code",
   "execution_count": 307,
   "metadata": {
    "collapsed": false
   },
   "outputs": [
    {
     "name": "stdout",
     "output_type": "stream",
     "text": [
      "\n",
      "tx austin\n",
      ".........\n",
      "ca los-angeles\n",
      "........................................................\n",
      "ga atlanta\n",
      "............\n",
      "ma boston\n",
      ".............\n",
      "nc charlotte\n",
      ".......\n",
      "tx dallas\n",
      "............\n",
      "co denver\n",
      "...........\n",
      "tx houston\n",
      "...........\n",
      "fl miami\n",
      ".........\n",
      "mn minneapolis\n",
      ".......\n",
      "ny new-york\n",
      "...............................................................\n",
      "pa philadelphia\n",
      "............\n",
      "az phoenix\n",
      ".........\n",
      "or portland\n",
      "..........\n",
      "ca san-francisco\n",
      ".............................\n",
      "ca san-diego\n",
      "............\n",
      "wa seattle\n",
      "..........\n",
      "dc washington\n",
      "..........................."
     ]
    }
   ],
   "source": [
    "# CRAWL ALL THE PAGES OF INTERST\n",
    "datadir = 'crawl/'\n",
    "if not(os.path.isdir(datadir)):\n",
    "    os.makedirs(datadir)\n",
    "\n",
    "for city in cities:\n",
    "    k = city[0]\n",
    "    v = city[1]\n",
    "    running = True\n",
    "    page = 1\n",
    "    print ''\n",
    "    print k,v\n",
    "    while running:\n",
    "        url = \"https://dogvacay.com/dog-boarding--\" + k + \"--\" + v + \"?p=\"+str(page)\n",
    "        filename = datadir + k + '-' + v + '-' + str(page) + '.htm'\n",
    "        if not(os.path.isfile(filename)):\n",
    "            sys.stdout.write('-')\n",
    "            r = requests.get(url, headers=headers)\n",
    "            time.sleep(1)\n",
    "            f = open(filename, 'w')\n",
    "            f.write(r.text.encode('ascii', 'replace'))\n",
    "            f.close()\n",
    "            data = r.text\n",
    "        else:\n",
    "            sys.stdout.write('.')\n",
    "            f = open(filename, 'r')\n",
    "            data = f.read()\n",
    "            f.close()\n",
    "        soup = BeautifulSoup(data)\n",
    "        pagination_links = soup.findAll('a', {'class': 'pagination-link'})\n",
    "        running = False\n",
    "        for pl in pagination_links:\n",
    "            if pl.text.find('Next') == 0:\n",
    "                running = True\n",
    "        page+=1\n"
   ]
  },
  {
   "cell_type": "code",
   "execution_count": 308,
   "metadata": {
    "collapsed": false
   },
   "outputs": [],
   "source": [
    "# Data extraction phase\n",
    "\n",
    "times = []\n",
    "fees = []\n",
    "reviews = []\n",
    "repeats = []\n",
    "city = []\n",
    "service = []\n",
    "rating = []\n",
    "name = []\n",
    "\n",
    "for sitter in sitters:\n",
    "    #rtwrap = sitter.findAll('div', {'class': 'icon-wrapper'})\n",
    "    #if len(rtwrap) > 0:\n",
    "    #    response_time = rtwrap[0].text.strip('\\n')[19:]\n",
    "    #else:\n",
    "    #    response_time = -1\n",
    "    fee = sitter.findAll('div', {'class': 'price price--primary u-text-center'})\n",
    "    review = sitter.find('span', {'class': 'vcard-review'})\n",
    "    if review is not None and len(review) > 0:\n",
    "        review = int(review.text.replace('Reviews', '').replace('Review', '').strip())\n",
    "    else:\n",
    "        review = 0\n",
    "    repeat = sitter.findAll('div', {'class': 'icon-wrapper'})\n",
    "    if len(repeat) == 2 and len(repeat[1].text.strip()) > 12:\n",
    "        repeat = repeat[1].text.strip()[:2]\n",
    "    else:\n",
    "        repeat = 0\n",
    "    #services = sitter.findAll('div', {'class': 'vcard-line-item'})\n",
    "    full_star = sitter.findAll('i', {'class': 'ck-star'})\n",
    "    ratings = len(full_star)\n",
    "    half_star = sitter.findAll('i', {'class': 'ck-star-half'})\n",
    "    if len(half_star) > 0:\n",
    "        ratings += .5\n",
    "    names = sitter.find('h2', {'class': 'vcard-title'}).text.strip('\\n$').split(' ')\n",
    "    fees.append(fee[0].text.strip('\\n$')[:2])\n",
    "    title = soup.find('title').text\n",
    "    i = title.find(' Dog Boarding')\n",
    "    title = title[0:i]\n",
    "    city.append(title)\n",
    "    #times.append(response_time)\n",
    "    reviews.append(review)\n",
    "    repeats.append(repeat)\n",
    "    #service.append(services[-1].text.strip('\\n'))\n",
    "    rating.append(ratings)\n",
    "    name.append(names)\n",
    "\n",
    "df = pd.DataFrame({'city': city, 'fee': fees, 'review' : reviews, 'repeat' : repeats, 'ratings': rating, 'names': name})    "
   ]
  },
  {
   "cell_type": "code",
   "execution_count": 309,
   "metadata": {
    "collapsed": false
   },
   "outputs": [
    {
     "data": {
      "text/html": [
       "<div style=\"max-height:1000px;max-width:1500px;overflow:auto;\">\n",
       "<table border=\"1\" class=\"dataframe\">\n",
       "  <thead>\n",
       "    <tr style=\"text-align: right;\">\n",
       "      <th></th>\n",
       "      <th>city</th>\n",
       "      <th>fee</th>\n",
       "      <th>names</th>\n",
       "      <th>ratings</th>\n",
       "      <th>repeat</th>\n",
       "      <th>review</th>\n",
       "    </tr>\n",
       "  </thead>\n",
       "  <tbody>\n",
       "    <tr>\n",
       "      <th>0 </th>\n",
       "      <td> Washington, District Of Columbia</td>\n",
       "      <td> 32</td>\n",
       "      <td>                         [Summit, Dog, Inn]</td>\n",
       "      <td> 5</td>\n",
       "      <td> 28</td>\n",
       "      <td> 45</td>\n",
       "    </tr>\n",
       "    <tr>\n",
       "      <th>1 </th>\n",
       "      <td> Washington, District Of Columbia</td>\n",
       "      <td> 23</td>\n",
       "      <td>             [Holli's, House, For, Hounds!]</td>\n",
       "      <td> 5</td>\n",
       "      <td> 8 </td>\n",
       "      <td> 12</td>\n",
       "    </tr>\n",
       "    <tr>\n",
       "      <th>2 </th>\n",
       "      <td> Washington, District Of Columbia</td>\n",
       "      <td> 30</td>\n",
       "      <td>                      [doggy, dogs, heaven]</td>\n",
       "      <td> 0</td>\n",
       "      <td>  0</td>\n",
       "      <td>  0</td>\n",
       "    </tr>\n",
       "    <tr>\n",
       "      <th>3 </th>\n",
       "      <td> Washington, District Of Columbia</td>\n",
       "      <td> 30</td>\n",
       "      <td> [The, Bark, -, Dog, Destination, Vacation]</td>\n",
       "      <td> 5</td>\n",
       "      <td> 2 </td>\n",
       "      <td> 10</td>\n",
       "    </tr>\n",
       "    <tr>\n",
       "      <th>4 </th>\n",
       "      <td> Washington, District Of Columbia</td>\n",
       "      <td> 33</td>\n",
       "      <td>                         [The, Happy, Pack]</td>\n",
       "      <td> 5</td>\n",
       "      <td> 59</td>\n",
       "      <td> 65</td>\n",
       "    </tr>\n",
       "    <tr>\n",
       "      <th>5 </th>\n",
       "      <td> Washington, District Of Columbia</td>\n",
       "      <td> 40</td>\n",
       "      <td>   [Furry, Friends, Home, Away, From, Home]</td>\n",
       "      <td> 5</td>\n",
       "      <td> 1 </td>\n",
       "      <td>  2</td>\n",
       "    </tr>\n",
       "    <tr>\n",
       "      <th>6 </th>\n",
       "      <td> Washington, District Of Columbia</td>\n",
       "      <td> 25</td>\n",
       "      <td>                      [Lucky-Dog, Boarding]</td>\n",
       "      <td> 5</td>\n",
       "      <td>  0</td>\n",
       "      <td>  1</td>\n",
       "    </tr>\n",
       "    <tr>\n",
       "      <th>7 </th>\n",
       "      <td> Washington, District Of Columbia</td>\n",
       "      <td> 50</td>\n",
       "      <td>                [Pampered, Puppy, Paradise]</td>\n",
       "      <td> 0</td>\n",
       "      <td>  0</td>\n",
       "      <td>  0</td>\n",
       "    </tr>\n",
       "    <tr>\n",
       "      <th>8 </th>\n",
       "      <td> Washington, District Of Columbia</td>\n",
       "      <td> 30</td>\n",
       "      <td>   [Enter, as, Friends,, Leave, as, Family]</td>\n",
       "      <td> 5</td>\n",
       "      <td>  0</td>\n",
       "      <td>  2</td>\n",
       "    </tr>\n",
       "    <tr>\n",
       "      <th>9 </th>\n",
       "      <td> Washington, District Of Columbia</td>\n",
       "      <td> 50</td>\n",
       "      <td>                           [WAGZ-N-WIGGLES]</td>\n",
       "      <td> 0</td>\n",
       "      <td>  0</td>\n",
       "      <td>  0</td>\n",
       "    </tr>\n",
       "    <tr>\n",
       "      <th>10</th>\n",
       "      <td> Washington, District Of Columbia</td>\n",
       "      <td> 25</td>\n",
       "      <td>                       [A, Pug's, Paradise]</td>\n",
       "      <td> 5</td>\n",
       "      <td> 1 </td>\n",
       "      <td>  2</td>\n",
       "    </tr>\n",
       "    <tr>\n",
       "      <th>11</th>\n",
       "      <td> Washington, District Of Columbia</td>\n",
       "      <td> 30</td>\n",
       "      <td>                                [Cloud, K9]</td>\n",
       "      <td> 5</td>\n",
       "      <td> 1 </td>\n",
       "      <td>  5</td>\n",
       "    </tr>\n",
       "    <tr>\n",
       "      <th>12</th>\n",
       "      <td> Washington, District Of Columbia</td>\n",
       "      <td> 45</td>\n",
       "      <td>                                [The, Farm]</td>\n",
       "      <td> 5</td>\n",
       "      <td> 1 </td>\n",
       "      <td>  3</td>\n",
       "    </tr>\n",
       "    <tr>\n",
       "      <th>13</th>\n",
       "      <td> Washington, District Of Columbia</td>\n",
       "      <td> 45</td>\n",
       "      <td> [Reliable,, loving, care, for, your, dogs]</td>\n",
       "      <td> 0</td>\n",
       "      <td>  0</td>\n",
       "      <td>  0</td>\n",
       "    </tr>\n",
       "    <tr>\n",
       "      <th>14</th>\n",
       "      <td> Washington, District Of Columbia</td>\n",
       "      <td> 42</td>\n",
       "      <td>              [I, love, all, Fur, Babies:)]</td>\n",
       "      <td> 0</td>\n",
       "      <td>  0</td>\n",
       "      <td>  0</td>\n",
       "    </tr>\n",
       "  </tbody>\n",
       "</table>\n",
       "</div>"
      ],
      "text/plain": [
       "                                city fee  \\\n",
       "0   Washington, District Of Columbia  32   \n",
       "1   Washington, District Of Columbia  23   \n",
       "2   Washington, District Of Columbia  30   \n",
       "3   Washington, District Of Columbia  30   \n",
       "4   Washington, District Of Columbia  33   \n",
       "5   Washington, District Of Columbia  40   \n",
       "6   Washington, District Of Columbia  25   \n",
       "7   Washington, District Of Columbia  50   \n",
       "8   Washington, District Of Columbia  30   \n",
       "9   Washington, District Of Columbia  50   \n",
       "10  Washington, District Of Columbia  25   \n",
       "11  Washington, District Of Columbia  30   \n",
       "12  Washington, District Of Columbia  45   \n",
       "13  Washington, District Of Columbia  45   \n",
       "14  Washington, District Of Columbia  42   \n",
       "\n",
       "                                         names  ratings repeat  review  \n",
       "0                           [Summit, Dog, Inn]        5     28      45  \n",
       "1               [Holli's, House, For, Hounds!]        5     8       12  \n",
       "2                        [doggy, dogs, heaven]        0      0       0  \n",
       "3   [The, Bark, -, Dog, Destination, Vacation]        5     2       10  \n",
       "4                           [The, Happy, Pack]        5     59      65  \n",
       "5     [Furry, Friends, Home, Away, From, Home]        5     1        2  \n",
       "6                        [Lucky-Dog, Boarding]        5      0       1  \n",
       "7                  [Pampered, Puppy, Paradise]        0      0       0  \n",
       "8     [Enter, as, Friends,, Leave, as, Family]        5      0       2  \n",
       "9                             [WAGZ-N-WIGGLES]        0      0       0  \n",
       "10                        [A, Pug's, Paradise]        5     1        2  \n",
       "11                                 [Cloud, K9]        5     1        5  \n",
       "12                                 [The, Farm]        5     1        3  \n",
       "13  [Reliable,, loving, care, for, your, dogs]        0      0       0  \n",
       "14               [I, love, all, Fur, Babies:)]        0      0       0  "
      ]
     },
     "execution_count": 309,
     "metadata": {},
     "output_type": "execute_result"
    }
   ],
   "source": [
    "df"
   ]
  },
  {
   "cell_type": "code",
   "execution_count": 310,
   "metadata": {
    "collapsed": false
   },
   "outputs": [
    {
     "data": {
      "text/plain": [
       "0                             [Summit, Dog, Inn]\n",
       "1                 [Holli's, House, For, Hounds!]\n",
       "2                          [doggy, dogs, heaven]\n",
       "3     [The, Bark, -, Dog, Destination, Vacation]\n",
       "4                             [The, Happy, Pack]\n",
       "5       [Furry, Friends, Home, Away, From, Home]\n",
       "6                          [Lucky-Dog, Boarding]\n",
       "7                    [Pampered, Puppy, Paradise]\n",
       "8       [Enter, as, Friends,, Leave, as, Family]\n",
       "9                               [WAGZ-N-WIGGLES]\n",
       "10                          [A, Pug's, Paradise]\n",
       "11                                   [Cloud, K9]\n",
       "12                                   [The, Farm]\n",
       "13    [Reliable,, loving, care, for, your, dogs]\n",
       "14                 [I, love, all, Fur, Babies:)]\n",
       "Name: names, dtype: object"
      ]
     },
     "execution_count": 310,
     "metadata": {},
     "output_type": "execute_result"
    }
   ],
   "source": [
    "df['names']"
   ]
  },
  {
   "cell_type": "code",
   "execution_count": 323,
   "metadata": {
    "collapsed": false
   },
   "outputs": [],
   "source": [
    "words = df['names'].tolist()"
   ]
  },
  {
   "cell_type": "code",
   "execution_count": 324,
   "metadata": {
    "collapsed": false
   },
   "outputs": [
    {
     "data": {
      "text/plain": [
       "Counter({u'The': 3, u'as': 2, u'Paradise': 2, u'dogs': 2, u'Dog': 2, u'Home': 2, u'A': 1, u'all': 1, u'From': 1, u'For': 1, u'Furry': 1, u'Away': 1, u'Destination': 1, u'Vacation': 1, u'love': 1, u'K9': 1, u'Puppy': 1, u'your': 1, u'Happy': 1, u'WAGZ-N-WIGGLES': 1, u'for': 1, u'Farm': 1, u\"Pug's\": 1, u'-': 1, u'I': 1, u'doggy': 1, u'Friends': 1, u'loving': 1, u'Boarding': 1, u'care': 1, u'Fur': 1, u'Reliable,': 1, u'Pampered': 1, u'Leave': 1, u'Summit': 1, u'Friends,': 1, u'Enter': 1, u'Pack': 1, u'heaven': 1, u'Family': 1, u'House': 1, u\"Holli's\": 1, u'Inn': 1, u'Lucky-Dog': 1, u'Bark': 1, u'Babies:)': 1, u'Hounds!': 1, u'Cloud': 1})"
      ]
     },
     "execution_count": 324,
     "metadata": {},
     "output_type": "execute_result"
    }
   ],
   "source": [
    "Counter(word for line in words for word in line)"
   ]
  },
  {
   "cell_type": "code",
   "execution_count": 290,
   "metadata": {
    "collapsed": false
   },
   "outputs": [
    {
     "data": {
      "text/plain": [
       "[u'Summit', u'Dog', u'Inn', u\"Holli's\", u'House', u'For', u'Hounds!']"
      ]
     },
     "execution_count": 290,
     "metadata": {},
     "output_type": "execute_result"
    }
   ],
   "source": [
    "df['names'][0]+df['names'][1]"
   ]
  },
  {
   "cell_type": "code",
   "execution_count": 289,
   "metadata": {
    "collapsed": false
   },
   "outputs": [
    {
     "name": "stdout",
     "output_type": "stream",
     "text": [
      "[u'Summit', u'Dog', u'Inn']\n",
      "[u\"Holli's\", u'House', u'For', u'Hounds!']\n",
      "[u'doggy', u'dogs', u'heaven']\n",
      "[u'The', u'Bark', u'-', u'Dog', u'Destination', u'Vacation']\n",
      "[u'The', u'Happy', u'Pack']\n",
      "[u'Furry', u'Friends', u'Home', u'Away', u'From', u'Home']\n",
      "[u'Lucky-Dog', u'Boarding']\n",
      "[u'Pampered', u'Puppy', u'Paradise']\n",
      "[u'Enter', u'as', u'Friends,', u'Leave', u'as', u'Family']\n",
      "[u'WAGZ-N-WIGGLES']\n",
      "[u'A', u\"Pug's\", u'Paradise']\n",
      "[u'Cloud', u'K9']\n",
      "[u'The', u'Farm']\n",
      "[u'Reliable,', u'loving', u'care', u'for', u'your', u'dogs']\n",
      "[u'I', u'love', u'all', u'Fur', u'Babies:)']\n"
     ]
    }
   ],
   "source": [
    "list = []\n",
    "for row in (df['names']):\n",
    "    row = list.append(row)\n",
    "    print list[-1]"
   ]
  },
  {
   "cell_type": "code",
   "execution_count": 269,
   "metadata": {
    "collapsed": false
   },
   "outputs": [
    {
     "data": {
      "text/plain": [
       "([u'Summit', u'Dog', u'Inn'],\n",
       " [u\"Holli's\", u'House', u'For', u'Hounds!'],\n",
       " [u'doggy', u'dogs', u'heaven'],\n",
       " [u'The', u'Bark', u'-', u'Dog', u'Destination', u'Vacation'],\n",
       " [u'The', u'Happy', u'Pack'],\n",
       " [u'Furry', u'Friends', u'Home', u'Away', u'From', u'Home'],\n",
       " [u'Lucky-Dog', u'Boarding'],\n",
       " [u'Pampered', u'Puppy', u'Paradise'],\n",
       " [u'Enter', u'as', u'Friends,', u'Leave', u'as', u'Family'],\n",
       " [u'WAGZ-N-WIGGLES'],\n",
       " [u'A', u\"Pug's\", u'Paradise'],\n",
       " [u'Cloud', u'K9'],\n",
       " [u'The', u'Farm'],\n",
       " [u'Reliable,', u'loving', u'care', u'for', u'your', u'dogs'],\n",
       " [u'I', u'love', u'all', u'Fur', u'Babies:)'])"
      ]
     },
     "execution_count": 269,
     "metadata": {},
     "output_type": "execute_result"
    }
   ],
   "source": [
    "tuple(list)"
   ]
  },
  {
   "cell_type": "code",
   "execution_count": 303,
   "metadata": {
    "collapsed": false
   },
   "outputs": [
    {
     "ename": "TypeError",
     "evalue": "unhashable type: 'list'",
     "output_type": "error",
     "traceback": [
      "\u001b[0;31m---------------------------------------------------------------------------\u001b[0m",
      "\u001b[0;31mTypeError\u001b[0m                                 Traceback (most recent call last)",
      "\u001b[0;32m<ipython-input-303-a66a6034a9cc>\u001b[0m in \u001b[0;36m<module>\u001b[0;34m()\u001b[0m\n\u001b[0;32m----> 1\u001b[0;31m \u001b[0mCounter\u001b[0m\u001b[0;34m(\u001b[0m\u001b[0mlist\u001b[0m\u001b[0;34m)\u001b[0m\u001b[0;34m\u001b[0m\u001b[0m\n\u001b[0m",
      "\u001b[0;32m/Users/Ryan/anaconda/lib/python2.7/collections.pyc\u001b[0m in \u001b[0;36m__init__\u001b[0;34m(*args, **kwds)\u001b[0m\n\u001b[1;32m    463\u001b[0m             \u001b[0;32mraise\u001b[0m \u001b[0mTypeError\u001b[0m\u001b[0;34m(\u001b[0m\u001b[0;34m'expected at most 1 arguments, got %d'\u001b[0m \u001b[0;34m%\u001b[0m \u001b[0mlen\u001b[0m\u001b[0;34m(\u001b[0m\u001b[0margs\u001b[0m\u001b[0;34m)\u001b[0m\u001b[0;34m)\u001b[0m\u001b[0;34m\u001b[0m\u001b[0m\n\u001b[1;32m    464\u001b[0m         \u001b[0msuper\u001b[0m\u001b[0;34m(\u001b[0m\u001b[0mCounter\u001b[0m\u001b[0;34m,\u001b[0m \u001b[0mself\u001b[0m\u001b[0;34m)\u001b[0m\u001b[0;34m.\u001b[0m\u001b[0m__init__\u001b[0m\u001b[0;34m(\u001b[0m\u001b[0;34m)\u001b[0m\u001b[0;34m\u001b[0m\u001b[0m\n\u001b[0;32m--> 465\u001b[0;31m         \u001b[0mself\u001b[0m\u001b[0;34m.\u001b[0m\u001b[0mupdate\u001b[0m\u001b[0;34m(\u001b[0m\u001b[0;34m*\u001b[0m\u001b[0margs\u001b[0m\u001b[0;34m,\u001b[0m \u001b[0;34m**\u001b[0m\u001b[0mkwds\u001b[0m\u001b[0;34m)\u001b[0m\u001b[0;34m\u001b[0m\u001b[0m\n\u001b[0m\u001b[1;32m    466\u001b[0m \u001b[0;34m\u001b[0m\u001b[0m\n\u001b[1;32m    467\u001b[0m     \u001b[0;32mdef\u001b[0m \u001b[0m__missing__\u001b[0m\u001b[0;34m(\u001b[0m\u001b[0mself\u001b[0m\u001b[0;34m,\u001b[0m \u001b[0mkey\u001b[0m\u001b[0;34m)\u001b[0m\u001b[0;34m:\u001b[0m\u001b[0;34m\u001b[0m\u001b[0m\n",
      "\u001b[0;32m/Users/Ryan/anaconda/lib/python2.7/collections.pyc\u001b[0m in \u001b[0;36mupdate\u001b[0;34m(*args, **kwds)\u001b[0m\n\u001b[1;32m    553\u001b[0m                 \u001b[0mself_get\u001b[0m \u001b[0;34m=\u001b[0m \u001b[0mself\u001b[0m\u001b[0;34m.\u001b[0m\u001b[0mget\u001b[0m\u001b[0;34m\u001b[0m\u001b[0m\n\u001b[1;32m    554\u001b[0m                 \u001b[0;32mfor\u001b[0m \u001b[0melem\u001b[0m \u001b[0;32min\u001b[0m \u001b[0miterable\u001b[0m\u001b[0;34m:\u001b[0m\u001b[0;34m\u001b[0m\u001b[0m\n\u001b[0;32m--> 555\u001b[0;31m                     \u001b[0mself\u001b[0m\u001b[0;34m[\u001b[0m\u001b[0melem\u001b[0m\u001b[0;34m]\u001b[0m \u001b[0;34m=\u001b[0m \u001b[0mself_get\u001b[0m\u001b[0;34m(\u001b[0m\u001b[0melem\u001b[0m\u001b[0;34m,\u001b[0m \u001b[0;36m0\u001b[0m\u001b[0;34m)\u001b[0m \u001b[0;34m+\u001b[0m \u001b[0;36m1\u001b[0m\u001b[0;34m\u001b[0m\u001b[0m\n\u001b[0m\u001b[1;32m    556\u001b[0m         \u001b[0;32mif\u001b[0m \u001b[0mkwds\u001b[0m\u001b[0;34m:\u001b[0m\u001b[0;34m\u001b[0m\u001b[0m\n\u001b[1;32m    557\u001b[0m             \u001b[0mself\u001b[0m\u001b[0;34m.\u001b[0m\u001b[0mupdate\u001b[0m\u001b[0;34m(\u001b[0m\u001b[0mkwds\u001b[0m\u001b[0;34m)\u001b[0m\u001b[0;34m\u001b[0m\u001b[0m\n",
      "\u001b[0;31mTypeError\u001b[0m: unhashable type: 'list'"
     ]
    }
   ],
   "source": [
    "Counter(list)"
   ]
  },
  {
   "cell_type": "code",
   "execution_count": 129,
   "metadata": {
    "collapsed": false
   },
   "outputs": [],
   "source": [
    "a = np.array(df['names']).tolist()"
   ]
  },
  {
   "cell_type": "code",
   "execution_count": null,
   "metadata": {
    "collapsed": true
   },
   "outputs": [],
   "source": []
  }
 ],
 "metadata": {
  "kernelspec": {
   "display_name": "Python 2",
   "language": "python",
   "name": "python2"
  },
  "language_info": {
   "codemirror_mode": {
    "name": "ipython",
    "version": 2
   },
   "file_extension": ".py",
   "mimetype": "text/x-python",
   "name": "python",
   "nbconvert_exporter": "python",
   "pygments_lexer": "ipython2",
   "version": "2.7.10"
  }
 },
 "nbformat": 4,
 "nbformat_minor": 0
}
