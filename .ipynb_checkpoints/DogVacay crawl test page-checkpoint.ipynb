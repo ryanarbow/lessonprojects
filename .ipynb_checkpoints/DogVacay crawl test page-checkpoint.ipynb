{
 "cells": [
  {
   "cell_type": "code",
   "execution_count": 1,
   "metadata": {
    "collapsed": true
   },
   "outputs": [],
   "source": [
    "import requests\n",
    "from bs4 import BeautifulSoup\n",
    "import time\n",
    "import pandas as pd\n",
    "import sqlite3 as lite\n",
    "import os\n",
    "import sys\n",
    "import matplotlib.pyplot as plt\n",
    "import numpy as np\n",
    "import statsmodels.api as sm\n",
    "%matplotlib inline"
   ]
  },
  {
   "cell_type": "code",
   "execution_count": 2,
   "metadata": {
    "collapsed": true
   },
   "outputs": [],
   "source": [
    "headers = {'User-Agent': 'Mozilla/5.0 (Macintosh; Intel Mac OS X 10_10_0) AppleWebKit/537.36 (KHTML, like Gecko) Chrome/43.0.2357.124 Safari/537.36'}"
   ]
  },
  {
   "cell_type": "code",
   "execution_count": 3,
   "metadata": {
    "collapsed": true
   },
   "outputs": [],
   "source": [
    "cities = [['tx', \"austin\"] ,[ 'ca' , 'los-angeles'] ,[ 'ga' , 'atlanta'] ,[ 'ma' , 'boston'] ,[ 'nc' , 'charlotte'] ,[ 'tx' , 'dallas'] ,[ 'co' , 'denver'] ,[ 'tx' , 'houston'] ,[ 'fl' , 'miami'] ,[ 'mn' , 'minneapolis'] ,[ 'ny' , 'new-york'] ,[ 'pa' , 'philadelphia'] ,[ 'az' , 'phoenix'] ,[ 'or' , 'portland'] ,[ 'ca' , 'san-francisco'] ,[ 'ca' , 'san-diego'] ,[ 'wa' , 'seattle'] ,[ 'dc' , 'washington'] ]"
   ]
  },
  {
   "cell_type": "code",
   "execution_count": 5,
   "metadata": {
    "collapsed": false
   },
   "outputs": [
    {
     "name": "stdout",
     "output_type": "stream",
     "text": [
      "\n",
      "tx austin\n",
      ".........\n",
      "ca los-angeles\n",
      "........................................................\n",
      "ga atlanta\n",
      "............\n",
      "ma boston\n",
      ".............\n",
      "nc charlotte\n",
      ".......\n",
      "tx dallas\n",
      "............\n",
      "co denver\n",
      "...........\n",
      "tx houston\n",
      "...........\n",
      "fl miami\n",
      ".........\n",
      "mn minneapolis\n",
      ".......\n",
      "ny new-york\n",
      "...............................................................\n",
      "pa philadelphia\n",
      "............\n",
      "az phoenix\n",
      ".........\n",
      "or portland\n",
      "..........\n",
      "ca san-francisco\n",
      ".............................\n",
      "ca san-diego\n",
      "............\n",
      "wa seattle\n",
      "..........\n",
      "dc washington\n",
      "..........................."
     ]
    }
   ],
   "source": [
    "# CRAWL ALL THE PAGES OF INTERST\n",
    "datadir = 'crawl/'\n",
    "if not(os.path.isdir(datadir)):\n",
    "    os.makedirs(datadir)\n",
    "\n",
    "for city in cities:\n",
    "    k = city[0]\n",
    "    v = city[1]\n",
    "    running = True\n",
    "    page = 1\n",
    "    print ''\n",
    "    print k,v\n",
    "    while running:\n",
    "        url = \"https://dogvacay.com/dog-boarding--\" + k + \"--\" + v + \"?p=\"+str(page)\n",
    "        filename = datadir + k + '-' + v + '-' + str(page) + '.htm'\n",
    "        if not(os.path.isfile(filename)):\n",
    "            sys.stdout.write('-')\n",
    "            r = requests.get(url, headers=headers)\n",
    "            time.sleep(1)\n",
    "            f = open(filename, 'w')\n",
    "            f.write(r.text.encode('ascii', 'replace'))\n",
    "            f.close()\n",
    "            data = r.text\n",
    "        else:\n",
    "            sys.stdout.write('.')\n",
    "            f = open(filename, 'r')\n",
    "            data = f.read()\n",
    "            f.close()\n",
    "        soup = BeautifulSoup(data)\n",
    "        pagination_links = soup.findAll('a', {'class': 'pagination-link'})\n",
    "        running = False\n",
    "        for pl in pagination_links:\n",
    "            if pl.text.find('Next') == 0:\n",
    "                running = True\n",
    "        page+=1\n"
   ]
  },
  {
   "cell_type": "code",
   "execution_count": 62,
   "metadata": {
    "collapsed": false
   },
   "outputs": [],
   "source": [
    "# Data extraction phase\n",
    "\n",
    "times = []\n",
    "fees = []\n",
    "reviews = []\n",
    "repeats = []\n",
    "city = []\n",
    "service = []\n",
    "rating = []\n",
    "name = []\n",
    "\n",
    "for sitter in sitters:\n",
    "    #rtwrap = sitter.findAll('div', {'class': 'icon-wrapper'})\n",
    "    #if len(rtwrap) > 0:\n",
    "    #    response_time = rtwrap[0].text.strip('\\n')[19:]\n",
    "    #else:\n",
    "    #    response_time = -1\n",
    "    fee = sitter.findAll('div', {'class': 'price price--primary u-text-center'})\n",
    "    review = sitter.find('span', {'class': 'vcard-review'})\n",
    "    if review is not None and len(review) > 0:\n",
    "        review = int(review.text.replace('Reviews', '').replace('Review', '').strip())\n",
    "    else:\n",
    "        review = 0\n",
    "    repeat = sitter.findAll('div', {'class': 'icon-wrapper'})\n",
    "    if len(repeat) == 2 and len(repeat[1].text.strip()) > 12:\n",
    "        repeat = repeat[1].text.strip()[:2]\n",
    "    else:\n",
    "        repeat = 0\n",
    "    #services = sitter.findAll('div', {'class': 'vcard-line-item'})\n",
    "    full_star = sitter.findAll('i', {'class': 'ck-star'})\n",
    "    ratings = len(full_star)\n",
    "    half_star = sitter.findAll('i', {'class': 'ck-star-half'})\n",
    "    if len(half_star) > 0:\n",
    "        ratings += .5\n",
    "    names = sitter.find('h2', {'class': 'vcard-title'}).text.strip('\\n$').split(' ')\n",
    "    fees.append(fee[0].text.strip('\\n$')[:2])\n",
    "    title = soup.find('title').text\n",
    "    i = title.find(' Dog Boarding')\n",
    "    title = title[0:i]\n",
    "    city.append(title)\n",
    "    #times.append(response_time)\n",
    "    reviews.append(review)\n",
    "    repeats.append(repeat)\n",
    "    #service.append(services[-1].text.strip('\\n'))\n",
    "    rating.append(ratings)\n",
    "    name.append(names)\n",
    "\n",
    "df = pd.DataFrame({'city': city, 'fee': fees, 'review' : reviews, 'repeat' : repeats, 'ratings': rating, 'names': name})    "
   ]
  },
  {
   "cell_type": "code",
   "execution_count": 68,
   "metadata": {
    "collapsed": false
   },
   "outputs": [
    {
     "data": {
      "text/plain": [
       "0                             [Summit, Dog, Inn]\n",
       "1                 [Holli's, House, For, Hounds!]\n",
       "2                          [doggy, dogs, heaven]\n",
       "3     [The, Bark, -, Dog, Destination, Vacation]\n",
       "4                             [The, Happy, Pack]\n",
       "5       [Furry, Friends, Home, Away, From, Home]\n",
       "6                          [Lucky-Dog, Boarding]\n",
       "7                    [Pampered, Puppy, Paradise]\n",
       "8       [Enter, as, Friends,, Leave, as, Family]\n",
       "9                               [WAGZ-N-WIGGLES]\n",
       "10                          [A, Pug's, Paradise]\n",
       "11                                   [Cloud, K9]\n",
       "12                                   [The, Farm]\n",
       "13    [Reliable,, loving, care, for, your, dogs]\n",
       "14                 [I, love, all, Fur, Babies:)]\n",
       "Name: names, dtype: object"
      ]
     },
     "execution_count": 68,
     "metadata": {},
     "output_type": "execute_result"
    }
   ],
   "source": [
    "df['names']"
   ]
  },
  {
   "cell_type": "code",
   "execution_count": 65,
   "metadata": {
    "collapsed": false
   },
   "outputs": [
    {
     "ename": "ValueError",
     "evalue": "No axis named fee for object type <class 'pandas.core.frame.DataFrame'>",
     "output_type": "error",
     "traceback": [
      "\u001b[0;31m---------------------------------------------------------------------------\u001b[0m",
      "\u001b[0;31mValueError\u001b[0m                                Traceback (most recent call last)",
      "\u001b[0;32m<ipython-input-65-8b2643208d23>\u001b[0m in \u001b[0;36m<module>\u001b[0;34m()\u001b[0m\n\u001b[0;32m----> 1\u001b[0;31m \u001b[0mdf\u001b[0m\u001b[0;34m.\u001b[0m\u001b[0mcount\u001b[0m\u001b[0;34m(\u001b[0m\u001b[0;34m'fee'\u001b[0m\u001b[0;34m)\u001b[0m\u001b[0;34m\u001b[0m\u001b[0m\n\u001b[0m",
      "\u001b[0;32m/Users/Ryan/anaconda/lib/python2.7/site-packages/pandas/core/frame.pyc\u001b[0m in \u001b[0;36mcount\u001b[0;34m(self, axis, level, numeric_only)\u001b[0m\n\u001b[1;32m   4081\u001b[0m         \u001b[0mcount\u001b[0m \u001b[0;34m:\u001b[0m \u001b[0mSeries\u001b[0m \u001b[0;34m(\u001b[0m\u001b[0;32mor\u001b[0m \u001b[0mDataFrame\u001b[0m \u001b[0;32mif\u001b[0m \u001b[0mlevel\u001b[0m \u001b[0mspecified\u001b[0m\u001b[0;34m)\u001b[0m\u001b[0;34m\u001b[0m\u001b[0m\n\u001b[1;32m   4082\u001b[0m         \"\"\"\n\u001b[0;32m-> 4083\u001b[0;31m         \u001b[0maxis\u001b[0m \u001b[0;34m=\u001b[0m \u001b[0mself\u001b[0m\u001b[0;34m.\u001b[0m\u001b[0m_get_axis_number\u001b[0m\u001b[0;34m(\u001b[0m\u001b[0maxis\u001b[0m\u001b[0;34m)\u001b[0m\u001b[0;34m\u001b[0m\u001b[0m\n\u001b[0m\u001b[1;32m   4084\u001b[0m         \u001b[0;32mif\u001b[0m \u001b[0mlevel\u001b[0m \u001b[0;32mis\u001b[0m \u001b[0;32mnot\u001b[0m \u001b[0mNone\u001b[0m\u001b[0;34m:\u001b[0m\u001b[0;34m\u001b[0m\u001b[0m\n\u001b[1;32m   4085\u001b[0m             return self._count_level(level, axis=axis,\n",
      "\u001b[0;32m/Users/Ryan/anaconda/lib/python2.7/site-packages/pandas/core/generic.pyc\u001b[0m in \u001b[0;36m_get_axis_number\u001b[0;34m(self, axis)\u001b[0m\n\u001b[1;32m    294\u001b[0m                 \u001b[0;32mpass\u001b[0m\u001b[0;34m\u001b[0m\u001b[0m\n\u001b[1;32m    295\u001b[0m         raise ValueError('No axis named {0} for object type {1}'\n\u001b[0;32m--> 296\u001b[0;31m                          .format(axis, type(self)))\n\u001b[0m\u001b[1;32m    297\u001b[0m \u001b[0;34m\u001b[0m\u001b[0m\n\u001b[1;32m    298\u001b[0m     \u001b[0;32mdef\u001b[0m \u001b[0m_get_axis_name\u001b[0m\u001b[0;34m(\u001b[0m\u001b[0mself\u001b[0m\u001b[0;34m,\u001b[0m \u001b[0maxis\u001b[0m\u001b[0;34m)\u001b[0m\u001b[0;34m:\u001b[0m\u001b[0;34m\u001b[0m\u001b[0m\n",
      "\u001b[0;31mValueError\u001b[0m: No axis named fee for object type <class 'pandas.core.frame.DataFrame'>"
     ]
    }
   ],
   "source": []
  },
  {
   "cell_type": "code",
   "execution_count": null,
   "metadata": {
    "collapsed": true
   },
   "outputs": [],
   "source": []
  }
 ],
 "metadata": {
  "kernelspec": {
   "display_name": "Python 2",
   "language": "python",
   "name": "python2"
  },
  "language_info": {
   "codemirror_mode": {
    "name": "ipython",
    "version": 2
   },
   "file_extension": ".py",
   "mimetype": "text/x-python",
   "name": "python",
   "nbconvert_exporter": "python",
   "pygments_lexer": "ipython2",
   "version": "2.7.10"
  }
 },
 "nbformat": 4,
 "nbformat_minor": 0
}
