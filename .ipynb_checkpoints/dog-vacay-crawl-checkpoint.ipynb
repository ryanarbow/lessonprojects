{
 "cells": [
  {
   "cell_type": "code",
   "execution_count": 16,
   "metadata": {
    "_datascience": {},
    "collapsed": false
   },
   "outputs": [],
   "source": [
    "import requests\n",
    "from bs4 import BeautifulSoup\n",
    "import time\n",
    "import pandas as pd"
   ]
  },
  {
   "cell_type": "code",
   "execution_count": 17,
   "metadata": {
    "_datascience": {},
    "collapsed": true
   },
   "outputs": [],
   "source": [
    "# First page to crawl\n",
    "url = 'https://dogvacay.com/dog-boarding--tx--austin'"
   ]
  },
  {
   "cell_type": "code",
   "execution_count": 18,
   "metadata": {
    "_datascience": {},
    "collapsed": true
   },
   "outputs": [],
   "source": [
    "# TODO: check if the page has multiple pages (most do, and use the url below to get the 2nd, 3rd, etc page data too)\n",
    "# https://dogvacay.com/dog-boarding--tx--austin?p=2"
   ]
  },
  {
   "cell_type": "code",
   "execution_count": 19,
   "metadata": {
    "collapsed": true
   },
   "outputs": [],
   "source": [
    "headers = {'User-Agent': 'Mozilla/5.0 (Macintosh; Intel Mac OS X 10_10_0) AppleWebKit/537.36 (KHTML, like Gecko) Chrome/43.0.2357.124 Safari/537.36'}"
   ]
  },
  {
   "cell_type": "code",
   "execution_count": 20,
   "metadata": {
    "_datascience": {},
    "collapsed": false
   },
   "outputs": [],
   "source": [
    "# This gets the page from the web, and also waits one second after you do\n",
    "# The one second wait is to make sure you don't accidentally make too many requests which is bad netiquette\n",
    "r = requests.get(url, headers=headers)\n",
    "time.sleep(1)"
   ]
  },
  {
   "cell_type": "code",
   "execution_count": 21,
   "metadata": {
    "_datascience": {},
    "collapsed": true
   },
   "outputs": [],
   "source": [
    "# TODO: set up a loop until you've checked all pages"
   ]
  },
  {
   "cell_type": "code",
   "execution_count": 22,
   "metadata": {
    "_datascience": {},
    "collapsed": true
   },
   "outputs": [],
   "source": [
    "# TODO: set up a loop over other cities too"
   ]
  },
  {
   "cell_type": "code",
   "execution_count": 23,
   "metadata": {
    "_datascience": {},
    "collapsed": false
   },
   "outputs": [],
   "source": [
    "# Convert the text to a beautiful soup object\n",
    "soup = BeautifulSoup(r.content)"
   ]
  },
  {
   "cell_type": "code",
   "execution_count": 24,
   "metadata": {
    "_datascience": {},
    "collapsed": false
   },
   "outputs": [
    {
     "data": {
      "text/plain": [
       "15"
      ]
     },
     "execution_count": 24,
     "metadata": {},
     "output_type": "execute_result"
    }
   ],
   "source": [
    "# Remeber the \"inspect element\" trick I showed you in Chrome?  Use that to find the data you want\n",
    "sitters = soup.findAll('div', {'class': 'card-content'})\n",
    "len(sitters)"
   ]
  },
  {
   "cell_type": "code",
   "execution_count": 25,
   "metadata": {
    "collapsed": false
   },
   "outputs": [],
   "source": [
    "citylist1 = soup.findAll('div', {'class': 'fl'})[1].text.split('\\n')[2:-2]\n",
    "citylist2 = soup.findAll('div', {'class': 'fl'})[2].text.split('\\n')[2:-4]\n",
    "citylist = citylist1+citylist2"
   ]
  },
  {
   "cell_type": "code",
   "execution_count": null,
   "metadata": {
    "collapsed": true
   },
   "outputs": [],
   "source": []
  },
  {
   "cell_type": "code",
   "execution_count": 30,
   "metadata": {
    "_datascience": {},
    "collapsed": false
   },
   "outputs": [
    {
     "data": {
      "text/plain": [
       "200"
      ]
     },
     "execution_count": 30,
     "metadata": {},
     "output_type": "execute_result"
    }
   ],
   "source": [
    "# Make sure you got a 200 response, otherwise it indicates an error\n",
    "r.status_code"
   ]
  },
  {
   "cell_type": "code",
   "execution_count": 77,
   "metadata": {
    "_datascience": {},
    "collapsed": false
   },
   "outputs": [
    {
     "data": {
      "text/html": [
       "<div style=\"max-height:1000px;max-width:1500px;overflow:auto;\">\n",
       "<table border=\"1\" class=\"dataframe\">\n",
       "  <thead>\n",
       "    <tr style=\"text-align: right;\">\n",
       "      <th></th>\n",
       "      <th>city</th>\n",
       "      <th>fee</th>\n",
       "      <th>repeat</th>\n",
       "      <th>response_time</th>\n",
       "      <th>review</th>\n",
       "      <th>services</th>\n",
       "    </tr>\n",
       "  </thead>\n",
       "  <tbody>\n",
       "    <tr>\n",
       "      <th>0 </th>\n",
       "      <td> Austin</td>\n",
       "      <td> 50</td>\n",
       "      <td> 0</td>\n",
       "      <td> Few Hours                        </td>\n",
       "      <td>  3</td>\n",
       "      <td> &lt;div class=\"vcard-line-item\"&gt;\n",
       "&lt;ul class=\"ratin...</td>\n",
       "    </tr>\n",
       "    <tr>\n",
       "      <th>1 </th>\n",
       "      <td> Austin</td>\n",
       "      <td> 30</td>\n",
       "      <td> 8</td>\n",
       "      <td> Few Hours                        </td>\n",
       "      <td>  9</td>\n",
       "      <td> &lt;div class=\"vcard-line-item\"&gt;\n",
       "&lt;ul class=\"ratin...</td>\n",
       "    </tr>\n",
       "    <tr>\n",
       "      <th>2 </th>\n",
       "      <td> Austin</td>\n",
       "      <td> 28</td>\n",
       "      <td> 1</td>\n",
       "      <td> Few Hours                        </td>\n",
       "      <td>  1</td>\n",
       "      <td> &lt;div class=\"vcard-line-item\"&gt;\n",
       "&lt;ul class=\"ratin...</td>\n",
       "    </tr>\n",
       "    <tr>\n",
       "      <th>3 </th>\n",
       "      <td> Austin</td>\n",
       "      <td> 30</td>\n",
       "      <td> 1</td>\n",
       "      <td> Few Hours                        </td>\n",
       "      <td>  4</td>\n",
       "      <td> &lt;div class=\"vcard-line-item\"&gt;\n",
       "&lt;ul class=\"ratin...</td>\n",
       "    </tr>\n",
       "    <tr>\n",
       "      <th>4 </th>\n",
       "      <td> Austin</td>\n",
       "      <td> 32</td>\n",
       "      <td> 0</td>\n",
       "      <td> Few Hours                        </td>\n",
       "      <td>  0</td>\n",
       "      <td> &lt;div class=\"vcard-line-item\"&gt;\n",
       "&lt;b&gt;Boarding and ...</td>\n",
       "    </tr>\n",
       "    <tr>\n",
       "      <th>5 </th>\n",
       "      <td> Austin</td>\n",
       "      <td> 32</td>\n",
       "      <td> 2</td>\n",
       "      <td> Few Hours                        </td>\n",
       "      <td>  9</td>\n",
       "      <td> &lt;div class=\"vcard-line-item\"&gt;\n",
       "&lt;ul class=\"ratin...</td>\n",
       "    </tr>\n",
       "    <tr>\n",
       "      <th>6 </th>\n",
       "      <td> Austin</td>\n",
       "      <td> 30</td>\n",
       "      <td> 1</td>\n",
       "      <td> Few Hours                        </td>\n",
       "      <td>  5</td>\n",
       "      <td> &lt;div class=\"vcard-line-item\"&gt;\n",
       "&lt;ul class=\"ratin...</td>\n",
       "    </tr>\n",
       "    <tr>\n",
       "      <th>7 </th>\n",
       "      <td> Austin</td>\n",
       "      <td> 45</td>\n",
       "      <td> 3</td>\n",
       "      <td> Few Hours                        </td>\n",
       "      <td>  4</td>\n",
       "      <td> &lt;div class=\"vcard-line-item\"&gt;\n",
       "&lt;ul class=\"ratin...</td>\n",
       "    </tr>\n",
       "    <tr>\n",
       "      <th>8 </th>\n",
       "      <td> Austin</td>\n",
       "      <td> 40</td>\n",
       "      <td> 0</td>\n",
       "      <td> Few Hours                        </td>\n",
       "      <td>  1</td>\n",
       "      <td> &lt;div class=\"vcard-line-item\"&gt;\n",
       "&lt;ul class=\"ratin...</td>\n",
       "    </tr>\n",
       "    <tr>\n",
       "      <th>9 </th>\n",
       "      <td> Austin</td>\n",
       "      <td> 30</td>\n",
       "      <td> 1</td>\n",
       "      <td> Few Hours                        </td>\n",
       "      <td>  1</td>\n",
       "      <td> &lt;div class=\"vcard-line-item\"&gt;\n",
       "&lt;ul class=\"ratin...</td>\n",
       "    </tr>\n",
       "    <tr>\n",
       "      <th>10</th>\n",
       "      <td> Austin</td>\n",
       "      <td> 40</td>\n",
       "      <td> 2</td>\n",
       "      <td> Few Hours                        </td>\n",
       "      <td>  2</td>\n",
       "      <td> &lt;div class=\"vcard-line-item\"&gt;\n",
       "&lt;ul class=\"ratin...</td>\n",
       "    </tr>\n",
       "    <tr>\n",
       "      <th>11</th>\n",
       "      <td> Austin</td>\n",
       "      <td> 30</td>\n",
       "      <td> 1</td>\n",
       "      <td> Few Hours                        </td>\n",
       "      <td>  2</td>\n",
       "      <td> &lt;div class=\"vcard-line-item\"&gt;\n",
       "&lt;ul class=\"ratin...</td>\n",
       "    </tr>\n",
       "    <tr>\n",
       "      <th>12</th>\n",
       "      <td> Austin</td>\n",
       "      <td> 35</td>\n",
       "      <td> 1</td>\n",
       "      <td> Few Hours                        </td>\n",
       "      <td>  2</td>\n",
       "      <td> &lt;div class=\"vcard-line-item\"&gt;\n",
       "&lt;ul class=\"ratin...</td>\n",
       "    </tr>\n",
       "    <tr>\n",
       "      <th>13</th>\n",
       "      <td> Austin</td>\n",
       "      <td> 35</td>\n",
       "      <td> 1</td>\n",
       "      <td> Few Hours                        </td>\n",
       "      <td> 32</td>\n",
       "      <td> &lt;div class=\"vcard-line-item\"&gt;\n",
       "&lt;ul class=\"ratin...</td>\n",
       "    </tr>\n",
       "    <tr>\n",
       "      <th>14</th>\n",
       "      <td> Austin</td>\n",
       "      <td> 25</td>\n",
       "      <td> 0</td>\n",
       "      <td> Few Hours                        </td>\n",
       "      <td>  2</td>\n",
       "      <td> &lt;div class=\"vcard-line-item\"&gt;\n",
       "&lt;ul class=\"ratin...</td>\n",
       "    </tr>\n",
       "  </tbody>\n",
       "</table>\n",
       "</div>"
      ],
      "text/plain": [
       "      city fee repeat                      response_time  review  \\\n",
       "0   Austin  50      0  Few Hours                               3   \n",
       "1   Austin  30      8  Few Hours                               9   \n",
       "2   Austin  28      1  Few Hours                               1   \n",
       "3   Austin  30      1  Few Hours                               4   \n",
       "4   Austin  32      0  Few Hours                               0   \n",
       "5   Austin  32      2  Few Hours                               9   \n",
       "6   Austin  30      1  Few Hours                               5   \n",
       "7   Austin  45      3  Few Hours                               4   \n",
       "8   Austin  40      0  Few Hours                               1   \n",
       "9   Austin  30      1  Few Hours                               1   \n",
       "10  Austin  40      2  Few Hours                               2   \n",
       "11  Austin  30      1  Few Hours                               2   \n",
       "12  Austin  35      1  Few Hours                               2   \n",
       "13  Austin  35      1  Few Hours                              32   \n",
       "14  Austin  25      0  Few Hours                               2   \n",
       "\n",
       "                                             services  \n",
       "0   <div class=\"vcard-line-item\">\n",
       "<ul class=\"ratin...  \n",
       "1   <div class=\"vcard-line-item\">\n",
       "<ul class=\"ratin...  \n",
       "2   <div class=\"vcard-line-item\">\n",
       "<ul class=\"ratin...  \n",
       "3   <div class=\"vcard-line-item\">\n",
       "<ul class=\"ratin...  \n",
       "4   <div class=\"vcard-line-item\">\n",
       "<b>Boarding and ...  \n",
       "5   <div class=\"vcard-line-item\">\n",
       "<ul class=\"ratin...  \n",
       "6   <div class=\"vcard-line-item\">\n",
       "<ul class=\"ratin...  \n",
       "7   <div class=\"vcard-line-item\">\n",
       "<ul class=\"ratin...  \n",
       "8   <div class=\"vcard-line-item\">\n",
       "<ul class=\"ratin...  \n",
       "9   <div class=\"vcard-line-item\">\n",
       "<ul class=\"ratin...  \n",
       "10  <div class=\"vcard-line-item\">\n",
       "<ul class=\"ratin...  \n",
       "11  <div class=\"vcard-line-item\">\n",
       "<ul class=\"ratin...  \n",
       "12  <div class=\"vcard-line-item\">\n",
       "<ul class=\"ratin...  \n",
       "13  <div class=\"vcard-line-item\">\n",
       "<ul class=\"ratin...  \n",
       "14  <div class=\"vcard-line-item\">\n",
       "<ul class=\"ratin...  "
      ]
     },
     "execution_count": 77,
     "metadata": {},
     "output_type": "execute_result"
    }
   ],
   "source": [
    "# Data extraction phase\n",
    "# TODO: This is a work in progress.  You should have a go at getting it working.\n",
    "# TODO: Pick which important fields you want to extract, find them, build the data frame\n",
    "\n",
    "sitter = sitters[3]\n",
    "times = []\n",
    "fees = []\n",
    "reviews = []\n",
    "repeats = []\n",
    "city = []\n",
    "service = []\n",
    "\n",
    "for sitter in sitters:\n",
    "    response_time = sitter.findAll('div', {'class': 'icon-wrapper'})[0].text.strip('\\n')[19:]\n",
    "    fee = sitter.findAll('div', {'class': 'price price--primary u-text-center'})\n",
    "    review = sitter.find('span', {'class': 'vcard-review'})\n",
    "    if review is not None and len(review) > 0:\n",
    "        review = int(review.text.replace('Reviews', '').replace('Review', '').strip())\n",
    "    else:\n",
    "        review = 0\n",
    "    repeat = sitter.findAll('div', {'class': 'icon-wrapper'})\n",
    "    if len(repeat) == 2:\n",
    "        repeat = repeat[1].text.strip('\\n')[1]\n",
    "    else:\n",
    "        repeat = 0\n",
    "    services = sitter.findAll('div', {'class': 'vcard-line-item'})\n",
    "    fees.append(fee[0].text.strip('\\n$')[:2])\n",
    "    city.append('Austin')\n",
    "    times.append(response_time)\n",
    "    reviews.append(review)\n",
    "    repeats.append(repeat)\n",
    "    service.append(services[2])\n",
    "    \n",
    "\n",
    "df = pd.DataFrame({'city': city, 'fee': fees, 'response_time': times, 'review' : reviews, 'repeat' : repeats, 'services' : service})\n",
    "df"
   ]
  },
  {
   "cell_type": "code",
   "execution_count": 168,
   "metadata": {
    "collapsed": false
   },
   "outputs": [
    {
     "name": "stdout",
     "output_type": "stream",
     "text": [
      "Next »\n"
     ]
    }
   ],
   "source": [
    "nextpage = soup.findAll('a', {'class': 'pagination-link'})[4].text\n",
    "print nextpage"
   ]
  },
  {
   "cell_type": "code",
   "execution_count": 27,
   "metadata": {
    "collapsed": false
   },
   "outputs": [
    {
     "name": "stdout",
     "output_type": "stream",
     "text": [
      "\n",
      "Boarding, Sitting, and Pick up and Drop off\n",
      "\n",
      "\n",
      "Boarding, Sitting, Daycare, Checkups and Visits, and more\n",
      "\n",
      "\n",
      "Boarding, Sitting, Daycare, Checkups and Visits, and more\n",
      "\n",
      "\n",
      "Boarding and Pick up and Drop off\n",
      "\n"
     ]
    },
    {
     "ename": "IndexError",
     "evalue": "list index out of range",
     "output_type": "error",
     "traceback": [
      "\u001b[0;31m---------------------------------------------------------------------------\u001b[0m",
      "\u001b[0;31mIndexError\u001b[0m                                Traceback (most recent call last)",
      "\u001b[0;32m<ipython-input-27-bdfc720e0133>\u001b[0m in \u001b[0;36m<module>\u001b[0;34m()\u001b[0m\n\u001b[1;32m      1\u001b[0m \u001b[0;32mfor\u001b[0m \u001b[0msitter\u001b[0m \u001b[0;32min\u001b[0m \u001b[0msitters\u001b[0m\u001b[0;34m:\u001b[0m\u001b[0;34m\u001b[0m\u001b[0m\n\u001b[1;32m      2\u001b[0m     \u001b[0mservices\u001b[0m \u001b[0;34m=\u001b[0m \u001b[0msitter\u001b[0m\u001b[0;34m.\u001b[0m\u001b[0mfindAll\u001b[0m\u001b[0;34m(\u001b[0m\u001b[0;34m'div'\u001b[0m\u001b[0;34m,\u001b[0m \u001b[0;34m{\u001b[0m\u001b[0;34m'class'\u001b[0m\u001b[0;34m:\u001b[0m \u001b[0;34m'vcard-line-item'\u001b[0m\u001b[0;34m}\u001b[0m\u001b[0;34m)\u001b[0m\u001b[0;34m\u001b[0m\u001b[0m\n\u001b[0;32m----> 3\u001b[0;31m     \u001b[0;32mprint\u001b[0m \u001b[0mservices\u001b[0m\u001b[0;34m[\u001b[0m\u001b[0;36m3\u001b[0m\u001b[0;34m]\u001b[0m\u001b[0;34m.\u001b[0m\u001b[0mtext\u001b[0m\u001b[0;34m\u001b[0m\u001b[0m\n\u001b[0m",
      "\u001b[0;31mIndexError\u001b[0m: list index out of range"
     ]
    }
   ],
   "source": [
    "for sitter in sitters:\n",
    "    services = sitter.findAll('div', {'class': 'vcard-line-item'})\n",
    "    print services[3].text"
   ]
  },
  {
   "cell_type": "code",
   "execution_count": 40,
   "metadata": {
    "collapsed": false
   },
   "outputs": [
    {
     "name": "stdout",
     "output_type": "stream",
     "text": [
      "0\n",
      "0\n",
      "0\n",
      "0\n",
      "0\n",
      "0\n",
      "0\n",
      "0\n",
      "0\n",
      "0\n",
      "0\n",
      "0\n",
      "0\n",
      "0\n",
      "0\n"
     ]
    }
   ],
   "source": [
    "for sitter in sitters:\n",
    "    rating = sitter.findAll('i', {'class': 'rating'})\n",
    "    if len(rating) == 5:\n",
    "        rating = 5\n",
    "    else:\n",
    "        rating = 0\n",
    "    print rating"
   ]
  },
  {
   "cell_type": "code",
   "execution_count": 72,
   "metadata": {
    "collapsed": false
   },
   "outputs": [
    {
     "ename": "SyntaxError",
     "evalue": "invalid syntax (<ipython-input-72-7e1b5149620d>, line 6)",
     "output_type": "error",
     "traceback": [
      "\u001b[0;36m  File \u001b[0;32m\"<ipython-input-72-7e1b5149620d>\"\u001b[0;36m, line \u001b[0;32m6\u001b[0m\n\u001b[0;31m    len(rating) = 4 && (sitter.findAll('i', {'class': 'ck-star-stat'} == TRUE))\u001b[0m\n\u001b[0m                     ^\u001b[0m\n\u001b[0;31mSyntaxError\u001b[0m\u001b[0;31m:\u001b[0m invalid syntax\n"
     ]
    }
   ],
   "source": [
    "for sitter in sitters:\n",
    "    rating = sitter.findAll('i', {'class': 'ck-star'})\n",
    "    if len(rating) == 5:\n",
    "        rating = 5\n",
    "    else:\n",
    "        len(rating) = 4 && (sitter.findAll('i', {'class': 'ck-star-stat'} == TRUE))\n",
    "                       rating = 4.5\n",
    "    print (rating)\n"
   ]
  },
  {
   "cell_type": "code",
   "execution_count": null,
   "metadata": {
    "collapsed": true
   },
   "outputs": [],
   "source": []
  }
 ],
 "metadata": {
  "_datascience": {},
  "kernelspec": {
   "display_name": "Python 2",
   "language": "python",
   "name": "python2"
  },
  "language_info": {
   "codemirror_mode": {
    "name": "ipython",
    "version": 2
   },
   "file_extension": ".py",
   "mimetype": "text/x-python",
   "name": "python",
   "nbconvert_exporter": "python",
   "pygments_lexer": "ipython2",
   "version": "2.7.9"
  }
 },
 "nbformat": 4,
 "nbformat_minor": 0
}
