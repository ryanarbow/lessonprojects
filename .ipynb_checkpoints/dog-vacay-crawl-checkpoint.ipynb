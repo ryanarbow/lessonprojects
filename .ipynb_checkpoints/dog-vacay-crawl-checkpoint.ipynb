{
 "cells": [
  {
   "cell_type": "code",
   "execution_count": 6,
   "metadata": {
    "_datascience": {},
    "collapsed": false
   },
   "outputs": [],
   "source": [
    "import requests\n",
    "from bs4 import BeautifulSoup\n",
    "import time\n",
    "import pandas as pd\n",
    "import sqlite3 as lite\n",
    "import os\n",
    "import sys\n",
    "#import matplotlib.pyplot as plt\n",
    "import numpy as np\n",
    "import statsmodels.api as sm\n",
    "#%matplotlib inline\n",
    "from collections import Counter\n",
    "import itertools"
   ]
  },
  {
   "cell_type": "code",
   "execution_count": 7,
   "metadata": {
    "_datascience": {},
    "collapsed": true
   },
   "outputs": [],
   "source": [
    "headers = {'User-Agent': 'Mozilla/5.0 (Macintosh; Intel Mac OS X 10_10_0) AppleWebKit/537.36 (KHTML, like Gecko) Chrome/43.0.2357.124 Safari/537.36'}"
   ]
  },
  {
   "cell_type": "code",
   "execution_count": 8,
   "metadata": {
    "_datascience": {},
    "collapsed": true
   },
   "outputs": [],
   "source": [
    "cities = [['tx', \"austin\"] ,[ 'ca' , 'los-angeles'] ,[ 'ga' , 'atlanta'] ,[ 'ma' , 'boston'] ,[ 'nc' , 'charlotte'] ,[ 'tx' , 'dallas'] ,[ 'co' , 'denver'] ,[ 'tx' , 'houston'] ,[ 'fl' , 'miami'] ,[ 'mn' , 'minneapolis'] ,[ 'ny' , 'new-york'] ,[ 'pa' , 'philadelphia'] ,[ 'az' , 'phoenix'] ,[ 'or' , 'portland'] ,[ 'ca' , 'san-francisco'] ,[ 'ca' , 'san-diego'] ,[ 'wa' , 'seattle'] ,[ 'dc' , 'washington'] ]"
   ]
  },
  {
   "cell_type": "code",
   "execution_count": 10,
   "metadata": {
    "_datascience": {},
    "collapsed": false
   },
   "outputs": [
    {
     "name": "stdout",
     "output_type": "stream",
     "text": [
      "\n",
      "tx austin\n",
      ".\n",
      "ca los-angeles\n",
      "........................................................\n",
      "ga atlanta\n",
      "............\n",
      "ma boston\n",
      ".............\n",
      "nc charlotte\n",
      ".......\n",
      "tx dallas\n",
      "............\n",
      "co denver\n",
      "...........\n",
      "tx houston\n",
      "...........\n",
      "fl miami\n",
      ".........\n",
      "mn minneapolis\n",
      ".......\n",
      "ny new-york\n",
      "...............................................................\n",
      "pa philadelphia\n",
      "............\n",
      "az phoenix\n",
      ".........\n",
      "or portland\n",
      "..........\n",
      "ca san-francisco\n",
      ".............................\n",
      "ca san-diego\n",
      "............\n",
      "wa seattle\n",
      "..........\n",
      "dc washington\n",
      "..........................."
     ]
    }
   ],
   "source": [
    "# CRAWL ALL THE PAGES OF INTEREST\n",
    "datadir = 'crawl/'\n",
    "if not(os.path.isdir(datadir)):\n",
    "    os.makedirs(datadir)\n",
    "\n",
    "for city in cities:\n",
    "    k = city[0]\n",
    "    v = city[1]\n",
    "    running = True\n",
    "    page = 1\n",
    "    print ''\n",
    "    print k,v\n",
    "    while running:\n",
    "        url = \"https://dogvacay.com/dog-boarding--\" + k + \"--\" + v + \"?p=\"+str(page)\n",
    "        filename = datadir + k + '-' + v + '-' + str(page) + '.htm'\n",
    "        if not(os.path.isfile(filename)):\n",
    "            sys.stdout.write('-')\n",
    "            r = requests.get(url, headers=headers)\n",
    "            time.sleep(1)\n",
    "            f = open(filename, 'w')\n",
    "            f.write(r.text.encode('ascii', 'replace'))\n",
    "            f.close()\n",
    "            data = r.text\n",
    "        else:\n",
    "            sys.stdout.write('.')\n",
    "            f = open(filename, 'r')\n",
    "            data = f.read()\n",
    "            f.close()\n",
    "        soup = BeautifulSoup(data)\n",
    "        pagination_links = soup.findAll('a', {'class': 'pagination-link'})\n",
    "        running = False\n",
    "        for pl in pagination_links:\n",
    "            if pl.text.find('Next') == 0:\n",
    "                running = True\n",
    "        page+=1\n"
   ]
  },
  {
   "cell_type": "code",
   "execution_count": 10,
   "metadata": {
    "_datascience": {},
    "collapsed": false
   },
   "outputs": [
    {
     "name": "stdout",
     "output_type": "stream",
     "text": [
      "Processing: crawl/az-phoenix-1.htm\n",
      "Processing: crawl/az-phoenix-2.htm\n",
      "Processing: crawl/az-phoenix-3.htm\n",
      "Processing: crawl/az-phoenix-4.htm\n",
      "Processing: crawl/az-phoenix-5.htm\n",
      "Processing: crawl/az-phoenix-6.htm\n",
      "Processing: crawl/az-phoenix-7.htm\n",
      "Processing: crawl/az-phoenix-8.htm\n",
      "Processing: crawl/az-phoenix-9.htm\n",
      "Processing: crawl/ca-los-angeles-1.htm\n",
      "Processing: crawl/ca-los-angeles-10.htm\n",
      "Processing: crawl/ca-los-angeles-11.htm\n",
      "Processing: crawl/ca-los-angeles-12.htm\n",
      "Processing: crawl/ca-los-angeles-13.htm\n",
      "Processing: crawl/ca-los-angeles-14.htm\n",
      "Processing: crawl/ca-los-angeles-15.htm\n",
      "Processing: crawl/ca-los-angeles-16.htm\n",
      "Processing: crawl/ca-los-angeles-17.htm\n",
      "Processing: crawl/ca-los-angeles-18.htm\n",
      "Processing: crawl/ca-los-angeles-19.htm\n",
      "Processing: crawl/ca-los-angeles-2.htm\n",
      "Processing: crawl/ca-los-angeles-20.htm\n",
      "Processing: crawl/ca-los-angeles-21.htm\n",
      "Processing: crawl/ca-los-angeles-22.htm\n",
      "Processing: crawl/ca-los-angeles-23.htm\n",
      "Processing: crawl/ca-los-angeles-24.htm\n",
      "Processing: crawl/ca-los-angeles-25.htm\n",
      "Processing: crawl/ca-los-angeles-26.htm\n",
      "Processing: crawl/ca-los-angeles-27.htm\n",
      "Processing: crawl/ca-los-angeles-28.htm\n",
      "Processing: crawl/ca-los-angeles-29.htm\n",
      "Processing: crawl/ca-los-angeles-3.htm\n",
      "Processing: crawl/ca-los-angeles-30.htm\n",
      "Processing: crawl/ca-los-angeles-31.htm\n",
      "Processing: crawl/ca-los-angeles-32.htm\n",
      "Processing: crawl/ca-los-angeles-33.htm\n",
      "Processing: crawl/ca-los-angeles-34.htm\n",
      "Processing: crawl/ca-los-angeles-35.htm\n",
      "Processing: crawl/ca-los-angeles-36.htm\n",
      "Processing: crawl/ca-los-angeles-37.htm\n",
      "Processing: crawl/ca-los-angeles-38.htm\n",
      "Processing: crawl/ca-los-angeles-39.htm\n",
      "Processing: crawl/ca-los-angeles-4.htm\n",
      "Processing: crawl/ca-los-angeles-40.htm\n",
      "Processing: crawl/ca-los-angeles-41.htm\n",
      "Processing: crawl/ca-los-angeles-42.htm\n",
      "Processing: crawl/ca-los-angeles-43.htm\n",
      "Processing: crawl/ca-los-angeles-44.htm\n",
      "Processing: crawl/ca-los-angeles-45.htm\n",
      "Processing: crawl/ca-los-angeles-46.htm\n",
      "Processing: crawl/ca-los-angeles-47.htm\n",
      "Processing: crawl/ca-los-angeles-48.htm\n",
      "Processing: crawl/ca-los-angeles-49.htm\n",
      "Processing: crawl/ca-los-angeles-5.htm\n",
      "Processing: crawl/ca-los-angeles-50.htm\n",
      "Processing: crawl/ca-los-angeles-51.htm\n",
      "Processing: crawl/ca-los-angeles-52.htm\n",
      "Processing: crawl/ca-los-angeles-53.htm\n",
      "Processing: crawl/ca-los-angeles-54.htm\n",
      "Processing: crawl/ca-los-angeles-55.htm\n",
      "Processing: crawl/ca-los-angeles-56.htm\n",
      "Processing: crawl/ca-los-angeles-6.htm\n",
      "Processing: crawl/ca-los-angeles-7.htm\n",
      "Processing: crawl/ca-los-angeles-8.htm\n",
      "Processing: crawl/ca-los-angeles-9.htm\n",
      "Processing: crawl/ca-san-diego-1.htm\n",
      "Processing: crawl/ca-san-diego-10.htm\n",
      "Processing: crawl/ca-san-diego-11.htm\n",
      "Processing: crawl/ca-san-diego-12.htm\n",
      "Processing: crawl/ca-san-diego-2.htm\n",
      "Processing: crawl/ca-san-diego-3.htm\n",
      "Processing: crawl/ca-san-diego-4.htm\n",
      "Processing: crawl/ca-san-diego-5.htm\n",
      "Processing: crawl/ca-san-diego-6.htm\n",
      "Processing: crawl/ca-san-diego-7.htm\n",
      "Processing: crawl/ca-san-diego-8.htm\n",
      "Processing: crawl/ca-san-diego-9.htm\n",
      "Processing: crawl/ca-san-francisco-1.htm\n",
      "Processing: crawl/ca-san-francisco-10.htm\n",
      "Processing: crawl/ca-san-francisco-11.htm\n",
      "Processing: crawl/ca-san-francisco-12.htm\n",
      "Processing: crawl/ca-san-francisco-13.htm\n",
      "Processing: crawl/ca-san-francisco-14.htm\n",
      "Processing: crawl/ca-san-francisco-15.htm\n",
      "Processing: crawl/ca-san-francisco-16.htm\n",
      "Processing: crawl/ca-san-francisco-17.htm\n",
      "Processing: crawl/ca-san-francisco-18.htm\n",
      "Processing: crawl/ca-san-francisco-19.htm\n",
      "Processing: crawl/ca-san-francisco-2.htm\n",
      "Processing: crawl/ca-san-francisco-20.htm\n",
      "Processing: crawl/ca-san-francisco-21.htm\n",
      "Processing: crawl/ca-san-francisco-22.htm\n",
      "Processing: crawl/ca-san-francisco-23.htm\n",
      "Processing: crawl/ca-san-francisco-24.htm\n",
      "Processing: crawl/ca-san-francisco-25.htm\n",
      "Processing: crawl/ca-san-francisco-26.htm\n",
      "Processing: crawl/ca-san-francisco-27.htm\n",
      "Processing: crawl/ca-san-francisco-28.htm\n",
      "Processing: crawl/ca-san-francisco-29.htm\n",
      "Processing: crawl/ca-san-francisco-3.htm\n",
      "Processing: crawl/ca-san-francisco-4.htm\n",
      "Processing: crawl/ca-san-francisco-5.htm\n",
      "Processing: crawl/ca-san-francisco-6.htm\n",
      "Processing: crawl/ca-san-francisco-7.htm\n",
      "Processing: crawl/ca-san-francisco-8.htm\n",
      "Processing: crawl/ca-san-francisco-9.htm\n",
      "Processing: crawl/co-denver-1.htm\n",
      "Processing: crawl/co-denver-10.htm\n",
      "Processing: crawl/co-denver-11.htm\n",
      "Processing: crawl/co-denver-2.htm\n",
      "Processing: crawl/co-denver-3.htm\n",
      "Processing: crawl/co-denver-4.htm\n",
      "Processing: crawl/co-denver-5.htm\n",
      "Processing: crawl/co-denver-6.htm\n",
      "Processing: crawl/co-denver-7.htm\n",
      "Processing: crawl/co-denver-8.htm\n",
      "Processing: crawl/co-denver-9.htm\n",
      "Processing: crawl/dc-washington-1.htm\n",
      "Processing: crawl/dc-washington-10.htm\n",
      "Processing: crawl/dc-washington-11.htm\n",
      "Processing: crawl/dc-washington-12.htm\n",
      "Processing: crawl/dc-washington-13.htm\n",
      "Processing: crawl/dc-washington-14.htm\n",
      "Processing: crawl/dc-washington-15.htm\n",
      "Processing: crawl/dc-washington-16.htm\n",
      "Processing: crawl/dc-washington-17.htm\n",
      "Processing: crawl/dc-washington-18.htm\n",
      "Processing: crawl/dc-washington-19.htm\n",
      "Processing: crawl/dc-washington-2.htm\n",
      "Processing: crawl/dc-washington-20.htm\n",
      "Processing: crawl/dc-washington-21.htm\n",
      "Processing: crawl/dc-washington-22.htm\n",
      "Processing: crawl/dc-washington-23.htm\n",
      "Processing: crawl/dc-washington-24.htm\n",
      "Processing: crawl/dc-washington-25.htm\n",
      "Processing: crawl/dc-washington-26.htm\n",
      "Processing: crawl/dc-washington-27.htm\n",
      "Processing: crawl/dc-washington-3.htm\n",
      "Processing: crawl/dc-washington-4.htm\n",
      "Processing: crawl/dc-washington-5.htm\n",
      "Processing: crawl/dc-washington-6.htm\n",
      "Processing: crawl/dc-washington-7.htm\n",
      "Processing: crawl/dc-washington-8.htm\n",
      "Processing: crawl/dc-washington-9.htm\n",
      "Processing: crawl/fl-miami-1.htm\n",
      "Processing: crawl/fl-miami-2.htm\n",
      "Processing: crawl/fl-miami-3.htm\n",
      "Processing: crawl/fl-miami-4.htm\n",
      "Processing: crawl/fl-miami-5.htm\n",
      "Processing: crawl/fl-miami-6.htm\n",
      "Processing: crawl/fl-miami-7.htm\n",
      "Processing: crawl/fl-miami-8.htm\n",
      "Processing: crawl/fl-miami-9.htm\n",
      "Processing: crawl/ga-atlanta-1.htm\n",
      "Processing: crawl/ga-atlanta-10.htm\n",
      "Processing: crawl/ga-atlanta-11.htm\n",
      "Processing: crawl/ga-atlanta-12.htm\n",
      "Processing: crawl/ga-atlanta-2.htm\n",
      "Processing: crawl/ga-atlanta-3.htm\n",
      "Processing: crawl/ga-atlanta-4.htm\n",
      "Processing: crawl/ga-atlanta-5.htm\n",
      "Processing: crawl/ga-atlanta-6.htm\n",
      "Processing: crawl/ga-atlanta-7.htm\n",
      "Processing: crawl/ga-atlanta-8.htm\n",
      "Processing: crawl/ga-atlanta-9.htm\n",
      "Processing: crawl/ma-boston-1.htm\n",
      "Processing: crawl/ma-boston-10.htm\n",
      "Processing: crawl/ma-boston-11.htm\n",
      "Processing: crawl/ma-boston-12.htm\n",
      "Processing: crawl/ma-boston-13.htm\n",
      "Processing: crawl/ma-boston-2.htm\n",
      "Processing: crawl/ma-boston-3.htm\n",
      "Processing: crawl/ma-boston-4.htm\n",
      "Processing: crawl/ma-boston-5.htm\n",
      "Processing: crawl/ma-boston-6.htm\n",
      "Processing: crawl/ma-boston-7.htm\n",
      "Processing: crawl/ma-boston-8.htm\n",
      "Processing: crawl/ma-boston-9.htm\n",
      "Processing: crawl/mn-minneapolis-1.htm\n",
      "Processing: crawl/mn-minneapolis-2.htm\n",
      "Processing: crawl/mn-minneapolis-3.htm\n",
      "Processing: crawl/mn-minneapolis-4.htm\n",
      "Processing: crawl/mn-minneapolis-5.htm\n",
      "Processing: crawl/mn-minneapolis-6.htm\n",
      "Processing: crawl/mn-minneapolis-7.htm\n",
      "Processing: crawl/nc-charlotte-1.htm\n",
      "Processing: crawl/nc-charlotte-2.htm\n",
      "Processing: crawl/nc-charlotte-3.htm\n",
      "Processing: crawl/nc-charlotte-4.htm\n",
      "Processing: crawl/nc-charlotte-5.htm\n",
      "Processing: crawl/nc-charlotte-6.htm\n",
      "Processing: crawl/nc-charlotte-7.htm\n",
      "Processing: crawl/ny-new-york-1.htm\n",
      "Processing: crawl/ny-new-york-10.htm\n",
      "Processing: crawl/ny-new-york-11.htm\n",
      "Processing: crawl/ny-new-york-12.htm\n",
      "Processing: crawl/ny-new-york-13.htm\n",
      "Processing: crawl/ny-new-york-14.htm\n",
      "Processing: crawl/ny-new-york-15.htm\n",
      "Processing: crawl/ny-new-york-16.htm\n",
      "Processing: crawl/ny-new-york-17.htm\n",
      "Processing: crawl/ny-new-york-18.htm\n",
      "Processing: crawl/ny-new-york-19.htm\n",
      "Processing: crawl/ny-new-york-2.htm\n",
      "Processing: crawl/ny-new-york-20.htm\n",
      "Processing: crawl/ny-new-york-21.htm\n",
      "Processing: crawl/ny-new-york-22.htm\n",
      "Processing: crawl/ny-new-york-23.htm\n",
      "Processing: crawl/ny-new-york-24.htm\n",
      "Processing: crawl/ny-new-york-25.htm\n",
      "Processing: crawl/ny-new-york-26.htm\n",
      "Processing: crawl/ny-new-york-27.htm\n",
      "Processing: crawl/ny-new-york-28.htm\n",
      "Processing: crawl/ny-new-york-29.htm\n",
      "Processing: crawl/ny-new-york-3.htm\n",
      "Processing: crawl/ny-new-york-30.htm\n",
      "Processing: crawl/ny-new-york-31.htm\n",
      "Processing: crawl/ny-new-york-32.htm\n",
      "Processing: crawl/ny-new-york-33.htm\n",
      "Processing: crawl/ny-new-york-34.htm\n",
      "Processing: crawl/ny-new-york-35.htm\n",
      "Processing: crawl/ny-new-york-36.htm\n",
      "Processing: crawl/ny-new-york-37.htm\n",
      "Processing: crawl/ny-new-york-38.htm\n",
      "Processing: crawl/ny-new-york-39.htm\n",
      "Processing: crawl/ny-new-york-4.htm\n",
      "Processing: crawl/ny-new-york-40.htm\n",
      "Processing: crawl/ny-new-york-41.htm\n",
      "Processing: crawl/ny-new-york-42.htm\n",
      "Processing: crawl/ny-new-york-43.htm\n",
      "Processing: crawl/ny-new-york-44.htm\n",
      "Processing: crawl/ny-new-york-45.htm\n",
      "Processing: crawl/ny-new-york-46.htm\n",
      "Processing: crawl/ny-new-york-47.htm\n",
      "Processing: crawl/ny-new-york-48.htm\n",
      "Processing: crawl/ny-new-york-49.htm\n",
      "Processing: crawl/ny-new-york-5.htm\n",
      "Processing: crawl/ny-new-york-50.htm\n",
      "Processing: crawl/ny-new-york-51.htm\n",
      "Processing: crawl/ny-new-york-52.htm\n",
      "Processing: crawl/ny-new-york-53.htm\n",
      "Processing: crawl/ny-new-york-54.htm\n",
      "Processing: crawl/ny-new-york-55.htm\n",
      "Processing: crawl/ny-new-york-56.htm\n",
      "Processing: crawl/ny-new-york-57.htm\n",
      "Processing: crawl/ny-new-york-58.htm\n",
      "Processing: crawl/ny-new-york-59.htm\n",
      "Processing: crawl/ny-new-york-6.htm\n",
      "Processing: crawl/ny-new-york-60.htm\n",
      "Processing: crawl/ny-new-york-61.htm\n",
      "Processing: crawl/ny-new-york-62.htm\n",
      "Processing: crawl/ny-new-york-63.htm\n",
      "Processing: crawl/ny-new-york-7.htm\n",
      "Processing: crawl/ny-new-york-8.htm\n",
      "Processing: crawl/ny-new-york-9.htm\n",
      "Processing: crawl/or-portland-1.htm\n",
      "Processing: crawl/or-portland-10.htm\n",
      "Processing: crawl/or-portland-2.htm\n",
      "Processing: crawl/or-portland-3.htm\n",
      "Processing: crawl/or-portland-4.htm\n",
      "Processing: crawl/or-portland-5.htm\n",
      "Processing: crawl/or-portland-6.htm\n",
      "Processing: crawl/or-portland-7.htm\n",
      "Processing: crawl/or-portland-8.htm\n",
      "Processing: crawl/or-portland-9.htm\n",
      "Processing: crawl/pa-philadelphia-1.htm\n",
      "Processing: crawl/pa-philadelphia-10.htm\n",
      "Processing: crawl/pa-philadelphia-11.htm\n",
      "Processing: crawl/pa-philadelphia-12.htm\n",
      "Processing: crawl/pa-philadelphia-2.htm\n",
      "Processing: crawl/pa-philadelphia-3.htm\n",
      "Processing: crawl/pa-philadelphia-4.htm\n",
      "Processing: crawl/pa-philadelphia-5.htm\n",
      "Processing: crawl/pa-philadelphia-6.htm\n",
      "Processing: crawl/pa-philadelphia-7.htm\n",
      "Processing: crawl/pa-philadelphia-8.htm\n",
      "Processing: crawl/pa-philadelphia-9.htm\n",
      "Processing: crawl/tx-austin-1.htm\n",
      "Processing: crawl/tx-austin-2.htm\n",
      "Processing: crawl/tx-austin-3.htm\n",
      "Processing: crawl/tx-austin-4.htm\n",
      "Processing: crawl/tx-austin-5.htm\n",
      "Processing: crawl/tx-austin-6.htm\n",
      "Processing: crawl/tx-austin-7.htm\n",
      "Processing: crawl/tx-austin-8.htm\n",
      "Processing: crawl/tx-austin-9.htm\n",
      "Processing: crawl/tx-dallas-1.htm\n",
      "Processing: crawl/tx-dallas-10.htm\n",
      "Processing: crawl/tx-dallas-11.htm\n",
      "Processing: crawl/tx-dallas-12.htm\n",
      "Processing: crawl/tx-dallas-2.htm\n",
      "Processing: crawl/tx-dallas-3.htm\n",
      "Processing: crawl/tx-dallas-4.htm\n",
      "Processing: crawl/tx-dallas-5.htm\n",
      "Processing: crawl/tx-dallas-6.htm\n",
      "Processing: crawl/tx-dallas-7.htm\n",
      "Processing: crawl/tx-dallas-8.htm\n",
      "Processing: crawl/tx-dallas-9.htm\n",
      "Processing: crawl/tx-houston-1.htm\n",
      "Processing: crawl/tx-houston-10.htm\n",
      "Processing: crawl/tx-houston-11.htm\n",
      "Processing: crawl/tx-houston-2.htm\n",
      "Processing: crawl/tx-houston-3.htm\n",
      "Processing: crawl/tx-houston-4.htm\n",
      "Processing: crawl/tx-houston-5.htm\n",
      "Processing: crawl/tx-houston-6.htm\n",
      "Processing: crawl/tx-houston-7.htm\n",
      "Processing: crawl/tx-houston-8.htm\n",
      "Processing: crawl/tx-houston-9.htm\n",
      "Processing: crawl/wa-seattle-1.htm\n",
      "Processing: crawl/wa-seattle-10.htm\n",
      "Processing: crawl/wa-seattle-2.htm\n",
      "Processing: crawl/wa-seattle-3.htm\n",
      "Processing: crawl/wa-seattle-4.htm\n",
      "Processing: crawl/wa-seattle-5.htm\n",
      "Processing: crawl/wa-seattle-6.htm\n",
      "Processing: crawl/wa-seattle-7.htm\n",
      "Processing: crawl/wa-seattle-8.htm\n",
      "Processing: crawl/wa-seattle-9.htm\n"
     ]
    }
   ],
   "source": [
    "# Data extraction phase\n",
    "\n",
    "times = []\n",
    "fees = []\n",
    "reviews = []\n",
    "repeats = []\n",
    "city = []\n",
    "service = []\n",
    "rating = []\n",
    "name = []\n",
    "\n",
    "\n",
    "for src in os.listdir(datadir):\n",
    "    filename = datadir + src\n",
    "    print 'Processing: ' + filename\n",
    "    f = open(filename, 'r')\n",
    "    data = f.read()\n",
    "    f.close()\n",
    "    soup = BeautifulSoup(data)\n",
    "    sitters = soup.findAll('div', {'class': 'card-content'})\n",
    "    for sitter in sitters:\n",
    "        rtwrap = sitter.findAll('div', {'class': 'icon-wrapper'})\n",
    "        if len(rtwrap) > 0:\n",
    "            response_time = rtwrap[0].text.strip('\\n')[19:]\n",
    "        else:\n",
    "            response_time = -1\n",
    "        fee = sitter.findAll('div', {'class': 'price price--primary u-text-center'})\n",
    "        review = sitter.find('span', {'class': 'vcard-review'})\n",
    "        if review is not None and len(review) > 0:\n",
    "            review = int(review.text.replace('Reviews', '').replace('Review', '').strip())\n",
    "        else:\n",
    "            review = 0\n",
    "        repeat = sitter.findAll('div', {'class': 'icon-wrapper'})\n",
    "        if len(repeat) == 2 and len(repeat[1].text.strip()) > 12:\n",
    "            repeat = repeat[1].text.strip()[:2]\n",
    "        else:\n",
    "            repeat = 0\n",
    "        services = sitter.findAll('div', {'class': 'vcard-line-item'})\n",
    "        full_star = sitter.findAll('i', {'class': 'ck-star'})\n",
    "        ratings = len(full_star)\n",
    "        half_star = sitter.findAll('i', {'class': 'ck-star-half'})\n",
    "        if len(half_star) > 0:\n",
    "            ratings += .5\n",
    "        names = sitter.find('h2', {'class': 'vcard-title'}).text.strip('\\n$')#.split(' ')\n",
    "        fees.append(fee[0].text.strip('\\n$')[:2])\n",
    "        title = soup.find('title').text\n",
    "        i = title.find(' Dog Boarding')\n",
    "        title = title[0:i]\n",
    "        city.append(title)\n",
    "        times.append(response_time)\n",
    "        reviews.append(review)\n",
    "        repeats.append(repeat)\n",
    "        service.append(services[-1].text.strip('\\n'))\n",
    "        rating.append(ratings)\n",
    "        name.append(names)\n",
    "\n",
    "df = pd.DataFrame({'city': city, 'fee': fees, 'response_time': times, 'review' : reviews, 'repeat' : repeats, 'services' : service, 'ratings': rating, 'names': name})"
   ]
  },
  {
   "cell_type": "code",
   "execution_count": 11,
   "metadata": {
    "_datascience": {},
    "collapsed": false
   },
   "outputs": [
    {
     "data": {
      "text/html": [
       "<div style=\"max-height:1000px;max-width:1500px;overflow:auto;\">\n",
       "<table border=\"1\" class=\"dataframe\">\n",
       "  <thead>\n",
       "    <tr style=\"text-align: right;\">\n",
       "      <th></th>\n",
       "      <th>city</th>\n",
       "      <th>fee</th>\n",
       "      <th>names</th>\n",
       "      <th>ratings</th>\n",
       "      <th>repeat</th>\n",
       "      <th>response_time</th>\n",
       "      <th>review</th>\n",
       "      <th>services</th>\n",
       "    </tr>\n",
       "  </thead>\n",
       "  <tbody>\n",
       "    <tr>\n",
       "      <th>0</th>\n",
       "      <td> Phoenix, Arizona</td>\n",
       "      <td> 35</td>\n",
       "      <td> Big Backyard in Central Phoenix</td>\n",
       "      <td> 5</td>\n",
       "      <td> 8 </td>\n",
       "      <td> Few Hours                        </td>\n",
       "      <td> 26</td>\n",
       "      <td>                              Boarding and Daycare</td>\n",
       "    </tr>\n",
       "    <tr>\n",
       "      <th>1</th>\n",
       "      <td> Phoenix, Arizona</td>\n",
       "      <td> 35</td>\n",
       "      <td>            SUZY Q to the Rescue</td>\n",
       "      <td> 5</td>\n",
       "      <td> 16</td>\n",
       "      <td>       Day                        </td>\n",
       "      <td> 30</td>\n",
       "      <td> Boarding, Checkups and Visits, and Pick up and...</td>\n",
       "    </tr>\n",
       "    <tr>\n",
       "      <th>2</th>\n",
       "      <td> Phoenix, Arizona</td>\n",
       "      <td> 35</td>\n",
       "      <td>               24/7 Dog boarding</td>\n",
       "      <td> 0</td>\n",
       "      <td>  0</td>\n",
       "      <td> Few Hours                        </td>\n",
       "      <td>  0</td>\n",
       "      <td> Boarding, Daycare, Checkups and Visits, Walkin...</td>\n",
       "    </tr>\n",
       "    <tr>\n",
       "      <th>3</th>\n",
       "      <td> Phoenix, Arizona</td>\n",
       "      <td> 38</td>\n",
       "      <td>            Messy4dogs@gmail.com</td>\n",
       "      <td> 5</td>\n",
       "      <td> 2 </td>\n",
       "      <td>  Few Days                        </td>\n",
       "      <td>  3</td>\n",
       "      <td> Boarding, Daycare, Checkups and Visits, Walkin...</td>\n",
       "    </tr>\n",
       "    <tr>\n",
       "      <th>4</th>\n",
       "      <td> Phoenix, Arizona</td>\n",
       "      <td> 25</td>\n",
       "      <td>                    Pet Paradise</td>\n",
       "      <td> 5</td>\n",
       "      <td> 1 </td>\n",
       "      <td> Few Hours                        </td>\n",
       "      <td>  5</td>\n",
       "      <td> Boarding, Checkups and Visits, Walking, and Ba...</td>\n",
       "    </tr>\n",
       "  </tbody>\n",
       "</table>\n",
       "</div>"
      ],
      "text/plain": [
       "               city fee                            names  ratings repeat  \\\n",
       "0  Phoenix, Arizona  35  Big Backyard in Central Phoenix        5     8    \n",
       "1  Phoenix, Arizona  35             SUZY Q to the Rescue        5     16   \n",
       "2  Phoenix, Arizona  35                24/7 Dog boarding        0      0   \n",
       "3  Phoenix, Arizona  38             Messy4dogs@gmail.com        5     2    \n",
       "4  Phoenix, Arizona  25                     Pet Paradise        5     1    \n",
       "\n",
       "                       response_time  review  \\\n",
       "0  Few Hours                              26   \n",
       "1        Day                              30   \n",
       "2  Few Hours                               0   \n",
       "3   Few Days                               3   \n",
       "4  Few Hours                               5   \n",
       "\n",
       "                                            services  \n",
       "0                               Boarding and Daycare  \n",
       "1  Boarding, Checkups and Visits, and Pick up and...  \n",
       "2  Boarding, Daycare, Checkups and Visits, Walkin...  \n",
       "3  Boarding, Daycare, Checkups and Visits, Walkin...  \n",
       "4  Boarding, Checkups and Visits, Walking, and Ba...  "
      ]
     },
     "execution_count": 11,
     "metadata": {},
     "output_type": "execute_result"
    }
   ],
   "source": [
    "df.head()"
   ]
  },
  {
   "cell_type": "code",
   "execution_count": 7,
   "metadata": {
    "collapsed": false
   },
   "outputs": [],
   "source": [
    "#eliminate trailing spaces from response_time\n",
    "df['response_time'] = df['response_time'].apply(lambda x: str(x).strip())"
   ]
  },
  {
   "cell_type": "code",
   "execution_count": 8,
   "metadata": {
    "collapsed": false
   },
   "outputs": [],
   "source": [
    "#separate services\n",
    "df['boarding'] = df['services'].map(lambda x: 1 if \"Boarding\" in x else 0)\n",
    "df['sitting'] = df['services'].map(lambda x: 1 if \"Sitting\" in x else 0)\n",
    "df['daycare'] = df['services'].map(lambda x: 1 if \"Daycare\" in x else 0)\n",
    "df['checkups'] = df['services'].map(lambda x: 1 if \"Checkups and Visits\" in x else 0)\n",
    "df['walking'] = df['services'].map(lambda x: 1 if \"Walking\" in x else 0)\n",
    "df['bathing'] = df['services'].map(lambda x: 1 if \"Bathing\" in x else 0)\n",
    "df['training'] = df['services'].map(lambda x: 1 if \"Training\" in x else 0)\n",
    "df['grooming'] = df['services'].map(lambda x: 1 if \"Grooming\" in x else 0)\n",
    "df['pickup/dropoff'] = df['services'].map(lambda x: 1 if \"Pick up and Drop off\" in x else 0)"
   ]
  },
  {
   "cell_type": "code",
   "execution_count": 9,
   "metadata": {
    "collapsed": false
   },
   "outputs": [],
   "source": [
    "#response time\n",
    "df['response_time'] = df['response_time'].map(lambda x: 1 if x == 'Few Hours' else 2 if x == 'Day' else 3)"
   ]
  },
  {
   "cell_type": "code",
   "execution_count": 10,
   "metadata": {
    "collapsed": true
   },
   "outputs": [],
   "source": [
    "df.ix[df['fee']=='', 'fee'] = 0"
   ]
  },
  {
   "cell_type": "code",
   "execution_count": 11,
   "metadata": {
    "collapsed": false
   },
   "outputs": [],
   "source": [
    "df[\"fee\"] = df[\"fee\"].astype(float)\n",
    "df[\"repeat\"] = df[\"repeat\"].astype(int)"
   ]
  },
  {
   "cell_type": "code",
   "execution_count": 12,
   "metadata": {
    "collapsed": true
   },
   "outputs": [],
   "source": [
    "df['services'] = df['boarding']+df['sitting']+df['daycare']+df['checkups']+df['walking']+df['bathing']+df['training']+df['grooming']+df['pickup/dropoff']"
   ]
  },
  {
   "cell_type": "code",
   "execution_count": 13,
   "metadata": {
    "collapsed": false,
    "scrolled": false
   },
   "outputs": [
    {
     "data": {
      "text/html": [
       "<div style=\"max-height:1000px;max-width:1500px;overflow:auto;\">\n",
       "<table border=\"1\" class=\"dataframe\">\n",
       "  <thead>\n",
       "    <tr style=\"text-align: right;\">\n",
       "      <th></th>\n",
       "      <th>city</th>\n",
       "      <th>fee</th>\n",
       "      <th>names</th>\n",
       "      <th>ratings</th>\n",
       "      <th>repeat</th>\n",
       "      <th>response_time</th>\n",
       "      <th>review</th>\n",
       "      <th>services</th>\n",
       "      <th>boarding</th>\n",
       "      <th>sitting</th>\n",
       "      <th>daycare</th>\n",
       "      <th>checkups</th>\n",
       "      <th>walking</th>\n",
       "      <th>bathing</th>\n",
       "      <th>training</th>\n",
       "      <th>grooming</th>\n",
       "      <th>pickup/dropoff</th>\n",
       "    </tr>\n",
       "  </thead>\n",
       "  <tbody>\n",
       "    <tr>\n",
       "      <th>0</th>\n",
       "      <td> Phoenix, Arizona</td>\n",
       "      <td> 35</td>\n",
       "      <td> Big Backyard in Central Phoenix</td>\n",
       "      <td> 5</td>\n",
       "      <td>  8</td>\n",
       "      <td> 1</td>\n",
       "      <td> 26</td>\n",
       "      <td> 2</td>\n",
       "      <td> 1</td>\n",
       "      <td> 0</td>\n",
       "      <td> 1</td>\n",
       "      <td> 0</td>\n",
       "      <td> 0</td>\n",
       "      <td> 0</td>\n",
       "      <td> 0</td>\n",
       "      <td> 0</td>\n",
       "      <td> 0</td>\n",
       "    </tr>\n",
       "    <tr>\n",
       "      <th>1</th>\n",
       "      <td> Phoenix, Arizona</td>\n",
       "      <td> 35</td>\n",
       "      <td>            SUZY Q to the Rescue</td>\n",
       "      <td> 5</td>\n",
       "      <td> 16</td>\n",
       "      <td> 2</td>\n",
       "      <td> 30</td>\n",
       "      <td> 3</td>\n",
       "      <td> 1</td>\n",
       "      <td> 0</td>\n",
       "      <td> 0</td>\n",
       "      <td> 1</td>\n",
       "      <td> 0</td>\n",
       "      <td> 0</td>\n",
       "      <td> 0</td>\n",
       "      <td> 0</td>\n",
       "      <td> 1</td>\n",
       "    </tr>\n",
       "    <tr>\n",
       "      <th>2</th>\n",
       "      <td> Phoenix, Arizona</td>\n",
       "      <td> 35</td>\n",
       "      <td>               24/7 Dog boarding</td>\n",
       "      <td> 0</td>\n",
       "      <td>  0</td>\n",
       "      <td> 1</td>\n",
       "      <td>  0</td>\n",
       "      <td> 4</td>\n",
       "      <td> 1</td>\n",
       "      <td> 0</td>\n",
       "      <td> 1</td>\n",
       "      <td> 1</td>\n",
       "      <td> 1</td>\n",
       "      <td> 0</td>\n",
       "      <td> 0</td>\n",
       "      <td> 0</td>\n",
       "      <td> 0</td>\n",
       "    </tr>\n",
       "    <tr>\n",
       "      <th>3</th>\n",
       "      <td> Phoenix, Arizona</td>\n",
       "      <td> 38</td>\n",
       "      <td>            Messy4dogs@gmail.com</td>\n",
       "      <td> 5</td>\n",
       "      <td>  2</td>\n",
       "      <td> 3</td>\n",
       "      <td>  3</td>\n",
       "      <td> 4</td>\n",
       "      <td> 1</td>\n",
       "      <td> 0</td>\n",
       "      <td> 1</td>\n",
       "      <td> 1</td>\n",
       "      <td> 1</td>\n",
       "      <td> 0</td>\n",
       "      <td> 0</td>\n",
       "      <td> 0</td>\n",
       "      <td> 0</td>\n",
       "    </tr>\n",
       "    <tr>\n",
       "      <th>4</th>\n",
       "      <td> Phoenix, Arizona</td>\n",
       "      <td> 25</td>\n",
       "      <td>                    Pet Paradise</td>\n",
       "      <td> 5</td>\n",
       "      <td>  1</td>\n",
       "      <td> 1</td>\n",
       "      <td>  5</td>\n",
       "      <td> 4</td>\n",
       "      <td> 1</td>\n",
       "      <td> 0</td>\n",
       "      <td> 0</td>\n",
       "      <td> 1</td>\n",
       "      <td> 1</td>\n",
       "      <td> 1</td>\n",
       "      <td> 0</td>\n",
       "      <td> 0</td>\n",
       "      <td> 0</td>\n",
       "    </tr>\n",
       "  </tbody>\n",
       "</table>\n",
       "</div>"
      ],
      "text/plain": [
       "               city  fee                            names  ratings  repeat  \\\n",
       "0  Phoenix, Arizona   35  Big Backyard in Central Phoenix        5       8   \n",
       "1  Phoenix, Arizona   35             SUZY Q to the Rescue        5      16   \n",
       "2  Phoenix, Arizona   35                24/7 Dog boarding        0       0   \n",
       "3  Phoenix, Arizona   38             Messy4dogs@gmail.com        5       2   \n",
       "4  Phoenix, Arizona   25                     Pet Paradise        5       1   \n",
       "\n",
       "   response_time  review  services  boarding  sitting  daycare  checkups  \\\n",
       "0              1      26         2         1        0        1         0   \n",
       "1              2      30         3         1        0        0         1   \n",
       "2              1       0         4         1        0        1         1   \n",
       "3              3       3         4         1        0        1         1   \n",
       "4              1       5         4         1        0        0         1   \n",
       "\n",
       "   walking  bathing  training  grooming  pickup/dropoff  \n",
       "0        0        0         0         0               0  \n",
       "1        0        0         0         0               1  \n",
       "2        1        0         0         0               0  \n",
       "3        1        0         0         0               0  \n",
       "4        1        1         0         0               0  "
      ]
     },
     "execution_count": 13,
     "metadata": {},
     "output_type": "execute_result"
    }
   ],
   "source": [
    "df.head()"
   ]
  },
  {
   "cell_type": "code",
   "execution_count": 14,
   "metadata": {
    "_datascience": {},
    "collapsed": false
   },
   "outputs": [],
   "source": [
    "# SAVE TO CSV FILE\n",
    "df.to_csv('dog-vacay.csv', encoding='ascii')"
   ]
  },
  {
   "cell_type": "code",
   "execution_count": 15,
   "metadata": {
    "collapsed": false,
    "scrolled": true
   },
   "outputs": [
    {
     "data": {
      "image/png": "[encoded data removed]",
      "text/plain": [
       "<matplotlib.figure.Figure at 0x10a3c9710>"
      ]
     },
     "metadata": {},
     "output_type": "display_data"
    }
   ],
   "source": [
    "#Create a scatter plot matrix\n",
    "a = pd.scatter_matrix(df, alpha=.05, figsize=(10,10))\n",
    "plt.show()"
   ]
  },
  {
   "cell_type": "code",
   "execution_count": 16,
   "metadata": {
    "collapsed": false
   },
   "outputs": [
    {
     "data": {
      "image/png": "[encoded data removed]",
      "text/plain": [
       "<matplotlib.figure.Figure at 0x1037e7e50>"
      ]
     },
     "metadata": {},
     "output_type": "display_data"
    }
   ],
   "source": [
    "#Histogram of fees\n",
    "p = df['fee'].hist()\n",
    "plt.show()"
   ]
  },
  {
   "cell_type": "code",
   "execution_count": 77,
   "metadata": {
    "collapsed": false
   },
   "outputs": [],
   "source": [
    "#Extract columns\n",
    "fee = df['fee']\n",
    "repeat = df['repeat']\n",
    "ratings = df['ratings']"
   ]
  },
  {
   "cell_type": "code",
   "execution_count": 78,
   "metadata": {
    "collapsed": true
   },
   "outputs": [],
   "source": [
    "#The dependent variable\n",
    "y = np.matrix(fee).transpose()\n",
    "#The independent variable\n",
    "x1 = np.matrix(repeat).transpose()\n",
    "x2 = np.matrix(rating).transpose()"
   ]
  },
  {
   "cell_type": "code",
   "execution_count": 79,
   "metadata": {
    "collapsed": false
   },
   "outputs": [],
   "source": [
    "x = np.column_stack([x1, x2])"
   ]
  },
  {
   "cell_type": "code",
   "execution_count": 80,
   "metadata": {
    "collapsed": false
   },
   "outputs": [
    {
     "data": {
      "text/html": [
       "<table class=\"simpletable\">\n",
       "<caption>OLS Regression Results</caption>\n",
       "<tr>\n",
       "  <th>Dep. Variable:</th>            <td>y</td>        <th>  R-squared:         </th> <td>   0.020</td> \n",
       "</tr>\n",
       "<tr>\n",
       "  <th>Model:</th>                   <td>OLS</td>       <th>  Adj. R-squared:    </th> <td>   0.019</td> \n",
       "</tr>\n",
       "<tr>\n",
       "  <th>Method:</th>             <td>Least Squares</td>  <th>  F-statistic:       </th> <td>   46.77</td> \n",
       "</tr>\n",
       "<tr>\n",
       "  <th>Date:</th>             <td>Sun, 13 Sep 2015</td> <th>  Prob (F-statistic):</th> <td>7.72e-21</td> \n",
       "</tr>\n",
       "<tr>\n",
       "  <th>Time:</th>                 <td>21:05:33</td>     <th>  Log-Likelihood:    </th> <td> -17825.</td> \n",
       "</tr>\n",
       "<tr>\n",
       "  <th>No. Observations:</th>      <td>  4662</td>      <th>  AIC:               </th> <td>3.566e+04</td>\n",
       "</tr>\n",
       "<tr>\n",
       "  <th>Df Residuals:</th>          <td>  4659</td>      <th>  BIC:               </th> <td>3.568e+04</td>\n",
       "</tr>\n",
       "<tr>\n",
       "  <th>Df Model:</th>              <td>     2</td>      <th>                     </th>     <td> </td>    \n",
       "</tr>\n",
       "<tr>\n",
       "  <th>Covariance Type:</th>      <td>nonrobust</td>    <th>                     </th>     <td> </td>    \n",
       "</tr>\n",
       "</table>\n",
       "<table class=\"simpletable\">\n",
       "<tr>\n",
       "    <td></td>       <th>coef</th>     <th>std err</th>      <th>t</th>      <th>P>|t|</th> <th>[95.0% Conf. Int.]</th> \n",
       "</tr>\n",
       "<tr>\n",
       "  <th>const</th> <td>   40.7037</td> <td>    0.290</td> <td>  140.482</td> <td> 0.000</td> <td>   40.136    41.272</td>\n",
       "</tr>\n",
       "<tr>\n",
       "  <th>x1</th>    <td>   -0.0858</td> <td>    0.018</td> <td>   -4.744</td> <td> 0.000</td> <td>   -0.121    -0.050</td>\n",
       "</tr>\n",
       "<tr>\n",
       "  <th>x2</th>    <td>   -0.4718</td> <td>    0.075</td> <td>   -6.314</td> <td> 0.000</td> <td>   -0.618    -0.325</td>\n",
       "</tr>\n",
       "</table>\n",
       "<table class=\"simpletable\">\n",
       "<tr>\n",
       "  <th>Omnibus:</th>       <td>510.384</td> <th>  Durbin-Watson:     </th> <td>   1.564</td> \n",
       "</tr>\n",
       "<tr>\n",
       "  <th>Prob(Omnibus):</th> <td> 0.000</td>  <th>  Jarque-Bera (JB):  </th> <td> 843.641</td> \n",
       "</tr>\n",
       "<tr>\n",
       "  <th>Skew:</th>          <td> 0.768</td>  <th>  Prob(JB):          </th> <td>6.39e-184</td>\n",
       "</tr>\n",
       "<tr>\n",
       "  <th>Kurtosis:</th>      <td> 4.408</td>  <th>  Cond. No.          </th> <td>    20.0</td> \n",
       "</tr>\n",
       "</table>"
      ],
      "text/plain": [
       "<class 'statsmodels.iolib.summary.Summary'>\n",
       "\"\"\"\n",
       "                            OLS Regression Results                            \n",
       "==============================================================================\n",
       "Dep. Variable:                      y   R-squared:                       0.020\n",
       "Model:                            OLS   Adj. R-squared:                  0.019\n",
       "Method:                 Least Squares   F-statistic:                     46.77\n",
       "Date:                Sun, 13 Sep 2015   Prob (F-statistic):           7.72e-21\n",
       "Time:                        21:05:33   Log-Likelihood:                -17825.\n",
       "No. Observations:                4662   AIC:                         3.566e+04\n",
       "Df Residuals:                    4659   BIC:                         3.568e+04\n",
       "Df Model:                           2                                         \n",
       "Covariance Type:            nonrobust                                         \n",
       "==============================================================================\n",
       "                 coef    std err          t      P>|t|      [95.0% Conf. Int.]\n",
       "------------------------------------------------------------------------------\n",
       "const         40.7037      0.290    140.482      0.000        40.136    41.272\n",
       "x1            -0.0858      0.018     -4.744      0.000        -0.121    -0.050\n",
       "x2            -0.4718      0.075     -6.314      0.000        -0.618    -0.325\n",
       "==============================================================================\n",
       "Omnibus:                      510.384   Durbin-Watson:                   1.564\n",
       "Prob(Omnibus):                  0.000   Jarque-Bera (JB):              843.641\n",
       "Skew:                           0.768   Prob(JB):                    6.39e-184\n",
       "Kurtosis:                       4.408   Cond. No.                         20.0\n",
       "==============================================================================\n",
       "\n",
       "Warnings:\n",
       "[1] Standard Errors assume that the covariance matrix of the errors is correctly specified.\n",
       "\"\"\""
      ]
     },
     "execution_count": 80,
     "metadata": {},
     "output_type": "execute_result"
    }
   ],
   "source": [
    "X = sm.add_constant(x)\n",
    "model = sm.OLS(y,X)\n",
    "f = model.fit()\n",
    "f.summary()"
   ]
  },
  {
   "cell_type": "code",
   "execution_count": 125,
   "metadata": {
    "collapsed": false
   },
   "outputs": [],
   "source": [
    "#df.groupby('repeat').mean()"
   ]
  },
  {
   "cell_type": "code",
   "execution_count": 124,
   "metadata": {
    "collapsed": false
   },
   "outputs": [],
   "source": [
    "#df.groupby('repeat').median()"
   ]
  },
  {
   "cell_type": "code",
   "execution_count": 123,
   "metadata": {
    "collapsed": false
   },
   "outputs": [],
   "source": [
    "#df.groupby('services').median()"
   ]
  },
  {
   "cell_type": "code",
   "execution_count": 122,
   "metadata": {
    "collapsed": false
   },
   "outputs": [],
   "source": [
    "#df.groupby('services').mean()"
   ]
  },
  {
   "cell_type": "code",
   "execution_count": 117,
   "metadata": {
    "collapsed": false
   },
   "outputs": [],
   "source": [
    "#df.groupby('review').median()"
   ]
  },
  {
   "cell_type": "code",
   "execution_count": 118,
   "metadata": {
    "collapsed": false
   },
   "outputs": [],
   "source": [
    "#atx.groupby('review').median()"
   ]
  },
  {
   "cell_type": "code",
   "execution_count": 119,
   "metadata": {
    "collapsed": false
   },
   "outputs": [],
   "source": [
    "#sea.groupby('review').median()"
   ]
  },
  {
   "cell_type": "code",
   "execution_count": 183,
   "metadata": {
    "collapsed": false
   },
   "outputs": [],
   "source": [
    "#df.groupby('city').mean()"
   ]
  },
  {
   "cell_type": "code",
   "execution_count": 184,
   "metadata": {
    "collapsed": false
   },
   "outputs": [],
   "source": [
    "#df.groupby('city').median()"
   ]
  },
  {
   "cell_type": "code",
   "execution_count": null,
   "metadata": {
    "collapsed": true
   },
   "outputs": [],
   "source": []
  }
 ],
 "metadata": {
  "_datascience": {},
  "kernelspec": {
   "display_name": "Python 2",
   "language": "python",
   "name": "python2"
  },
  "language_info": {
   "codemirror_mode": {
    "name": "ipython",
    "version": 2
   },
   "file_extension": ".py",
   "mimetype": "text/x-python",
   "name": "python",
   "nbconvert_exporter": "python",
   "pygments_lexer": "ipython2",
   "version": "2.7.11"
  }
 },
 "nbformat": 4,
 "nbformat_minor": 0
}
