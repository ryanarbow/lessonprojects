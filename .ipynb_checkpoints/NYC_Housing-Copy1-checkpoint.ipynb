{
 "cells": [
  {
   "cell_type": "code",
   "execution_count": 18,
   "metadata": {
    "collapsed": true
   },
   "outputs": [],
   "source": [
    "import pandas as pd\n",
    "import numpy as np\n",
    "import matplotlib.pyplot as plt\n",
    "import statsmodels.api as sm\n",
    "import math\n",
    "from sklearn.cross_validation import train_test_split #Split arrays or matrices into random train and test subsets\n",
    "from sklearn.neighbors import KNeighborsClassifier"
   ]
  },
  {
   "cell_type": "code",
   "execution_count": 30,
   "metadata": {
    "collapsed": false
   },
   "outputs": [],
   "source": [
    "df = pd.read_excel('rollingsales_manhattan.xls', skiprows=4)"
   ]
  },
  {
   "cell_type": "code",
   "execution_count": 43,
   "metadata": {
    "collapsed": false
   },
   "outputs": [
    {
     "data": {
      "text/html": [
       "<div style=\"max-height:1000px;max-width:1500px;overflow:auto;\">\n",
       "<table border=\"1\" class=\"dataframe\">\n",
       "  <thead>\n",
       "    <tr style=\"text-align: right;\">\n",
       "      <th></th>\n",
       "      <th>BOROUGH</th>\n",
       "      <th>NEIGHBORHOOD</th>\n",
       "      <th>BUILDING CLASS CATEGORY</th>\n",
       "      <th>TAX CLASS AT PRESENT</th>\n",
       "      <th>BLOCK</th>\n",
       "      <th>LOT</th>\n",
       "      <th>EASE-MENT</th>\n",
       "      <th>BUILDING CLASS AT PRESENT</th>\n",
       "      <th>ADDRESS</th>\n",
       "      <th>APARTMENT NUMBER</th>\n",
       "      <th>...</th>\n",
       "      <th>RESIDENTIAL UNITS</th>\n",
       "      <th>COMMERCIAL UNITS</th>\n",
       "      <th>TOTAL UNITS</th>\n",
       "      <th>LAND SQUARE FEET</th>\n",
       "      <th>GROSS SQUARE FEET</th>\n",
       "      <th>YEAR BUILT</th>\n",
       "      <th>TAX CLASS AT TIME OF SALE</th>\n",
       "      <th>BUILDING CLASS AT TIME OF SALE</th>\n",
       "      <th>SALE PRICE</th>\n",
       "      <th>SALE DATE</th>\n",
       "    </tr>\n",
       "  </thead>\n",
       "  <tbody>\n",
       "    <tr>\n",
       "      <th>0</th>\n",
       "      <td> 1</td>\n",
       "      <td> ALPHABET CITY            </td>\n",
       "      <td> 01  ONE FAMILY DWELLINGS                    </td>\n",
       "      <td>  1</td>\n",
       "      <td> 400</td>\n",
       "      <td> 19</td>\n",
       "      <td>  </td>\n",
       "      <td> A4</td>\n",
       "      <td> 526 EAST 5TH STREET                      </td>\n",
       "      <td>             </td>\n",
       "      <td>...</td>\n",
       "      <td> 1</td>\n",
       "      <td> 0</td>\n",
       "      <td>  1</td>\n",
       "      <td> 1883</td>\n",
       "      <td> 5200</td>\n",
       "      <td> 1900</td>\n",
       "      <td> 1</td>\n",
       "      <td> A4</td>\n",
       "      <td> 6500000</td>\n",
       "      <td>2015-03-18</td>\n",
       "    </tr>\n",
       "    <tr>\n",
       "      <th>1</th>\n",
       "      <td> 1</td>\n",
       "      <td> ALPHABET CITY            </td>\n",
       "      <td> 01  ONE FAMILY DWELLINGS                    </td>\n",
       "      <td>  1</td>\n",
       "      <td> 402</td>\n",
       "      <td> 42</td>\n",
       "      <td>  </td>\n",
       "      <td> S1</td>\n",
       "      <td> 96 AVENUE B                              </td>\n",
       "      <td>             </td>\n",
       "      <td>...</td>\n",
       "      <td> 1</td>\n",
       "      <td> 1</td>\n",
       "      <td>  2</td>\n",
       "      <td> 1400</td>\n",
       "      <td> 1839</td>\n",
       "      <td> 1901</td>\n",
       "      <td> 1</td>\n",
       "      <td> S1</td>\n",
       "      <td>       0</td>\n",
       "      <td>2014-12-05</td>\n",
       "    </tr>\n",
       "    <tr>\n",
       "      <th>2</th>\n",
       "      <td> 1</td>\n",
       "      <td> ALPHABET CITY            </td>\n",
       "      <td> 03  THREE FAMILY DWELLINGS                  </td>\n",
       "      <td>  1</td>\n",
       "      <td> 377</td>\n",
       "      <td> 66</td>\n",
       "      <td>  </td>\n",
       "      <td> C0</td>\n",
       "      <td> 243 EAST 7TH   STREET                    </td>\n",
       "      <td>             </td>\n",
       "      <td>...</td>\n",
       "      <td> 3</td>\n",
       "      <td> 0</td>\n",
       "      <td>  3</td>\n",
       "      <td> 2381</td>\n",
       "      <td> 3084</td>\n",
       "      <td> 1899</td>\n",
       "      <td> 1</td>\n",
       "      <td> C0</td>\n",
       "      <td> 2900000</td>\n",
       "      <td>2014-11-26</td>\n",
       "    </tr>\n",
       "    <tr>\n",
       "      <th>3</th>\n",
       "      <td> 1</td>\n",
       "      <td> ALPHABET CITY            </td>\n",
       "      <td> 07  RENTALS - WALKUP APARTMENTS             </td>\n",
       "      <td> 2B</td>\n",
       "      <td> 372</td>\n",
       "      <td> 51</td>\n",
       "      <td>  </td>\n",
       "      <td> C7</td>\n",
       "      <td> 300 EAST 2ND   STREET                    </td>\n",
       "      <td>             </td>\n",
       "      <td>...</td>\n",
       "      <td> 8</td>\n",
       "      <td> 2</td>\n",
       "      <td> 10</td>\n",
       "      <td> 2650</td>\n",
       "      <td> 7620</td>\n",
       "      <td> 1920</td>\n",
       "      <td> 2</td>\n",
       "      <td> C7</td>\n",
       "      <td>       0</td>\n",
       "      <td>2014-07-18</td>\n",
       "    </tr>\n",
       "    <tr>\n",
       "      <th>4</th>\n",
       "      <td> 1</td>\n",
       "      <td> ALPHABET CITY            </td>\n",
       "      <td> 07  RENTALS - WALKUP APARTMENTS             </td>\n",
       "      <td> 2A</td>\n",
       "      <td> 373</td>\n",
       "      <td> 63</td>\n",
       "      <td>  </td>\n",
       "      <td> C3</td>\n",
       "      <td> 285 EAST 3RD   STREET                    </td>\n",
       "      <td>             </td>\n",
       "      <td>...</td>\n",
       "      <td> 4</td>\n",
       "      <td> 0</td>\n",
       "      <td>  4</td>\n",
       "      <td> 2084</td>\n",
       "      <td> 2917</td>\n",
       "      <td> 1900</td>\n",
       "      <td> 2</td>\n",
       "      <td> C3</td>\n",
       "      <td> 3100000</td>\n",
       "      <td>2014-08-05</td>\n",
       "    </tr>\n",
       "  </tbody>\n",
       "</table>\n",
       "<p>5 rows × 21 columns</p>\n",
       "</div>"
      ],
      "text/plain": [
       "   BOROUGH               NEIGHBORHOOD  \\\n",
       "0        1  ALPHABET CITY               \n",
       "1        1  ALPHABET CITY               \n",
       "2        1  ALPHABET CITY               \n",
       "3        1  ALPHABET CITY               \n",
       "4        1  ALPHABET CITY               \n",
       "\n",
       "                        BUILDING CLASS CATEGORY TAX CLASS AT PRESENT  BLOCK  \\\n",
       "0  01  ONE FAMILY DWELLINGS                                        1    400   \n",
       "1  01  ONE FAMILY DWELLINGS                                        1    402   \n",
       "2  03  THREE FAMILY DWELLINGS                                      1    377   \n",
       "3  07  RENTALS - WALKUP APARTMENTS                                2B    372   \n",
       "4  07  RENTALS - WALKUP APARTMENTS                                2A    373   \n",
       "\n",
       "   LOT EASE-MENT BUILDING CLASS AT PRESENT  \\\n",
       "0   19                                  A4   \n",
       "1   42                                  S1   \n",
       "2   66                                  C0   \n",
       "3   51                                  C7   \n",
       "4   63                                  C3   \n",
       "\n",
       "                                     ADDRESS APARTMENT NUMBER    ...      \\\n",
       "0  526 EAST 5TH STREET                                           ...       \n",
       "1  96 AVENUE B                                                   ...       \n",
       "2  243 EAST 7TH   STREET                                         ...       \n",
       "3  300 EAST 2ND   STREET                                         ...       \n",
       "4  285 EAST 3RD   STREET                                         ...       \n",
       "\n",
       "   RESIDENTIAL UNITS  COMMERCIAL UNITS  TOTAL UNITS  LAND SQUARE FEET  \\\n",
       "0                  1                 0            1              1883   \n",
       "1                  1                 1            2              1400   \n",
       "2                  3                 0            3              2381   \n",
       "3                  8                 2           10              2650   \n",
       "4                  4                 0            4              2084   \n",
       "\n",
       "   GROSS SQUARE FEET  YEAR BUILT  TAX CLASS AT TIME OF SALE  \\\n",
       "0               5200        1900                          1   \n",
       "1               1839        1901                          1   \n",
       "2               3084        1899                          1   \n",
       "3               7620        1920                          2   \n",
       "4               2917        1900                          2   \n",
       "\n",
       "   BUILDING CLASS AT TIME OF SALE SALE PRICE  SALE DATE  \n",
       "0                              A4    6500000 2015-03-18  \n",
       "1                              S1          0 2014-12-05  \n",
       "2                              C0    2900000 2014-11-26  \n",
       "3                              C7          0 2014-07-18  \n",
       "4                              C3    3100000 2014-08-05  \n",
       "\n",
       "[5 rows x 21 columns]"
      ]
     },
     "execution_count": 43,
     "metadata": {},
     "output_type": "execute_result"
    }
   ],
   "source": [
    "df[0:5]"
   ]
  },
  {
   "cell_type": "code",
   "execution_count": 44,
   "metadata": {
    "collapsed": true
   },
   "outputs": [],
   "source": [
    "dfTrain, dfTest = train_test_split(df, test_size=0.2, random_state=0)"
   ]
  },
  {
   "cell_type": "code",
   "execution_count": 47,
   "metadata": {
    "collapsed": false
   },
   "outputs": [],
   "source": [
    "dfTrain = pd.DataFrame(dfTrain, columns=df.columns)\n",
    "dfTest = pd.DataFrame(dfTest, columns=df.columns)"
   ]
  },
  {
   "cell_type": "code",
   "execution_count": 54,
   "metadata": {
    "collapsed": true
   },
   "outputs": [],
   "source": [
    "cols = ['TOTAL UNITS', 'GROSS SQUARE FEET']"
   ]
  },
  {
   "cell_type": "code",
   "execution_count": 57,
   "metadata": {
    "collapsed": true
   },
   "outputs": [],
   "source": [
    "model = KNeighborsClassifier(n_neighbors=3)"
   ]
  },
  {
   "cell_type": "code",
   "execution_count": 58,
   "metadata": {
    "collapsed": false
   },
   "outputs": [
    {
     "data": {
      "text/plain": [
       "KNeighborsClassifier(algorithm='auto', leaf_size=30, metric='minkowski',\n",
       "           metric_params=None, n_neighbors=3, p=2, weights='uniform')"
      ]
     },
     "execution_count": 58,
     "metadata": {},
     "output_type": "execute_result"
    }
   ],
   "source": [
    "model.fit(dfTrain[cols], dfTrain['NEIGHBORHOOD'])"
   ]
  },
  {
   "cell_type": "code",
   "execution_count": 60,
   "metadata": {
    "collapsed": false
   },
   "outputs": [
    {
     "name": "stdout",
     "output_type": "stream",
     "text": [
      "1:, 0.81\n",
      "2:, 0.92\n",
      "3:, 0.92\n",
      "4:, 0.92\n",
      "5:, 0.92\n",
      "6:, 0.92\n",
      "7:, 0.83\n",
      "8:, 0.94\n",
      "9:, 0.89\n",
      "10:, 0.89\n",
      "11:, 0.79\n",
      "12:, 0.79\n",
      "13:, 0.80\n",
      "14:, 0.80\n",
      "15:, 0.80\n",
      "16:, 0.80\n",
      "17:, 0.79\n",
      "18:, 0.79\n",
      "19:, 0.79\n"
     ]
    }
   ],
   "source": [
    "for k in range(1,20):\n",
    "    model = KNeighborsClassifier(n_neighbors=k)\n",
    "    model.fit(dfTrain[cols], dfTrain['NEIGHBORHOOD'])    # make predictions\n",
    "    expected = dfTest['NEIGHBORHOOD']\n",
    "    predicted = model.predict(dfTest[cols])\n",
    "    # misclassification rate\n",
    "    error_rate = (predicted != expected).mean()\n",
    "    print('%d:, %.2f' % (k, error_rate))"
   ]
  },
  {
   "cell_type": "code",
   "execution_count": 63,
   "metadata": {
    "collapsed": false
   },
   "outputs": [
    {
     "name": "stdout",
     "output_type": "stream",
     "text": [
      "[u'GREENWICH VILLAGE-WEST   ']\n"
     ]
    }
   ],
   "source": [
    "model = KNeighborsClassifier(n_neighbors=11)\n",
    "model.fit(dfTrain[cols], dfTrain['NEIGHBORHOOD'])\n",
    "predicted = model.predict([5,1000])\n",
    "print predicted"
   ]
  },
  {
   "cell_type": "code",
   "execution_count": null,
   "metadata": {
    "collapsed": true
   },
   "outputs": [],
   "source": []
  }
 ],
 "metadata": {
  "kernelspec": {
   "display_name": "Python 2",
   "language": "python",
   "name": "python2"
  },
  "language_info": {
   "codemirror_mode": {
    "name": "ipython",
    "version": 2
   },
   "file_extension": ".py",
   "mimetype": "text/x-python",
   "name": "python",
   "nbconvert_exporter": "python",
   "pygments_lexer": "ipython2",
   "version": "2.7.10"
  }
 },
 "nbformat": 4,
 "nbformat_minor": 0
}
