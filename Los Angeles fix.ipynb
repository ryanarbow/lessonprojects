{
 "cells": [
  {
   "cell_type": "code",
   "execution_count": 1,
   "metadata": {
    "collapsed": true
   },
   "outputs": [],
   "source": [
    "import requests\n",
    "from bs4 import BeautifulSoup\n",
    "import time\n",
    "import pandas as pd"
   ]
  },
  {
   "cell_type": "code",
   "execution_count": 2,
   "metadata": {
    "collapsed": true
   },
   "outputs": [],
   "source": [
    "url = 'https://dogvacay.com/dog-boarding--ca--los-angeles'"
   ]
  },
  {
   "cell_type": "code",
   "execution_count": 3,
   "metadata": {
    "collapsed": true
   },
   "outputs": [],
   "source": [
    "r = requests.get(url)\n",
    "time.sleep(1)"
   ]
  },
  {
   "cell_type": "code",
   "execution_count": 4,
   "metadata": {
    "collapsed": true
   },
   "outputs": [],
   "source": [
    "soup = BeautifulSoup(r.content)"
   ]
  },
  {
   "cell_type": "code",
   "execution_count": 5,
   "metadata": {
    "collapsed": false
   },
   "outputs": [
    {
     "data": {
      "text/plain": [
       "15"
      ]
     },
     "execution_count": 5,
     "metadata": {},
     "output_type": "execute_result"
    }
   ],
   "source": [
    "sitters = soup.findAll('div', {'class': 'card-content'})\n",
    "len(sitters)"
   ]
  },
  {
   "cell_type": "code",
   "execution_count": 110,
   "metadata": {
    "collapsed": false
   },
   "outputs": [],
   "source": [
    "times = []\n",
    "fees = []\n",
    "reviews = []\n",
    "repeats = []\n",
    "city = []\n",
    "service = []\n",
    "rating = []\n",
    "\n",
    "for sitter in sitters:\n",
    "        rtwrap = sitter.findAll('div', {'class': 'icon-wrapper'})\n",
    "        if len(rtwrap) > 0:\n",
    "            response_time = rtwrap[0].text.strip('\\n')[19:]\n",
    "        else:\n",
    "            response_time = -1\n",
    "        fee = sitter.findAll('div', {'class': 'price price--primary u-text-center'})\n",
    "        review = sitter.find('span', {'class': 'vcard-review'})\n",
    "        if review is not None and len(review) > 0:\n",
    "            review = int(review.text.replace('Reviews', '').replace('Review', '').strip())\n",
    "        else:\n",
    "            review = 0\n",
    "        repeat = sitter.findAll('div', {'class': 'icon-wrapper'})\n",
    "        if len(repeat) == 2 and len(repeat[1].text.strip()) > 12:\n",
    "            repeat = repeat[1].text.strip()\n",
    "        else:\n",
    "            repeat = 0\n",
    "        services = sitter.findAll('div', {'class': 'vcard-line-item'})\n",
    "        full_star = sitter.findAll('i', {'class': 'ck-star'})\n",
    "        ratings = len(full_star)\n",
    "        half_star = sitter.findAll('i', {'class': 'ck-star-half'})\n",
    "        if len(half_star) > 0:\n",
    "            ratings += .5\n",
    "        fees.append(fee[0].text.strip('\\n$')[:1])\n",
    "        title = soup.find('title').text\n",
    "        i = title.find(' Dog Boarding')\n",
    "        title = title[0:i]\n",
    "        city.append(title)\n",
    "        times.append(response_time)\n",
    "        reviews.append(review)\n",
    "        repeats.append(repeat)\n",
    "        service.append(services[-1].text.strip('\\n'))\n",
    "        rating.append(ratings)\n",
    "\n",
    "df = pd.DataFrame({'city': city, 'fee': fees, 'response_time': times, 'review' : reviews, 'repeat' : repeats, 'services' : service, 'ratings': rating})"
   ]
  },
  {
   "cell_type": "code",
   "execution_count": 111,
   "metadata": {
    "collapsed": false
   },
   "outputs": [
    {
     "data": {
      "text/html": [
       "<div style=\"max-height:1000px;max-width:1500px;overflow:auto;\">\n",
       "<table border=\"1\" class=\"dataframe\">\n",
       "  <thead>\n",
       "    <tr style=\"text-align: right;\">\n",
       "      <th></th>\n",
       "      <th>city</th>\n",
       "      <th>fee</th>\n",
       "      <th>ratings</th>\n",
       "      <th>repeat</th>\n",
       "      <th>response_time</th>\n",
       "      <th>review</th>\n",
       "      <th>services</th>\n",
       "    </tr>\n",
       "  </thead>\n",
       "  <tbody>\n",
       "    <tr>\n",
       "      <th>0 </th>\n",
       "      <td> Los Angeles County, California</td>\n",
       "      <td> 3</td>\n",
       "      <td> 0</td>\n",
       "      <td>                0</td>\n",
       "      <td> Few Hours                        </td>\n",
       "      <td>   0</td>\n",
       "      <td>                              Boarding and Daycare</td>\n",
       "    </tr>\n",
       "    <tr>\n",
       "      <th>1 </th>\n",
       "      <td> Los Angeles County, California</td>\n",
       "      <td> 5</td>\n",
       "      <td> 5</td>\n",
       "      <td> 12 Repeat Guests</td>\n",
       "      <td> Few Hours                        </td>\n",
       "      <td>  25</td>\n",
       "      <td> Boarding, Sitting, Daycare, Checkups and Visit...</td>\n",
       "    </tr>\n",
       "    <tr>\n",
       "      <th>2 </th>\n",
       "      <td> Los Angeles County, California</td>\n",
       "      <td> 3</td>\n",
       "      <td> 5</td>\n",
       "      <td>                0</td>\n",
       "      <td> Few Hours                        </td>\n",
       "      <td>  10</td>\n",
       "      <td>     Boarding, Sitting, Daycare, Walking, and more</td>\n",
       "    </tr>\n",
       "    <tr>\n",
       "      <th>3 </th>\n",
       "      <td> Los Angeles County, California</td>\n",
       "      <td> 5</td>\n",
       "      <td> 5</td>\n",
       "      <td> 10 Repeat Guests</td>\n",
       "      <td>  Few Days                        </td>\n",
       "      <td>  20</td>\n",
       "      <td> Sitting, Daycare, Checkups and Visits, Walking...</td>\n",
       "    </tr>\n",
       "    <tr>\n",
       "      <th>4 </th>\n",
       "      <td> Los Angeles County, California</td>\n",
       "      <td> 4</td>\n",
       "      <td> 5</td>\n",
       "      <td> 98 Repeat Guests</td>\n",
       "      <td>  Few Days                        </td>\n",
       "      <td> 135</td>\n",
       "      <td>    Boarding, Daycare, Grooming, Bathing, and more</td>\n",
       "    </tr>\n",
       "    <tr>\n",
       "      <th>5 </th>\n",
       "      <td> Los Angeles County, California</td>\n",
       "      <td> 4</td>\n",
       "      <td> 5</td>\n",
       "      <td>                0</td>\n",
       "      <td> Few Hours                        </td>\n",
       "      <td>  72</td>\n",
       "      <td>                 Boarding and Pick up and Drop off</td>\n",
       "    </tr>\n",
       "    <tr>\n",
       "      <th>6 </th>\n",
       "      <td> Los Angeles County, California</td>\n",
       "      <td> 4</td>\n",
       "      <td> 5</td>\n",
       "      <td>  8 Repeat Guests</td>\n",
       "      <td> Few Hours                        </td>\n",
       "      <td>  19</td>\n",
       "      <td>     Boarding, Sitting, Daycare, Walking, and more</td>\n",
       "    </tr>\n",
       "    <tr>\n",
       "      <th>7 </th>\n",
       "      <td> Los Angeles County, California</td>\n",
       "      <td> 4</td>\n",
       "      <td> 5</td>\n",
       "      <td>  5 Repeat Guests</td>\n",
       "      <td>  Few Days                        </td>\n",
       "      <td>  13</td>\n",
       "      <td>                              Boarding and Bathing</td>\n",
       "    </tr>\n",
       "    <tr>\n",
       "      <th>8 </th>\n",
       "      <td> Los Angeles County, California</td>\n",
       "      <td> 5</td>\n",
       "      <td> 5</td>\n",
       "      <td>  5 Repeat Guests</td>\n",
       "      <td>       Day                        </td>\n",
       "      <td>  17</td>\n",
       "      <td> Sitting, Checkups and Visits, Training, and Ba...</td>\n",
       "    </tr>\n",
       "    <tr>\n",
       "      <th>9 </th>\n",
       "      <td> Los Angeles County, California</td>\n",
       "      <td> 3</td>\n",
       "      <td> 5</td>\n",
       "      <td>                0</td>\n",
       "      <td> Few Hours                        </td>\n",
       "      <td>   6</td>\n",
       "      <td> Boarding, Daycare, Checkups and Visits, Walkin...</td>\n",
       "    </tr>\n",
       "    <tr>\n",
       "      <th>10</th>\n",
       "      <td> Los Angeles County, California</td>\n",
       "      <td> 5</td>\n",
       "      <td> 0</td>\n",
       "      <td>                0</td>\n",
       "      <td> Few Hours                        </td>\n",
       "      <td>   0</td>\n",
       "      <td>         Sitting, Checkups and Visits, and Walking</td>\n",
       "    </tr>\n",
       "    <tr>\n",
       "      <th>11</th>\n",
       "      <td> Los Angeles County, California</td>\n",
       "      <td> 4</td>\n",
       "      <td> 5</td>\n",
       "      <td>                0</td>\n",
       "      <td>       Day                        </td>\n",
       "      <td>  32</td>\n",
       "      <td> Boarding, Daycare, Bathing, and Pick up and Dr...</td>\n",
       "    </tr>\n",
       "    <tr>\n",
       "      <th>12</th>\n",
       "      <td> Los Angeles County, California</td>\n",
       "      <td> 4</td>\n",
       "      <td> 5</td>\n",
       "      <td>  4 Repeat Guests</td>\n",
       "      <td> Few Hours                        </td>\n",
       "      <td>   8</td>\n",
       "      <td>           Boarding, Sitting, Daycare, and Walking</td>\n",
       "    </tr>\n",
       "    <tr>\n",
       "      <th>13</th>\n",
       "      <td> Los Angeles County, California</td>\n",
       "      <td> 4</td>\n",
       "      <td> 5</td>\n",
       "      <td> 10 Repeat Guests</td>\n",
       "      <td>       Day                        </td>\n",
       "      <td>  11</td>\n",
       "      <td> Boarding, Checkups and Visits, and Pick up and...</td>\n",
       "    </tr>\n",
       "    <tr>\n",
       "      <th>14</th>\n",
       "      <td> Los Angeles County, California</td>\n",
       "      <td> 3</td>\n",
       "      <td> 5</td>\n",
       "      <td> 12 Repeat Guests</td>\n",
       "      <td> Few Hours                        </td>\n",
       "      <td>  15</td>\n",
       "      <td> Boarding, Daycare, Checkups and Visits, Bathin...</td>\n",
       "    </tr>\n",
       "  </tbody>\n",
       "</table>\n",
       "</div>"
      ],
      "text/plain": [
       "                              city fee  ratings            repeat  \\\n",
       "0   Los Angeles County, California   3        0                 0   \n",
       "1   Los Angeles County, California   5        5  12 Repeat Guests   \n",
       "2   Los Angeles County, California   3        5                 0   \n",
       "3   Los Angeles County, California   5        5  10 Repeat Guests   \n",
       "4   Los Angeles County, California   4        5  98 Repeat Guests   \n",
       "5   Los Angeles County, California   4        5                 0   \n",
       "6   Los Angeles County, California   4        5   8 Repeat Guests   \n",
       "7   Los Angeles County, California   4        5   5 Repeat Guests   \n",
       "8   Los Angeles County, California   5        5   5 Repeat Guests   \n",
       "9   Los Angeles County, California   3        5                 0   \n",
       "10  Los Angeles County, California   5        0                 0   \n",
       "11  Los Angeles County, California   4        5                 0   \n",
       "12  Los Angeles County, California   4        5   4 Repeat Guests   \n",
       "13  Los Angeles County, California   4        5  10 Repeat Guests   \n",
       "14  Los Angeles County, California   3        5  12 Repeat Guests   \n",
       "\n",
       "                        response_time  review  \\\n",
       "0   Few Hours                               0   \n",
       "1   Few Hours                              25   \n",
       "2   Few Hours                              10   \n",
       "3    Few Days                              20   \n",
       "4    Few Days                             135   \n",
       "5   Few Hours                              72   \n",
       "6   Few Hours                              19   \n",
       "7    Few Days                              13   \n",
       "8         Day                              17   \n",
       "9   Few Hours                               6   \n",
       "10  Few Hours                               0   \n",
       "11        Day                              32   \n",
       "12  Few Hours                               8   \n",
       "13        Day                              11   \n",
       "14  Few Hours                              15   \n",
       "\n",
       "                                             services  \n",
       "0                                Boarding and Daycare  \n",
       "1   Boarding, Sitting, Daycare, Checkups and Visit...  \n",
       "2       Boarding, Sitting, Daycare, Walking, and more  \n",
       "3   Sitting, Daycare, Checkups and Visits, Walking...  \n",
       "4      Boarding, Daycare, Grooming, Bathing, and more  \n",
       "5                   Boarding and Pick up and Drop off  \n",
       "6       Boarding, Sitting, Daycare, Walking, and more  \n",
       "7                                Boarding and Bathing  \n",
       "8   Sitting, Checkups and Visits, Training, and Ba...  \n",
       "9   Boarding, Daycare, Checkups and Visits, Walkin...  \n",
       "10          Sitting, Checkups and Visits, and Walking  \n",
       "11  Boarding, Daycare, Bathing, and Pick up and Dr...  \n",
       "12            Boarding, Sitting, Daycare, and Walking  \n",
       "13  Boarding, Checkups and Visits, and Pick up and...  \n",
       "14  Boarding, Daycare, Checkups and Visits, Bathin...  "
      ]
     },
     "execution_count": 111,
     "metadata": {},
     "output_type": "execute_result"
    }
   ],
   "source": [
    "df"
   ]
  },
  {
   "cell_type": "code",
   "execution_count": 94,
   "metadata": {
    "collapsed": false
   },
   "outputs": [
    {
     "data": {
      "text/plain": [
       "16"
      ]
     },
     "execution_count": 94,
     "metadata": {},
     "output_type": "execute_result"
    }
   ],
   "source": [
    "len(df['repeat'][1])"
   ]
  },
  {
   "cell_type": "code",
   "execution_count": 113,
   "metadata": {
    "collapsed": false
   },
   "outputs": [
    {
     "name": "stdout",
     "output_type": "stream",
     "text": [
      "0\n",
      "12\n",
      "0\n",
      "10\n",
      "98\n",
      "0\n",
      "8 \n",
      "5 \n",
      "5 \n",
      "0\n",
      "0\n",
      "0\n",
      "4 \n",
      "10\n",
      "12\n"
     ]
    }
   ],
   "source": [
    "for sitter in sitters:\n",
    "        repeat = sitter.findAll('div', {'class': 'icon-wrapper'})\n",
    "        if len(repeat) == 2 and len(repeat[1].text.strip()) > 12:\n",
    "            repeat = repeat[1].text.strip()[:2]\n",
    "        else:\n",
    "            repeat = 0\n",
    "        print repeat"
   ]
  },
  {
   "cell_type": "code",
   "execution_count": null,
   "metadata": {
    "collapsed": true
   },
   "outputs": [],
   "source": []
  }
 ],
 "metadata": {
  "kernelspec": {
   "display_name": "Python 2",
   "language": "python",
   "name": "python2"
  },
  "language_info": {
   "codemirror_mode": {
    "name": "ipython",
    "version": 2
   },
   "file_extension": ".py",
   "mimetype": "text/x-python",
   "name": "python",
   "nbconvert_exporter": "python",
   "pygments_lexer": "ipython2",
   "version": "2.7.10"
  }
 },
 "nbformat": 4,
 "nbformat_minor": 0
}
