{
 "cells": [
  {
   "cell_type": "code",
   "execution_count": null,
   "metadata": {
    "collapsed": true
   },
   "outputs": [],
   "source": [
    "#What should I charge?"
   ]
  },
  {
   "cell_type": "code",
   "execution_count": 10,
   "metadata": {
    "collapsed": true
   },
   "outputs": [],
   "source": [
    "import requests\n",
    "import pandas as pd\n",
    "import sqlite3 as lite\n",
    "import matplotlib.pyplot as plt\n",
    "import numpy as np\n",
    "import statsmodels.api as sm\n",
    "import math\n",
    "from sklearn.cross_validation import train_test_split #Split arrays or matrices into random train and test subsets\n",
    "from sklearn.neighbors import KNeighborsClassifier\n",
    "%matplotlib inline"
   ]
  },
  {
   "cell_type": "code",
   "execution_count": 2,
   "metadata": {
    "collapsed": false
   },
   "outputs": [],
   "source": [
    "df = pd.read_csv('dog-vacay.csv')"
   ]
  },
  {
   "cell_type": "code",
   "execution_count": 3,
   "metadata": {
    "collapsed": false
   },
   "outputs": [],
   "source": [
    "df.drop(['Unnamed: 0'], axis=1, inplace=True)"
   ]
  },
  {
   "cell_type": "code",
   "execution_count": 4,
   "metadata": {
    "collapsed": false
   },
   "outputs": [
    {
     "data": {
      "text/html": [
       "<div style=\"max-height:1000px;max-width:1500px;overflow:auto;\">\n",
       "<table border=\"1\" class=\"dataframe\">\n",
       "  <thead>\n",
       "    <tr style=\"text-align: right;\">\n",
       "      <th></th>\n",
       "      <th>city</th>\n",
       "      <th>fee</th>\n",
       "      <th>names</th>\n",
       "      <th>ratings</th>\n",
       "      <th>repeat</th>\n",
       "      <th>response_time</th>\n",
       "      <th>review</th>\n",
       "      <th>services</th>\n",
       "      <th>boarding</th>\n",
       "      <th>sitting</th>\n",
       "      <th>daycare</th>\n",
       "      <th>checkups</th>\n",
       "      <th>walking</th>\n",
       "      <th>bathing</th>\n",
       "      <th>training</th>\n",
       "      <th>grooming</th>\n",
       "      <th>pickup/dropoff</th>\n",
       "    </tr>\n",
       "  </thead>\n",
       "  <tbody>\n",
       "    <tr>\n",
       "      <th>0</th>\n",
       "      <td> Phoenix, Arizona</td>\n",
       "      <td> 35</td>\n",
       "      <td> Big Backyard in Central Phoenix</td>\n",
       "      <td> 5</td>\n",
       "      <td>  8</td>\n",
       "      <td> 1</td>\n",
       "      <td> 26</td>\n",
       "      <td> 2</td>\n",
       "      <td> 1</td>\n",
       "      <td> 0</td>\n",
       "      <td> 1</td>\n",
       "      <td> 0</td>\n",
       "      <td> 0</td>\n",
       "      <td> 0</td>\n",
       "      <td> 0</td>\n",
       "      <td> 0</td>\n",
       "      <td> 0</td>\n",
       "    </tr>\n",
       "    <tr>\n",
       "      <th>1</th>\n",
       "      <td> Phoenix, Arizona</td>\n",
       "      <td> 35</td>\n",
       "      <td>            SUZY Q to the Rescue</td>\n",
       "      <td> 5</td>\n",
       "      <td> 16</td>\n",
       "      <td> 2</td>\n",
       "      <td> 30</td>\n",
       "      <td> 3</td>\n",
       "      <td> 1</td>\n",
       "      <td> 0</td>\n",
       "      <td> 0</td>\n",
       "      <td> 1</td>\n",
       "      <td> 0</td>\n",
       "      <td> 0</td>\n",
       "      <td> 0</td>\n",
       "      <td> 0</td>\n",
       "      <td> 1</td>\n",
       "    </tr>\n",
       "    <tr>\n",
       "      <th>2</th>\n",
       "      <td> Phoenix, Arizona</td>\n",
       "      <td> 35</td>\n",
       "      <td>               24/7 Dog boarding</td>\n",
       "      <td> 0</td>\n",
       "      <td>  0</td>\n",
       "      <td> 1</td>\n",
       "      <td>  0</td>\n",
       "      <td> 4</td>\n",
       "      <td> 1</td>\n",
       "      <td> 0</td>\n",
       "      <td> 1</td>\n",
       "      <td> 1</td>\n",
       "      <td> 1</td>\n",
       "      <td> 0</td>\n",
       "      <td> 0</td>\n",
       "      <td> 0</td>\n",
       "      <td> 0</td>\n",
       "    </tr>\n",
       "    <tr>\n",
       "      <th>3</th>\n",
       "      <td> Phoenix, Arizona</td>\n",
       "      <td> 38</td>\n",
       "      <td>            Messy4dogs@gmail.com</td>\n",
       "      <td> 5</td>\n",
       "      <td>  2</td>\n",
       "      <td> 3</td>\n",
       "      <td>  3</td>\n",
       "      <td> 4</td>\n",
       "      <td> 1</td>\n",
       "      <td> 0</td>\n",
       "      <td> 1</td>\n",
       "      <td> 1</td>\n",
       "      <td> 1</td>\n",
       "      <td> 0</td>\n",
       "      <td> 0</td>\n",
       "      <td> 0</td>\n",
       "      <td> 0</td>\n",
       "    </tr>\n",
       "    <tr>\n",
       "      <th>4</th>\n",
       "      <td> Phoenix, Arizona</td>\n",
       "      <td> 25</td>\n",
       "      <td>                    Pet Paradise</td>\n",
       "      <td> 5</td>\n",
       "      <td>  1</td>\n",
       "      <td> 1</td>\n",
       "      <td>  5</td>\n",
       "      <td> 4</td>\n",
       "      <td> 1</td>\n",
       "      <td> 0</td>\n",
       "      <td> 0</td>\n",
       "      <td> 1</td>\n",
       "      <td> 1</td>\n",
       "      <td> 1</td>\n",
       "      <td> 0</td>\n",
       "      <td> 0</td>\n",
       "      <td> 0</td>\n",
       "    </tr>\n",
       "  </tbody>\n",
       "</table>\n",
       "</div>"
      ],
      "text/plain": [
       "               city  fee                            names  ratings  repeat  \\\n",
       "0  Phoenix, Arizona   35  Big Backyard in Central Phoenix        5       8   \n",
       "1  Phoenix, Arizona   35             SUZY Q to the Rescue        5      16   \n",
       "2  Phoenix, Arizona   35                24/7 Dog boarding        0       0   \n",
       "3  Phoenix, Arizona   38             Messy4dogs@gmail.com        5       2   \n",
       "4  Phoenix, Arizona   25                     Pet Paradise        5       1   \n",
       "\n",
       "   response_time  review  services  boarding  sitting  daycare  checkups  \\\n",
       "0              1      26         2         1        0        1         0   \n",
       "1              2      30         3         1        0        0         1   \n",
       "2              1       0         4         1        0        1         1   \n",
       "3              3       3         4         1        0        1         1   \n",
       "4              1       5         4         1        0        0         1   \n",
       "\n",
       "   walking  bathing  training  grooming  pickup/dropoff  \n",
       "0        0        0         0         0               0  \n",
       "1        0        0         0         0               1  \n",
       "2        1        0         0         0               0  \n",
       "3        1        0         0         0               0  \n",
       "4        1        1         0         0               0  "
      ]
     },
     "execution_count": 4,
     "metadata": {},
     "output_type": "execute_result"
    }
   ],
   "source": [
    "df.head()"
   ]
  },
  {
   "cell_type": "code",
   "execution_count": 5,
   "metadata": {
    "collapsed": false
   },
   "outputs": [
    {
     "data": {
      "text/html": [
       "<div style=\"max-height:1000px;max-width:1500px;overflow:auto;\">\n",
       "<table border=\"1\" class=\"dataframe\">\n",
       "  <thead>\n",
       "    <tr style=\"text-align: right;\">\n",
       "      <th></th>\n",
       "      <th>fee</th>\n",
       "      <th>ratings</th>\n",
       "      <th>repeat</th>\n",
       "      <th>response_time</th>\n",
       "      <th>review</th>\n",
       "      <th>services</th>\n",
       "      <th>boarding</th>\n",
       "      <th>sitting</th>\n",
       "      <th>daycare</th>\n",
       "      <th>checkups</th>\n",
       "      <th>walking</th>\n",
       "      <th>bathing</th>\n",
       "      <th>training</th>\n",
       "      <th>grooming</th>\n",
       "      <th>pickup/dropoff</th>\n",
       "    </tr>\n",
       "  </thead>\n",
       "  <tbody>\n",
       "    <tr>\n",
       "      <th>count</th>\n",
       "      <td> 4662.000000</td>\n",
       "      <td> 4662.000000</td>\n",
       "      <td> 4662.000000</td>\n",
       "      <td> 4662.000000</td>\n",
       "      <td> 4662.000000</td>\n",
       "      <td> 4662.000000</td>\n",
       "      <td> 4662.000000</td>\n",
       "      <td> 4662.000000</td>\n",
       "      <td> 4662.000000</td>\n",
       "      <td> 4662.000000</td>\n",
       "      <td> 4662.000000</td>\n",
       "      <td> 4662.000000</td>\n",
       "      <td> 4662.000000</td>\n",
       "      <td> 4662.00000</td>\n",
       "      <td> 4662.000000</td>\n",
       "    </tr>\n",
       "    <tr>\n",
       "      <th>mean</th>\n",
       "      <td>   38.678464</td>\n",
       "      <td>    3.416345</td>\n",
       "      <td>    4.817889</td>\n",
       "      <td>    1.582154</td>\n",
       "      <td>    9.806521</td>\n",
       "      <td>    3.162377</td>\n",
       "      <td>    0.947662</td>\n",
       "      <td>    0.349206</td>\n",
       "      <td>    0.637066</td>\n",
       "      <td>    0.431145</td>\n",
       "      <td>    0.403904</td>\n",
       "      <td>    0.154011</td>\n",
       "      <td>    0.028529</td>\n",
       "      <td>    0.01094</td>\n",
       "      <td>    0.199914</td>\n",
       "    </tr>\n",
       "    <tr>\n",
       "      <th>std</th>\n",
       "      <td>   11.184772</td>\n",
       "      <td>    2.308807</td>\n",
       "      <td>    9.537766</td>\n",
       "      <td>    0.767003</td>\n",
       "      <td>   19.448652</td>\n",
       "      <td>    1.062929</td>\n",
       "      <td>    0.222732</td>\n",
       "      <td>    0.476770</td>\n",
       "      <td>    0.480898</td>\n",
       "      <td>    0.495289</td>\n",
       "      <td>    0.490731</td>\n",
       "      <td>    0.360998</td>\n",
       "      <td>    0.166495</td>\n",
       "      <td>    0.10403</td>\n",
       "      <td>    0.399979</td>\n",
       "    </tr>\n",
       "    <tr>\n",
       "      <th>min</th>\n",
       "      <td>    0.000000</td>\n",
       "      <td>    0.000000</td>\n",
       "      <td>    0.000000</td>\n",
       "      <td>    1.000000</td>\n",
       "      <td>    0.000000</td>\n",
       "      <td>    1.000000</td>\n",
       "      <td>    0.000000</td>\n",
       "      <td>    0.000000</td>\n",
       "      <td>    0.000000</td>\n",
       "      <td>    0.000000</td>\n",
       "      <td>    0.000000</td>\n",
       "      <td>    0.000000</td>\n",
       "      <td>    0.000000</td>\n",
       "      <td>    0.00000</td>\n",
       "      <td>    0.000000</td>\n",
       "    </tr>\n",
       "    <tr>\n",
       "      <th>25%</th>\n",
       "      <td>   30.000000</td>\n",
       "      <td>    0.000000</td>\n",
       "      <td>    0.000000</td>\n",
       "      <td>    1.000000</td>\n",
       "      <td>    0.000000</td>\n",
       "      <td>    2.000000</td>\n",
       "      <td>    1.000000</td>\n",
       "      <td>    0.000000</td>\n",
       "      <td>    0.000000</td>\n",
       "      <td>    0.000000</td>\n",
       "      <td>    0.000000</td>\n",
       "      <td>    0.000000</td>\n",
       "      <td>    0.000000</td>\n",
       "      <td>    0.00000</td>\n",
       "      <td>    0.000000</td>\n",
       "    </tr>\n",
       "    <tr>\n",
       "      <th>50%</th>\n",
       "      <td>   38.000000</td>\n",
       "      <td>    5.000000</td>\n",
       "      <td>    1.000000</td>\n",
       "      <td>    1.000000</td>\n",
       "      <td>    3.000000</td>\n",
       "      <td>    4.000000</td>\n",
       "      <td>    1.000000</td>\n",
       "      <td>    0.000000</td>\n",
       "      <td>    1.000000</td>\n",
       "      <td>    0.000000</td>\n",
       "      <td>    0.000000</td>\n",
       "      <td>    0.000000</td>\n",
       "      <td>    0.000000</td>\n",
       "      <td>    0.00000</td>\n",
       "      <td>    0.000000</td>\n",
       "    </tr>\n",
       "    <tr>\n",
       "      <th>75%</th>\n",
       "      <td>   45.000000</td>\n",
       "      <td>    5.000000</td>\n",
       "      <td>    5.000000</td>\n",
       "      <td>    2.000000</td>\n",
       "      <td>   10.000000</td>\n",
       "      <td>    4.000000</td>\n",
       "      <td>    1.000000</td>\n",
       "      <td>    1.000000</td>\n",
       "      <td>    1.000000</td>\n",
       "      <td>    1.000000</td>\n",
       "      <td>    1.000000</td>\n",
       "      <td>    0.000000</td>\n",
       "      <td>    0.000000</td>\n",
       "      <td>    0.00000</td>\n",
       "      <td>    0.000000</td>\n",
       "    </tr>\n",
       "    <tr>\n",
       "      <th>max</th>\n",
       "      <td>   95.000000</td>\n",
       "      <td>    5.000000</td>\n",
       "      <td>   98.000000</td>\n",
       "      <td>    3.000000</td>\n",
       "      <td>  370.000000</td>\n",
       "      <td>    4.000000</td>\n",
       "      <td>    1.000000</td>\n",
       "      <td>    1.000000</td>\n",
       "      <td>    1.000000</td>\n",
       "      <td>    1.000000</td>\n",
       "      <td>    1.000000</td>\n",
       "      <td>    1.000000</td>\n",
       "      <td>    1.000000</td>\n",
       "      <td>    1.00000</td>\n",
       "      <td>    1.000000</td>\n",
       "    </tr>\n",
       "  </tbody>\n",
       "</table>\n",
       "</div>"
      ],
      "text/plain": [
       "               fee      ratings       repeat  response_time       review  \\\n",
       "count  4662.000000  4662.000000  4662.000000    4662.000000  4662.000000   \n",
       "mean     38.678464     3.416345     4.817889       1.582154     9.806521   \n",
       "std      11.184772     2.308807     9.537766       0.767003    19.448652   \n",
       "min       0.000000     0.000000     0.000000       1.000000     0.000000   \n",
       "25%      30.000000     0.000000     0.000000       1.000000     0.000000   \n",
       "50%      38.000000     5.000000     1.000000       1.000000     3.000000   \n",
       "75%      45.000000     5.000000     5.000000       2.000000    10.000000   \n",
       "max      95.000000     5.000000    98.000000       3.000000   370.000000   \n",
       "\n",
       "          services     boarding      sitting      daycare     checkups  \\\n",
       "count  4662.000000  4662.000000  4662.000000  4662.000000  4662.000000   \n",
       "mean      3.162377     0.947662     0.349206     0.637066     0.431145   \n",
       "std       1.062929     0.222732     0.476770     0.480898     0.495289   \n",
       "min       1.000000     0.000000     0.000000     0.000000     0.000000   \n",
       "25%       2.000000     1.000000     0.000000     0.000000     0.000000   \n",
       "50%       4.000000     1.000000     0.000000     1.000000     0.000000   \n",
       "75%       4.000000     1.000000     1.000000     1.000000     1.000000   \n",
       "max       4.000000     1.000000     1.000000     1.000000     1.000000   \n",
       "\n",
       "           walking      bathing     training    grooming  pickup/dropoff  \n",
       "count  4662.000000  4662.000000  4662.000000  4662.00000     4662.000000  \n",
       "mean      0.403904     0.154011     0.028529     0.01094        0.199914  \n",
       "std       0.490731     0.360998     0.166495     0.10403        0.399979  \n",
       "min       0.000000     0.000000     0.000000     0.00000        0.000000  \n",
       "25%       0.000000     0.000000     0.000000     0.00000        0.000000  \n",
       "50%       0.000000     0.000000     0.000000     0.00000        0.000000  \n",
       "75%       1.000000     0.000000     0.000000     0.00000        0.000000  \n",
       "max       1.000000     1.000000     1.000000     1.00000        1.000000  "
      ]
     },
     "execution_count": 5,
     "metadata": {},
     "output_type": "execute_result"
    }
   ],
   "source": [
    "#Start by looking at the average\n",
    "df.describe()"
   ]
  },
  {
   "cell_type": "code",
   "execution_count": 6,
   "metadata": {
    "collapsed": false
   },
   "outputs": [
    {
     "data": {
      "image/png": "[encoded data removed]",
      "text/plain": [
       "<matplotlib.figure.Figure at 0x10a466850>"
      ]
     },
     "metadata": {},
     "output_type": "display_data"
    }
   ],
   "source": [
    "#Histogram of fees\n",
    "p = df['fee'].hist()\n",
    "plt.show()"
   ]
  },
  {
   "cell_type": "code",
   "execution_count": 13,
   "metadata": {
    "collapsed": false
   },
   "outputs": [
    {
     "data": {
      "text/plain": [
       "<matplotlib.collections.PathCollection at 0x11a4f6f50>"
      ]
     },
     "execution_count": 13,
     "metadata": {},
     "output_type": "execute_result"
    },
    {
     "data": {
      "image/png": "[encoded data removed]",
      "text/plain": [
       "<matplotlib.figure.Figure at 0x11976a290>"
      ]
     },
     "metadata": {},
     "output_type": "display_data"
    }
   ],
   "source": [
    "#Create a scatter plot matrix\n",
    "plt.scatter(df['fee'], df['review'])\n",
    "plt.xlabel(iris.feature_names[1])\n",
    "plt.ylabel(iris.feature_names[2])\n",
    "plt.show()"
   ]
  },
  {
   "cell_type": "code",
   "execution_count": 13,
   "metadata": {
    "collapsed": true
   },
   "outputs": [],
   "source": [
    "#Extract columns\n",
    "fee = df['fee']\n",
    "repeat = df['repeat']\n",
    "ratings = df['ratings']\n",
    "response_time = df['response_time']\n",
    "review = df['review']"
   ]
  },
  {
   "cell_type": "code",
   "execution_count": 14,
   "metadata": {
    "collapsed": true
   },
   "outputs": [],
   "source": [
    "#Reshape the series data type\n",
    "#The dependent variable\n",
    "y = np.matrix(ratings).transpose()\n",
    "#The independent variable\n",
    "x1 = np.matrix(response_time).transpose()\n",
    "x2 = np.matrix(fee).transpose()"
   ]
  },
  {
   "cell_type": "code",
   "execution_count": 15,
   "metadata": {
    "collapsed": true
   },
   "outputs": [],
   "source": [
    "#put the two columns together to create an input matrix (with one column for each independent variable)\n",
    "x = np.column_stack([x1, x2])"
   ]
  },
  {
   "cell_type": "code",
   "execution_count": 16,
   "metadata": {
    "collapsed": false
   },
   "outputs": [
    {
     "data": {
      "text/html": [
       "<table class=\"simpletable\">\n",
       "<caption>OLS Regression Results</caption>\n",
       "<tr>\n",
       "  <th>Dep. Variable:</th>            <td>y</td>        <th>  R-squared:         </th> <td>   0.020</td> \n",
       "</tr>\n",
       "<tr>\n",
       "  <th>Model:</th>                   <td>OLS</td>       <th>  Adj. R-squared:    </th> <td>   0.020</td> \n",
       "</tr>\n",
       "<tr>\n",
       "  <th>Method:</th>             <td>Least Squares</td>  <th>  F-statistic:       </th> <td>   48.67</td> \n",
       "</tr>\n",
       "<tr>\n",
       "  <th>Date:</th>             <td>Wed, 23 Dec 2015</td> <th>  Prob (F-statistic):</th> <td>1.20e-21</td> \n",
       "</tr>\n",
       "<tr>\n",
       "  <th>Time:</th>                 <td>15:03:49</td>     <th>  Log-Likelihood:    </th> <td> -10467.</td> \n",
       "</tr>\n",
       "<tr>\n",
       "  <th>No. Observations:</th>      <td>  4662</td>      <th>  AIC:               </th> <td>2.094e+04</td>\n",
       "</tr>\n",
       "<tr>\n",
       "  <th>Df Residuals:</th>          <td>  4659</td>      <th>  BIC:               </th> <td>2.096e+04</td>\n",
       "</tr>\n",
       "<tr>\n",
       "  <th>Df Model:</th>              <td>     2</td>      <th>                     </th>     <td> </td>    \n",
       "</tr>\n",
       "<tr>\n",
       "  <th>Covariance Type:</th>      <td>nonrobust</td>    <th>                     </th>     <td> </td>    \n",
       "</tr>\n",
       "</table>\n",
       "<table class=\"simpletable\">\n",
       "<tr>\n",
       "    <td></td>       <th>coef</th>     <th>std err</th>      <th>t</th>      <th>P>|t|</th> <th>[95.0% Conf. Int.]</th> \n",
       "</tr>\n",
       "<tr>\n",
       "  <th>const</th> <td>    4.0493</td> <td>    0.138</td> <td>   29.366</td> <td> 0.000</td> <td>    3.779     4.320</td>\n",
       "</tr>\n",
       "<tr>\n",
       "  <th>x1</th>    <td>    0.2236</td> <td>    0.044</td> <td>    5.123</td> <td> 0.000</td> <td>    0.138     0.309</td>\n",
       "</tr>\n",
       "<tr>\n",
       "  <th>x2</th>    <td>   -0.0255</td> <td>    0.003</td> <td>   -8.522</td> <td> 0.000</td> <td>   -0.031    -0.020</td>\n",
       "</tr>\n",
       "</table>\n",
       "<table class=\"simpletable\">\n",
       "<tr>\n",
       "  <th>Omnibus:</th>       <td>11477.871</td> <th>  Durbin-Watson:     </th> <td>   1.646</td> \n",
       "</tr>\n",
       "<tr>\n",
       "  <th>Prob(Omnibus):</th>  <td> 0.000</td>   <th>  Jarque-Bera (JB):  </th> <td> 795.938</td> \n",
       "</tr>\n",
       "<tr>\n",
       "  <th>Skew:</th>           <td>-0.782</td>   <th>  Prob(JB):          </th> <td>1.46e-173</td>\n",
       "</tr>\n",
       "<tr>\n",
       "  <th>Kurtosis:</th>       <td> 1.716</td>   <th>  Cond. No.          </th> <td>    168.</td> \n",
       "</tr>\n",
       "</table>"
      ],
      "text/plain": [
       "<class 'statsmodels.iolib.summary.Summary'>\n",
       "\"\"\"\n",
       "                            OLS Regression Results                            \n",
       "==============================================================================\n",
       "Dep. Variable:                      y   R-squared:                       0.020\n",
       "Model:                            OLS   Adj. R-squared:                  0.020\n",
       "Method:                 Least Squares   F-statistic:                     48.67\n",
       "Date:                Wed, 23 Dec 2015   Prob (F-statistic):           1.20e-21\n",
       "Time:                        15:03:49   Log-Likelihood:                -10467.\n",
       "No. Observations:                4662   AIC:                         2.094e+04\n",
       "Df Residuals:                    4659   BIC:                         2.096e+04\n",
       "Df Model:                           2                                         \n",
       "Covariance Type:            nonrobust                                         \n",
       "==============================================================================\n",
       "                 coef    std err          t      P>|t|      [95.0% Conf. Int.]\n",
       "------------------------------------------------------------------------------\n",
       "const          4.0493      0.138     29.366      0.000         3.779     4.320\n",
       "x1             0.2236      0.044      5.123      0.000         0.138     0.309\n",
       "x2            -0.0255      0.003     -8.522      0.000        -0.031    -0.020\n",
       "==============================================================================\n",
       "Omnibus:                    11477.871   Durbin-Watson:                   1.646\n",
       "Prob(Omnibus):                  0.000   Jarque-Bera (JB):              795.938\n",
       "Skew:                          -0.782   Prob(JB):                    1.46e-173\n",
       "Kurtosis:                       1.716   Cond. No.                         168.\n",
       "==============================================================================\n",
       "\n",
       "Warnings:\n",
       "[1] Standard Errors assume that the covariance matrix of the errors is correctly specified.\n",
       "\"\"\""
      ]
     },
     "execution_count": 16,
     "metadata": {},
     "output_type": "execute_result"
    }
   ],
   "source": [
    "#create linear model\n",
    "X = sm.add_constant(x)\n",
    "model = sm.OLS(y,X)\n",
    "f = model.fit()\n",
    "f.summary()"
   ]
  },
  {
   "cell_type": "code",
   "execution_count": 2,
   "metadata": {
    "collapsed": false
   },
   "outputs": [],
   "source": [
    "#df.groupby('city').mean()"
   ]
  },
  {
   "cell_type": "code",
   "execution_count": 3,
   "metadata": {
    "collapsed": false
   },
   "outputs": [],
   "source": [
    "#df.groupby('city').std()"
   ]
  },
  {
   "cell_type": "code",
   "execution_count": 4,
   "metadata": {
    "collapsed": false
   },
   "outputs": [],
   "source": [
    "#df.groupby('city').count()"
   ]
  },
  {
   "cell_type": "code",
   "execution_count": 47,
   "metadata": {
    "collapsed": false
   },
   "outputs": [],
   "source": [
    "#Logistic regression\n",
    "df['fee35'] = df['fee'].map(lambda x: 1 if x >= 35 else 0)"
   ]
  },
  {
   "cell_type": "code",
   "execution_count": 48,
   "metadata": {
    "collapsed": false
   },
   "outputs": [],
   "source": [
    "#df.drop(['booked'], axis=1, inplace=True)"
   ]
  },
  {
   "cell_type": "code",
   "execution_count": 49,
   "metadata": {
    "collapsed": true
   },
   "outputs": [],
   "source": [
    "intercept = [1] * len(df)\n",
    "df['intercept'] = intercept"
   ]
  },
  {
   "cell_type": "code",
   "execution_count": 50,
   "metadata": {
    "collapsed": true
   },
   "outputs": [],
   "source": [
    "ind_vars = ['intercept','review', 'repeat']"
   ]
  },
  {
   "cell_type": "code",
   "execution_count": 51,
   "metadata": {
    "collapsed": false
   },
   "outputs": [],
   "source": [
    "#df.head()"
   ]
  },
  {
   "cell_type": "code",
   "execution_count": 52,
   "metadata": {
    "collapsed": true
   },
   "outputs": [],
   "source": [
    "logit = sm.Logit(df['fee35'], df[ind_vars])"
   ]
  },
  {
   "cell_type": "code",
   "execution_count": 53,
   "metadata": {
    "collapsed": false
   },
   "outputs": [
    {
     "name": "stdout",
     "output_type": "stream",
     "text": [
      "Optimization terminated successfully.\n",
      "         Current function value: 0.634137\n",
      "         Iterations 4\n"
     ]
    }
   ],
   "source": [
    "result = logit.fit()"
   ]
  },
  {
   "cell_type": "code",
   "execution_count": 54,
   "metadata": {
    "collapsed": false
   },
   "outputs": [
    {
     "name": "stdout",
     "output_type": "stream",
     "text": [
      "intercept    0.764227\n",
      "review       0.004238\n",
      "repeat      -0.023190\n",
      "dtype: float64\n"
     ]
    }
   ],
   "source": [
    "coeff = result.params\n",
    "print coeff"
   ]
  },
  {
   "cell_type": "code",
   "execution_count": 55,
   "metadata": {
    "collapsed": false
   },
   "outputs": [],
   "source": [
    "def logistic_function(review, repeat):\n",
    "    # p(x) = 1/(1 + e^(intercept + 0.087423(FicoScore) − 0.000174(LoanAmount))\n",
    "    prob = 1/(1 + math.exp(coeff[0] + coeff[1]*review +coeff[2]*repeat))\n",
    "    if prob > 0.7:\n",
    "        p = 1\n",
    "    else:\n",
    "        p = 0\n",
    "    return prob, p"
   ]
  },
  {
   "cell_type": "code",
   "execution_count": 58,
   "metadata": {
    "collapsed": false
   },
   "outputs": [
    {
     "data": {
      "text/plain": [
       "(0.3601514564111888, 0)"
      ]
     },
     "execution_count": 58,
     "metadata": {},
     "output_type": "execute_result"
    }
   ],
   "source": [
    "logistic_function(10, 10)"
   ]
  },
  {
   "cell_type": "code",
   "execution_count": 26,
   "metadata": {
    "collapsed": true
   },
   "outputs": [],
   "source": [
    "dfTrain, dfTest = train_test_split(df, test_size=0.2, random_state=0)"
   ]
  },
  {
   "cell_type": "code",
   "execution_count": 33,
   "metadata": {
    "collapsed": true
   },
   "outputs": [],
   "source": [
    "dfTrain = pd.DataFrame(dfTrain, columns=df.columns)\n",
    "dfTest = pd.DataFrame(dfTest, columns=df.columns)"
   ]
  },
  {
   "cell_type": "code",
   "execution_count": 34,
   "metadata": {
    "collapsed": true
   },
   "outputs": [],
   "source": [
    "cols = ['review', 'repeat']"
   ]
  },
  {
   "cell_type": "code",
   "execution_count": 35,
   "metadata": {
    "collapsed": true
   },
   "outputs": [],
   "source": [
    "model = KNeighborsClassifier(n_neighbors=3)"
   ]
  },
  {
   "cell_type": "code",
   "execution_count": 36,
   "metadata": {
    "collapsed": false
   },
   "outputs": [
    {
     "data": {
      "text/plain": [
       "KNeighborsClassifier(algorithm='auto', leaf_size=30, metric='minkowski',\n",
       "           metric_params=None, n_neighbors=3, p=2, weights='uniform')"
      ]
     },
     "execution_count": 36,
     "metadata": {},
     "output_type": "execute_result"
    }
   ],
   "source": [
    "model.fit(dfTrain[cols], dfTrain['fee35'])"
   ]
  },
  {
   "cell_type": "code",
   "execution_count": 37,
   "metadata": {
    "collapsed": false
   },
   "outputs": [
    {
     "name": "stdout",
     "output_type": "stream",
     "text": [
      "1:, 0.46\n",
      "2:, 0.49\n",
      "3:, 0.45\n",
      "4:, 0.45\n",
      "5:, 0.46\n",
      "6:, 0.51\n",
      "7:, 0.51\n",
      "8:, 0.51\n",
      "9:, 0.48\n",
      "10:, 0.49\n",
      "11:, 0.48\n",
      "12:, 0.47\n",
      "13:, 0.47\n",
      "14:, 0.48\n",
      "15:, 0.46\n",
      "16:, 0.46\n",
      "17:, 0.47\n",
      "18:, 0.47\n",
      "19:, 0.48\n"
     ]
    }
   ],
   "source": [
    "for k in range(1,20):\n",
    "    model = KNeighborsClassifier(n_neighbors=k)\n",
    "    model.fit(dfTrain[cols], dfTrain['fee35'])    # make predictions\n",
    "    expected = dfTest['fee35']\n",
    "    predicted = model.predict(dfTest[cols])\n",
    "    # misclassification rate\n",
    "    error_rate = (predicted != expected).mean()\n",
    "    print('%d:, %.2f' % (k, error_rate))"
   ]
  },
  {
   "cell_type": "code",
   "execution_count": 41,
   "metadata": {
    "collapsed": false
   },
   "outputs": [
    {
     "name": "stdout",
     "output_type": "stream",
     "text": [
      "[0]\n"
     ]
    }
   ],
   "source": [
    "model = KNeighborsClassifier(n_neighbors=11)\n",
    "model.fit(dfTrain[cols], dfTrain['fee35'])\n",
    "predicted = model.predict([40,1])\n",
    "print predicted"
   ]
  }
 ],
 "metadata": {
  "kernelspec": {
   "display_name": "Python 2",
   "language": "python",
   "name": "python2"
  },
  "language_info": {
   "codemirror_mode": {
    "name": "ipython",
    "version": 2
   },
   "file_extension": ".py",
   "mimetype": "text/x-python",
   "name": "python",
   "nbconvert_exporter": "python",
   "pygments_lexer": "ipython2",
   "version": "2.7.11"
  }
 },
 "nbformat": 4,
 "nbformat_minor": 0
}
