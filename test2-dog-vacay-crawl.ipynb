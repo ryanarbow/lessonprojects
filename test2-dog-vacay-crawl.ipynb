{
 "cells": [
  {
   "cell_type": "code",
   "execution_count": 13,
   "metadata": {
    "collapsed": false
   },
   "outputs": [],
   "source": [
    "import requests\n",
    "from bs4 import BeautifulSoup\n",
    "import time\n",
    "import pandas as pd"
   ]
  },
  {
   "cell_type": "code",
   "execution_count": 14,
   "metadata": {
    "collapsed": true
   },
   "outputs": [],
   "source": [
    "url = 'https://dogvacay.com/dog-boarding--tx--austin'"
   ]
  },
  {
   "cell_type": "code",
   "execution_count": 15,
   "metadata": {
    "collapsed": true
   },
   "outputs": [],
   "source": [
    "r = requests.get(url)\n",
    "time.sleep(1)"
   ]
  },
  {
   "cell_type": "code",
   "execution_count": 16,
   "metadata": {
    "collapsed": false
   },
   "outputs": [
    {
     "data": {
      "text/plain": [
       "200"
      ]
     },
     "execution_count": 16,
     "metadata": {},
     "output_type": "execute_result"
    }
   ],
   "source": [
    "r.status_code"
   ]
  },
  {
   "cell_type": "code",
   "execution_count": 18,
   "metadata": {
    "collapsed": false
   },
   "outputs": [],
   "source": [
    "soup = BeautifulSoup(r.text)"
   ]
  },
  {
   "cell_type": "code",
   "execution_count": 19,
   "metadata": {
    "collapsed": false
   },
   "outputs": [],
   "source": [
    "sitters = soup.findAll(lambda tag:tag.name == \"div\" and \\\n",
    "                        len(tag.attrs) == 1 and \\\n",
    "                        tag.attrs.keys()[0] == \"search-list-item\")"
   ]
  },
  {
   "cell_type": "code",
   "execution_count": 20,
   "metadata": {
    "collapsed": false
   },
   "outputs": [
    {
     "data": {
      "text/plain": [
       "15"
      ]
     },
     "execution_count": 20,
     "metadata": {},
     "output_type": "execute_result"
    }
   ],
   "source": [
    "len(sitters)"
   ]
  },
  {
   "cell_type": "code",
   "execution_count": 141,
   "metadata": {
    "collapsed": false
   },
   "outputs": [
    {
     "data": {
      "text/html": [
       "<div style=\"max-height:1000px;max-width:1500px;overflow:auto;\">\n",
       "<table border=\"1\" class=\"dataframe\">\n",
       "  <thead>\n",
       "    <tr style=\"text-align: right;\">\n",
       "      <th></th>\n",
       "      <th>repeat</th>\n",
       "    </tr>\n",
       "  </thead>\n",
       "  <tbody>\n",
       "    <tr>\n",
       "      <th>0 </th>\n",
       "      <td> 3 </td>\n",
       "    </tr>\n",
       "    <tr>\n",
       "      <th>1 </th>\n",
       "      <td> 2 </td>\n",
       "    </tr>\n",
       "    <tr>\n",
       "      <th>2 </th>\n",
       "      <td> 21</td>\n",
       "    </tr>\n",
       "    <tr>\n",
       "      <th>3 </th>\n",
       "      <td>  0</td>\n",
       "    </tr>\n",
       "    <tr>\n",
       "      <th>4 </th>\n",
       "      <td> 1 </td>\n",
       "    </tr>\n",
       "    <tr>\n",
       "      <th>5 </th>\n",
       "      <td> 85</td>\n",
       "    </tr>\n",
       "    <tr>\n",
       "      <th>6 </th>\n",
       "      <td> 3 </td>\n",
       "    </tr>\n",
       "    <tr>\n",
       "      <th>7 </th>\n",
       "      <td> 9 </td>\n",
       "    </tr>\n",
       "    <tr>\n",
       "      <th>8 </th>\n",
       "      <td> 3 </td>\n",
       "    </tr>\n",
       "    <tr>\n",
       "      <th>9 </th>\n",
       "      <td>  0</td>\n",
       "    </tr>\n",
       "    <tr>\n",
       "      <th>10</th>\n",
       "      <td> 2 </td>\n",
       "    </tr>\n",
       "    <tr>\n",
       "      <th>11</th>\n",
       "      <td> 5 </td>\n",
       "    </tr>\n",
       "    <tr>\n",
       "      <th>12</th>\n",
       "      <td> 9 </td>\n",
       "    </tr>\n",
       "    <tr>\n",
       "      <th>13</th>\n",
       "      <td>  0</td>\n",
       "    </tr>\n",
       "    <tr>\n",
       "      <th>14</th>\n",
       "      <td> 21</td>\n",
       "    </tr>\n",
       "  </tbody>\n",
       "</table>\n",
       "</div>"
      ],
      "text/plain": [
       "   repeat\n",
       "0      3 \n",
       "1      2 \n",
       "2      21\n",
       "3       0\n",
       "4      1 \n",
       "5      85\n",
       "6      3 \n",
       "7      9 \n",
       "8      3 \n",
       "9       0\n",
       "10     2 \n",
       "11     5 \n",
       "12     9 \n",
       "13      0\n",
       "14     21"
      ]
     },
     "execution_count": 141,
     "metadata": {},
     "output_type": "execute_result"
    }
   ],
   "source": [
    "sitter = sitters[0]\n",
    "#times = []\n",
    "#fees = []\n",
    "#reviews = []\n",
    "#repeats = []\n",
    "city = []\n",
    "\n",
    "for sitter in sitters:\n",
    "    #rtwrap = sitter.findAll('i', {'class': 'dv-icion dv-icon_message-balloon_solid'})\n",
    "    rtwrap = sitter.findAll('li', {'class': 'dv-search-badge-item'})\n",
    "    if len(rtwrap) > 0:\n",
    "        response_time = rtwrap[0].text.strip('\\n')#[19:]\n",
    "    else:\n",
    "        response_time = -1\n",
    "    fee = sitter.findAll('span', {'class': 'dv-host-list-item__price__amount'})[0].text.strip()[1:]\n",
    "    #review = sitter.find('span', {'class': 'dv-host-review'})\n",
    "    #if review is not None and len(review) > 0:\n",
    "    #    review = int(review.text.replace('Reviews', '').replace('Review', '').strip())\n",
    "    #else:\n",
    "    #    review = 0\n",
    "    rpwrap = sitter.findAll('span', {'class': 'dv-host-repeat'})\n",
    "    if len(rpwrap) == 1: # and len(repeat.strip()) > 12:\n",
    "        repeat = rpwrap[0].text.strip()[:2]\n",
    "    else:\n",
    "        repeat = 0\n",
    "    title = soup.find('title').text\n",
    "    i = title.find(' Dog Boarding')\n",
    "    title = title[0:i]\n",
    "    #times.append(response_time)\n",
    "    #fees.append(fee)\n",
    "    #reviews.append(review)\n",
    "    #repeats.append(repeat)\n",
    "    city.append(title)\n",
    "df = pd.DataFrame({'title':repeats}) #'response_time': times, 'fee':fees, 'review':reviews,'repeat':repeats\n",
    "df"
   ]
  },
  {
   "cell_type": "code",
   "execution_count": null,
   "metadata": {
    "collapsed": false
   },
   "outputs": [],
   "source": []
  },
  {
   "cell_type": "code",
   "execution_count": null,
   "metadata": {
    "collapsed": true
   },
   "outputs": [],
   "source": []
  }
 ],
 "metadata": {
  "kernelspec": {
   "display_name": "Python 2",
   "language": "python",
   "name": "python2"
  },
  "language_info": {
   "codemirror_mode": {
    "name": "ipython",
    "version": 2
   },
   "file_extension": ".py",
   "mimetype": "text/x-python",
   "name": "python",
   "nbconvert_exporter": "python",
   "pygments_lexer": "ipython2",
   "version": "2.7.11"
  }
 },
 "nbformat": 4,
 "nbformat_minor": 0
}
