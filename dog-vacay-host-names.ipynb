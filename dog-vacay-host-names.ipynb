{
 "cells": [
  {
   "cell_type": "code",
   "execution_count": null,
   "metadata": {
    "collapsed": true
   },
   "outputs": [],
   "source": [
    "#What are the most common DogVacay host names?"
   ]
  },
  {
   "cell_type": "code",
   "execution_count": 2,
   "metadata": {
    "collapsed": true
   },
   "outputs": [],
   "source": [
    "import requests\n",
    "import pandas as pd\n",
    "import sqlite3 as lite\n",
    "import matplotlib.pyplot as plt\n",
    "import numpy as np\n",
    "import statsmodels.api as sm\n",
    "%matplotlib inline\n",
    "from collections import Counter\n",
    "import itertools\n",
    "import re"
   ]
  },
  {
   "cell_type": "code",
   "execution_count": 3,
   "metadata": {
    "collapsed": false
   },
   "outputs": [],
   "source": [
    "df = pd.read_csv('dog-vacay.csv')"
   ]
  },
  {
   "cell_type": "code",
   "execution_count": 4,
   "metadata": {
    "collapsed": false
   },
   "outputs": [
    {
     "data": {
      "text/plain": [
       "(4662, 18)"
      ]
     },
     "execution_count": 4,
     "metadata": {},
     "output_type": "execute_result"
    }
   ],
   "source": [
    "df.shape"
   ]
  },
  {
   "cell_type": "code",
   "execution_count": 5,
   "metadata": {
    "collapsed": true
   },
   "outputs": [],
   "source": [
    "df.drop(['Unnamed: 0'], axis=1, inplace=True)"
   ]
  },
  {
   "cell_type": "code",
   "execution_count": 6,
   "metadata": {
    "collapsed": false
   },
   "outputs": [
    {
     "data": {
      "text/html": [
       "<div style=\"max-height:1000px;max-width:1500px;overflow:auto;\">\n",
       "<table border=\"1\" class=\"dataframe\">\n",
       "  <thead>\n",
       "    <tr style=\"text-align: right;\">\n",
       "      <th></th>\n",
       "      <th>city</th>\n",
       "      <th>fee</th>\n",
       "      <th>names</th>\n",
       "      <th>ratings</th>\n",
       "      <th>repeat</th>\n",
       "      <th>response_time</th>\n",
       "      <th>review</th>\n",
       "      <th>services</th>\n",
       "      <th>boarding</th>\n",
       "      <th>sitting</th>\n",
       "      <th>daycare</th>\n",
       "      <th>checkups</th>\n",
       "      <th>walking</th>\n",
       "      <th>bathing</th>\n",
       "      <th>training</th>\n",
       "      <th>grooming</th>\n",
       "      <th>pickup/dropoff</th>\n",
       "    </tr>\n",
       "  </thead>\n",
       "  <tbody>\n",
       "    <tr>\n",
       "      <th>0</th>\n",
       "      <td> Phoenix, Arizona</td>\n",
       "      <td> 35</td>\n",
       "      <td> Big Backyard in Central Phoenix</td>\n",
       "      <td> 5</td>\n",
       "      <td>  8</td>\n",
       "      <td> 1</td>\n",
       "      <td> 26</td>\n",
       "      <td> 2</td>\n",
       "      <td> 1</td>\n",
       "      <td> 0</td>\n",
       "      <td> 1</td>\n",
       "      <td> 0</td>\n",
       "      <td> 0</td>\n",
       "      <td> 0</td>\n",
       "      <td> 0</td>\n",
       "      <td> 0</td>\n",
       "      <td> 0</td>\n",
       "    </tr>\n",
       "    <tr>\n",
       "      <th>1</th>\n",
       "      <td> Phoenix, Arizona</td>\n",
       "      <td> 35</td>\n",
       "      <td>            SUZY Q to the Rescue</td>\n",
       "      <td> 5</td>\n",
       "      <td> 16</td>\n",
       "      <td> 2</td>\n",
       "      <td> 30</td>\n",
       "      <td> 3</td>\n",
       "      <td> 1</td>\n",
       "      <td> 0</td>\n",
       "      <td> 0</td>\n",
       "      <td> 1</td>\n",
       "      <td> 0</td>\n",
       "      <td> 0</td>\n",
       "      <td> 0</td>\n",
       "      <td> 0</td>\n",
       "      <td> 1</td>\n",
       "    </tr>\n",
       "    <tr>\n",
       "      <th>2</th>\n",
       "      <td> Phoenix, Arizona</td>\n",
       "      <td> 35</td>\n",
       "      <td>               24/7 Dog boarding</td>\n",
       "      <td> 0</td>\n",
       "      <td>  0</td>\n",
       "      <td> 1</td>\n",
       "      <td>  0</td>\n",
       "      <td> 4</td>\n",
       "      <td> 1</td>\n",
       "      <td> 0</td>\n",
       "      <td> 1</td>\n",
       "      <td> 1</td>\n",
       "      <td> 1</td>\n",
       "      <td> 0</td>\n",
       "      <td> 0</td>\n",
       "      <td> 0</td>\n",
       "      <td> 0</td>\n",
       "    </tr>\n",
       "    <tr>\n",
       "      <th>3</th>\n",
       "      <td> Phoenix, Arizona</td>\n",
       "      <td> 38</td>\n",
       "      <td>            Messy4dogs@gmail.com</td>\n",
       "      <td> 5</td>\n",
       "      <td>  2</td>\n",
       "      <td> 3</td>\n",
       "      <td>  3</td>\n",
       "      <td> 4</td>\n",
       "      <td> 1</td>\n",
       "      <td> 0</td>\n",
       "      <td> 1</td>\n",
       "      <td> 1</td>\n",
       "      <td> 1</td>\n",
       "      <td> 0</td>\n",
       "      <td> 0</td>\n",
       "      <td> 0</td>\n",
       "      <td> 0</td>\n",
       "    </tr>\n",
       "    <tr>\n",
       "      <th>4</th>\n",
       "      <td> Phoenix, Arizona</td>\n",
       "      <td> 25</td>\n",
       "      <td>                    Pet Paradise</td>\n",
       "      <td> 5</td>\n",
       "      <td>  1</td>\n",
       "      <td> 1</td>\n",
       "      <td>  5</td>\n",
       "      <td> 4</td>\n",
       "      <td> 1</td>\n",
       "      <td> 0</td>\n",
       "      <td> 0</td>\n",
       "      <td> 1</td>\n",
       "      <td> 1</td>\n",
       "      <td> 1</td>\n",
       "      <td> 0</td>\n",
       "      <td> 0</td>\n",
       "      <td> 0</td>\n",
       "    </tr>\n",
       "  </tbody>\n",
       "</table>\n",
       "</div>"
      ],
      "text/plain": [
       "               city  fee                            names  ratings  repeat  \\\n",
       "0  Phoenix, Arizona   35  Big Backyard in Central Phoenix        5       8   \n",
       "1  Phoenix, Arizona   35             SUZY Q to the Rescue        5      16   \n",
       "2  Phoenix, Arizona   35                24/7 Dog boarding        0       0   \n",
       "3  Phoenix, Arizona   38             Messy4dogs@gmail.com        5       2   \n",
       "4  Phoenix, Arizona   25                     Pet Paradise        5       1   \n",
       "\n",
       "   response_time  review  services  boarding  sitting  daycare  checkups  \\\n",
       "0              1      26         2         1        0        1         0   \n",
       "1              2      30         3         1        0        0         1   \n",
       "2              1       0         4         1        0        1         1   \n",
       "3              3       3         4         1        0        1         1   \n",
       "4              1       5         4         1        0        0         1   \n",
       "\n",
       "   walking  bathing  training  grooming  pickup/dropoff  \n",
       "0        0        0         0         0               0  \n",
       "1        0        0         0         0               1  \n",
       "2        1        0         0         0               0  \n",
       "3        1        0         0         0               0  \n",
       "4        1        1         0         0               0  "
      ]
     },
     "execution_count": 6,
     "metadata": {},
     "output_type": "execute_result"
    }
   ],
   "source": [
    "df.head()"
   ]
  },
  {
   "cell_type": "code",
   "execution_count": 7,
   "metadata": {
    "collapsed": true
   },
   "outputs": [],
   "source": [
    "df['names'] = df['names'].apply(lambda x: str(x).split())"
   ]
  },
  {
   "cell_type": "code",
   "execution_count": 8,
   "metadata": {
    "collapsed": false
   },
   "outputs": [
    {
     "data": {
      "text/plain": [
       "Counter({'Dog': 557, 'Home': 333, 'Pet': 316, 'Puppy': 290, 'in': 286, '&': 264, 'and': 244, 'for': 222, 'Your': 221, 'Care': 205, 'The': 190, 'Doggie': 190, 'Doggy': 169, 'Love': 165, 'your': 165, 'Happy': 152, 'of': 152, 'Paws': 146, 'the': 145, 'A': 131, 'dog': 130, 'Paradise': 126, 'Dogs': 120, 'Sitting': 110, 'home': 108, 'with': 101, 'a': 100, 'Pup': 98, 'from': 97, 'Loving': 93, 'Away': 92, 'Retreat': 81, 'Lover': 75, 'Play': 73, 'Park': 72, 'to': 71, 'Canine': 70, 'House': 70, 'love': 66, '-': 63, 'Fun': 62, 'From': 61, 'Palace': 60, 'Sitter': 59, 'Pooch': 59, 'away': 55, 'Vacation': 54, 'at': 54, 'Tails': 52, 'Pups': 51, 'Best': 50, 'Place': 49, 'For': 49, 'Paw': 48, 'Daycare': 47, 'Hotel': 46, 'Services': 45, 'on': 45, 'West': 44, 'Boarding': 44, 'Stay': 43, 'Cozy': 43, 'Furry': 43, 'Haven': 43, 'Small': 42, \"Dog's\": 41, 'Home!': 41, 'Animal': 40, 'All': 39, 'East': 39, 'Pampered': 38, 'Friends': 38, 'Pad': 38, 'is': 37, 'We': 37, 'Camp': 37, 'Resort': 36, 'Family': 35, 'Paradise!': 35, 'Vacay': 35, 'dogs': 34, 'Inn': 34, 'Village': 34, 'Pets': 33, 'Woof': 33, 'I': 33, 'Beach': 33, 'lover': 32, 'care': 31, 'are': 31, 'home!': 31, 'Bed': 30, 'Hill': 30, 'will': 30, 'loving': 29, 'In': 29, 'Little': 29, 'Heaven': 29, 'Dogs!': 28, 'Just': 28, 'pup': 28, 'Getaway': 27, 'Side': 27, 'My': 27, 'B&B': 27, 'Friend': 27, ':)': 26, 'City': 26, 'Heights': 25, 'Big': 24, 'family': 24, 'pet': 24, 'by': 24, 'our': 24, 'my': 23, 'Fur': 23, 'Pack': 23, 'Bark': 23, 'Central': 23, 'Experienced': 22, 'Day': 22, '4': 22, 'Perfect': 22, 'Like': 22, 'Walks': 21, 'Pup!': 21, 'like': 21, '+': 20, 'Dog!': 20, 'Second': 20, '24/7': 20, 'puppy': 20, 'Great': 20, 'Come': 20, 'Park!': 20, 'Nanny': 20, 'Lover!': 19, 'you': 19, 'be': 19, 'Pals': 19, 'Lovers': 18, 'all': 18, 'Backyard': 18, 'To': 18, 'Wags': 18, 'Weekend': 17, 'best': 17, 'Upper': 17, 'Lots': 17, 'Fenced': 17, 'DOGS': 17, 'K9': 17, 'Yard': 17, 'Friendly': 17, 'South': 17, \"dog's\": 17, 'Care!': 16, 'w/': 16, 'Let': 16, 'Hound': 16, 'sitting': 16, 'Sweet': 16, 'Love!': 16, 'B': 15, 'DOG': 15, 'Walking': 15, 'Service': 15, 'Country': 15, 'Play!': 15, 'Lake': 15, 'Hounds': 14, 'LA': 14, 'Work': 14, \"It's\": 14, 'Our': 14, 'Pawfect': 14, 'vacation': 14, 'Doggies': 14, 'Vacay!': 14, '!': 14, 'Playtime': 14, 'Paw-some': 14, \"Pup's\": 14, 'Pal': 14, 'Retreat!': 13, 'dog!': 13, 'Pooches': 13, 'K-9': 13, 'Wagging': 13, 'Dream': 13, 'Pups!': 13, 'doggy': 13, 'Breakfast': 13, 'Playhouse': 13, 'Austin': 13, 'Brooklyn': 13, 'Hills': 12, 'Downtown': 12, 'Belly': 12, 'pets': 12, 'LOVE': 12, 'Playful': 12, 'Safe': 12, 'UWS': 12, 'place': 12, 'Farm': 12, 'Street': 12, 'sitter': 12, 'paradise': 12, 'Club': 12, 'With': 12, 'Tail': 12, 'Ruff': 12, 'paws': 12, 'Walker': 12, 'Barks': 11, 'Urban': 11, 'North': 11, 'Leave': 11, 'near': 11, 'Are': 11, 'Adventures': 11, 'CARE': 11, 'fun': 11, 'Time!': 11, 'Long': 11, 'Cuddles': 11, 'Puppies': 11, 'Cat': 11, 'San': 11, 'Good': 11, 'Active': 11, 'You': 11, 'stay': 11, 'Will': 10, 'Wow': 10, 'Welcome!': 10, 'Staycation': 10, 'welcome': 10, 'Life': 10, 'Caring': 10, 'Comfy': 10, 'Luv': 10, 'Welcome': 10, 'friend': 10, 'Valley': 10, \"Puppy's\": 10, 'Spoiled': 10, 'Luxury': 10, 'Bay': 10, 'doggie': 10, 'Auntie': 10, 'Ranch': 10, 'HAPPY': 10, 'Awesome': 10, 'Back': 10, 'Couple': 10, 'Santa': 10, 'Professional': 10, \"Lovin'\": 10, 'Be': 10, 'Walk': 10, 'Attention': 9, 'Days': 9, 'Bungalow': 9, 'Heart': 9, 'Getaway!': 9, 'time': 9, 'Where': 9, 'Quiet': 9, 'Time': 9, 'Oasis': 9, 'Hollywood': 9, 'DC': 9, 'Pampering': 9, 'Daycare!': 9, 'Critter': 9, 'pup!': 9, 'or': 9, 'UES': 9, 'small': 9, 'Mama': 9, 'Lounge': 9, 'play': 9, 'Bow': 9, 'Fun!': 9, 'Heaven!': 9, 'own': 9, 'love!': 9, 'R': 9, 'Mutt': 9, 'Loves': 9, 'Den': 9, 'Sitter!': 9, 'Prospect': 9, 'Here': 8, 'Paw-Some': 8, 'Palace!': 8, 'Pawsitively': 8, 'Casa': 8, 'Pawsome': 8, 'Petsitting': 8, 'happy': 8, \"'n\": 8, 'Me': 8, 'dogs!': 8, 'Pawsitive': 8, '2': 8, 'Spot': 8, 'End': 8, 'Castle': 8, 'Monica': 8, 'lovers': 8, 'Training': 8, 'Loving,': 8, 'backyard': 8, 'TLC': 8, 'BnB': 8, 'PAWS': 8, 'Penthouse': 8, 'Fun,': 8, \"I'll\": 8, 'HOME': 8, 'baby': 8, 'Party': 8, 'One': 8, 'yard': 8, 'Plenty': 8, 'loves': 8, 'have': 8, '=': 8, 'Buddy': 8, 'Sleep': 8, 'Lodge': 7, 'it': 7, 'Four': 7, 'too!': 7, 'Sanctuary': 7, '2nd': 7, 'Responsible': 7, 'furry': 7, 'Whiskers': 7, 'retreat': 7, '/': 7, 'when': 7, \"Friend's\": 7, 'Owner': 7, 'SITTING': 7, 'Always': 7, 'Passionate': 7, 'tails': 7, 'pups!': 7, 'friends!': 7, 'Give': 7, 'Silver': 7, 'Own': 7, 'Hideaway': 7, 'New': 7, 'Me!': 7, 'NE': 7, 'Precious': 7, 'heaven': 7, 'Must': 7, 'Paws!': 7, 'Friends!': 7, '24': 7, 'Full': 7, 'lover!': 7, 'family!': 7, 'part': 7, 'Peace': 7, 'Zen': 7, 'Wag': 7, 'while': 7, 'Playground': 7, 'as': 7, 'Not': 7, 'friendly': 7, 'Spa': 7, 'Biscuit': 7, 'Loved': 7, 'Pets!': 7, 'Reliable': 7, 'NW': 7, 'Diego': 7, 'High': 7, 'treat': 7, 'LLC': 7, 'Us': 7, 'Sitters': 7, 'Philly': 7, 'NYC': 6, '@': 6, 'Companion': 6, 'Petite': 6, 'House!': 6, 'Spot!': 6, 'Uptown': 6, 'Parkside': 6, '(and': 6, \"Doggie's\": 6, 'Mind': 6, 'BIG': 6, 'Forest': 6, \"Hell's\": 6, \"n'\": 6, 'Jersey': 6, 'yard!': 6, 'Red': 6, 'here!': 6, '1': 6, 'LOVING': 6, 'little': 6, 'Haven!': 6, 'Paw-fect': 6, 'Party!': 6, 'Corner': 6, 'where': 6, 'FOR': 6, 'PET': 6, 'Is': 6, 'pups': 6, 'Doxie': 6, 'Kisses': 6, 'Kitchen': 6, 'Lady': 6, \"I'm\": 6, 'Concierge': 6, 'house': 6, 'More': 6, 'Boston': 6, 'Delight': 6, 'While': 6, 'Square': 6, 'Student': 6, 'At': 6, 'Charlotte': 6, 'Pacific': 6, 'play!': 6, 'Vet': 6, 'ALL': 6, 'Sleepover': 6, 'Playmates': 6, 'NJ': 6, \"you're\": 6, 'Pugs': 6, '**': 6, 'lots': 6, 'Mom': 6, 'Cottage': 6, 'Delightful': 6, 'Holiday': 6, 'Get': 6, 'AND': 6, 'Need': 6, 'Chalet': 6, 'Two': 6, 'Date': 6, 'Hangout': 5, 'Watch': 5, 'fur': 5, 'pawsome': 5, 'Wonderland': 5, 'Express': 5, 'me': 5, 'Crazy': 5, 'room': 5, 'DOGGIE': 5, 'Kids': 5, 'babies': 5, 'owner': 5, 'Posh': 5, 'palace': 5, 'Lakeside': 5, 'de': 5, 'Stay!': 5, 'District': 5, 'Digs': 5, 'Astoria': 5, 'Here!': 5, 'speak': 5, 'Playdate': 5, 'Claws': 5, 'Las': 5, 'Destination': 5, 'Tiny': 5, 'Near': 5, 'Grad': 5, 'Golden': 5, 'Sit': 5, 'Midtown': 5, 'Columbia': 5, 'Sharing': 5, 'When': 5, 'Who': 5, 'not': 5, 'Apt': 5, \"Waggin'\": 5, 'Large': 5, 'Dedicated': 5, '3': 5, 'Overnight': 5, \"can't\": 5, 'It': 5, 'TO': 5, 'Rock': 5, 'No': 5, 'Boarding!': 5, 'Real': 5, 'Top': 5, 'Loving!': 5, 'Peaceful': 5, 'People': 5, 'student': 5, 'Pleasant': 5, 'park': 5, 'Cloud': 5, 'Babies': 5, 'Suite': 5, 'Affordable': 5, 'attention': 5, 'Happiness': 5, 'N': 5, 'About': 5, 'Living': 5, 'Comforts': 5, 'Manhattan': 5, 'fenced': 5, 'exercise': 5, 'us!': 5, 'Lovely': 5, 'Seasons': 5, 'HUGE': 5, 'day': 5, 'Experience': 5, 'Beacon': 5, 'And': 5, 'Garden': 5, 'Cuddle': 5, 'Spring': 5, 'Have': 5, 'Pawesome': 5, 'Deluxe': 5, 'Mike': 5, 'Pamper': 5, 'Fido': 5, 'Amazing': 5, 'friends': 5, 'Private': 5, 'Host': 4, 'Go': 4, 'me!': 4, 'new': 4, 'Scripps': 4, 'active': 4, 'pack': 4, 'Pasadena': 4, 'Star': 4, \"Michele's\": 4, 'Beyond': 4, 'Blue': 4, 'Rover': 4, 'Doghouse': 4, 'Warm': 4, 'Super': 4, 'Bliss': 4, 'service': 4, 'Daddy': 4, 'See': 4, 'Dogsitting': 4, 'luxury': 4, \"Doggy's\": 4, 'doggies': 4, 'Quality': 4, 'PAW': 4, 'Free': 4, \"We're\": 4, 'Branch': 4, 'backyard!': 4, 'LIC': 4, 'Rub': 4, 'here': 4, 'Yard!': 4, 'Board': 4, 'Boxer': 4, 'Night': 4, 'Around': 4, 'Stop': 4, 'Room': 4, 'hang': 4, 'Heavenly': 4, 'Surprise': 4, 'Furbabies': 4, 'YOUR': 4, 'who': 4, 'Retired': 4, 'Provider': 4, 'Slumber': 4, 'Tales': 4, 'Endless': 4, 'St': 4, 'Frenchie': 4, 'Westside': 4, 'Buddies': 4, 'Secure': 4, 'best!': 4, 'Chateau': 4, '1st': 4, 'live': 4, 'Smooches': 4, 'Life!': 4, 'cat': 4, 'heart': 4, 'Oaks': 4, 'THE': 4, 'Dallas': 4, 'World': 4, 'Sleepover!': 4, 'Romp': 4, 'Ultimate': 4, 'Mile': 4, 'Certified': 4, 'oasis': 4, 'lovers!': 4, \"'em\": 4, 'Break': 4, 'Healthy': 4, 'only': 4, 'H': 4, 'Grateful': 4, \"Mimi's\": 4, 'Leader': 4, 'Pair': 4, 'rubs': 4, 'Learn': 4, 'Yappy': 4, 'care,': 4, 'care.': 4, 'pad': 4, 'Clean': 4, 'caring': 4, 'Poochies': 4, 'walks': 4, 'Station': 4, 'Only': 4, 'Cane': 4, 'host': 4, '~': 4, 'Lower': 4, 'good': 4, 'Huge': 4, 'Hugs': 4, 'comfy': 4, 'Recreation': 4, 'services': 4, 'Mommy': 4, 'Springs': 4, 'Portland': 4, 'Part': 4, 'More!': 4, 'Way': 4, \"Grandma's\": 4, 'Adventure': 4, 'On': 4, 'They': 4, 'Of': 4, 'couple': 4, 'Bones': 4, 'Last': 4, 'Metro': 4, 'Woof!': 4, 'Family!': 4, 'Lucky': 4, 'them': 4, 'vacay': 4, 'great': 4, 'Kitty': 4, 'Beagle': 4, 'Cats': 4, 'animal': 4, 'Friend!': 4, 'Love,': 4, 'BFF': 4, \"Angel's\": 4, 'out': 4, 'Baby': 4, 'need': 4, 'Colinas': 4, 'Decatur': 4, 'Canines': 4, 'Vacation!': 4, 'Pawz': 4, 'Area': 4, 'Culver': 4, 'LOVER': 4, 'Comfort': 4, 'VIP': 4, 'pets!': 4, 'TAILS': 4, 'Poochie': 4, 'Up': 4, \"We'll\": 4, 'Sit,': 4, 'Sit.': 4, 'U': 4, 'Pawradise': 3, 'buddy': 3, 'Less': 3, 'Premier': 3, 'Sandy': 3, 'second': 3, 'Available': 3, 'Weekends!': 3, 'Person': 3, 'warm': 3, 'Crown': 3, 'Pupper': 3, 'Guest': 3, 'Rotten': 3, 'some': 3, 'Sunnyside': 3, 'large': 3, 'NY': 3, 'Today': 3, 'Cambridge': 3, 'Get-Away': 3, 'Smiley': 3, 'Summit': 3, 'Sunset': 3, 'Come,': 3, \"Let's\": 3, 'Run': 3, 'Reliable,': 3, 'Too!': 3, 'Dawg': 3, 'life': 3, 'relaxing': 3, 'n': 3, 'Call': 3, 'Williamsburg': 3, 'spoiled': 3, 'Dogs,': 3, 'Harlem': 3, 'Pet!': 3, 'Grass': 3, 'night': 3, 'Puppy!': 3, 'people': 3, 'Pad!': 3, 'First': 3, 'Prince': 3, 'WOOF': 3, \"Kelsey's\": 3, 'Extraordinaire': 3, \"Rover's\": 3, 'Boerum': 3, 'Tons': 3, 'Vista': 3, 'Critters': 3, 'Falls': 3, 'Paw-Fect': 3, 'weekend': 3, 'Mission': 3, 'Dad': 3, 'City!': 3, 'Spotted': 3, 'Down': 3, 'Enthusiast': 3, 'Dog-Gone': 3, 'Home,': 3, 'Creek': 3, 'UES!': 3, 'SE': 3, 'Bed,': 3, 'La': 3, 'CAMP': 3, 'Domain': 3, 'Paw-radise': 3, \"Cindy's\": 3, 'dogs.': 3, 'huge': 3, '!!!': 3, 'wagging': 3, 'Hijinx!': 3, 'so': 3, 'Stomping': 3, 'Kirby': 3, 'hugs': 3, 'Bay!': 3, 'Place!': 3, 'space': 3, 'Door': 3, 'Dachshund': 3, \"Bella's\": 3, 'Beverly': 3, 'Inc.': 3, 'Do': 3, 'Land!': 3, 'Off': 3, 'Supervision': 3, 'Has': 3, 'Hollywood!': 3, 'cuddles': 3, 'Chez': 3, 'woof': 3, 'Studio': 3, 'get': 3, 'Right': 3, 'Service!': 3, 'Denise': 3, 'Grant': 3, 'Grand': 3, 'Chestnut': 3, 'That': 3, 'Plus+': 3, 'Escape': 3, 'Stay-cation': 3, 'Heights!': 3, 'But': 3, 'life!': 3, 'Lauren': 3, 'Venice': 3, 'Acre': 3, 'Looking': 3, \"You're\": 3, 'Island': 3, 'Aunt': 3, 'Calling': 3, 'Condo': 3, 'pooch': 3, 'Flexible!': 3, 'Walks,': 3, 'Hostel': 3, 'Leash': 3, 'cats': 3, 'you!': 3, 'Close': 3, 'FAMILY': 3, 'want': 3, 'Lab': 3, 'Helping': 3, 'Walker/Sitter': 3, 'DogVacay': 3, 'stay!': 3, 'Round': 3, 'Beachside': 3, \"Don't\": 3, 'Denver': 3, 'Responsible,': 3, 'Whisperer': 3, 'hours': 3, 'Avenue': 3, 'Border': 3, 'Too': 3, 'Beach!': 3, 'Russian': 3, 'So': 3, 'Plaza': 3, 'del': 3, 'Dreams': 3, '(dog)': 3, \"Buster's\": 3, \"that's\": 3, 'Duo': 3, 'Spacious,': 3, 'Senior': 3, 'Town': 3, 'Guardian': 3, \"Kat's\": 3, 'SMALL': 3, 'Playhouse!': 3, 'Out!': 3, 'Snuggle': 3, \"Rachel's\": 3, 'Power': 3, 'Seeks': 3, 'experienced': 3, 'clean': 3, 'Expert': 3, 'outdoor': 3, 'Favorite': 3, 'PAWty': 3, 'Playa': 3, 'available': 3, 'Dupont': 3, 'Trails': 3, \"D's\": 3, 'Collie': 3, 'fun!': 3, 'Hotel!': 3, 'College': 3, 'PARADISE': 3, 'Miss': 3, 'Mutts': 3, 'Delight!': 3, 'Marina': 3, 'Marine': 3, 'ruff': 3, 'PAWsome': 3, 'Shack!': 3, 'Koreatown': 3, 'Obsessed': 3, \"Fido's\": 3, 'Young': 3, 'Boulder': 3, 'Animals': 3, 'us': 3, 'An': 3, 'Au': 3, 'Seeking': 3, 'garden': 3, 'Compassionate': 3, 'Former': 3, 'Oasis!': 3, 'Staycation!': 3, 'apt': 3, ':-)': 3, 'animals': 3, 'LIKE': 3, 'Dogtown': 3, 'sit': 3, 'Host!': 3, 'Paw-ty!': 3, 'BowWow': 3, 'Help': 3, 'Katy': 3, 'Furever': 3, 'vacation!': 3, 'playground': 3, 'time!': 3, 'Pupster': 3, 'Gone': 3, 'times': 3, 'Lincoln': 3, 'Arvada': 3, 'Z&Z': 3, 'Spa!': 3, 'Pom': 3, 'Home:': 3, 'Eat,': 3, '(': 3, 'Dog-tastic': 3, 'Very': 3, 'Minute': 3, 'Maggie': 3, 'Preserve': 3, 'own!': 3, 'Caring!': 3, 'home,': 3, 'an': 3, 'Reliable!': 3, 'ball': 3, 'By': 3, \"Jen's\": 3, 'works': 3, 'about': 3, 'UR': 3, '!!': 3, \"Donna's\": 3, 'Chill': 3, 'Hair': 3, \"Doesn't\": 3, 'Never': 3, 'Waggers': 3, 'Five': 3, 'Club!': 3, \"Stephanie's\": 2, '(for': 2, 'Scottsdale': 2, 'Platt': 2, \"'sweet\": 2, 'Pasadena!': 2, 'Bark,': 2, 'PDX': 2, 'GO': 2, 'Passyunk': 2, 'Lovers!': 2, \"Cosmo's\": 2, 'Join': 2, 'Sabbatical': 2, 'Tenley': 2, 'enjoy': 2, 'others)': 2, \"Sabine's\": 2, 'Pun': 2, 'This': 2, 'Pupquatics': 2, 'Presidential': 2, 'Faced': 2, \"Canine's\": 2, 'Church': 2, 'Burbank': 2, 'were': 2, 'studio': 2, \"Nicole's\": 2, 'Mikko?s': 2, \"Laura's\": 2, 'sitting,': 2, 'RITZ': 2, \"Kathy's\": 2, 'Three': 2, 'company!': 2, 'DOGS!': 2, \"Jennine's\": 2, 'Cage-free': 2, 'cost': 2, '4EVER': 2, 'Pow': 2, 'Legged': 2, 'Sassy': 2, \"'s\": 2, 'Tudor': 2, 'Woof-woof': 2, 'Westgate': 2, 'Krintzmans': 2, 'Puppy-Friendly': 2, 'Motel': 2, 'Seaport': 2, '55+': 2, '(Dog)House': 2, 'LB': 2, 'Irvine': 2, \"Kelly's\": 2, 'Yorker': 2, 'Home!!!': 2, 'PAW-tastic': 2, 'Westbury': 2, 'HAVEN': 2, \"Jo's\": 2, '(outdoor': 2, \"SpacePig's\": 2, \"What's\": 2, 'better': 2, '(They': 2, \"Stacy's\": 2, 'Ditmas': 2, 'safe': 2, 'welcome!': 2, 'Hill!': 2, \"Dogs'\": 2, \"Hillary's\": 2, 'Palace:': 2, \"Bo's\": 2, 'Aspen': 2, \"Madonna's\": 2, 'day!': 2, 'Dog!!!': 2, 'Paw-sitively': 2, \"Pooche's\": 2, 'might': 2, 'dogsitter!': 2, 'Kentland': 2, 'VACAY!': 2, 'days': 2, \"Wendy's\": 2, 'WATCHER': 2, 'trainer,': 2, 'trainer.': 2, 'Sunrise': 2, 'Chihuahua': 2, 'too.': 2, 'too)': 2, 'Dogtastic': 2, 'Admo': 2, 'Johns': 2, \"Alex's\": 2, 'Doggies!': 2, 'too': 2, 'Dog/Cat': 2, 'Fluffy!': 2, 'boarding': 2, 'air!': 2, 'dog,': 2, 'Playdates': 2, 'Blvd.': 2, 'Wonderland!': 2, 'Wiggles': 2, 'Angels': 2, \"Gayle's\": 2, 'Linwood': 2, 'Parenting': 2, 'Dogwood': 2, 'Over': 2, 'Walking/': 2, 'Southbay': 2, 'Bone': 2, 'Dynasty': 2, 'Encinitas': 2, 'dogs!!': 2, 'Its': 2, 'Union': 2, 'S': 2, 'w/2': 2, 'unleashed': 2, 'Ones': 2, 'Stays': 2, 'run.': 2, 'Dayz': 2, \"Allie's\": 2, 'di': 2, 'Peeps': 2, 'Dogged': 2, 'Brookland': 2, 'licking': 2, 'Fishtown': 2, 'EastVill.': 2, 'Doggey': 2, 'playtime': 2, \"Angie's\": 2, 'Moines': 2, 'we': 2, 'Tree': 2, 'Lazy': 2, 'PUPPY': 2, 'Duboce': 2, 'Yard,': 2, 'PUPPIES,': 2, 'Oscar': 2, 'Apartment': 2, 'Puppysitter!': 2, 'Marine/K9': 2, 'Southern': 2, 'now!': 2, '.': 2, 'Flowery': 2, \"Bugbee's\": 2, 'lovely': 2, 'Diggs': 2, 'CA': 2, 'Berkeley': 2, 'Posse': 2, 'there...': 2, 'Other': 2, 'sitting!': 2, 'Playpen': 2, 'Bennie': 2, \"Barker's\": 2, 'Ideal': 2, 'Spacious': 2, 'Furr-ever': 2, 'UWS!': 2, 'airport': 2, 'belly': 2, 'Schulte': 2, \"Tamara's\": 2, \"Rosie's\": 2, 'Dreamzzz': 2, 'delight': 2, 'F/T': 2, 'Mini': 2, 'Game': 2, 'Oliver!': 2, 'Manager': 2, \"Jean's\": 2, 'DOGGY': 2, 'nights)': 2, 'beloved': 2, \"Sammy's\": 2, 'has': 2, 'Pet:': 2, \"Jackie's\": 2, \"Seattle's\": 2, 'Other.': 2, 'Chews': 2, 'aPAWrtment': 2, 'Biscayne': 2, 'Weho': 2, 'Ho': 2, 'steps': 2, 'Daily': 2, 'Foxhall': 2, 'Property': 2, 'Nicholsons!': 2, 'Baxter': 2, 'Madison': 2, 'Barkhaus': 2, 'Dogcare': 2, 'Fairmount': 2, 'Mode': 2, 'mommie': 2, 'Make': 2, 'Unleashed': 2, \"'um\": 2, \"Bijou's\": 2, 'Amigos': 2, \"Mel's\": 2, 'party!': 2, 'Rocky': 2, 'OUR': 2, 'true': 2, 'Happily': 2, 'no': 2, 'Running': 2, \"Honey's\": 2, 'Ruff!': 2, 'Win': 2, 'Retreat-Fun': 2, 'Pacifica': 2, 'mile': 2, 'Poodles': 2, 'Playground!': 2, 'Secondary': 2, 'Grove': 2, 'furbaby!': 2, 'Wissahickon': 2, 'Kanines': 2, 'Rey': 2, 'getaway!': 2, 'Checkups.': 2, 'CourtneysCARE4Critters': 2, 'Lover4Ever': 2, \"Carrie's\": 2, 'True': 2, 'River!': 2, 'Forever': 2, 'Emma': 2, 'Mo': 2, 'yards': 2, 'Slope': 2, 'dog.': 2, 'SF': 2, 'MY': 2, 'Galore!': 2, 'Beau?s': 2, 'Dog-loving': 2, 'Hello': 2, 'Remember': 2, 'Watchers': 2, 'club': 2, 'paw-pampered': 2, 'Mount': 2, 'Hayes': 2, 'Alexandria': 2, 'LuvUrPetCare': 2, 'Homestay': 2, 'Stress-Free': 2, 'Archive': 2, 'Trusted': 2, 'CANINE': 2, \"waggin'\": 2, 'VACATION': 2, 'space)': 2, 'Duvall!': 2, 'CRITTER': 2, 'View': 2, 'Exclusive': 2, 'Clock': 2, 'Pug': 2, 'rooftop': 2, 'CASTLE!': 2, 'Unlimited': 2, 'Those': 2, 'Kamp': 2, 'Unconditional': 2, 'Paws-itively': 2, 'Eastmoreland': 2, 'Sleepovers': 2, 'beach': 2, \"Stewie's\": 2, 'Spelled': 2, 'SleepOver': 2, 'Simply': 2, 'W.': 2, 'Pawfice': 2, 'leave...': 2, 'Live': 2, 'Yrs': 2, 'Barkfest': 2, \"(Carol's)\": 2, 'DogGone': 2, 'TX': 2, 'Relaxing': 2, 'Key': 2, 'Woofers': 2, 'blast!!': 2, 'Bushwick': 2, 'Being': 2, 'sitter!': 2, 'Friends,': 2, 'xo': 2, 'Royal': 2, 'Haven,': 2, 'Creature': 2, 'Des': 2, 'Rescue!': 2, 'Fur-EVER': 2, 'Studebaker/Spring,': 2, 'doggies!@Dream': 2, 'Pugs!': 2, \"Amy's\": 2, 'Houston-for': 2, 'Grooming': 2, 'than': 2, 'Canyon': 2, \"Meg's\": 2, 'Calm': 2, 'Puppalooza': 2, 'Sitting!': 2, 'CLAWS': 2, 'Petsitter': 2, 'Parade!': 2, 'Trainer': 2, 'daycare!!': 2, 'WE': 2, 'Gate': 2, 'Roll': 2, 'Woman': 2, '24hr': 2, 'Pawful': 2, 'Happytails!': 2, 'Cabana': 2, 'enjoys': 2, 'Villa': 2, 'YES': 2, 'LoDo/Downtown-': 2, 'hour': 2, 'Prisky': 2, 'pUptown': 2, \"Rose's\": 2, 'Rubs': 2, \"TJ's\": 2, 'McLean': 2, 'Were': 2, 'dates': 2, 'Happy,': 2, \"Bloo's\": 2, 'Smiling': 2, \"'The\": 2, 'CHIC': 2, 'Riverside': 2, 'Extraordinaire!': 2, 'peaceful': 2, \"Hannah's\": 2, 'Pawtrero': 2, \"TB&J's\": 2, 'Jungle': 2, 'Laurel': 2, 'Love!!!': 2, 'quiet': 2, 'Pawstactular': 2, 'Flexible': 2, 'home-away-from-home': 2, 'Shack': 2, '$20': 2, 'doggy!': 2, \"Ella's\": 2, 'Strolls*': 2, 'Plano': 2, 'pal': 2, 'Clear': 2, 'Experienced,': 2, 'Buckhead': 2, 'Pups,': 2, 'Missy': 2, 'Kenzoo': 2, 'BowWow!': 2, 'Everyday!': 2, 'cat!': 2, 'pup.': 2, 'kennel': 2, 'Lover!!!': 2, 'Home+Backyard': 2, 'Jolly': 2, 'Jolla': 2, 'Bully': 2, 'Black': 2, 'ASmallBiteOfParadise': 2, 'Contented': 2, '~*~': 2, \"Lov'em\": 2, 'Biscuits': 2, 'Nest': 2, 'Paws-tastic!': 2, 'Tysons': 2, 'lot': 2, 'Walk;': 2, 'J': 2, \"N'\": 2, 'Canterbury': 2, 'PAMPERED': 2, 'LES': 2, \"PamPURR'd\": 2, 'Space': 2, 'Nirvana': 2, 'Field!': 2, 'deserve': 2, 'Skippy!': 2, 'Pawcare': 2, \"Pancho's\": 2, \"Lizzie's\": 2, \"Retrievin'\": 2, 'much': 2, 'Mpls.': 2, 'Dogsit': 2, 'calls': 2, 'Runner': 2, 'meow-meow': 2, \"Mary's\": 2, 'Cleo': 2, 'roomates!': 2, 'Fit': 2, 'Willamette': 2, \"Pet's\": 2, 'Ground': 2, 'very': 2, 'purr-fect': 2, 'Nursing': 2, 'Class': 2, 'Pupparoos!': 2, 'Needs': 2, 'Danehy': 2, \"Deana's\": 2, 'Resort!': 2, 'Cape': 2, \"Bear's\": 2, 'SENIOR-MED-BLIND-DEAF': 2, 'Ranch!': 2, 'Glover': 2, 'WagTailsPhilosophy': 2, \"Also's\": 2, 'supervision': 2, 'Brooklyn!': 2, 'Style': 2, '24-7': 2, 'Clarks': 2, 'Play-Care': 2, 'Babysitting!': 2, 'You!': 2, 'more': 2, 'Butter': 2, 'company': 2, 'Fairy': 2, 'Willows': 2, 'Prints': 2, 'Town!': 2, 'PAWSOME': 2, 'SC': 2, 'Cathedral': 2, 'Bonita': 2, \"Sally's\": 2, \"Pawla's\": 2, 'Valdemar': 2, \"Paws'\": 2, 'comfort': 2, 'home...': 2, 'foresees': 2, 'Dreamy': 2, 'Mighty': 2, 'Paradise!!': 2, 'Pupsitter': 2, 'Dreamland': 2, 'dogs)!': 2, \"Jessi's\": 2, 'Pupperville': 2, 'overnight': 2, 'Felix': 2, 'lover.': 2, \"Liza's\": 2, \"Havana's\": 2, 'Apartment!': 2, 'Pats': 2, \"Boomer's\": 2, '20': 2, 'Houndstooth': 2, 'resort': 2, 'Paradise,': 2, 'Silverlake': 2, 'Dog-Loving': 2, 'Sound': 2, 'Undivided': 2, 'seeking': 2, 'God': 2, 'all!': 2, 'Proudly': 2, ':D': 2, 'Specialist!': 2, 'Ready': 2, 'friendship': 2, 'Portland!': 2, 'house!': 2, 'P.E.T.': 2, 'Gigi': 2, 'Vaca!': 2, 'Citt?': 2, 'Boston.': 2, 'Dogs/Cats': 2, 'Boston!': 2, 'Walking.': 2, \"Sparky's\": 2, 'Hour': 2, 'People,': 2, 'Fantastic': 2, 'Dogs...': 2, 'Redondo': 2, 'Playcation': 2, 'Donya': 2, 'Paw-BnB': 2, 'guest': 2, 'family.': 2, 'Hands!': 2, 'Out:': 2, 'Roam': 2, 'Road': 2, 'Board!': 2, 'getaway': 2, 'Concordia': 2, 'Cozy,': 2, \"Knox's\": 2, 'getaway.': 2, 'Astoria!': 2, 'option': 2, \"Helen's\": 2, 'Virginia': 2, 'KITTIES,': 2, 'Petcare': 2, 'Pet..': 2, 'M': 2, 'Coach/Instructor': 2, 'Capitol': 2, 'Momma': 2, 'plays!': 2, 'JC': 2, 'Kuddle': 2, \"Lola's\": 2, 'PawTastic': 2, 'Pup-Tastic': 2, 'Minneapolis': 2, 'Beloved': 2, 'Vogelbach': 2, \"Man's\": 2, 'YARD': 2, 'RETREAT': 2, 'Florida': 2, 'acre': 2, 'Play,': 2, 'Makes': 2, 'deserves!': 2, 'Hoboken': 2, 'Grandma/': 2, 'fun.': 2, 'Lovin': 2, '(Fri&Sat': 2, 'mind': 2, \"Sidney's\": 2, 'Mtn': 2, 'Fetch': 2, 'Founder': 2, 'Feel': 2, 'Whisper': 2, 'Daygo': 2, 'would': 2, 'Minute-River': 2, 'Photographer': 2, 'Shaggy': 2, 'Bothell': 2, 'away,': 2, 'AWAY': 2, 'away!': 2, '9': 2, 'Please!!!': 2, 'Bernal': 2, 'Insert': 2, 'YOU': 2, '72': 2, 'Kare': 2, 'Girl': 2, \"Hounds'\": 2, '*Shaggy': 2, 'Officer': 2, 'Pet-Sitter': 2, 'Frenchy': 2, \"Rocky's\": 2, 'Fresh': 2, 'prince': 2, 'veterinarian!': 2, 'Zen!': 2, 'Yorkie!': 2, 'reTREAT': 2, \"Poky's\": 2, 'adventures!': 2, 'ON': 2, 'PAWSitive': 2, 'OF': 2, 'A-mazing': 2, 'Yip': 2, 'Bath': 2, 'Choose': 2, 'Sitter!!': 2, 'Poochy': 2, 'Flat': 2, \"Coco's\": 2, 'mutts': 2, 'Pooch!': 2, 'deserves': 2, \"Nothin'\": 2, \"Charming's\": 2, 'Moonflower': 2, 'Dates': 2, 'Companions': 2, 'Baby!': 2, 'walks,': 2, 'PUpper': 2, 'long': 2, 'Royalty': 2, 'Excellent': 2, 'Fuzzy': 2, 'Collar': 2, 'Sitting.': 2, 'loop!': 2, 'Guaranteed!': 2, \"legs'\": 2, 'up': 2, 'Caretaker': 2, 'Animals!!': 2, 'Avid': 2, 'Parks': 2, 'Dripping': 2, \"Lilly's\": 2, 'Biscuits...a': 2, 'Petworth': 2, 'Mar': 2, 'Manor': 2, \"DeGrace's\": 2, \"Nancy's\": 2, 'Lennox': 2, \"CHRISTINA'S\": 2, 'Platte': 2, 'home..': 2, 'Wag,': 2, 'visits': 2, 'Sit.Stay.Play.': 2, 'Heaven!!': 2, 'guaranteed!': 2, 'Doogie': 2, 'Covina': 2, 'Snuggles': 2, 'walker': 2, 'Luxe': 2, 'happy&': 2, 'sanctuary': 2, 'Center!': 2, 'Noe': 2, 'Nob': 2, 'Stress': 2, 'Treat': 2, 'Better': 2, 'PawsParadise': 2, \"Lou's\": 2, 'ONLY': 2, 'paw-fect': 2, 'lovin!': 2, 'Stay.)': 2, 'Backwards': 2, 'Hard,': 2, 'Hard!': 2, 'Highlands': 2, 'cozy': 2, 'weekends!': 2, \"Steph's\": 2, 'Funhouse': 2, 'Carlsbad': 2, 'Greenwich': 2, \"Sara's\": 2, 'Land': 2, 'legs!': 2, 'Hosting': 2, 'Honest': 2, 'had': 2, \"Dolly's\": 2, 'Aventura': 2, 'Pawstacular': 2, \"Byrd's\": 2, 'Wayside': 2, 'Police': 2, \"Buddy's\": 2, 'Beast': 2, \"Dixie's\": 2, 'PETSITTER': 2, \"Judy's\": 2, 'daycare': 2, 'Presidio': 2, 'summer!': 2, 'Awaits': 2, 'Peace,': 2, 'Sanctuary!': 2, 'Mocha!': 2, 'Wave': 2, \"Molly's\": 2, 'Paw-joy': 2, 'covered': 2, 'Miami': 2, 'Aspiring': 2, 'Stay,': 2, \"Bronson's\": 2, 'Stafford': 2, 'Farm-A': 2, 'Mills': 2, 'dogs-': 2, 'Dependable': 2, 'FUN': 2, 'puppy!': 2, 'Chewsy': 2, 'After!': 2, 'stretch': 2, 'Daycare/Overnight': 2, \"Sue's\": 2, 'Spend': 2, 'Pause': 2, 'Overnights': 2, 'Doggy-Heaven': 2, 'Pack!': 2, 'LIVE...LOVE...BARK': 2, 'bed': 2, 'tidy': 2, 'Boogie-Woogie': 2, 'PUPS': 2, 'Legs': 2, 'Paw!': 2, 'parks': 2, 'Vacations': 2, ';-)': 2, 'loving,': 2, 'Dogvacay': 2, 'PawZ': 2, 'Enter': 2, 'PawS': 2, 'Tails!': 2, 'one!': 2, 'Stuy': 2, 'Johnston': 2, 'Treats!': 2, 'cameras': 2, 'Chelsea/West': 2, 'York': 2, 'Pet-house': 2, 'Bushwick/BedSty': 2, 'bark-yard!': 2, 'watching': 2, \"Val's\": 2, 'Summerwood': 2, '=)': 2, 'Pearland': 2, 'Option,': 2, 'Because': 2, 'WELCOME': 2, 'walking.': 2, 'R&R': 2, 'view': 2, 'Carderock': 2, 'Sweeeeet': 2, 'Camp!': 2, 'Busy': 2, 'Passion': 2, \"Poochie's\": 2, 'DAISY': 2, 'Hermosa': 2, 'Animals!': 2, 'Poway': 2, 'Magnetism': 2, \"PATTI'S\": 2, 'perfect': 2, 'CAROL-ton': 2, 'butts': 2, 'spoil': 2, 'HOUND': 2, 'Woods': 2, 'Special': 2, 'Dogless': 2, 'Corral': 2, 'Den!': 2, 'Filled': 2, 'Pupp': 2, 'home.': 2, \"Lil'\": 2, 'FREE': 2, 'doggies!': 2, 'Vacations!!': 2, 'Pond': 2, 'Ann': 2, 'Bichons': 2, 'Hot': 2, 'Doggywood': 2, 'Any': 2, 'Caregivers!': 2, 'Westie!': 2, 'Pretty': 2, 'Underhound': 2, 'Farms': 2, 'Dogmother': 2, 'Cuddly': 2, 'Menlo': 2, 'off': 2, 'Snuggling': 2, 'Fantasy': 2, 'Total': 2, 'Tramp': 2, 'WeHo': 2, 'happiness': 2, 'Company': 2, 'other': 2, \"Sophie's\": 2, 'T': 2, 'Goldy': 2, 'Westwood': 2, 'Editor': 2, 'Green': 2, 'Furbaby': 2, 'leader': 2, '?': 2, 'Casita': 2, 'specialty!': 2, 'puppies': 2, 'Lair': 2, 'Everyone!': 2, 'Nest!': 2, 'Calgary': 2, 'Houston!': 2, 'Shelter!': 2, 'Train': 2, 'Therapy': 2, 'Del': 2, 'Chelsea': 2, 'Holistic': 2, 'friend!': 2, \"Maddy's\": 2, \"Karla's\": 2, 'Haus': 2, 'Marin': 2, 'Morningside': 2, 'Montavilla': 2, 'star': 2, 'Novato': 2, 'RULE!': 2, 'in!': 2, 'WAG-A-TAIL': 1, 'LOFT': 1, 'Barky': 1, 'Pick': 1, 'Dog-errific': 1, 'Sugar': 1, 'four': 1, 'Yours': 1, 'woods': 1, 'Hootie': 1, 'Exceptional': 1, 'Getaway-Doggy': 1, 'Sand,': 1, 'Maw': 1, \"Ziggy's\": 1, 'Fix': 1, 'CONNECTION!!': 1, '24/7??': 1, 'Kensington': 1, 'Brea': 1, 'Bark.': 1, 'PoochCare': 1, 'today!': 1, 'Crazy!!': 1, 'PB&J': 1, '-lover!': 1, 'bestfriend': 1, \"Puppie's\": 1, 'Sitive': 1, 'Star-studded': 1, 'Dog-less': 1, 'Parents': 1, 'Barkingham': 1, '1st-Lawyer': 1, 'Festival': 1, \"Peaches'\": 1, 'Bushwicks': 1, 'BED': 1, 'Bailey': 1, 'Poodles-': 1, 'Chasing': 1, 'Babysitter!': 1, 'Castro/Noe': 1, 'Barer': 1, 'Hacienda': 1, 'Bay!!': 1, 'Meadows': 1, 'Home-all-Day': 1, 'Available!': 1, 'Put': 1, 'Dumbo': 1, 'WOW': 1, 'Made': 1, 'Ready-Pet-Go': 1, 'Retreat.': 1, \"Doug's\": 1, 'Trustworthy': 1, 'Faces': 1, '-a': 1, '101': 1, 'Hound!': 1, 'Yuki': 1, 'Pitbulls!': 1, 'CrookedToothed': 1, 'kids': 1, 'SENSE,': 1, 'k': 1, \"Holly's\": 1, 'walkin': 1, 'Line': 1, \"Tail-Wagger's\": 1, 'Fun!!': 1, 'bootcamp!': 1, 'Licker': 1, 'KidzZoo': 1, 'Shaffer': 1, 'company.': 1, 'Wash/Care': 1, \"Tim's\": 1, 'Giving': 1, 'godmother': 1, 'Boot': 1, '\"The': 1, 'Jen': 1, 'Irvine!': 1, 'Bubbles': 1, 'Diggity': 1, \"Brewer's\": 1, 'House+Yard,': 1, 'Treehouse': 1, 'pamper': 1, 'PLW': 1, 'Vernon': 1, 'call': 1, 'Domain!': 1, '(mobile)': 1, 'them!)': 1, \"patricia's\": 1, \"Chunky's\": 1, 'Clients': 1, 'Rule': 1, 'Emerson': 1, 'Home,..': 1, \"Lot'sa\": 1, 'Lizzies': 1, 'NYC.': 1, 'word': 1, 'work': 1, 'Hollow': 1, 'cuddle': 1, 'Oko': 1, 'Whispering': 1, 'Mutty&Dex!': 1, \"Lakeway's\": 1, '78704': 1, 'Woofs!': 1, 'Puggles': 1, \"TINA'S\": 1, 'give': 1, 'Pawperfect': 1, 'Sara': 1, \"Adri's\": 1, 'Woofs,': 1, '**FREE': 1, 'Relatives': 1, '(Brooklyn)': 1, 'Purrfectly': 1, 'Eagle': 1, 'Furkid': 1, 'Phoenix': 1, 'Lodge!': 1, 'how': 1, 'amazing': 1, 'Jack': 1, 'Approves!!!': 1, 'Kat': 1, 'Kay': 1, 'Cloud-Nine': 1, 'teacher!': 1, \"Lena's\": 1, 'after': 1, 'Bay,': 1, 'Bay-': 1, 'Ocean': 1, 'Wild': 1, 'BLISSFUL': 1, 'Huntington': 1, 'Purrrfect': 1, 'CFO': 1, 'night!': 1, 'playful': 1, 'Matty': 1, \"lovin'!\": 1, 'Moda': 1, 'Drop-Off,NW': 1, 'Pet-Personal-Assistant': 1, 'ANIMAL': 1, 'UWS,': 1, 'Stay~n~Play': 1, 'Meet,': 1, '***': 1, '*House': 1, 'over': 1, \"Shelby's\": 1, 'Alder': 1, \"Nefertiti's\": 1, 'Maison': 1, 'Sch.': 1, 'TRUE': 1, 'personal': 1, 'Rover!': 1, 'Outdoorsy': 1, 'Eye': 1, 'breeds': 1, 'KAREBEAR': 1, 'Nanny!': 1, 'Nanny.': 1, 'Trained!': 1, \"Griffin's\": 1, \"Sarah's\": 1, 'DylanDawgs': 1, \"Gary's\": 1, 'break': 1, 'Finest': 1, 'therapy': 1, 'Pupsters': 1, 'Microsoft': 1, 'one': 1, 'lifelong': 1, 'BURKE': 1, 'Coconut': 1, 'DayCare': 1, 'Cobble': 1, 'Drop-In': 1, 'fitness': 1, \"Lily's\": 1, 'Rovers': 1, 'time,': 1, 'dog/cat': 1, 'Chastain': 1, 'SOMA!': 1, 'Solitary': 1, 'A-Lot': 1, 'DogWalker': 1, \"Dozer's\": 1, '24h': 1, 'Palace)': 1, 'OUTINGS': 1, 'used': 1, \"Diana's\": 1, '!!!!!': 1, 'WUFF': 1, 'DOLPHIN': 1, 'Wiggle': 1, 'laid': 1, 'is!': 1, 'Helper!': 1, 'SPECIAL': 1, 'caring!': 1, 'Resort!!': 1, 'Suites': 1, 'mellow/old': 1, 'Paw-pular': 1, 'Services!!': 1, 'Pawsibilities': 1, \"Allison's\": 1, '#letyourdoghaveavacation2': 1, 'westside': 1, 'Vita': 1, \"Danielle's\": 1, 'Aboard!!': 1, 'Rubber!': 1, 'Chain': 1, 'Pet-acular': 1, 'Culver:': 1, 'pet!': 1, 'Backyard/Doggiedoor': 1, 'Human': 1, 'Paradis': 1, 'Cooper': 1, 'Working': 1, \"Melissa's\": 1, 'Bunk': 1, 'Lakefront': 1, 'Please': 1, 'LovePuppy2': 1, 'Active,': 1, 'Voted': 1, 'worries,': 1, 'JetDog:': 1, 'townhouse!': 1, '2nd-Home': 1, 'Smiles': 1, 'top': 1, 'Ewok': 1, 'Playdate!': 1, 'Adult': 1, 'urban': 1, 'apartmen': 1, 'Pepto': 1, 'Flanagan': 1, 'Joanna': 1, 'Alone!': 1, 'Twice': 1, 'OR': 1, 'Only!': 1, 'Hillside': 1, 'bed&bone': 1, 'Thoughts': 1, 'Sea': 1, 'clients**': 1, 'SPAW': 1, 'Cassandra': 1, 'All-Size': 1, 'Come.': 1, 'Feathers,': 1, 'Come!': 1, 'Cutie-Pie': 1, \"Poppin's\": 1, 'Bryn': 1, 'take': 1, 'Meowz': 1, 'Staying': 1, 'Mill': 1, 'do,': 1, 'do!': 1, 'It!': 1, 'Linda!': 1, \"Rese's\": 1, 'Happiest': 1, 'Bank': 1, 'dog-experienced': 1, 'pawsitively': 1, 'shall': 1, 'Wish': 1, 'Warm,': 1, 'Walking*': 1, 'Hugs-': 1, 'Froggy': 1, 'GINGER': 1, 'long!': 1, 'Jello': 1, 'Promises': 1, 'QT': 1, 'Lending': 1, 'camp': 1, 'FEELS': 1, 'Canis': 1, 'Mansion': 1, 'Calming': 1, 'Sherman': 1, 'park!)': 1, 'Cats,': 1, 'Agency': 1, 'Obedience': 1, 'ending': 1, 'Laid': 1, 'Clean,': 1, 'Anne': 1, 'Shade!': 1, 'Day!': 1, 'Hts': 1, 'PERF': 1, \"Bet's\": 1, 'Eskie': 1, \"baby's\": 1, 'Vienna!': 1, 'Valley!': 1, 'Bressi': 1, 'Bark!': 1, 'Homey,': 1, 'Smooch*': 1, 'Bonvoyage': 1, 'DC!': 1, \"Guessy's\": 1, 'Care.': 1, 'Shaded': 1, 'Husband': 1, 'Hotdog': 1, 'Menagerie': 1, 'Deco': 1, 'Behaviourist': 1, 'Pupstop': 1, 'ever': 1, 'Stay.': 1, 'Camphoebe': 1, 'Volunteers!': 1, 'Rin': 1, 'Boardwalk': 1, 'SITTER': 1, 'Round-up': 1, 'them,': 1, 'Ric': 1, 'Glen': 1, 'Plants': 1, 'lover!!': 1, 'Doge': 1, 'Bella': 1, 'give!': 1, \"Banjo's\": 1, 'Fluffyball': 1, 'John': 1, '...': 1, 'Treats.': 1, 'WAGZ-N-WIGGLES': 1, 'petsitters': 1, 'Rise': 1, 'Listener': 1, '...and': 1, '*Pooch': 1, 'Terrier': 1, 'never': 1, 'Howliday': 1, 'Hike': 1, 'Paw-some!': 1, 'GUILT': 1, 'dedication': 1, 'Caring,': 1, 'IS!': 1, 'Vacay/Walking': 1, 'Dance': 1, 'Slippers,': 1, \"SunShine's\": 1, 'Hartsdale!': 1, 'Over!': 1, 'Trustworthy,Devoted': 1, 'Bring': 1, 'Colinas!': 1, 'Dawn': 1, 'Tristan!': 1, 'Lenox': 1, 'can': 1, 'Care!!': 1, 'Bisquit': 1, 'Abruzzenhund': 1, \"DOGINN'\": 1, 'beachy': 1, 'LLC,': 1, 'Pristine': 1, 'trust': 1, 'Adorable': 1, 'Kastle': 1, 'Constantin': 1, 'Pooch-N-Paradise!': 1, 'sleepover': 1, 'flexible': 1, \"Dexter's\": 1, 'Wear': 1, 'loft': 1, 'Tokyo': 1, \"Bailey's\": 1, 'Catawba': 1, 'westside!': 1, 'B!!!': 1, 'matt-': 1, \"Can't\": 1, 'Labrador': 1, 'wfh': 1, 'Chienne': 1, 'Co': 1, \"Leah's\": 1, 'Wash': 1, \"Vacay's\": 1, 'Hood': 1, 'Troutdale': 1, 'Fenced-in': 1, \"Lucy's\": 1, 'Roo!': 1, 'Clarksburg': 1, 'experts': 1, 'Holly-Woof': 1, 'PooperScooper': 1, 'World,': 1, 'if': 1, 'Dogmom.': 1, 'Georgetown': 1, 'Pawing': 1, 'things': 1, 'make': 1, \"Bubba's\": 1, 'Newman': 1, 'Bodhi': 1, 'Snoopy': 1, 'Dog.........$15': 1, 'Oakton': 1, 'cat)': 1, 'Roof': 1, 'hand': 1, 'NOPA': 1, 'Morris': 1, 'paradise!': 1, 'paradise.': 1, 'tion!': 1, \"Pawin'\": 1, 'Doglover!': 1, 'Mine': 1, 'Hilton': 1, 'Batman': 1, 'childhood.': 1, 'Absolute': 1, 'Mint': 1, 'PupDates': 1, 'abound': 1, 'Pete': 1, 'SPOILER!!!': 1, 'Middletown': 1, 'just': 1, 'Pooch-U': 1, 'Dexter': 1, \"Hope's\": 1, 'PuppyGlam': 1, '(no': 1, 'Paw-Some!': 1, 'caregiver': 1, 'TIME,': 1, 'hills': 1, \"Moms'\": 1, 'Dogs)': 1, 'SPECIALTY': 1, 'snuggles!': 1, 'get-away...': 1, \"Cari's\": 1, 'board': 1, 'St.': 1, 'Ktown': 1, 'Apart': 1, \"Barney's\": 1, 'ALL!': 1, 'Pet-Watchin': 1, 'Taking': 1, 'Pawrific': 1, 'Corona': 1, \"Rich's\": 1, 'Alamo': 1, 'Pup-a-razzi': 1, 'Snugs': 1, 'POSH': 1, 'Coconator': 1, 'sleep,': 1, '7Grif': 1, 'Dapper': 1, 'Seniors': 1, 'Art': 1, 'Weekend/Holiday': 1, \"Pug's\": 1, 'SF...': 1, 'Echo': 1, 'licks': 1, 'Arc': 1, 'Eight!': 1, 'Arf': 1, 'spoiled!': 1, 'Heaven-Georgetown': 1, 'Vista,': 1, \"Gibson's\": 1, 'Puppylicious': 1, 'Campers': 1, 'Now!': 1, 'Tropical': 1, 'Than': 1, \"Gonzo's\": 1, 'Round!!': 1, 'Malibu': 1, 'Redwood': 1, 'Peoria': 1, 'sitting**': 1, 'Kids!': 1, 'Experiences': 1, 'SubWoofer': 1, 'booking': 1, 'Arcadia': 1, 'Pupland!': 1, 'Pawtizen': 1, 'Thing': 1, 'Pawsibly': 1, 'K9care': 1, 'WA': 1, 'Reme': 1, \"Rocco's\": 1, 'Pettastic': 1, 'Hikes': 1, 'Cheap': 1, 'Pavement': 1, 'Fur-Kids': 1, 'Deck?': 1, 'POOCHES': 1, 'Devyn-': 1, \"Sage's\": 1, 'Hands-On': 1, 'Fun-loving': 1, 'johns': 1, 'Mommy!': 1, 'DEEP': 1, 'Peas': 1, 'Terrific': 1, 'Candlewood': 1, 'Sligo': 1, 'Delirious!': 1, 'Playtime***': 1, 'Paw-Paradise': 1, 'CouchSurfing': 1, 'Hang': 1, 'Hand': 1, 'avail': 1, 'Gal': 1, 'Abington': 1, 'K9s': 1, \"Em's\": 1, 'Runners': 1, 'Messy4dogs@gmail.com': 1, 'Love=Paws+Running': 1, 'Us!': 1, 'offer': 1, '***Featured': 1, 'back': 1, 'Acres': 1, 'Been': 1, 'Loads': 1, 'inside': 1, 'Mifflin': 1, 'Me..': 1, 'included!': 1, 'Ballston': 1, 'Pico/Robertson': 1, 'Zuchon!': 1, 'Woofdorf': 1, 'Westcoast': 1, 'Fun-Luving': 1, 'grooming!': 1, 'Sir': 1, 'Dog-centered': 1, 'DEN': 1, \"Josh's\": 1, 'Hudson': 1, \"Marian's\": 1, 'Play-cation': 1, 'Virgil': 1, 'WatchDog': 1, 'Andy,': 1, 'check': 1, 'Sil': 1, 'vista': 1, 'Francisco': 1, 'Puppies..Oh': 1, 'Rambunctious': 1, 'Canoga': 1, 'Fort': 1, 'setting': 1, \"d'Vella\": 1, 'Ch?teau': 1, \"Pitt's\": 1, 'Betty`s': 1, 'phoenix': 1, 'Shorties': 1, 'University': 1, 'palmy': 1, 'HEAVEN': 1, 'Paradise!!!': 1, 'dawgy': 1, 'Gardens': 1, 'Constant': 1, 'Walker/Whisperer': 1, 'Maltman': 1, \"'N\": 1, 'n2': 1, ':))': 1, 'companions': 1, 'HarlemHeaven': 1, 'tails!': 1, 'stay,': 1, 'Purr-fect': 1, 'walking': 1, 'Winning': 1, 'Walker!': 1, 'BEACH': 1, 'Nines': 1, \"Walkn'\": 1, 'Truly': 1, \"Raisin-Bran's\": 1, 'Grandpa': 1, \"David's\": 1, 'buddy..': 1, 'DOG!!': 1, 'Meow': 1, 'choice': 1, 'Gimme': 1, 'street': 1, 'Laurie': 1, 'Petting': 1, 'OUT??': 1, 'DOG(S)': 1, \"doggy's\": 1, 'PetMamma': 1, 'Fur-baby': 1, \"Jazzmin's\": 1, 'Mateo': 1, 'Creek!': 1, '(24': 1, 'Campground': 1, 'Shirlington': 1, 'Townhome': 1, 'Animals..my': 1, 'Motel-Next': 1, 'Ohana': 1, 'trails': 1, \"Bobby's\": 1, 'Kid': 1, \"Spartakus'\": 1, 'Petopia': 1, \"Lady's\": 1, 'Rice': 1, 'Rides': 1, 'Puggle': 1, 'UnCommon': 1, 'Alcove': 1, 'Motion,': 1, 'Charming': 1, 'Lake-Side': 1, 'goes': 1, 'Beachy': 1, 'Along': 1, 'Southwest': 1, 'Down,': 1, 'Wants': 1, 'OWN!': 1, 'Doggywood!': 1, 'Grapevine': 1, 'Mi': 1, 'Mt': 1, 'Davie': 1, 'Mr': 1, 'Warner': 1, \"D+K's\": 1, \"Joanna's\": 1, 'Mega-fun': 1, 'Pooped': 1, \"annie's-doghouse\": 1, 'Gramercy': 1, 'Tail-Wagging': 1, 'Substitute!': 1, 'Paw-som': 1, 'extra': 1, 'Be!': 1, 'Pawstel': 1, 'Le': 1, 'ANIMALS': 1, 'LILLY': 1, 'GA': 1, 'Four-Legged': 1, '(with': 1, 'Specialist': 1, \"Madison's\": 1, 'DA': 1, 'Segundo': 1, \"Granny's\": 1, 'dude': 1, 'doggy(s)': 1, 'Jill': 1, 'ca.': 1, 'condo': 1, \"Robin's\": 1, 'angels': 1, 'cats!': 1, \"Mowgli's\": 1, \"Barkingham's\": 1, 'Bea': 1, 'Beds': 1, 'Ruffly': 1, 'Service!!': 1, 'Boom.': 1, 'Mound': 1, 'given': 1, 'Willowbend': 1, 'Rent-a-Rescue-Lady!': 1, 'Dog-sitting:': 1, 'Chien..': 1, 'angel!': 1, 'Kika?s': 1, \"Leola's\": 1, 'Portland,': 1, \"O'Brien\": 1, 'PUP': 1, \"lovin'\": 1, 'BLAKE': 1, 'TiffyTails': 1, 'Play-cres': 1, 'Weekends': 1, \"Taffy's\": 1, 'Doggie!!': 1, \"Snoop's\": 1, \"Shara's\": 1, 'Encino': 1, 'allowed': 1, 'Ridge': 1, 'BKLYN': 1, 'Vacay!!': 1, 'Extroardinaire': 1, 'Weekend-only': 1, 'Carrollton': 1, 'Sauercat': 1, 'Welcome!!': 1, 'CPDT': 1, 'Wheel': 1, 'staying': 1, 'mar': 1, 'Average': 1, 'dogpals': 1, 'spot': 1, \"I've\": 1, '4th': 1, 'Cavalier': 1, 'PRICES': 1, 'Fortress': 1, 'ATX': 1, 'Most!': 1, 'Seek': 1, 'noses': 1, 'wanna': 1, 'Furz': 1, 'Paws-Fur-Fun': 1, 'Edz': 1, 'Newport': 1, 'PAW-TY': 1, 'Pks': 1, '4-legged': 1, 'exclusive': 1, 'Lucky-Dog': 1, 'Author': 1, 'years': 1, 'Rd': 1, 'Magee': 1, 'Zin': 1, 'RUN': 1, 'Buddies!': 1, '1-on-1': 1, 'canine-Carrollton': 1, 'Petals': 1, 'Fur-vana': 1, 'Paw-sobilities': 1, 'Once': 1, 'Regia': 1, \"Island's\": 1, 'Sonoran': 1, 'Sister': 1, 'within': 1, 'Spoil': 1, 'technician': 1, \"Skootee's\": 1, 'Fairfield': 1, 'CAUSE': 1, 'kids.': 1, 'R+': 1, 'Doggy-Wood': 1, 'idyllic': 1, 'Their': 1, 'Argyle': 1, 'drop': 1, 'Watcher': 1, \"Teresa's\": 1, 'PetSitter,': 1, 'TAILS,': 1, 'Rule!': 1, 'Staci': 1, 'Worry': 1, 'WFH': 1, \"Zelda's\": 1, 'Museum': 1, 'Dude': 1, 'Dog-Hockinson,': 1, 'DoggiesCanyonMotel': 1, 'Palooza': 1, 'Hello,': 1, 'Joy': 1, 'Michigan': 1, 'Pocket': 1, 'Luvz': 1, 'Luvy': 1, 'Waddles': 1, 'Jog': 1, 'Luvs': 1, 'Camden': 1, 'Dog-Lover': 1, 'Stone': 1, 'Lovers+Big': 1, 'Vicarious': 1, \"Chewy's\": 1, 'Paws-n-Tails': 1, \"Michelle's\": 1, 'EXCELLENT!': 1, '*Cats': 1, 'Afternoon': 1, 'Grooming!': 1, 'Sponge-paw': 1, 'Tumble': 1, 'Luv!': 1, 'sitting!!!': 1, 'Dogtopia,': 1, 'Obedient,': 1, 'sitter-': 1, 'happy-maker': 1, 'Giant': 1, 'Yay': 1, 'DogWalker,': 1, 'reliable.': 1, 'w/Fenced-in': 1, \"Gail's\": 1, '&LBJ': 1, 'Arbor': 1, 'ISO': 1, 'Nostrand': 1, 'open': 1, \"Pepper's\": 1, 'beach..': 1, 'it!': 1, \"Poppy's\": 1, 'Only/Puppies': 1, 'WORLD': 1, \"(Dog's\": 1, 'DELUXE': 1, 'Dorm': 1, 'DOGgone': 1, 'Keeping': 1, 'Mocassins': 1, 'that': 1, 'on!': 1, 'Miracle': 1, 'Ground!': 1, 'Pfun': 1, 'Trainer,': 1, 'canine': 1, 'Corgi': 1, '12': 1, 'Concord': 1, 'Downton': 1, 'Sensation': 1, 'midtown': 1, \"Porter's\": 1, 'Layover': 1, 'Barkfest!': 1, 'Homestead': 1, 'WORRY': 1, 'Luke': 1, 'Playland!': 1, 'Court': 1, 'DH': 1, 'Marcos': 1, \"Roland's\": 1, 'pro': 1, 'vacay!': 1, 'SWE': 1, \"Annandale's\": 1, 'Field': 1, \"Catie's\": 1, 'backyard.': 1, 'Boarding:small': 1, 'Tell': 1, 'Puppies!!!!': 1, 'breakfast': 1, 'any': 1, 'BK!': 1, 'Nights': 1, 'Dallas/Lakewood': 1, 'Chateaux': 1, 'Relais': 1, 'Important': 1, 'Dr': 1, 'Paw-Radice': 1, 'Drop': 1, 'Otter': 1, 'Bitty': 1, 'Bungalo': 1, 'Pflugerville': 1, 'Weston': 1, 'Wiggling': 1, 'Trained': 1, \"Austin's\": 1, 'Humane': 1, 'Party,': 1, 'Wee': 1, 'Chookieville': 1, 'Woof-Woof': 1, 'Animals,': 1, 'Oakwood': 1, 'Kent': 1, 'Wet': 1, 'BFF!!:)': 1, 'Tess': 1, 'Paw-errific': 1, 'PB': 1, 'Holidog': 1, 'Bottom': 1, 'going': 1, \"VetTech's\": 1, 'Arlington': 1, 'Purrs': 1, 'setting.': 1, 'Taylor,': 1, 'PAW-SOME': 1, 'dog+our': 1, 'Animal-loving': 1, 'Rhodes': 1, 'yard,': 1, 'Pamperer': 1, 'Service,': 1, 'Feliz': 1, \"Danny's\": 1, 'Purz': 1, 'Outdoor': 1, 'Super-friendly': 1, 'Pic/Vid': 1, '2-story': 1, 'worries!': 1, 'Komforts': 1, 'Buena': 1, 'Away.': 1, 'PlAy': 1, 'pup-loving': 1, 'hideaway!': 1, 'FURRY': 1, 'Away!': 1, 'Trusted,': 1, 'retreat!': 1, 'Meister': 1, 'needs!': 1, 'WoofTastic': 1, 'Hamptons': 1, 'Madeline': 1, '#1': 1, \"Fur'st\": 1, 'County': 1, 'fenced-in': 1, \"Ruckas'\": 1, \"Nina's\": 1, 'parent': 1, \"Shari's\": 1, 'PLAYMATES!': 1, 'Hours': 1, \"DOG'S\": 1, 'Texas': 1, 'adore': 1, '(Cats': 1, 'Levittown,': 1, 'Natural': 1, 'Rescued': 1, 'honest,': 1, 'Dizzie': 1, 'Howl-elujah!': 1, 'Pawrty': 1, 'whisperer': 1, 'acres!': 1, \"Harley's\": 1, 'Aways': 1, 'PAWRADISE': 1, 'EXTRAORDINAIRE': 1, 'Happy!': 1, 'Paws-Down': 1, 'PAMERING': 1, 'Through': 1, 'Mesquite': 1, 'Worries,': 1, \"'Churro'cation\": 1, 'Animalcare': 1, '4-Her': 1, 'Pawttage-Home': 1, 'Travel': 1, 'Tigard': 1, 'Paradise:': 1, \"You'll\": 1, 'Surf': 1, 'Barker.': 1, \"Ziva's\": 1, 'come': 1, 'Hill/CLT': 1, 'Sitting/Care': 1, 'Personal': 1, 'Doghouse-Clifton': 1, 'furfriends': 1, 'Dreaming': 1, 'walker/Pet': 1, 'Paw-perfect': 1, 'Doting': 1, \"Pancakes'\": 1, \"Tessa's\": 1, '-ALL': 1, 'PAWsitive': 1, 'Member!': 1, 'HARTE': 1, 'PupPup': 1, \"Eve's\": 1, 'Everything!': 1, 'BestFriend': 1, 'Home....': 1, 'romping': 1, 'School!': 1, 'Doggiemania,LLC': 1, 'Lover!!': 1, 'care!': 1, 'Doglife-cuddles': 1, 'care)': 1, 'Slice': 1, 'PAWSitively': 1, 'Dogtopia': 1, 'Oak': 1, 'DIA': 1, 'Bee': 1, 'Kalorama/AdMo': 1, 'Hidden': 1, 'RN/Future': 1, 'worry': 1, '**DOGGIE': 1, 'Hostess': 1, 'Excuse': 1, 'Waves': 1, 'PlayPal': 1, 'couple!': 1, \"Milo's\": 1, 'Divas-': 1, 'Soul': 1, 'Paw-fully': 1, 'Expt': 1, 'II': 1, 'Daves': 1, 'Keepers': 1, 'IN': 1, 'walker.': 1, 'dog/pup': 1, 'Patio': 1, 'pup!!': 1, 'Esp.': 1, 'vacant': 1, \"Jane's\": 1, 'Everyday': 1, 'May': 1, 'Justine': 1, \"J'S\": 1, 'Casual': 1, 'included': 1, 'If': 1, 'Patrol!': 1, 'Time!!': 1, 'Pawadice': 1, 'they': 1, 'Kaitlyn': 1, 'Fifa!': 1, \"Cico's\": 1, 'Cottage\"': 1, 'BOW': 1, 'Abbot3girls': 1, 'Yardley': 1, '/pick': 1, 'Kibblehouse': 1, 'WeHo!': 1, 'Full-Time': 1, 'Her': 1, 'awaits!': 1, 'happiness!': 1, 'Huggable': 1, 'Owner:': 1, '(I': 1, 'HOBOKEN': 1, 'My!': 1, \"Lyman's\": 1, 'real': 1, 'grass~no': 1, 'Mans': 1, 'around': 1, 'Paw-tastic': 1, 'Headquarters': 1, '10%': 1, 'Project': 1, '{Brickell}': 1, 'world': 1, '(&': 1, 'HB.': 1, 'Puppy-topia': 1, 'Poopfessional': 1, 'Work-From-Home': 1, 'Share': 1, 'Alicia': 1, 'Tomball': 1, 'Cat-friendly': 1, 'Savoy': 1, 'Stinky': 1, 'WELCOME!': 1, \"Kennelization!'\": 1, '(Australian)': 1, 'Crawls': 1, 'Scratchies.': 1, 'Location!': 1, 'Atherton': 1, 'Mel': 1, 'LAS': 1, 'Staycay!': 1, \"Annie's\": 1, 'Puppyplace': 1, 'Pooches!': 1, 'goofy': 1, 'A-1': 1, 'Ruby': 1, 'playmate!': 1, 'House-N-Hound': 1, 'Paw-riffic!': 1, 'JUST': 1, 'Wilmington': 1, 'Therapist': 1, 'FurEver': 1, 'Monrovia': 1, 'A-Z': 1, 'w/Big': 1, 'Husky': 1, ';)': 1, 'Playing': 1, 'Yard!!!': 1, 'Tenleytown': 1, \"VERO'S\": 1, 'Trade': 1, 'passion!': 1, 'Doggycare': 1, 'roam': 1, 'out.': 1, 'CUDDLEY': 1, 'Heads': 1, 'Duty!': 1, \"Blazin'\": 1, \"Jennifer's\": 1, 'secure': 1, 'Maintenance': 1, '**DogGone': 1, 'Nr': 1, 'Swagger': 1, 'Empty': 1, 'Domingolandia': 1, 'Week': 1, 'NoLita': 1, 'Homesitter': 1, 'Walk,': 1, 'lol': 1, 'doggy!!': 1, 'kitty)': 1, '4-Paw': 1, 'Treats': 1, 'N.': 1, 'paws!': 1, 'Companion,Gardener,&': 1, 'Penthouse!': 1, 'Alexandria!': 1, 'services.': 1, 'Roxy': 1, 'Stamford': 1, 'longer': 1, 'Heavy': 1, \"they're\": 1, 'Century': 1, \"Sully's\": 1, \"Tawny's\": 1, 'Loyal,': 1, 'Couture': 1, 'LET': 1, 'Passion-Airport': 1, \"Carol's\": 1, 'Boarding,': 1, 'KIDDIES': 1, 'IbeesPups': 1, 'Hog': 1, 'w/yard': 1, 'Turned': 1, 'Doggie!': 1, 'biscuit': 1, 'watcher': 1, \"JP's\": 1, 'Lets': 1, 'Prancing': 1, \"Mildred's\": 1, \"luna's\": 1, 'Avalon': 1, \"Reese's\": 1, 'CozyPup': 1, '5': 1, 'PAWesome': 1, 'Crescent': 1, 'StayStay': 1, 'walk,': 1, 'artist': 1, 'POWERR!': 1, \"Pam's\": 1, 'Nose': 1, 'Face': 1, 'PAW-sOME': 1, 'pool': 1, 'Alec': 1, 'Mary': 1, 'too!)': 1, 'Knott': 1, 'Licensed': 1, 'Hire!': 1, 'Year': 1, 'furbabies': 1, \"doggies'\": 1, \"Perry's\": 1, 'Merrifield!': 1, 'hands': 1, 'Breed': 1, 'Stay-n-Play': 1, 'Sitter/Trainer': 1, 'Goldendoodle': 1, 'TREAT!`': 1, 'Take': 1, 'Rossmore': 1, 'Personalized': 1, \"Willow's\": 1, 'House-a': 1, 'Plus': 1, 'Business!': 1, 'Stands!!!': 1, 'college': 1, \"Brownie's\": 1, 'Ella': 1, \"Jayme's\": 1, 'Fremont': 1, 'Blazers': 1, 'Kingsley': 1, 'MissionManor:': 1, 'Porters': 1, 'Ballard': 1, 'Updates!': 1, 'Vicariously': 1, '28278': 1, \"Furrygodmother'\": 1, 'Pals!!!': 1, 'R&D': 1, 'Crate': 1, 'sasha': 1, 'Toluca': 1, 'Vibes': 1, 'WBurg': 1, 'Soho': 1, 'Hikes,': 1, 'Hikes!': 1, 'Hollow!': 1, 'Kitties': 1, \"BUDDY'S\": 1, 'Acres,': 1, 'Bipedal': 1, 'Briarwood': 1, 'slumber': 1, 'Disco!': 1, 'Carpet': 1, 'CLT)': 1, \"Darren's\": 1, 'Flatiron': 1, 'Faithful': 1, 'Ruffin': 1, 'Kimberlins': 1, 'Easy': 1, 'Pet!!!': 1, 'Circle': 1, 'Barkers': 1, 'Walker/Cat': 1, 'Patient': 1, 'Paw-py': 1, 'Austin!': 1, 'HoUsE': 1, 'BEACH!': 1, 'sPaw': 1, 'Services,': 1, 'Awaits!!': 1, 'Services!': 1, 'Totally': 1, 'Southie': 1, 'Dog-sitting': 1, 'Hire': 1, 'full': 1, 'Ahead': 1, 'Susan': 1, 'Marblehead': 1, 'vacations': 1, 'Designer': 1, 'PaRAdise': 1, 'Hooray!': 1, 'pooches!': 1, 'Pawliday': 1, 'Low-cost': 1, 'Fluffy': 1, 'critter': 1, 'Laughs': 1, \"Rusty's\": 1, 'Highlands!': 1, 'Nine': 1, 'trainer': 1, 'Licks': 1, 'home!!': 1, '#CrazyDogLady': 1, 'Xanadu!': 1, 'Yogi': 1, 'young': 1, 'Richmond': 1, 'Street!!': 1, \"MARLENE'S\": 1, 'travel,': 1, 'Jan': 1, \"Kaya's\": 1, 'Bungelow': 1, 'Crash': 1, 'Chiens': 1, 'Relaxed': 1, 'Dogfriend': 1, 'Days,': 1, 'Upfront,': 1, 'Host***': 1, 'flat': 1, 'Tennis': 1, 'door': 1, 'fun-filled': 1, 'Four-Paw': 1, 'Delphina': 1, 'Su': 1, 'Hollywood/Larchmont': 1, 'Preserve!': 1, 'Pet-sitter!': 1, 'Playplace': 1, 'Clinton': 1, \"Campbell's\": 1, 'Crescenta': 1, 'FEET': 1, 'Some': 1, 'Live.': 1, 'SW': 1, 'Charge': 1, 'dem': 1, 'SM': 1, 'dog-loving': 1, \"Scamp's\": 1, 'Inc': 1, 'Poops': 1, 'Yard.': 1, 'What-a-Pittie': 1, 'CAT': 1, 'Denied-All': 1, 'Environment****': 1, 'please': 1, \"Piri's\": 1, \"Mom's\": 1, \"Jenny's\": 1, 'needs': 1, 'BoW-wOw': 1, 'WC!': 1, 'Dundee': 1, \"Nahla's\": 1, 'Fall': 1, 'SMILING': 1, '(Noda/Plaza)': 1, 'First-Timers': 1, 'petite': 1, 'Mickey': 1, 'RANCH': 1, 'Myers': 1, \"Corinne's\": 1, 'Daisy': 1, \"Nurse's\": 1, \"Friends'\": 1, 'availab': 1, 'Offering': 1, 'in-home': 1, \"Sylvie's\": 1, 'Mimi': 1, 'Tech': 1, 'boarding/daycare.': 1, 'dream': 1, 'Marathon': 1, 'BARKFEST**': 1, 'help': 1, 'Nana': 1, 'Chanhassen': 1, 'Howl-iday': 1, \"Gene's\": 1, 'its': 1, 'SF!': 1, 'beagles!)': 1, 'THERE': 1, 'responsible': 1, 'Marietta': 1, 'Doggieangel4u': 1, 'petworth': 1, 'Dogpatch': 1, 'Mawr': 1, 'Berryhill': 1, 'PALS': 1, 'Puptopia': 1, 'FurBabies!': 1, '+Training': 1, 'Bad': 1, 'st': 1, 'Waggin': 1, 'Hayworth': 1, 'Saving': 1, 'Pups!!!': 1, 'Candy-Doggy-Vacay': 1, 'Paradise~': 1, 'Types': 1, 'found': 1, 'fairy': 1, 'Fashionista': 1, 'pet-buddy!': 1, 'member!': 1, 'Built': 1, 'Quaint': 1, 'dog,RB': 1, 'Pups-R-Us': 1, 'Swankiest': 1, 'Retro': 1, 'roof!': 1, 'Kayley': 1, \"Mary-Kate's\": 1, 'Magic': 1, 'Playcare': 1, 'E.': 1, 'Lakes': 1, 'Bark-eley': 1, 'owner!': 1, \"Brinks'\": 1, 'safety': 1, 'Inn!': 1, 'Inn.': 1, 'DIG': 1, 'Year!': 1, 'DTLA': 1, 'Pac-n-Play!!': 1, 'pug': 1, 'Yorba': 1, 'Anytime': 1, 'IT': 1, 'Mom/Daughter': 1, 'Doolittle': 1, 'Snowballs': 1, 'Tallow': 1, 'companion': 1, \"Charlie's\": 1, 'Anchors': 1, 'El': 1, 'Congress': 1, 'Nature': 1, 'attention!': 1, 'POOCH': 1, 'Pawadise': 1, 'w': 1, \"Cookie's\": 1, 'Es': 1, 'HOTEL': 1, 'LUV': 1, 'feel': 1, 'Toss.': 1, 'Feline': 1, 'sitters!': 1, 'Built-in': 1, 'VIPet': 1, 'Work-at-Home': 1, 'Rotten!': 1, 'Hangin': 1, 'Hurry!': 1, \"J's\": 1, '#hugeyard': 1, 'home=peace': 1, 'family,': 1, \"Suzi's\": 1, 'wonderful': 1, 'getaway?': 1, 'Snooze': 1, 'yard.': 1, 'Kitty-Love': 1, 'Get-away!': 1, 'Playhouse.': 1, 'SoMa': 1, 'hotel': 1, 'BIT!': 1, \"Texas's\": 1, \"Cooper's\": 1, 'Safe,': 1, 'Parkway': 1, 'Staycations': 1, 'Sunnyvale!': 1, 'kind': 1, 'PupParadise!Big': 1, 'Puppy-Land!': 1, 'NOVA': 1, \"Wesley's\": 1, 'Rescuer,': 1, 'Woodlands': 1, 'Toys': 1, 'Haven-Perfect': 1, 'SouthBay!': 1, 'treated': 1, 'Yards': 1, 'Puppy-pants': 1, 'Dog2Dog': 1, 'Oliver': 1, 'experience!': 1, 'VACAY': 1, 'W/4': 1, 'Attentive,': 1, 'Manhattan!': 1, 'Got': 1, 'Attack!': 1, 'Dogsome!': 1, 'Would': 1, 'Shangri-Paw': 1, \"Sherri's\": 1, \"Ba'cho's\": 1, 'also': 1, '(SOMA)': 1, 'k9': 1, 'Teacher': 1, 'FiddleDee': 1, 'ARF': 1, 'Martins': 1, \"NICO'S\": 1, 'BBB': 1, 'V.B&B': 1, 'Hotel/Dallas': 1, 'Common': 1, 'Purrfect': 1, 'accepting': 1, 'Danimals': 1, 'Pursuing': 1, 'Called': 1, '*Dog': 1, 'FROM': 1, 'parks!': 1, 'walker,': 1, 'parks,': 1, 'Side!': 1, 'lovers/Close': 1, 'canines!': 1, 'Furree': 1, 'Crash-Pad': 1, 'Lola': 1, 'Greenpoint': 1, 'Petsitters': 1, '78746-78703': 1, 'Had': 1, 'Dolores': 1, 'POOCHSTRUT': 1, 'PARENTS': 1, 'allergy-free': 1, 'breezes': 1, 'Newlyweds': 1, 'Buddy!': 1, \"Pita's\": 1, 'Pet/Home': 1, 'Inwood/Wash': 1, \"Aiko's\": 1, 'being': 1, 'PetOpia': 1, \"G's\": 1, 'Broomfield': 1, 'Prime': 1, 'Beautiful': 1, \"pet's\": 1, 'AnaVivi': 1, 'heaven.': 1, 'Apt;': 1, 'heaven!': 1, \"Ruffin'\": 1, 'LaddieLand': 1, 'Alone': 1, 'Hearts': 1, 'Margot': 1, 'Wags2Whiskers-West': 1, 'PET-ro!': 1, 'Waggs': 1, 'Specialty~Bunnies!': 1, 'Ravenhill....': 1, 'humans': 1, 'Pippa': 1, 'not-so-hostile': 1, 'Barks,': 1, \"Karen's\": 1, 'Prairie': 1, 'Buddys': 1, 'Englewood,': 1, 'Days-paw': 1, \"Natalie's\": 1, 'PUGS!': 1, 'Tastic': 1, 'CHANGED': 1, 'Chaos': 1, 'Wright': 1, 'TLC.': 1, 'Queen': 1, 'TLC!': 1, 'Farm!': 1, 'Park-side': 1, 'expert': 1, 'COASTAL': 1, 'Pawhouse': 1, '(South': 1, 'Dogmother.': 1, 'Household!': 1, 'petsitter': 1, 'Obi': 1, 'Greene': 1, 'Tustin': 1, \"'JUST\": 1, 'Play-': 1, 'Fulton': 1, 'Chester!': 1, 'StarBarks': 1, 'both': 1, 'full-time': 1, 'vocation!': 1, 'Home-Away-From-Home!': 1, 'home-setting': 1, 'Chin': 1, 'Coastal': 1, 'Chic': 1, 'Yes': 1, 'Hart': 1, 'Birch': 1, 'sweet': 1, 'Willis': 1, 'Pugmutt': 1, \"B's\": 1, 'likes': 1, 'fun,': 1, 'Disney': 1, 'Bulldog': 1, 'Port-Where': 1, 'Pawgress': 1, 'Most': 1, 'Refresh!': 1, 'Cedar': 1, \"Dreamin'\": 1, \"Gaston's\": 1, \"Renae's\": 1, 'NEEDS': 1, 'Bellyrubs': 1, 'Daughter': 1, \"Jordan's!\": 1, 'Cuddles!': 1, 'fund': 1, 'Boy!': 1, 'peaceful!': 1, \"Teddy's\": 1, 'Glendale!': 1, 'Harriet': 1, 'Fairfax': 1, 'Wagadry': 1, 'reliable': 1, 'Byer': 1, '(D)auggie!': 1, 'Godmother': 1, 'Market': 1, 'Creatures': 1, 'Pup-ton': 1, 'Main': 1, 'HUSKY': 1, 'Tin': 1, 'Spoiling': 1, \"Hanna's\": 1, 'DOGGIES!!!': 1, \"Casey's\": 1, 'treats': 1, \"Maxie's\": 1, 'ShaunAnnigans': 1, 'fetching': 1, \"Maira's\": 1, 'Midtown!': 1, \"Paws'atively\": 1, 'Nation': 1, 'sitting/Dog': 1, 'RESORT': 1, 'Roommate': 1, 'Bluff': 1, \"Candice's\": 1, 'MUTTropolis': 1, 'Cow': 1, 'Eaviio': 1, 'Brooklyn-SlumberPawty': 1, 'genuine': 1, 'Love=Wags': 1, \"Ryan&Emily's\": 1, 'Henley': 1, 'Duke': 1, 'PLANT': 1, 'Serving': 1, 'Baldwin': 1, 'Tails-Big': 1, 'Manny': 1, 'PAWS,': 1, 'Sq.': 1, 'puppy.': 1, 'PAWS!': 1, 'Hounds!': 1, 'Takes': 1, \"O'\": 1, 'Aloha': 1, 'Wonderful': 1, 'Bernhard': 1, 'Tall': 1, 'Bored': 1, 'Puptown!': 1, 'FurryPlaycare/Vacay': 1, 'Luving': 1, \"Sittn'\": 1, 'Hands': 1, \"Latte's\": 1, 'Welcoming': 1, 'Intuitive': 1, 'Scales,': 1, \"Paw's\": 1, \"Bruce's\": 1, 'Betty': 1, 'Beagle!': 1, \"Kira's\": 1, 'KISSES**': 1, \"Piggy's\": 1, 'OK': 1, \"Raffy's\": 1, 'Watcher!': 1, 'time-Lk': 1, 'OC': 1, 'Crib': 1, 'Holiday,': 1, 'Attention!!': 1, 'Holiday!': 1, \"AW's\": 1, 'B&B!': 1, 'parade': 1, 'Dancing': 1, 'Paw-Mazingly': 1, 'buddies!': 1, '****Calm,': 1, 'Plains': 1, 'Pugilicious-Paradise': 1, 'Melrose': 1, \"can't!!\": 1, 'lover!!!': 1, 'Hospitality-July': 1, 'veterinary': 1, 'Kibble': 1, \"Haleigh's\": 1, 'Students': 1, 'Chelsea/HK!': 1, 'Nothing': 1, 'Nice': 1, 'Babies:)': 1, 'Who?': 1, 'run': 1, 'O': 1, 'Cascade': 1, 'Furtastic': 1, 'overnights': 1, 'Bon': 1, 'Boo': 1, 'Taylor': 1, 'WestSide': 1, 'UES-': 1, 'Turtle': 1, 'student-All': 1, 'dog-adoring': 1, 'Fun?': 1, 'Shmuppy': 1, 'Pawsome!': 1, 'Bedroom': 1, \"Dekster's\": 1, 'Jakls': 1, 'Rhea,': 1, 'Bunch': 1, 'caretaker': 1, 'butter?': 1, 'Rascal': 1, 'Everything': 1, \"Tuesday's\": 1, 'CKCS': 1, 'HappilyLovedFurPersons,': 1, 'Pet-Sitting': 1, 'PetSitter:FOUND': 1, 'Hut': 1, 'xoxo': 1, \"Where's\": 1, 'Sister!': 1, 'Every': 1, 'Comes': 1, \"Holli's\": 1, 'Professionals': 1, 'Sitting*': 1, 'Idyllic': 1, 'pampering!': 1, 'Pup?!': 1, 'GoGo': 1, 'DawgNation': 1, 'Adrian': 1, 'NEED': 1, 'Companion!': 1, 'Walnut': 1, 'Irish': 1, \"Kel's\": 1, 'Casa!': 1, 'pups!!': 1, 'ZenDogLoverExtraordinaire': 1, 'Ever!': 1, 'planet': 1, 'Salty': 1, 'Activity!': 1, 'Bark-fest': 1, '&kitty': 1, \"'Woof\": 1, 'Catbird': 1, 'Love-A-Paw': 1, 'animals!!!': 1, 'Papillon': 1, 'constant': 1, 'Woofs': 1, \"Susan's\": 1, \"Tara's\": 1, 'International': 1, 'bedroom': 1, \"A's\": 1, \"DogMa's\": 1, 'Dogs!!!!!!': 1, 'petsitting': 1, \"Cooke's\": 1, 'Paws!!': 1, 'Mad': 1, 'Heaven?': 1, 'DFW': 1, 'Frisco': 1, 'R.P.V.': 1, 'Med': 1, 'helping': 1, 'WIGGLES': 1, 'Pacing': 1, \"Woof'\": 1, \"Chamblin's\": 1, 'Am': 1, 'Sand-Stay': 1, 'As': 1, 'Oakland': 1, 'Lela&Blu': 1, 'Based': 1, 'BUDDY': 1, 'Veterinary': 1, 'LA!': 1, 'Park...': 1, 'Rubs.': 1, 'pooches': 1, 'K.O.s': 1, 'go': 1, 'WLA': 1, 'Isle': 1, '@Hillcrest': 1, 'Woofie': 1, 'Ultra': 1, 'S.T.A.R.': 1, 'Rubs-': 1, 'Experts!': 1, 'Dog-Zen': 1, 'Balancing': 1, '(not': 1, 'Stops!': 1, \"PAM'S\": 1, '*Animal': 1, 'PEACE': 1, 'kitty': 1, 'Rubs,': 1, 'SoCal': 1, 'Walkin': 1, 'more!': 1, 'playtime!': 1, 'Kitsap': 1, 'doggy-paradise!': 1, 'Hiking': 1, 'help!': 1, 'Brisbane': 1, 'waggers': 1, 'Day,': 1, 'sitter?': 1, 'car': 1, 'Sunggle': 1, 'Stay-At-Home': 1, 'Bond*': 1, 'Relax': 1, 'SUZY': 1, 'Dutchtown': 1, \"Peggy's\": 1, 'HappyPups': 1, 'furries!!!': 1, 'Waggle': 1, 'Nurse': 1, 'Doggycation': 1, \"Dino's\": 1, 'Cottage...': 1, 'Ruff-Notes!': 1, 'Oceanside': 1, \"Cake's\": 1, \"Sam's\": 1, \"Pooch's\": 1, 'petcare': 1, 'Pal!': 1, 'Pawpals,': 1, 'Adventures!': 1, 'Kingdom': 1, 'Freedom': 1, 'Pawtastic': 1, 'PAWS!!': 1, 'Country,': 1, 'Pawllywood:': 1, 'lends': 1, 'Cuddled': 1, 'Lovers!!': 1, 'McKibben': 1, 'Ch?teaux-': 1, 'Awesome-Town': 1, \"Ginny's\": 1, 'Coast!': 1, 'Pets/La': 1, 'play,': 1, 'Wonder': 1, 'Doggie&Kitty': 1, 'Petropolis': 1, 'Kritter': 1, 'NT-': 1, 'Treatment': 1, 'veterinarian': 1, 'FREE!!': 1, 'DCA': 1, 'Devon': 1, 'Play!!': 1, 'Waterside': 1, 'Dale': 1, 'Exploring': 1, 'Sleep-Over': 1, 'Paws.': 1, 'laps!': 1, 'next': 1, 'Jenzy': 1, 'Dogwarts': 1, 'dogs/cats)': 1, 'Chatsworth': 1, 'COZY': 1, 'Clubhouse': 1, 'Westie': 1, 'Boarder': 1, 'local': 1, 'Lani': 1, 'Above': 1, 'PetCare': 1, 'WaggsnPurrs': 1, 'Utopia!': 1, 'Specialize': 1, 'snuggle!': 1, 'Emporium': 1, 'Bed-Stuy!': 1, 'Love-Doggy': 1, 'Owner/Lover': 1, 'this': 1, 'Stetz': 1, 'pawz': 1, 'Slim': 1, 'Doggie-Day/Night': 1, \"Lot's\": 1, 'favorite': 1, 'Central/Riverside': 1, 'Sitters!': 1, 'Mr.': 1, 'US': 1, 'L&R': 1, 'Joyful': 1, 'dare!': 1, 'advocate!': 1, 'w-24/7': 1, 'volunteer,': 1, 'Rey!': 1, 'D&G': 1, \"Nala's\": 1, 'McLaren': 1, 'Boarding-Sunland': 1, 'MEOW.': 1, 'Puppy-Parent': 1, 'HUGS': 1, 'Roaming': 1, 'Cliff': 1, 'Cat!': 1, 'watch': 1, 'bone!': 1, 'Ryan': 1, 'Batch': 1, 'Q': 1, 'Canines!': 1, 'Lifetime': 1, 'Time!!!': 1, '4Paws': 1, 'Pawriffic': 1, 'Clarita': 1, 'DOGS!!': 1, \"Roscoe's\": 1, 'Bensonhurst!': 1, \"M's\": 1, 'Care-Roseland': 1, 'looking': 1, 'Care**': 1, 'Doggone': 1, 'Raise': 1, 'work-at-home': 1, 'Love.': 1, 'affection!': 1, 'puggle': 1, 'including': 1, 'Adjacent': 1, 'Hermann': 1, 'Waggy': 1, 'wow!': 1, 'Piece': 1, '#LivingWithApollo': 1, 'lonely!': 1, \"Who's\": 1, 'home....': 1, 'pawpaw': 1, 'choose': 1, 'Waterfront': 1, 'Attentive': 1, 'Queens': 1, 'Cap': 1, 'runs': 1, 'Can': 1, 'Rumpus': 1, 'Works': 1, 'preschool': 1, 'Delight!!': 1, 'Inn!!!!': 1, 'Deck': 1, 'crowd!': 1, 'Why': 1, 'Seriously': 1, '|': 1, 'Playful,': 1, 'Arts': 1, 'vacation,': 1, 'Poodle': 1, 'Next': 1, 'Doodles': 1, 'Woof!!!!!': 1, \"Peter's\": 1, '~Walks': 1, \"Fidos'\": 1, 'repeat!': 1, 'SMALL!': 1, 'outings/day': 1, 'LLC.': 1, 'Dallas/Uptown/Lakewood': 1, 'Trying': 1, 'Alpine': 1, 'Abode': 1, 'Greener': 1, 'Dawgs': 1, 'Alexis': 1, 'Savvy': 1, 'Meet': 1, 'Dogology': 1, 'Dander': 1, 'Play-cation!': 1, \"Rina's\": 1, 'NYC!': 1, 'DogMa': 1, 'CanineCoveTX': 1, 'DOGZ': 1, 'Divine': 1, 'Bugles': 1, 'Dogaholic': 1, 'Lanier': 1, 'Playmate': 1, 'date': 1, 'it!!!': 1, 'Bethesda': 1, 'Become': 1, 'Kisses!': 1, 'Get-A-Way': 1, 'Ruffhouse:-)': 1, 'Miramar': 1, 'Condo!': 1, 'Sheltie': 1, 'Only-Richmond': 1, 'Eastern': 1, 'Puppers': 1, 'Kuddley': 1, 'Puptastic': 1, 'love.': 1, 'Baytown': 1, 'priority': 1, 'Disneyland': 1, 'Furry-Kids': 1, 'Puppy-Loving': 1, 'This!': 1, 'INDEED!': 1, \"Haliana's\": 1, 'squishy': 1, 'Paw-loving': 1, \"Burbank's\": 1, 'fuzzy': 1, 'Kips': 1, 'loved': 1, 'Nevius': 1, 'Pound': 1, '(YARD)': 1, 'Match': 1, 'petworthy': 1, 'Caleb': 1, 'Foster': 1, 'References': 1, 'Bungalow!': 1, 'Dingle-Dingle': 1, 'Loveable': 1, 'Pas': 1, 'love!!': 1, 'County...': 1, 'Kiki': 1, 'M&M': 1, 'Secret': 1, 'Welcome*': 1, 'home!!!': 1, 'Xena': 1, 'Bowery': 1, 'Science': 1, 'Paw-ty': 1, 'Petstaycation': 1, 'Conservatory': 1, \"Oliver's\": 1, 'Sniff': 1, 'Sunny': 1, 'Clairemont': 1, \"tailin'\": 1, 'Rural': 1, 'fun?': 1, 'Pug!': 1, 'Rescue': 1, 'MCM': 1, 'Scrappy': 1, 'Pot': 1, \"Pawblo's\": 1, 'Pawd': 1, \"AuntChristine's\": 1, 'Bend': 1, 'Tender': 1, 'dog-91205': 1, 'Friends-Home': 1, 'Pied-a-terre': 1, 'Lessons': 1, \"Brittany's\": 1, 'w/Fenced': 1, 'Bonefest': 1, 'Concord,': 1, 'Doggy/Kitty/House': 1, \"Kruisin'\": 1, 'Owner,': 1, 'BEST': 1, 'DADDY': 1, 'World...': 1, 'Thrones': 1, 'SODHIPUP': 1, '=]': 1, \"Colleen's\": 1, 'WOULD!': 1, 'should': 1, 'Dog-Whisperer!': 1, 'space!!': 1, 'Alvin!': 1, 'Begin': 1, 'Owners': 1, 'Applause': 1, 'fellow': 1, \"Monica's\": 1, 'Keep': 1, 'ones': 1, 'Leashes': 1, 'Itty': 1, 'Fitness': 1, 'Whisker': 1, 'River': 1, 'Italian': 1, 'Affectionate,': 1, 'BarkBox': 1, 'KITTY': 1, 'Area!': 1, 'Devine': 1, \"Kall's\": 1, 'Quiet,': 1, \"Penny's\": 1, 'Experts': 1, 'Palisades': 1, 'DoggyLand': 1, \"won't\": 1, 'There!': 1, 'FurPeople': 1, 'Jessie!': 1, 'special': 1, 'Unite': 1, 'Zoo': 1, 'Kibbles': 1, \"Aubrey's\": 1, 'Nolita,': 1, 'cold': 1, 'Daycare/Boarding': 1, \"Co.`You're\": 1, 'bud!': 1, \"Camper's\": 1, \"TK's\": 1, 'Oh,': 1, \"Lover's\": 1, 'Wipe': 1, 'human?': 1, 'Full-time': 1, 'Youre': 1, 'Ollie/Charlie': 1, 'Tribeca!': 1, 'MAMA': 1, 'Paw-Fection!!': 1, 'Kennel': 1, 'human!': 1, 'Thrasher': 1, 'NOT': 1, 'always': 1, 'Pup-Cation!!': 1, 'galore': 1, 'Velvets': 1, 'Phoebe': 1, \"Baxter's\": 1, 'Freindly': 1, 'Edendale': 1, 'gone': 1, 'wall': 1, 'Lonely!': 1, 'Girls': 1, 'WHO': 1, 'walk': 1, 'PawdyOverHere': 1, 'Los': 1, 'pawsome!': 1, 'respect': 1, 'Lily': 1, '**Not': 1, 'Flatbush': 1, 'Ravishing': 1, 'party!!': 1, \"CHRISTY'S\": 1, 'Writer': 1, 'Sizes': 1, 'Fetching': 1, 'King': 1, \"Romp'N'Run\": 1, 'Fenway': 1, \"Chevy-Doo's\": 1, 'environment!': 1, 'Girl!': 1, 'holiday': 1, 'Artsy': 1, 'Havanese': 1, \"PetLovin'\": 1, 'One-on-One': 1, 'Kennels': 1, 'country': 1, 'portraits': 1, 'Somerville': 1, 'Balcony': 1, 'Grove!': 1, \"karol's\": 1, 'Nannie': 1, 'Boogie!': 1, 'Puppyside!': 1, 'Mid': 1, 'Playground!!': 1, \"pup's\": 1, 'Over?': 1, 'Daddy?': 1, 'DoggieWonk': 1, 'unite': 1, 'Excelsior': 1, 'member': 1, 'Hang-out': 1, 'Peaceful,': 1, 'party': 1, 'sch,': 1, 'Paw-Five': 1, 'Third': 1, \"Kathleen's\": 1, 'MIDTOWN': 1, 'Families': 1, \"Hubble's\": 1, 'Houston': 1, 'Fenced-In': 1, 'i': 1, 'wants': 1, 'ARE': 1, \"Dee's\": 1, 'Peaceable': 1, 'playdate!!!': 1, 'Loft!': 1, 'Social': 1, 'BK': 1, \"Link's\": 1, 'Ashby!': 1, 'LOVES': 1, 'Kenobi!': 1, 'Fan': 1, 'Beagles': 1, 'Fab': 1, 'Order:': 1, 'Ponds': 1, 'Trendy': 1, 'Away!!': 1, 'Duchess!': 1, 'park/Home': 1, 'Adore': 1, \"Fang's\": 1, 'us.': 1, \"Ren's\": 1, 'Law': 1, 'Housedogs': 1, 'Paws-R-Us': 1, 'TOO!': 1, 'Lap': 1, 'Antidote': 1, \"Satomi's\": 1, 'Sleepy': 1, \"Frida's\": 1, 'Playland': 1, 'Hut.': 1, \"Autumn's\": 1, 'Mt.': 1, 'Pro': 1, 'pack!': 1, 'Eli-Paw': 1, \"KJ's\": 1, 'Awkward': 1, 'suites': 1, 'Guaranteed': 1, 'PUPular': 1, \"Katie's\": 1, 'FantasticFurryFun': 1, 'Lost': 1, 'Dog-Friendly': 1, \"Kerri's\": 1, \"Jeanine's\": 1, '14th': 1, 'Wishes': 1, 'Xanadu': 1, \"***Pup's\": 1, 'snuggle': 1, 'Grandma': 1, \"Shane's\": 1, 'schedule': 1, 'Mooresville': 1, 'allergens!': 1, 'Scoop': 1, 'Dog-Sitting!': 1, \"ROVER'S\": 1, 'Nester': 1, 'yours!': 1, 'Oakland!': 1, 'refuge': 1, 'Rowhouse': 1, 'WANTED:': 1, \"Yvonne's\": 1, 'BOUND': 1, 'ZenK9': 1, '(Apartment': 1, 'Sit-Fetch-Stay': 1, 'Princess!': 1, 'Flavio': 1, 'Pup,': 1, 'fur-babies!': 1, 'Pedro': 1, 'Outer': 1, 'Pool!': 1, 'Foxy': 1, \"Cappy's\": 1, 'WHILE': 1, 'Takoma': 1, 'Houston,': 1, \"Panda's\": 1, 'Huge,': 1, 'Ami': 1, \"'Scoop'\": 1, \"Champion's\": 1, 'Award': 1, 'Upon': 1, 'Amy': 1, 'Alexandria,VA': 1, 'COLINAS': 1, 'Cuddlebugs': 1, \"US'\": 1, 'Jamazing': 1, 'hr': 1, 'believe': 1, 'Romp-A-Round': 1, 'MIND': 1, 'Dew': 1, 'Dem': 1, 'Hugs)!': 1, 'Angolia': 1, 'Highland': 1, 'Chinatics': 1, 'Aunty': 1, 'US!': 1, 'DogVacation!': 1, 'Lickraft': 1, 'Dog(s)': 1, 'Barkyard': 1, 'Luc': 1, 'Crosby': 1, \"Susie's\": 1, 'piece': 1, 'Kate': 1, 'Non-shedding': 1, 'DOGarious': 1, 'Around!': 1, 'Balls': 1, 'Vancouver': 1, 'yo!': 1, 'DoggieLove': 1, 'Central/East': 1, 'garden,': 1, 'Mother': 1, 'Sit!': 1, 'CATS': 1, 'Dog-Sitting': 1, 'PETS': 1, 'DogLovers4U': 1, 'Ace': 1, \"Daisy's\": 1, 'PupProf': 1, 'AMORE': 1, 'Persnickety': 1, 'Future': 1, 'Zone!': 1, 'Whisperer,': 1, 'Kinship': 1, \"'\": 1, 'Sugarhound': 1, 'Roswell': 1, 'Well!': 1, 'Lush': 1, '~Doggy': 1, 'Maple': 1, 'Headquarters!': 1, 'Poolside': 1, \"Lexie's\": 1, 'Happen': 1, 'Montebello': 1, 'Doggie/Kitty': 1})"
      ]
     },
     "execution_count": 8,
     "metadata": {},
     "output_type": "execute_result"
    }
   ],
   "source": [
    "list_ = df['names'].tolist()\n",
    "merged_list = list(itertools.chain(*list_))\n",
    "Counter(merged_list)\n",
    "# words = df['names'].tolist()\n",
    "# Counter(word for line in words for word in line)"
   ]
  },
  {
   "cell_type": "code",
   "execution_count": 9,
   "metadata": {
    "collapsed": false,
    "scrolled": true
   },
   "outputs": [
    {
     "data": {
      "text/plain": [
       "[('Dog', 557),\n",
       " ('Home', 333),\n",
       " ('Pet', 316),\n",
       " ('Puppy', 290),\n",
       " ('in', 286),\n",
       " ('&', 264),\n",
       " ('and', 244),\n",
       " ('for', 222),\n",
       " ('Your', 221),\n",
       " ('Care', 205),\n",
       " ('The', 190),\n",
       " ('Doggie', 190),\n",
       " ('Doggy', 169),\n",
       " ('Love', 165),\n",
       " ('your', 165),\n",
       " ('Happy', 152),\n",
       " ('of', 152),\n",
       " ('Paws', 146),\n",
       " ('the', 145),\n",
       " ('A', 131)]"
      ]
     },
     "execution_count": 9,
     "metadata": {},
     "output_type": "execute_result"
    }
   ],
   "source": [
    "Counter(merged_list).most_common(20)"
   ]
  },
  {
   "cell_type": "code",
   "execution_count": 10,
   "metadata": {
    "collapsed": false
   },
   "outputs": [
    {
     "data": {
      "text/html": [
       "<div style=\"max-height:1000px;max-width:1500px;overflow:auto;\">\n",
       "<table border=\"1\" class=\"dataframe\">\n",
       "  <thead>\n",
       "    <tr style=\"text-align: right;\">\n",
       "      <th></th>\n",
       "      <th>fee</th>\n",
       "      <th>ratings</th>\n",
       "      <th>repeat</th>\n",
       "      <th>response_time</th>\n",
       "      <th>review</th>\n",
       "      <th>services</th>\n",
       "      <th>boarding</th>\n",
       "      <th>sitting</th>\n",
       "      <th>daycare</th>\n",
       "      <th>checkups</th>\n",
       "      <th>walking</th>\n",
       "      <th>bathing</th>\n",
       "      <th>training</th>\n",
       "      <th>grooming</th>\n",
       "      <th>pickup/dropoff</th>\n",
       "    </tr>\n",
       "  </thead>\n",
       "  <tbody>\n",
       "    <tr>\n",
       "      <th>count</th>\n",
       "      <td> 4662.000000</td>\n",
       "      <td> 4662.000000</td>\n",
       "      <td> 4662.000000</td>\n",
       "      <td> 4662.000000</td>\n",
       "      <td> 4662.000000</td>\n",
       "      <td> 4662.000000</td>\n",
       "      <td> 4662.000000</td>\n",
       "      <td> 4662.000000</td>\n",
       "      <td> 4662.000000</td>\n",
       "      <td> 4662.000000</td>\n",
       "      <td> 4662.000000</td>\n",
       "      <td> 4662.000000</td>\n",
       "      <td> 4662.000000</td>\n",
       "      <td> 4662.00000</td>\n",
       "      <td> 4662.000000</td>\n",
       "    </tr>\n",
       "    <tr>\n",
       "      <th>mean</th>\n",
       "      <td>   38.678464</td>\n",
       "      <td>    3.416345</td>\n",
       "      <td>    4.817889</td>\n",
       "      <td>    1.582154</td>\n",
       "      <td>    9.806521</td>\n",
       "      <td>    3.162377</td>\n",
       "      <td>    0.947662</td>\n",
       "      <td>    0.349206</td>\n",
       "      <td>    0.637066</td>\n",
       "      <td>    0.431145</td>\n",
       "      <td>    0.403904</td>\n",
       "      <td>    0.154011</td>\n",
       "      <td>    0.028529</td>\n",
       "      <td>    0.01094</td>\n",
       "      <td>    0.199914</td>\n",
       "    </tr>\n",
       "    <tr>\n",
       "      <th>std</th>\n",
       "      <td>   11.184772</td>\n",
       "      <td>    2.308807</td>\n",
       "      <td>    9.537766</td>\n",
       "      <td>    0.767003</td>\n",
       "      <td>   19.448652</td>\n",
       "      <td>    1.062929</td>\n",
       "      <td>    0.222732</td>\n",
       "      <td>    0.476770</td>\n",
       "      <td>    0.480898</td>\n",
       "      <td>    0.495289</td>\n",
       "      <td>    0.490731</td>\n",
       "      <td>    0.360998</td>\n",
       "      <td>    0.166495</td>\n",
       "      <td>    0.10403</td>\n",
       "      <td>    0.399979</td>\n",
       "    </tr>\n",
       "    <tr>\n",
       "      <th>min</th>\n",
       "      <td>    0.000000</td>\n",
       "      <td>    0.000000</td>\n",
       "      <td>    0.000000</td>\n",
       "      <td>    1.000000</td>\n",
       "      <td>    0.000000</td>\n",
       "      <td>    1.000000</td>\n",
       "      <td>    0.000000</td>\n",
       "      <td>    0.000000</td>\n",
       "      <td>    0.000000</td>\n",
       "      <td>    0.000000</td>\n",
       "      <td>    0.000000</td>\n",
       "      <td>    0.000000</td>\n",
       "      <td>    0.000000</td>\n",
       "      <td>    0.00000</td>\n",
       "      <td>    0.000000</td>\n",
       "    </tr>\n",
       "    <tr>\n",
       "      <th>25%</th>\n",
       "      <td>   30.000000</td>\n",
       "      <td>    0.000000</td>\n",
       "      <td>    0.000000</td>\n",
       "      <td>    1.000000</td>\n",
       "      <td>    0.000000</td>\n",
       "      <td>    2.000000</td>\n",
       "      <td>    1.000000</td>\n",
       "      <td>    0.000000</td>\n",
       "      <td>    0.000000</td>\n",
       "      <td>    0.000000</td>\n",
       "      <td>    0.000000</td>\n",
       "      <td>    0.000000</td>\n",
       "      <td>    0.000000</td>\n",
       "      <td>    0.00000</td>\n",
       "      <td>    0.000000</td>\n",
       "    </tr>\n",
       "    <tr>\n",
       "      <th>50%</th>\n",
       "      <td>   38.000000</td>\n",
       "      <td>    5.000000</td>\n",
       "      <td>    1.000000</td>\n",
       "      <td>    1.000000</td>\n",
       "      <td>    3.000000</td>\n",
       "      <td>    4.000000</td>\n",
       "      <td>    1.000000</td>\n",
       "      <td>    0.000000</td>\n",
       "      <td>    1.000000</td>\n",
       "      <td>    0.000000</td>\n",
       "      <td>    0.000000</td>\n",
       "      <td>    0.000000</td>\n",
       "      <td>    0.000000</td>\n",
       "      <td>    0.00000</td>\n",
       "      <td>    0.000000</td>\n",
       "    </tr>\n",
       "    <tr>\n",
       "      <th>75%</th>\n",
       "      <td>   45.000000</td>\n",
       "      <td>    5.000000</td>\n",
       "      <td>    5.000000</td>\n",
       "      <td>    2.000000</td>\n",
       "      <td>   10.000000</td>\n",
       "      <td>    4.000000</td>\n",
       "      <td>    1.000000</td>\n",
       "      <td>    1.000000</td>\n",
       "      <td>    1.000000</td>\n",
       "      <td>    1.000000</td>\n",
       "      <td>    1.000000</td>\n",
       "      <td>    0.000000</td>\n",
       "      <td>    0.000000</td>\n",
       "      <td>    0.00000</td>\n",
       "      <td>    0.000000</td>\n",
       "    </tr>\n",
       "    <tr>\n",
       "      <th>max</th>\n",
       "      <td>   95.000000</td>\n",
       "      <td>    5.000000</td>\n",
       "      <td>   98.000000</td>\n",
       "      <td>    3.000000</td>\n",
       "      <td>  370.000000</td>\n",
       "      <td>    4.000000</td>\n",
       "      <td>    1.000000</td>\n",
       "      <td>    1.000000</td>\n",
       "      <td>    1.000000</td>\n",
       "      <td>    1.000000</td>\n",
       "      <td>    1.000000</td>\n",
       "      <td>    1.000000</td>\n",
       "      <td>    1.000000</td>\n",
       "      <td>    1.00000</td>\n",
       "      <td>    1.000000</td>\n",
       "    </tr>\n",
       "  </tbody>\n",
       "</table>\n",
       "</div>"
      ],
      "text/plain": [
       "               fee      ratings       repeat  response_time       review  \\\n",
       "count  4662.000000  4662.000000  4662.000000    4662.000000  4662.000000   \n",
       "mean     38.678464     3.416345     4.817889       1.582154     9.806521   \n",
       "std      11.184772     2.308807     9.537766       0.767003    19.448652   \n",
       "min       0.000000     0.000000     0.000000       1.000000     0.000000   \n",
       "25%      30.000000     0.000000     0.000000       1.000000     0.000000   \n",
       "50%      38.000000     5.000000     1.000000       1.000000     3.000000   \n",
       "75%      45.000000     5.000000     5.000000       2.000000    10.000000   \n",
       "max      95.000000     5.000000    98.000000       3.000000   370.000000   \n",
       "\n",
       "          services     boarding      sitting      daycare     checkups  \\\n",
       "count  4662.000000  4662.000000  4662.000000  4662.000000  4662.000000   \n",
       "mean      3.162377     0.947662     0.349206     0.637066     0.431145   \n",
       "std       1.062929     0.222732     0.476770     0.480898     0.495289   \n",
       "min       1.000000     0.000000     0.000000     0.000000     0.000000   \n",
       "25%       2.000000     1.000000     0.000000     0.000000     0.000000   \n",
       "50%       4.000000     1.000000     0.000000     1.000000     0.000000   \n",
       "75%       4.000000     1.000000     1.000000     1.000000     1.000000   \n",
       "max       4.000000     1.000000     1.000000     1.000000     1.000000   \n",
       "\n",
       "           walking      bathing     training    grooming  pickup/dropoff  \n",
       "count  4662.000000  4662.000000  4662.000000  4662.00000     4662.000000  \n",
       "mean      0.403904     0.154011     0.028529     0.01094        0.199914  \n",
       "std       0.490731     0.360998     0.166495     0.10403        0.399979  \n",
       "min       0.000000     0.000000     0.000000     0.00000        0.000000  \n",
       "25%       0.000000     0.000000     0.000000     0.00000        0.000000  \n",
       "50%       0.000000     0.000000     0.000000     0.00000        0.000000  \n",
       "75%       1.000000     0.000000     0.000000     0.00000        0.000000  \n",
       "max       1.000000     1.000000     1.000000     1.00000        1.000000  "
      ]
     },
     "execution_count": 10,
     "metadata": {},
     "output_type": "execute_result"
    }
   ],
   "source": [
    "df.describe()"
   ]
  },
  {
   "cell_type": "code",
   "execution_count": 18,
   "metadata": {
    "collapsed": true
   },
   "outputs": [],
   "source": [
    "#25%, 50%, 75% tiers based on reviews\n",
    "df['tierreview'] = df['review'].map(lambda x: 1 if x<=3 else 2 if 3<x<=10 else 3)"
   ]
  },
  {
   "cell_type": "code",
   "execution_count": 19,
   "metadata": {
    "collapsed": false
   },
   "outputs": [
    {
     "data": {
      "text/html": [
       "<div style=\"max-height:1000px;max-width:1500px;overflow:auto;\">\n",
       "<table border=\"1\" class=\"dataframe\">\n",
       "  <thead>\n",
       "    <tr style=\"text-align: right;\">\n",
       "      <th></th>\n",
       "      <th>fee</th>\n",
       "      <th>ratings</th>\n",
       "      <th>repeat</th>\n",
       "      <th>response_time</th>\n",
       "      <th>review</th>\n",
       "      <th>services</th>\n",
       "      <th>boarding</th>\n",
       "      <th>sitting</th>\n",
       "      <th>daycare</th>\n",
       "      <th>checkups</th>\n",
       "      <th>walking</th>\n",
       "      <th>bathing</th>\n",
       "      <th>training</th>\n",
       "      <th>grooming</th>\n",
       "      <th>pickup/dropoff</th>\n",
       "    </tr>\n",
       "    <tr>\n",
       "      <th>tierreview</th>\n",
       "      <th></th>\n",
       "      <th></th>\n",
       "      <th></th>\n",
       "      <th></th>\n",
       "      <th></th>\n",
       "      <th></th>\n",
       "      <th></th>\n",
       "      <th></th>\n",
       "      <th></th>\n",
       "      <th></th>\n",
       "      <th></th>\n",
       "      <th></th>\n",
       "      <th></th>\n",
       "      <th></th>\n",
       "      <th></th>\n",
       "    </tr>\n",
       "  </thead>\n",
       "  <tbody>\n",
       "    <tr>\n",
       "      <th>1</th>\n",
       "      <td> 39.879304</td>\n",
       "      <td> 2.160155</td>\n",
       "      <td>  0.352418</td>\n",
       "      <td> 1.558607</td>\n",
       "      <td>  0.753191</td>\n",
       "      <td> 3.135397</td>\n",
       "      <td> 0.921083</td>\n",
       "      <td> 0.373308</td>\n",
       "      <td> 0.601161</td>\n",
       "      <td> 0.422050</td>\n",
       "      <td> 0.457640</td>\n",
       "      <td> 0.141973</td>\n",
       "      <td> 0.027853</td>\n",
       "      <td> 0.008124</td>\n",
       "      <td> 0.182205</td>\n",
       "    </tr>\n",
       "    <tr>\n",
       "      <th>2</th>\n",
       "      <td> 37.473970</td>\n",
       "      <td> 4.971800</td>\n",
       "      <td>  3.065076</td>\n",
       "      <td> 1.583514</td>\n",
       "      <td>  6.494577</td>\n",
       "      <td> 3.191974</td>\n",
       "      <td> 0.967462</td>\n",
       "      <td> 0.360087</td>\n",
       "      <td> 0.651844</td>\n",
       "      <td> 0.437093</td>\n",
       "      <td> 0.368764</td>\n",
       "      <td> 0.163774</td>\n",
       "      <td> 0.027115</td>\n",
       "      <td> 0.015184</td>\n",
       "      <td> 0.200651</td>\n",
       "    </tr>\n",
       "    <tr>\n",
       "      <th>3</th>\n",
       "      <td> 36.952381</td>\n",
       "      <td> 4.986147</td>\n",
       "      <td> 16.211255</td>\n",
       "      <td> 1.633766</td>\n",
       "      <td> 32.712554</td>\n",
       "      <td> 3.199134</td>\n",
       "      <td> 0.991342</td>\n",
       "      <td> 0.286580</td>\n",
       "      <td> 0.705628</td>\n",
       "      <td> 0.446753</td>\n",
       "      <td> 0.311688</td>\n",
       "      <td> 0.173160</td>\n",
       "      <td> 0.031169</td>\n",
       "      <td> 0.013853</td>\n",
       "      <td> 0.238961</td>\n",
       "    </tr>\n",
       "  </tbody>\n",
       "</table>\n",
       "</div>"
      ],
      "text/plain": [
       "                  fee   ratings     repeat  response_time     review  \\\n",
       "tierreview                                                             \n",
       "1           39.879304  2.160155   0.352418       1.558607   0.753191   \n",
       "2           37.473970  4.971800   3.065076       1.583514   6.494577   \n",
       "3           36.952381  4.986147  16.211255       1.633766  32.712554   \n",
       "\n",
       "            services  boarding   sitting   daycare  checkups   walking  \\\n",
       "tierreview                                                               \n",
       "1           3.135397  0.921083  0.373308  0.601161  0.422050  0.457640   \n",
       "2           3.191974  0.967462  0.360087  0.651844  0.437093  0.368764   \n",
       "3           3.199134  0.991342  0.286580  0.705628  0.446753  0.311688   \n",
       "\n",
       "             bathing  training  grooming  pickup/dropoff  \n",
       "tierreview                                                \n",
       "1           0.141973  0.027853  0.008124        0.182205  \n",
       "2           0.163774  0.027115  0.015184        0.200651  \n",
       "3           0.173160  0.031169  0.013853        0.238961  "
      ]
     },
     "execution_count": 19,
     "metadata": {},
     "output_type": "execute_result"
    }
   ],
   "source": [
    "df.groupby('tierreview').mean()"
   ]
  },
  {
   "cell_type": "code",
   "execution_count": 13,
   "metadata": {
    "collapsed": true
   },
   "outputs": [],
   "source": [
    "tier3 = df[df.tierreview == 3]\n",
    "tier2 = df[df.tierreview == 2]\n",
    "tier1 = df[df.tierreview == 1]"
   ]
  },
  {
   "cell_type": "code",
   "execution_count": 22,
   "metadata": {
    "collapsed": false
   },
   "outputs": [
    {
     "data": {
      "text/plain": [
       "[('Dog', 142),\n",
       " ('Home', 127),\n",
       " ('Pet', 98),\n",
       " ('in', 90),\n",
       " ('and', 80),\n",
       " ('Care', 76),\n",
       " ('&', 72),\n",
       " ('Doggie', 63),\n",
       " ('The', 58),\n",
       " ('for', 51),\n",
       " ('Your', 51),\n",
       " ('Puppy', 50),\n",
       " ('Paws', 48),\n",
       " ('Love', 46),\n",
       " ('A', 44),\n",
       " ('Happy', 44),\n",
       " ('of', 42),\n",
       " ('Doggy', 40),\n",
       " ('Dogs', 38),\n",
       " ('Paradise', 36),\n",
       " ('Away', 35),\n",
       " ('from', 33),\n",
       " ('Sitting', 32),\n",
       " ('the', 31),\n",
       " ('-', 28)]"
      ]
     },
     "execution_count": 22,
     "metadata": {},
     "output_type": "execute_result"
    }
   ],
   "source": [
    "namelist3 = tier3['names']\n",
    "tier3_list = list(itertools.chain(*namelist3))\n",
    "Counter(tier3_list).most_common(25)"
   ]
  },
  {
   "cell_type": "code",
   "execution_count": 23,
   "metadata": {
    "collapsed": false
   },
   "outputs": [
    {
     "data": {
      "text/plain": [
       "[('Dog', 315),\n",
       " ('Puppy', 191),\n",
       " ('Home', 163),\n",
       " ('in', 159),\n",
       " ('Pet', 157),\n",
       " ('&', 150),\n",
       " ('for', 127),\n",
       " ('Your', 124),\n",
       " ('and', 122),\n",
       " ('your', 112),\n",
       " ('The', 105),\n",
       " ('Doggy', 103),\n",
       " ('Care', 97),\n",
       " ('the', 92),\n",
       " ('Love', 92),\n",
       " ('of', 91),\n",
       " ('Doggie', 82),\n",
       " ('dog', 75),\n",
       " ('Happy', 75),\n",
       " ('A', 68),\n",
       " ('Paws', 67),\n",
       " ('Dogs', 66),\n",
       " ('home', 66),\n",
       " ('Pup', 62),\n",
       " ('Paradise', 62)]"
      ]
     },
     "execution_count": 23,
     "metadata": {},
     "output_type": "execute_result"
    }
   ],
   "source": [
    "namelist1 = tier1['names']\n",
    "tier1_list = list(itertools.chain(*namelist1))\n",
    "Counter(tier1_list).most_common(25)"
   ]
  },
  {
   "cell_type": "code",
   "execution_count": 25,
   "metadata": {
    "collapsed": false
   },
   "outputs": [
    {
     "data": {
      "text/plain": [
       "[('Dog', 100),\n",
       " ('Pet', 61),\n",
       " ('Puppy', 49),\n",
       " ('Your', 46),\n",
       " ('Doggie', 45),\n",
       " ('for', 44),\n",
       " ('Home', 43),\n",
       " ('&', 42),\n",
       " ('and', 42),\n",
       " ('in', 37),\n",
       " ('Happy', 33),\n",
       " ('Care', 32),\n",
       " ('Paws', 31),\n",
       " ('dog', 29),\n",
       " ('your', 29),\n",
       " ('Paradise', 28),\n",
       " ('Love', 27),\n",
       " ('The', 27),\n",
       " ('Doggy', 26),\n",
       " ('with', 24),\n",
       " ('the', 22),\n",
       " ('a', 21),\n",
       " ('Sitting', 21),\n",
       " ('home', 20),\n",
       " ('A', 19)]"
      ]
     },
     "execution_count": 25,
     "metadata": {},
     "output_type": "execute_result"
    }
   ],
   "source": [
    "namelist2 = tier2['names']\n",
    "tier2_list = list(itertools.chain(*namelist2))\n",
    "Counter(tier2_list).most_common(25)"
   ]
  },
  {
   "cell_type": "code",
   "execution_count": null,
   "metadata": {
    "collapsed": true
   },
   "outputs": [],
   "source": []
  },
  {
   "cell_type": "code",
   "execution_count": null,
   "metadata": {
    "collapsed": true
   },
   "outputs": [],
   "source": []
  }
 ],
 "metadata": {
  "kernelspec": {
   "display_name": "Python 2",
   "language": "python",
   "name": "python2"
  },
  "language_info": {
   "codemirror_mode": {
    "name": "ipython",
    "version": 2
   },
   "file_extension": ".py",
   "mimetype": "text/x-python",
   "name": "python",
   "nbconvert_exporter": "python",
   "pygments_lexer": "ipython2",
   "version": "2.7.10"
  }
 },
 "nbformat": 4,
 "nbformat_minor": 0
}
