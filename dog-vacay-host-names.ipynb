{
 "cells": [
  {
   "cell_type": "code",
   "execution_count": null,
   "metadata": {
    "collapsed": true
   },
   "outputs": [],
   "source": [
    "#What are the most common DogVacay host names?"
   ]
  },
  {
   "cell_type": "code",
   "execution_count": 33,
   "metadata": {
    "collapsed": true
   },
   "outputs": [],
   "source": [
    "import requests\n",
    "import pandas as pd\n",
    "import sqlite3 as lite\n",
    "import matplotlib.pyplot as plt\n",
    "import numpy as np\n",
    "import statsmodels.api as sm\n",
    "%matplotlib inline\n",
    "from collections import Counter\n",
    "import itertools"
   ]
  },
  {
   "cell_type": "code",
   "execution_count": 47,
   "metadata": {
    "collapsed": false
   },
   "outputs": [],
   "source": [
    "df = pd.read_csv('dog-vacay.csv', sep='\\t')"
   ]
  },
  {
   "cell_type": "code",
   "execution_count": 48,
   "metadata": {
    "collapsed": false
   },
   "outputs": [
    {
     "data": {
      "text/plain": [
       "(4662, 18)"
      ]
     },
     "execution_count": 48,
     "metadata": {},
     "output_type": "execute_result"
    }
   ],
   "source": [
    "df.shape"
   ]
  },
  {
   "cell_type": "code",
   "execution_count": 61,
   "metadata": {
    "collapsed": false
   },
   "outputs": [
    {
     "data": {
      "text/html": [
       "<div style=\"max-height:1000px;max-width:1500px;overflow:auto;\">\n",
       "<table border=\"1\" class=\"dataframe\">\n",
       "  <thead>\n",
       "    <tr style=\"text-align: right;\">\n",
       "      <th></th>\n",
       "      <th>Unnamed: 0</th>\n",
       "      <th>city</th>\n",
       "      <th>fee</th>\n",
       "      <th>names</th>\n",
       "      <th>ratings</th>\n",
       "      <th>repeat</th>\n",
       "      <th>response_time</th>\n",
       "      <th>review</th>\n",
       "      <th>services</th>\n",
       "      <th>boarding</th>\n",
       "      <th>sitting</th>\n",
       "      <th>daycare</th>\n",
       "      <th>checkups</th>\n",
       "      <th>walking</th>\n",
       "      <th>bathing</th>\n",
       "      <th>training</th>\n",
       "      <th>grooming</th>\n",
       "      <th>pickup/dropoff</th>\n",
       "    </tr>\n",
       "  </thead>\n",
       "  <tbody>\n",
       "    <tr>\n",
       "      <th>0</th>\n",
       "      <td> 0</td>\n",
       "      <td> Phoenix, Arizona</td>\n",
       "      <td> 35</td>\n",
       "      <td> [Big, Backyard, in, Central, Phoenix]</td>\n",
       "      <td> 5</td>\n",
       "      <td>  8</td>\n",
       "      <td> 1</td>\n",
       "      <td> 26</td>\n",
       "      <td> 2</td>\n",
       "      <td> 1</td>\n",
       "      <td> 0</td>\n",
       "      <td> 1</td>\n",
       "      <td> 0</td>\n",
       "      <td> 0</td>\n",
       "      <td> 0</td>\n",
       "      <td> 0</td>\n",
       "      <td> 0</td>\n",
       "      <td> 0</td>\n",
       "    </tr>\n",
       "    <tr>\n",
       "      <th>1</th>\n",
       "      <td> 1</td>\n",
       "      <td> Phoenix, Arizona</td>\n",
       "      <td> 35</td>\n",
       "      <td>            [SUZY, Q, to, the, Rescue]</td>\n",
       "      <td> 5</td>\n",
       "      <td> 16</td>\n",
       "      <td> 2</td>\n",
       "      <td> 30</td>\n",
       "      <td> 3</td>\n",
       "      <td> 1</td>\n",
       "      <td> 0</td>\n",
       "      <td> 0</td>\n",
       "      <td> 1</td>\n",
       "      <td> 0</td>\n",
       "      <td> 0</td>\n",
       "      <td> 0</td>\n",
       "      <td> 0</td>\n",
       "      <td> 1</td>\n",
       "    </tr>\n",
       "    <tr>\n",
       "      <th>2</th>\n",
       "      <td> 2</td>\n",
       "      <td> Phoenix, Arizona</td>\n",
       "      <td> 35</td>\n",
       "      <td>                 [24/7, Dog, boarding]</td>\n",
       "      <td> 0</td>\n",
       "      <td>  0</td>\n",
       "      <td> 1</td>\n",
       "      <td>  0</td>\n",
       "      <td> 4</td>\n",
       "      <td> 1</td>\n",
       "      <td> 0</td>\n",
       "      <td> 1</td>\n",
       "      <td> 1</td>\n",
       "      <td> 1</td>\n",
       "      <td> 0</td>\n",
       "      <td> 0</td>\n",
       "      <td> 0</td>\n",
       "      <td> 0</td>\n",
       "    </tr>\n",
       "    <tr>\n",
       "      <th>3</th>\n",
       "      <td> 3</td>\n",
       "      <td> Phoenix, Arizona</td>\n",
       "      <td> 38</td>\n",
       "      <td>                [Messy4dogs@gmail.com]</td>\n",
       "      <td> 5</td>\n",
       "      <td>  2</td>\n",
       "      <td> 3</td>\n",
       "      <td>  3</td>\n",
       "      <td> 4</td>\n",
       "      <td> 1</td>\n",
       "      <td> 0</td>\n",
       "      <td> 1</td>\n",
       "      <td> 1</td>\n",
       "      <td> 1</td>\n",
       "      <td> 0</td>\n",
       "      <td> 0</td>\n",
       "      <td> 0</td>\n",
       "      <td> 0</td>\n",
       "    </tr>\n",
       "    <tr>\n",
       "      <th>4</th>\n",
       "      <td> 4</td>\n",
       "      <td> Phoenix, Arizona</td>\n",
       "      <td> 25</td>\n",
       "      <td>                       [Pet, Paradise]</td>\n",
       "      <td> 5</td>\n",
       "      <td>  1</td>\n",
       "      <td> 1</td>\n",
       "      <td>  5</td>\n",
       "      <td> 4</td>\n",
       "      <td> 1</td>\n",
       "      <td> 0</td>\n",
       "      <td> 0</td>\n",
       "      <td> 1</td>\n",
       "      <td> 1</td>\n",
       "      <td> 1</td>\n",
       "      <td> 0</td>\n",
       "      <td> 0</td>\n",
       "      <td> 0</td>\n",
       "    </tr>\n",
       "  </tbody>\n",
       "</table>\n",
       "</div>"
      ],
      "text/plain": [
       "   Unnamed: 0              city  fee                                  names  \\\n",
       "0           0  Phoenix, Arizona   35  [Big, Backyard, in, Central, Phoenix]   \n",
       "1           1  Phoenix, Arizona   35             [SUZY, Q, to, the, Rescue]   \n",
       "2           2  Phoenix, Arizona   35                  [24/7, Dog, boarding]   \n",
       "3           3  Phoenix, Arizona   38                 [Messy4dogs@gmail.com]   \n",
       "4           4  Phoenix, Arizona   25                        [Pet, Paradise]   \n",
       "\n",
       "   ratings  repeat  response_time  review  services  boarding  sitting  \\\n",
       "0        5       8              1      26         2         1        0   \n",
       "1        5      16              2      30         3         1        0   \n",
       "2        0       0              1       0         4         1        0   \n",
       "3        5       2              3       3         4         1        0   \n",
       "4        5       1              1       5         4         1        0   \n",
       "\n",
       "   daycare  checkups  walking  bathing  training  grooming  pickup/dropoff  \n",
       "0        1         0        0        0         0         0               0  \n",
       "1        0         1        0        0         0         0               1  \n",
       "2        1         1        1        0         0         0               0  \n",
       "3        1         1        1        0         0         0               0  \n",
       "4        0         1        1        1         0         0               0  "
      ]
     },
     "execution_count": 61,
     "metadata": {},
     "output_type": "execute_result"
    }
   ],
   "source": [
    "df.head()"
   ]
  },
  {
   "cell_type": "code",
   "execution_count": 66,
   "metadata": {
    "collapsed": false
   },
   "outputs": [
    {
     "data": {
      "text/plain": [
       "Counter({',': 14385, ' ': 14177, 'e': 8956, 'o': 7238, 'a': 7197, 'r': 4879, 'i': 4749, ']': 4663, '[': 4662, 't': 4556, 'n': 4166, 's': 4139, 'g': 3266, 'l': 3236, 'y': 2796, 'P': 2715, 'u': 2642, 'd': 2369, 'p': 2343, 'D': 1802, 'm': 1724, 'c': 1579, 'h': 1571, '!': 1446, 'v': 1274, 'w': 1256, 'H': 1224, 'S': 1181, 'C': 1094, 'f': 1041, 'L': 1007, 'A': 852, 'B': 823, \"'\": 734, 'k': 709, 'F': 696, 'W': 666, 'T': 633, 'R': 519, '-': 452, 'b': 438, 'E': 411, 'M': 391, 'Y': 360, 'O': 333, '&': 318, 'G': 317, 'I': 308, 'V': 264, 'N': 261, '.': 243, 'K': 176, 'U': 176, 'x': 161, 'z': 138, '/': 126, 'J': 109, ')': 80, '4': 75, '*': 69, '2': 69, ':': 55, '(': 44, '9': 39, 'Z': 35, '+': 34, '7': 34, '?': 27, '1': 22, 'Q': 19, 'j': 17, 'q': 16, '~': 15, '=': 14, 'X': 12, '@': 10, '0': 9, '3': 7, '5': 7, ';': 6, '8': 5, '#': 5, '$': 3, '`': 3, '\\n': 2, '\"': 2, '|': 1, '{': 1, '6': 1, '%': 1, '}': 1})"
      ]
     },
     "execution_count": 66,
     "metadata": {},
     "output_type": "execute_result"
    }
   ],
   "source": [
    "list_ = df['names']\n",
    "merged_list = list(itertools.chain(*list_))\n",
    "Counter(merged_list)"
   ]
  },
  {
   "cell_type": "code",
   "execution_count": 60,
   "metadata": {
    "collapsed": false
   },
   "outputs": [
    {
     "data": {
      "text/plain": [
       "Unnamed: 0          int64\n",
       "city               object\n",
       "fee               float64\n",
       "names              object\n",
       "ratings           float64\n",
       "repeat              int64\n",
       "response_time       int64\n",
       "review              int64\n",
       "services            int64\n",
       "boarding            int64\n",
       "sitting             int64\n",
       "daycare             int64\n",
       "checkups            int64\n",
       "walking             int64\n",
       "bathing             int64\n",
       "training            int64\n",
       "grooming            int64\n",
       "pickup/dropoff      int64\n",
       "dtype: object"
      ]
     },
     "execution_count": 60,
     "metadata": {},
     "output_type": "execute_result"
    }
   ],
   "source": [
    "df.dtypes"
   ]
  },
  {
   "cell_type": "code",
   "execution_count": null,
   "metadata": {
    "collapsed": true
   },
   "outputs": [],
   "source": []
  }
 ],
 "metadata": {
  "kernelspec": {
   "display_name": "Python 2",
   "language": "python",
   "name": "python2"
  },
  "language_info": {
   "codemirror_mode": {
    "name": "ipython",
    "version": 2
   },
   "file_extension": ".py",
   "mimetype": "text/x-python",
   "name": "python",
   "nbconvert_exporter": "python",
   "pygments_lexer": "ipython2",
   "version": "2.7.10"
  }
 },
 "nbformat": 4,
 "nbformat_minor": 0
}
