{
 "cells": [
  {
   "cell_type": "code",
   "execution_count": 1,
   "metadata": {
    "collapsed": true
   },
   "outputs": [],
   "source": [
    "#Create a new file called 'logistic_regression.py'. For this lesson, we're going to need pandas and statsmodels.\n",
    "import pandas as pd\n",
    "import statsmodels.api as sm\n",
    "import math"
   ]
  },
  {
   "cell_type": "code",
   "execution_count": 3,
   "metadata": {
    "collapsed": false
   },
   "outputs": [],
   "source": [
    "#Load the data\n",
    "loansData = pd.read_csv('loansData_clean.csv')"
   ]
  },
  {
   "cell_type": "code",
   "execution_count": 4,
   "metadata": {
    "collapsed": true
   },
   "outputs": [],
   "source": [
    "loansData['IR_TF'] = loansData['Interest.Rate'].map(lambda x: 1 if x > .12 else 0)"
   ]
  },
  {
   "cell_type": "code",
   "execution_count": 5,
   "metadata": {
    "collapsed": true
   },
   "outputs": [],
   "source": [
    "#Statsmodels needs an intercept column in your dataframe, so add a column with a constant intercept of 1.0.\n",
    "intercept = [1] * len(loansData)\n",
    "loansData['Intercept'] = intercept"
   ]
  },
  {
   "cell_type": "code",
   "execution_count": 6,
   "metadata": {
    "collapsed": true
   },
   "outputs": [],
   "source": [
    "#Create a list of the column names of our independent variables, including the intercept, and call it ind_vars.\n",
    "ind_vars = ['Intercept','Amount.Requested','FICO.Score']"
   ]
  },
  {
   "cell_type": "code",
   "execution_count": 7,
   "metadata": {
    "collapsed": true
   },
   "outputs": [],
   "source": [
    "df = loansData"
   ]
  },
  {
   "cell_type": "code",
   "execution_count": 13,
   "metadata": {
    "collapsed": false
   },
   "outputs": [
    {
     "data": {
      "text/html": [
       "<div style=\"max-height:1000px;max-width:1500px;overflow:auto;\">\n",
       "<table border=\"1\" class=\"dataframe\">\n",
       "  <thead>\n",
       "    <tr style=\"text-align: right;\">\n",
       "      <th></th>\n",
       "      <th>Amount.Requested</th>\n",
       "      <th>Amount.Funded.By.Investors</th>\n",
       "      <th>Interest.Rate</th>\n",
       "      <th>Loan.Length</th>\n",
       "      <th>Loan.Purpose</th>\n",
       "      <th>Debt.To.Income.Ratio</th>\n",
       "      <th>State</th>\n",
       "      <th>Home.Ownership</th>\n",
       "      <th>Monthly.Income</th>\n",
       "      <th>FICO.Range</th>\n",
       "      <th>Open.CREDIT.Lines</th>\n",
       "      <th>Revolving.CREDIT.Balance</th>\n",
       "      <th>Inquiries.in.the.Last.6.Months</th>\n",
       "      <th>Employment.Length</th>\n",
       "      <th>FICO.Score</th>\n",
       "      <th>IR_TF</th>\n",
       "      <th>Intercept</th>\n",
       "    </tr>\n",
       "  </thead>\n",
       "  <tbody>\n",
       "    <tr>\n",
       "      <th>0</th>\n",
       "      <td> 20000</td>\n",
       "      <td> 20000</td>\n",
       "      <td> 0.0890</td>\n",
       "      <td> 36</td>\n",
       "      <td> debt_consolidation</td>\n",
       "      <td> 14.90%</td>\n",
       "      <td> SC</td>\n",
       "      <td> MORTGAGE</td>\n",
       "      <td>  6541.67</td>\n",
       "      <td> 735-739</td>\n",
       "      <td> 14</td>\n",
       "      <td> 14272</td>\n",
       "      <td> 2</td>\n",
       "      <td> &lt; 1 year</td>\n",
       "      <td> 735</td>\n",
       "      <td> 0</td>\n",
       "      <td> 1</td>\n",
       "    </tr>\n",
       "    <tr>\n",
       "      <th>1</th>\n",
       "      <td> 19200</td>\n",
       "      <td> 19200</td>\n",
       "      <td> 0.1212</td>\n",
       "      <td> 36</td>\n",
       "      <td> debt_consolidation</td>\n",
       "      <td> 28.36%</td>\n",
       "      <td> TX</td>\n",
       "      <td> MORTGAGE</td>\n",
       "      <td>  4583.33</td>\n",
       "      <td> 715-719</td>\n",
       "      <td> 12</td>\n",
       "      <td> 11140</td>\n",
       "      <td> 1</td>\n",
       "      <td>  2 years</td>\n",
       "      <td> 715</td>\n",
       "      <td> 1</td>\n",
       "      <td> 1</td>\n",
       "    </tr>\n",
       "    <tr>\n",
       "      <th>2</th>\n",
       "      <td> 35000</td>\n",
       "      <td> 35000</td>\n",
       "      <td> 0.2198</td>\n",
       "      <td> 60</td>\n",
       "      <td> debt_consolidation</td>\n",
       "      <td> 23.81%</td>\n",
       "      <td> CA</td>\n",
       "      <td> MORTGAGE</td>\n",
       "      <td> 11500.00</td>\n",
       "      <td> 690-694</td>\n",
       "      <td> 14</td>\n",
       "      <td> 21977</td>\n",
       "      <td> 1</td>\n",
       "      <td>  2 years</td>\n",
       "      <td> 690</td>\n",
       "      <td> 1</td>\n",
       "      <td> 1</td>\n",
       "    </tr>\n",
       "    <tr>\n",
       "      <th>3</th>\n",
       "      <td> 10000</td>\n",
       "      <td>  9975</td>\n",
       "      <td> 0.0999</td>\n",
       "      <td> 36</td>\n",
       "      <td> debt_consolidation</td>\n",
       "      <td> 14.30%</td>\n",
       "      <td> KS</td>\n",
       "      <td> MORTGAGE</td>\n",
       "      <td>  3833.33</td>\n",
       "      <td> 695-699</td>\n",
       "      <td> 10</td>\n",
       "      <td>  9346</td>\n",
       "      <td> 0</td>\n",
       "      <td>  5 years</td>\n",
       "      <td> 695</td>\n",
       "      <td> 0</td>\n",
       "      <td> 1</td>\n",
       "    </tr>\n",
       "    <tr>\n",
       "      <th>4</th>\n",
       "      <td> 12000</td>\n",
       "      <td> 12000</td>\n",
       "      <td> 0.1171</td>\n",
       "      <td> 36</td>\n",
       "      <td>        credit_card</td>\n",
       "      <td> 18.78%</td>\n",
       "      <td> NJ</td>\n",
       "      <td>     RENT</td>\n",
       "      <td>  3195.00</td>\n",
       "      <td> 695-699</td>\n",
       "      <td> 11</td>\n",
       "      <td> 14469</td>\n",
       "      <td> 0</td>\n",
       "      <td>  9 years</td>\n",
       "      <td> 695</td>\n",
       "      <td> 0</td>\n",
       "      <td> 1</td>\n",
       "    </tr>\n",
       "  </tbody>\n",
       "</table>\n",
       "</div>"
      ],
      "text/plain": [
       "   Amount.Requested  Amount.Funded.By.Investors  Interest.Rate  Loan.Length  \\\n",
       "0             20000                       20000         0.0890           36   \n",
       "1             19200                       19200         0.1212           36   \n",
       "2             35000                       35000         0.2198           60   \n",
       "3             10000                        9975         0.0999           36   \n",
       "4             12000                       12000         0.1171           36   \n",
       "\n",
       "         Loan.Purpose Debt.To.Income.Ratio State Home.Ownership  \\\n",
       "0  debt_consolidation               14.90%    SC       MORTGAGE   \n",
       "1  debt_consolidation               28.36%    TX       MORTGAGE   \n",
       "2  debt_consolidation               23.81%    CA       MORTGAGE   \n",
       "3  debt_consolidation               14.30%    KS       MORTGAGE   \n",
       "4         credit_card               18.78%    NJ           RENT   \n",
       "\n",
       "   Monthly.Income FICO.Range  Open.CREDIT.Lines  Revolving.CREDIT.Balance  \\\n",
       "0         6541.67    735-739                 14                     14272   \n",
       "1         4583.33    715-719                 12                     11140   \n",
       "2        11500.00    690-694                 14                     21977   \n",
       "3         3833.33    695-699                 10                      9346   \n",
       "4         3195.00    695-699                 11                     14469   \n",
       "\n",
       "   Inquiries.in.the.Last.6.Months Employment.Length  FICO.Score  IR_TF  \\\n",
       "0                               2          < 1 year         735      0   \n",
       "1                               1           2 years         715      1   \n",
       "2                               1           2 years         690      1   \n",
       "3                               0           5 years         695      0   \n",
       "4                               0           9 years         695      0   \n",
       "\n",
       "   Intercept  \n",
       "0          1  \n",
       "1          1  \n",
       "2          1  \n",
       "3          1  \n",
       "4          1  "
      ]
     },
     "execution_count": 13,
     "metadata": {},
     "output_type": "execute_result"
    }
   ],
   "source": [
    "df.head()"
   ]
  },
  {
   "cell_type": "code",
   "execution_count": 8,
   "metadata": {
    "collapsed": true
   },
   "outputs": [],
   "source": [
    "#Define the logistic regression model.\n",
    "logit = sm.Logit(df['IR_TF'], df[ind_vars])"
   ]
  },
  {
   "cell_type": "code",
   "execution_count": 9,
   "metadata": {
    "collapsed": false
   },
   "outputs": [
    {
     "name": "stdout",
     "output_type": "stream",
     "text": [
      "Optimization terminated successfully.\n",
      "         Current function value: 0.319503\n",
      "         Iterations 8\n"
     ]
    }
   ],
   "source": [
    "#Fit the model\n",
    "result = logit.fit()"
   ]
  },
  {
   "cell_type": "code",
   "execution_count": 10,
   "metadata": {
    "collapsed": false
   },
   "outputs": [
    {
     "name": "stdout",
     "output_type": "stream",
     "text": [
      "Intercept           60.125045\n",
      "Amount.Requested     0.000174\n",
      "FICO.Score          -0.087423\n",
      "dtype: float64\n"
     ]
    }
   ],
   "source": [
    "#Get the fitted coefficients from the results.\n",
    "coeff = result.params\n",
    "print coeff"
   ]
  },
  {
   "cell_type": "code",
   "execution_count": 11,
   "metadata": {
    "collapsed": true
   },
   "outputs": [],
   "source": [
    "#Write a function called logistic_function that will take a FICO Score and a Loan Amount \n",
    "#of this linear predictor, and return p. (Try not to hardcode any values if you can! \n",
    "#Hint: pass the coefficients object to the function as an argument.)\n",
    "def logistic_function(FicoScore, LoanAmount):\n",
    "    # p(x) = 1/(1 + e^(intercept + 0.087423(FicoScore) − 0.000174(LoanAmount))\n",
    "    prob = 1/(1 + math.exp(coeff[0] + coeff[2]*FicoScore+coeff[1]*LoanAmount))\n",
    "    if prob > 0.7:\n",
    "        p = 1\n",
    "    else:\n",
    "        p = 0\n",
    "    return prob, p"
   ]
  },
  {
   "cell_type": "code",
   "execution_count": 12,
   "metadata": {
    "collapsed": false
   },
   "outputs": [
    {
     "data": {
      "text/plain": [
       "(0.5500977964184636, 0)"
      ]
     },
     "execution_count": 12,
     "metadata": {},
     "output_type": "execute_result"
    }
   ],
   "source": [
    "logistic_function(700, 5000)"
   ]
  },
  {
   "cell_type": "code",
   "execution_count": null,
   "metadata": {
    "collapsed": true
   },
   "outputs": [],
   "source": []
  }
 ],
 "metadata": {
  "kernelspec": {
   "display_name": "Python 2",
   "language": "python",
   "name": "python2"
  },
  "language_info": {
   "codemirror_mode": {
    "name": "ipython",
    "version": 2
   },
   "file_extension": ".py",
   "mimetype": "text/x-python",
   "name": "python",
   "nbconvert_exporter": "python",
   "pygments_lexer": "ipython2",
   "version": "2.7.10"
  }
 },
 "nbformat": 4,
 "nbformat_minor": 0
}
