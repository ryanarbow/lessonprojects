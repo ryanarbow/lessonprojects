{
 "cells": [
  {
   "cell_type": "code",
   "execution_count": 1,
   "metadata": {
    "collapsed": true
   },
   "outputs": [],
   "source": [
    "# we will be using the diamonds data from ggplot\n",
    "# pandas\n",
    "# scikit-learn for random forest\n",
    "import numpy as np\n",
    "import pandas as pd\n",
    "import ggplot\n",
    "import matplotlib.pyplot as plt\n",
    "from sklearn.ensemble import RandomForestClassifier\n",
    "from sklearn import metrics"
   ]
  },
  {
   "cell_type": "code",
   "execution_count": 2,
   "metadata": {
    "collapsed": false
   },
   "outputs": [
    {
     "data": {
      "text/html": [
       "<div style=\"max-height:1000px;max-width:1500px;overflow:auto;\">\n",
       "<table border=\"1\" class=\"dataframe\">\n",
       "  <thead>\n",
       "    <tr style=\"text-align: right;\">\n",
       "      <th></th>\n",
       "      <th>carat</th>\n",
       "      <th>cut</th>\n",
       "      <th>color</th>\n",
       "      <th>clarity</th>\n",
       "      <th>depth</th>\n",
       "      <th>table</th>\n",
       "      <th>price</th>\n",
       "      <th>x</th>\n",
       "      <th>y</th>\n",
       "      <th>z</th>\n",
       "    </tr>\n",
       "  </thead>\n",
       "  <tbody>\n",
       "    <tr>\n",
       "      <th>0</th>\n",
       "      <td> 0.23</td>\n",
       "      <td>   Ideal</td>\n",
       "      <td> E</td>\n",
       "      <td> SI2</td>\n",
       "      <td> 61.5</td>\n",
       "      <td> 55</td>\n",
       "      <td> 326</td>\n",
       "      <td> 3.95</td>\n",
       "      <td> 3.98</td>\n",
       "      <td> 2.43</td>\n",
       "    </tr>\n",
       "    <tr>\n",
       "      <th>1</th>\n",
       "      <td> 0.21</td>\n",
       "      <td> Premium</td>\n",
       "      <td> E</td>\n",
       "      <td> SI1</td>\n",
       "      <td> 59.8</td>\n",
       "      <td> 61</td>\n",
       "      <td> 326</td>\n",
       "      <td> 3.89</td>\n",
       "      <td> 3.84</td>\n",
       "      <td> 2.31</td>\n",
       "    </tr>\n",
       "    <tr>\n",
       "      <th>2</th>\n",
       "      <td> 0.23</td>\n",
       "      <td>    Good</td>\n",
       "      <td> E</td>\n",
       "      <td> VS1</td>\n",
       "      <td> 56.9</td>\n",
       "      <td> 65</td>\n",
       "      <td> 327</td>\n",
       "      <td> 4.05</td>\n",
       "      <td> 4.07</td>\n",
       "      <td> 2.31</td>\n",
       "    </tr>\n",
       "    <tr>\n",
       "      <th>3</th>\n",
       "      <td> 0.29</td>\n",
       "      <td> Premium</td>\n",
       "      <td> I</td>\n",
       "      <td> VS2</td>\n",
       "      <td> 62.4</td>\n",
       "      <td> 58</td>\n",
       "      <td> 334</td>\n",
       "      <td> 4.20</td>\n",
       "      <td> 4.23</td>\n",
       "      <td> 2.63</td>\n",
       "    </tr>\n",
       "    <tr>\n",
       "      <th>4</th>\n",
       "      <td> 0.31</td>\n",
       "      <td>    Good</td>\n",
       "      <td> J</td>\n",
       "      <td> SI2</td>\n",
       "      <td> 63.3</td>\n",
       "      <td> 58</td>\n",
       "      <td> 335</td>\n",
       "      <td> 4.34</td>\n",
       "      <td> 4.35</td>\n",
       "      <td> 2.75</td>\n",
       "    </tr>\n",
       "  </tbody>\n",
       "</table>\n",
       "</div>"
      ],
      "text/plain": [
       "   carat      cut color clarity  depth  table  price     x     y     z\n",
       "0   0.23    Ideal     E     SI2   61.5     55    326  3.95  3.98  2.43\n",
       "1   0.21  Premium     E     SI1   59.8     61    326  3.89  3.84  2.31\n",
       "2   0.23     Good     E     VS1   56.9     65    327  4.05  4.07  2.31\n",
       "3   0.29  Premium     I     VS2   62.4     58    334  4.20  4.23  2.63\n",
       "4   0.31     Good     J     SI2   63.3     58    335  4.34  4.35  2.75"
      ]
     },
     "execution_count": 2,
     "metadata": {},
     "output_type": "execute_result"
    }
   ],
   "source": [
    "# load and view the diamonds data\n",
    "dfDiamonds = ggplot.diamonds\n",
    "dfDiamonds.head()"
   ]
  },
  {
   "cell_type": "code",
   "execution_count": 3,
   "metadata": {
    "collapsed": true
   },
   "outputs": [],
   "source": [
    "# plot a histogram with a line marking $12,000\n",
    "plt.figure()\n",
    "plt.hist(dfDiamonds['price'])\n",
    "plt.axvline(x=12000)\n",
    "plt.show()"
   ]
  },
  {
   "cell_type": "code",
   "execution_count": 4,
   "metadata": {
    "collapsed": false
   },
   "outputs": [
    {
     "data": {
      "text/html": [
       "<div style=\"max-height:1000px;max-width:1500px;overflow:auto;\">\n",
       "<table border=\"1\" class=\"dataframe\">\n",
       "  <thead>\n",
       "    <tr style=\"text-align: right;\">\n",
       "      <th></th>\n",
       "      <th>carat</th>\n",
       "      <th>cut</th>\n",
       "      <th>color</th>\n",
       "      <th>clarity</th>\n",
       "      <th>depth</th>\n",
       "      <th>table</th>\n",
       "      <th>price</th>\n",
       "      <th>x</th>\n",
       "      <th>y</th>\n",
       "      <th>z</th>\n",
       "      <th>Expensive</th>\n",
       "    </tr>\n",
       "  </thead>\n",
       "  <tbody>\n",
       "    <tr>\n",
       "      <th>0</th>\n",
       "      <td> 0.23</td>\n",
       "      <td>   Ideal</td>\n",
       "      <td> E</td>\n",
       "      <td> SI2</td>\n",
       "      <td> 61.5</td>\n",
       "      <td> 55</td>\n",
       "      <td> 326</td>\n",
       "      <td> 3.95</td>\n",
       "      <td> 3.98</td>\n",
       "      <td> 2.43</td>\n",
       "      <td> 0</td>\n",
       "    </tr>\n",
       "    <tr>\n",
       "      <th>1</th>\n",
       "      <td> 0.21</td>\n",
       "      <td> Premium</td>\n",
       "      <td> E</td>\n",
       "      <td> SI1</td>\n",
       "      <td> 59.8</td>\n",
       "      <td> 61</td>\n",
       "      <td> 326</td>\n",
       "      <td> 3.89</td>\n",
       "      <td> 3.84</td>\n",
       "      <td> 2.31</td>\n",
       "      <td> 0</td>\n",
       "    </tr>\n",
       "    <tr>\n",
       "      <th>2</th>\n",
       "      <td> 0.23</td>\n",
       "      <td>    Good</td>\n",
       "      <td> E</td>\n",
       "      <td> VS1</td>\n",
       "      <td> 56.9</td>\n",
       "      <td> 65</td>\n",
       "      <td> 327</td>\n",
       "      <td> 4.05</td>\n",
       "      <td> 4.07</td>\n",
       "      <td> 2.31</td>\n",
       "      <td> 0</td>\n",
       "    </tr>\n",
       "    <tr>\n",
       "      <th>3</th>\n",
       "      <td> 0.29</td>\n",
       "      <td> Premium</td>\n",
       "      <td> I</td>\n",
       "      <td> VS2</td>\n",
       "      <td> 62.4</td>\n",
       "      <td> 58</td>\n",
       "      <td> 334</td>\n",
       "      <td> 4.20</td>\n",
       "      <td> 4.23</td>\n",
       "      <td> 2.63</td>\n",
       "      <td> 0</td>\n",
       "    </tr>\n",
       "    <tr>\n",
       "      <th>4</th>\n",
       "      <td> 0.31</td>\n",
       "      <td>    Good</td>\n",
       "      <td> J</td>\n",
       "      <td> SI2</td>\n",
       "      <td> 63.3</td>\n",
       "      <td> 58</td>\n",
       "      <td> 335</td>\n",
       "      <td> 4.34</td>\n",
       "      <td> 4.35</td>\n",
       "      <td> 2.75</td>\n",
       "      <td> 0</td>\n",
       "    </tr>\n",
       "  </tbody>\n",
       "</table>\n",
       "</div>"
      ],
      "text/plain": [
       "   carat      cut color clarity  depth  table  price     x     y     z  \\\n",
       "0   0.23    Ideal     E     SI2   61.5     55    326  3.95  3.98  2.43   \n",
       "1   0.21  Premium     E     SI1   59.8     61    326  3.89  3.84  2.31   \n",
       "2   0.23     Good     E     VS1   56.9     65    327  4.05  4.07  2.31   \n",
       "3   0.29  Premium     I     VS2   62.4     58    334  4.20  4.23  2.63   \n",
       "4   0.31     Good     J     SI2   63.3     58    335  4.34  4.35  2.75   \n",
       "\n",
       "   Expensive  \n",
       "0          0  \n",
       "1          0  \n",
       "2          0  \n",
       "3          0  \n",
       "4          0  "
      ]
     },
     "execution_count": 4,
     "metadata": {},
     "output_type": "execute_result"
    }
   ],
   "source": [
    "# build a TRUE/FALSE variable indicating if the price is above\n",
    "# our threshold\n",
    "dfDiamonds['Expensive'] = 0\n",
    "dfDiamonds.ix[dfDiamonds['price'] >= 12000, 'Expensive'] = 1\n",
    "dfDiamonds.head()"
   ]
  },
  {
   "cell_type": "code",
   "execution_count": 5,
   "metadata": {
    "collapsed": true
   },
   "outputs": [],
   "source": [
    "# get rid of the price column\n",
    "dfDiamonds.drop(['price'], axis=1, inplace=True)"
   ]
  },
  {
   "cell_type": "code",
   "execution_count": 6,
   "metadata": {
    "collapsed": true
   },
   "outputs": [],
   "source": [
    "# scikit-learn can't handle strings, so we need to create dummie variables for cut, color, clarity\n",
    "dfCutDummies = pd.get_dummies(dfDiamonds.cut)\n",
    "dfColorDummies = pd.get_dummies(dfDiamonds.color)\n",
    "dfClarityDummies = pd.get_dummies(dfDiamonds.clarity)"
   ]
  },
  {
   "cell_type": "code",
   "execution_count": 7,
   "metadata": {
    "collapsed": false
   },
   "outputs": [
    {
     "name": "stderr",
     "output_type": "stream",
     "text": [
      "/Users/Ryan/anaconda/lib/python2.7/site-packages/IPython/kernel/__main__.py:5: SettingWithCopyWarning: \n",
      "A value is trying to be set on a copy of a slice from a DataFrame\n",
      "\n",
      "See the the caveats in the documentation: http://pandas.pydata.org/pandas-docs/stable/indexing.html#indexing-view-versus-copy\n"
     ]
    }
   ],
   "source": [
    "# reorder the columns so that when we grab our train / test we don't include the Expense column\n",
    "cols = dfDiamonds.columns.tolist()\n",
    "cols = cols[-1:] + cols[:-1]\n",
    "dfDiamonds = dfDiamonds[cols]\n",
    "dfDiamonds.drop(['cut', 'color', 'clarity'], axis=1, inplace=True)"
   ]
  },
  {
   "cell_type": "code",
   "execution_count": 8,
   "metadata": {
    "collapsed": true
   },
   "outputs": [],
   "source": [
    "dfDiamonds = pd.merge(dfDiamonds, dfCutDummies, left_index=True, right_index=True)\n",
    "dfDiamonds = pd.merge(dfDiamonds, dfColorDummies, left_index=True, right_index=True)\n",
    "dfDiamonds = pd.merge(dfDiamonds, dfClarityDummies, left_index=True, right_index=True)\n"
   ]
  },
  {
   "cell_type": "code",
   "execution_count": 9,
   "metadata": {
    "collapsed": true
   },
   "outputs": [],
   "source": [
    "# split train / test\n",
    "dfDiamonds['is_train'] = np.random.uniform(0, 1, len(dfDiamonds)) <= .75\n",
    "train, test = dfDiamonds[dfDiamonds['is_train']==True], dfDiamonds[dfDiamonds['is_train']==False]\n"
   ]
  },
  {
   "cell_type": "code",
   "execution_count": 10,
   "metadata": {
    "collapsed": false
   },
   "outputs": [
    {
     "data": {
      "text/plain": [
       "RandomForestClassifier(bootstrap=True, compute_importances=None,\n",
       "            criterion='gini', max_depth=None, max_features='auto',\n",
       "            max_leaf_nodes=None, min_density=None, min_samples_leaf=1,\n",
       "            min_samples_split=2, n_estimators=10, n_jobs=2,\n",
       "            oob_score=False, random_state=None, verbose=0)"
      ]
     },
     "execution_count": 10,
     "metadata": {},
     "output_type": "execute_result"
    }
   ],
   "source": [
    "# build the forest\n",
    "features = dfDiamonds.columns[1:]\n",
    "clf = RandomForestClassifier(n_jobs=2)\n",
    "y, _ = pd.factorize(train['Expensive'])\n",
    "clf.fit(train[features], y)"
   ]
  },
  {
   "cell_type": "code",
   "execution_count": 11,
   "metadata": {
    "collapsed": true
   },
   "outputs": [],
   "source": [
    "# make predictions\n",
    "expected = y\n",
    "predicted = clf.predict(train[features])"
   ]
  },
  {
   "cell_type": "code",
   "execution_count": 12,
   "metadata": {
    "collapsed": false
   },
   "outputs": [
    {
     "name": "stdout",
     "output_type": "stream",
     "text": [
      "             precision    recall  f1-score   support\n",
      "\n",
      "          0       1.00      1.00      1.00     37760\n",
      "          1       1.00      0.99      0.99      2588\n",
      "\n",
      "avg / total       1.00      1.00      1.00     40348\n",
      "\n",
      "[[37749    11]\n",
      " [   23  2565]]\n"
     ]
    }
   ],
   "source": [
    "# view your predictions\n",
    "print(metrics.classification_report(expected, predicted))\n",
    "print(metrics.confusion_matrix(expected, predicted))"
   ]
  },
  {
   "cell_type": "code",
   "execution_count": null,
   "metadata": {
    "collapsed": true
   },
   "outputs": [],
   "source": []
  }
 ],
 "metadata": {
  "kernelspec": {
   "display_name": "Python 2",
   "language": "python",
   "name": "python2"
  },
  "language_info": {
   "codemirror_mode": {
    "name": "ipython",
    "version": 2
   },
   "file_extension": ".py",
   "mimetype": "text/x-python",
   "name": "python",
   "nbconvert_exporter": "python",
   "pygments_lexer": "ipython2",
   "version": "2.7.10"
  }
 },
 "nbformat": 4,
 "nbformat_minor": 0
}
