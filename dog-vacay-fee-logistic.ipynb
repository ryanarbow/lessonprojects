{
 "cells": [
  {
   "cell_type": "code",
   "execution_count": 53,
   "metadata": {
    "collapsed": true
   },
   "outputs": [],
   "source": [
    "#What is the probability of $35/night with 4 repeat \n",
    "#guests and 20 reviews?"
   ]
  },
  {
   "cell_type": "code",
   "execution_count": 77,
   "metadata": {
    "collapsed": true
   },
   "outputs": [],
   "source": [
    "import pandas as pd\n",
    "import statsmodels.api as sm\n",
    "import math\n",
    "import numpy as np\n",
    "from sklearn.cross_validation import train_test_split"
   ]
  },
  {
   "cell_type": "code",
   "execution_count": 24,
   "metadata": {
    "collapsed": false
   },
   "outputs": [],
   "source": [
    "df = pd.read_csv('dog-vacay.csv', sep='\\t')"
   ]
  },
  {
   "cell_type": "code",
   "execution_count": 75,
   "metadata": {
    "collapsed": false
   },
   "outputs": [
    {
     "data": {
      "text/html": [
       "<div style=\"max-height:1000px;max-width:1500px;overflow:auto;\">\n",
       "<table border=\"1\" class=\"dataframe\">\n",
       "  <thead>\n",
       "    <tr style=\"text-align: right;\">\n",
       "      <th></th>\n",
       "      <th>city</th>\n",
       "      <th>fee</th>\n",
       "      <th>ratings</th>\n",
       "      <th>repeat</th>\n",
       "      <th>response_time</th>\n",
       "      <th>review</th>\n",
       "      <th>boarding</th>\n",
       "      <th>sitting</th>\n",
       "      <th>daycare</th>\n",
       "      <th>checkups</th>\n",
       "      <th>walking</th>\n",
       "      <th>bathing</th>\n",
       "      <th>training</th>\n",
       "      <th>grooming</th>\n",
       "      <th>pickup/dropoff</th>\n",
       "      <th>services</th>\n",
       "    </tr>\n",
       "  </thead>\n",
       "  <tbody>\n",
       "    <tr>\n",
       "      <th>0</th>\n",
       "      <td> Phoenix, Arizona</td>\n",
       "      <td> 35</td>\n",
       "      <td> 5</td>\n",
       "      <td>  8</td>\n",
       "      <td> 1</td>\n",
       "      <td> 26</td>\n",
       "      <td> 1</td>\n",
       "      <td> 0</td>\n",
       "      <td> 1</td>\n",
       "      <td> 0</td>\n",
       "      <td> 0</td>\n",
       "      <td> 0</td>\n",
       "      <td> 0</td>\n",
       "      <td> 0</td>\n",
       "      <td> 0</td>\n",
       "      <td> 2</td>\n",
       "    </tr>\n",
       "    <tr>\n",
       "      <th>1</th>\n",
       "      <td> Phoenix, Arizona</td>\n",
       "      <td> 35</td>\n",
       "      <td> 5</td>\n",
       "      <td> 16</td>\n",
       "      <td> 2</td>\n",
       "      <td> 30</td>\n",
       "      <td> 1</td>\n",
       "      <td> 0</td>\n",
       "      <td> 0</td>\n",
       "      <td> 1</td>\n",
       "      <td> 0</td>\n",
       "      <td> 0</td>\n",
       "      <td> 0</td>\n",
       "      <td> 0</td>\n",
       "      <td> 1</td>\n",
       "      <td> 3</td>\n",
       "    </tr>\n",
       "    <tr>\n",
       "      <th>2</th>\n",
       "      <td> Phoenix, Arizona</td>\n",
       "      <td> 35</td>\n",
       "      <td> 0</td>\n",
       "      <td>  0</td>\n",
       "      <td> 1</td>\n",
       "      <td>  0</td>\n",
       "      <td> 1</td>\n",
       "      <td> 0</td>\n",
       "      <td> 1</td>\n",
       "      <td> 1</td>\n",
       "      <td> 1</td>\n",
       "      <td> 0</td>\n",
       "      <td> 0</td>\n",
       "      <td> 0</td>\n",
       "      <td> 0</td>\n",
       "      <td> 4</td>\n",
       "    </tr>\n",
       "    <tr>\n",
       "      <th>3</th>\n",
       "      <td> Phoenix, Arizona</td>\n",
       "      <td> 38</td>\n",
       "      <td> 5</td>\n",
       "      <td>  2</td>\n",
       "      <td> 3</td>\n",
       "      <td>  3</td>\n",
       "      <td> 1</td>\n",
       "      <td> 0</td>\n",
       "      <td> 1</td>\n",
       "      <td> 1</td>\n",
       "      <td> 1</td>\n",
       "      <td> 0</td>\n",
       "      <td> 0</td>\n",
       "      <td> 0</td>\n",
       "      <td> 0</td>\n",
       "      <td> 4</td>\n",
       "    </tr>\n",
       "    <tr>\n",
       "      <th>4</th>\n",
       "      <td> Phoenix, Arizona</td>\n",
       "      <td> 25</td>\n",
       "      <td> 5</td>\n",
       "      <td>  1</td>\n",
       "      <td> 1</td>\n",
       "      <td>  5</td>\n",
       "      <td> 1</td>\n",
       "      <td> 0</td>\n",
       "      <td> 0</td>\n",
       "      <td> 1</td>\n",
       "      <td> 1</td>\n",
       "      <td> 1</td>\n",
       "      <td> 0</td>\n",
       "      <td> 0</td>\n",
       "      <td> 0</td>\n",
       "      <td> 4</td>\n",
       "    </tr>\n",
       "  </tbody>\n",
       "</table>\n",
       "</div>"
      ],
      "text/plain": [
       "               city  fee  ratings  repeat  response_time  review  boarding  \\\n",
       "0  Phoenix, Arizona   35        5       8              1      26         1   \n",
       "1  Phoenix, Arizona   35        5      16              2      30         1   \n",
       "2  Phoenix, Arizona   35        0       0              1       0         1   \n",
       "3  Phoenix, Arizona   38        5       2              3       3         1   \n",
       "4  Phoenix, Arizona   25        5       1              1       5         1   \n",
       "\n",
       "   sitting  daycare  checkups  walking  bathing  training  grooming  \\\n",
       "0        0        1         0        0        0         0         0   \n",
       "1        0        0         1        0        0         0         0   \n",
       "2        0        1         1        1        0         0         0   \n",
       "3        0        1         1        1        0         0         0   \n",
       "4        0        0         1        1        1         0         0   \n",
       "\n",
       "   pickup/dropoff  services  \n",
       "0               0         2  \n",
       "1               1         3  \n",
       "2               0         4  \n",
       "3               0         4  \n",
       "4               0         4  "
      ]
     },
     "execution_count": 75,
     "metadata": {},
     "output_type": "execute_result"
    }
   ],
   "source": [
    "df.head()"
   ]
  },
  {
   "cell_type": "code",
   "execution_count": 74,
   "metadata": {
    "collapsed": false
   },
   "outputs": [],
   "source": [
    "#Drop columns\n",
    "#df.drop(['Intercept'], axis=1, inplace=True)\n",
    "#df.drop(['Unnamed: 0'], axis=1, inplace=True)"
   ]
  },
  {
   "cell_type": "code",
   "execution_count": 30,
   "metadata": {
    "collapsed": false
   },
   "outputs": [],
   "source": [
    "df['fee35'] = df['fee'].map(lambda x: 1 if x > 35 else 0)"
   ]
  },
  {
   "cell_type": "code",
   "execution_count": 31,
   "metadata": {
    "collapsed": true
   },
   "outputs": [],
   "source": [
    "ind_vars = ['repeat', 'review']"
   ]
  },
  {
   "cell_type": "code",
   "execution_count": 14,
   "metadata": {
    "collapsed": true
   },
   "outputs": [],
   "source": [
    "#Define the logistic regression model.\n",
    "logit = sm.Logit(df['fee35'], df[ind_vars])"
   ]
  },
  {
   "cell_type": "code",
   "execution_count": 15,
   "metadata": {
    "collapsed": false
   },
   "outputs": [
    {
     "name": "stdout",
     "output_type": "stream",
     "text": [
      "Optimization terminated successfully.\n",
      "         Current function value: 0.691201\n",
      "         Iterations 4\n"
     ]
    }
   ],
   "source": [
    "result = logit.fit()"
   ]
  },
  {
   "cell_type": "code",
   "execution_count": 32,
   "metadata": {
    "collapsed": false
   },
   "outputs": [
    {
     "name": "stdout",
     "output_type": "stream",
     "text": [
      "repeat   -0.021480\n",
      "review    0.005433\n",
      "dtype: float64\n"
     ]
    }
   ],
   "source": [
    "coeff = result.params\n",
    "print coeff"
   ]
  },
  {
   "cell_type": "code",
   "execution_count": 44,
   "metadata": {
    "collapsed": false
   },
   "outputs": [
    {
     "data": {
      "text/plain": [
       "-0.02147971046881797"
      ]
     },
     "execution_count": 44,
     "metadata": {},
     "output_type": "execute_result"
    }
   ],
   "source": [
    "coeff[0]"
   ]
  },
  {
   "cell_type": "code",
   "execution_count": 53,
   "metadata": {
    "collapsed": false
   },
   "outputs": [],
   "source": [
    "def logistic_function(repeat, review):\n",
    "    prob = 1/(1 + math.exp(coeff[0]*repeat+coeff[1]*review))\n",
    "    return prob"
   ]
  },
  {
   "cell_type": "code",
   "execution_count": 60,
   "metadata": {
    "collapsed": false
   },
   "outputs": [
    {
     "data": {
      "text/plain": [
       "0.49431251013823707"
      ]
     },
     "execution_count": 60,
     "metadata": {},
     "output_type": "execute_result"
    }
   ],
   "source": [
    "logistic_function(4, 20)"
   ]
  },
  {
   "cell_type": "code",
   "execution_count": 83,
   "metadata": {
    "collapsed": false
   },
   "outputs": [],
   "source": [
    "cols = df.columns.tolist()\n",
    "cols = cols[:-1]\n",
    "df = df[cols]"
   ]
  },
  {
   "cell_type": "code",
   "execution_count": 84,
   "metadata": {
    "collapsed": false
   },
   "outputs": [],
   "source": [
    "dfTrain, dfTest = train_test_split(df, test_size=0.1, random_state=0)"
   ]
  },
  {
   "cell_type": "code",
   "execution_count": 85,
   "metadata": {
    "collapsed": false
   },
   "outputs": [
    {
     "data": {
      "text/plain": [
       "array([['Los Angeles, California', 40.0, 5.0, ..., 0, 0, 0],\n",
       "       ['Los Angeles, California', 25.0, 0.0, ..., 0, 0, 0],\n",
       "       ['Atlanta, Georgia', 30.0, 5.0, ..., 0, 0, 0],\n",
       "       ..., \n",
       "       ['Washington, District Of Columbia', 35.0, 5.0, ..., 0, 0, 0],\n",
       "       ['Los Angeles, California', 25.0, 5.0, ..., 0, 0, 1],\n",
       "       ['Boston, Massachusetts', 30.0, 5.0, ..., 0, 0, 0]], dtype=object)"
      ]
     },
     "execution_count": 85,
     "metadata": {},
     "output_type": "execute_result"
    }
   ],
   "source": [
    "dfTest"
   ]
  },
  {
   "cell_type": "code",
   "execution_count": null,
   "metadata": {
    "collapsed": true
   },
   "outputs": [],
   "source": []
  }
 ],
 "metadata": {
  "kernelspec": {
   "display_name": "Python 2",
   "language": "python",
   "name": "python2"
  },
  "language_info": {
   "codemirror_mode": {
    "name": "ipython",
    "version": 2
   },
   "file_extension": ".py",
   "mimetype": "text/x-python",
   "name": "python",
   "nbconvert_exporter": "python",
   "pygments_lexer": "ipython2",
   "version": "2.7.10"
  }
 },
 "nbformat": 4,
 "nbformat_minor": 0
}
