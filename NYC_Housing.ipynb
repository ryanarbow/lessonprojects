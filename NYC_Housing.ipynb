{
 "cells": [
  {
   "cell_type": "code",
   "execution_count": 110,
   "metadata": {
    "collapsed": true
   },
   "outputs": [],
   "source": [
    "import pandas as pd\n",
    "import numpy as np\n",
    "import matplotlib.pyplot as plt\n",
    "import statsmodels.api as sm\n",
    "import math\n",
    "from sklearn.cross_validation import train_test_split #Split arrays or matrices into random train and test subsets\n",
    "from sklearn.neighbors import KNeighborsClassifier"
   ]
  },
  {
   "cell_type": "code",
   "execution_count": 2,
   "metadata": {
    "collapsed": false
   },
   "outputs": [],
   "source": [
    "housingData = pd.read_excel('rollingsales_manhattan.xls', skiprows=4)"
   ]
  },
  {
   "cell_type": "code",
   "execution_count": 39,
   "metadata": {
    "collapsed": false
   },
   "outputs": [
    {
     "data": {
      "text/html": [
       "<div style=\"max-height:1000px;max-width:1500px;overflow:auto;\">\n",
       "<table border=\"1\" class=\"dataframe\">\n",
       "  <thead>\n",
       "    <tr style=\"text-align: right;\">\n",
       "      <th></th>\n",
       "      <th>BOROUGH</th>\n",
       "      <th>NEIGHBORHOOD</th>\n",
       "      <th>BUILDING CLASS CATEGORY</th>\n",
       "      <th>TAX CLASS AT PRESENT</th>\n",
       "      <th>BLOCK</th>\n",
       "      <th>LOT</th>\n",
       "      <th>EASE-MENT</th>\n",
       "      <th>BUILDING CLASS AT PRESENT</th>\n",
       "      <th>ADDRESS</th>\n",
       "      <th>APARTMENT NUMBER</th>\n",
       "      <th>...</th>\n",
       "      <th>RESIDENTIAL UNITS</th>\n",
       "      <th>COMMERCIAL UNITS</th>\n",
       "      <th>TOTAL UNITS</th>\n",
       "      <th>LAND SQUARE FEET</th>\n",
       "      <th>GROSS SQUARE FEET</th>\n",
       "      <th>YEAR BUILT</th>\n",
       "      <th>TAX CLASS AT TIME OF SALE</th>\n",
       "      <th>BUILDING CLASS AT TIME OF SALE</th>\n",
       "      <th>SALE PRICE</th>\n",
       "      <th>SALE DATE</th>\n",
       "    </tr>\n",
       "  </thead>\n",
       "  <tbody>\n",
       "    <tr>\n",
       "      <th>0</th>\n",
       "      <td> 1</td>\n",
       "      <td> ALPHABET CITY            </td>\n",
       "      <td> 01  ONE FAMILY DWELLINGS                    </td>\n",
       "      <td>  1</td>\n",
       "      <td> 400</td>\n",
       "      <td> 19</td>\n",
       "      <td>  </td>\n",
       "      <td> A4</td>\n",
       "      <td> 526 EAST 5TH STREET                      </td>\n",
       "      <td>             </td>\n",
       "      <td>...</td>\n",
       "      <td> 1</td>\n",
       "      <td> 0</td>\n",
       "      <td>  1</td>\n",
       "      <td> 1883</td>\n",
       "      <td> 5200</td>\n",
       "      <td> 1900</td>\n",
       "      <td> 1</td>\n",
       "      <td> A4</td>\n",
       "      <td> 6500000</td>\n",
       "      <td>2015-03-18</td>\n",
       "    </tr>\n",
       "    <tr>\n",
       "      <th>1</th>\n",
       "      <td> 1</td>\n",
       "      <td> ALPHABET CITY            </td>\n",
       "      <td> 01  ONE FAMILY DWELLINGS                    </td>\n",
       "      <td>  1</td>\n",
       "      <td> 402</td>\n",
       "      <td> 42</td>\n",
       "      <td>  </td>\n",
       "      <td> S1</td>\n",
       "      <td> 96 AVENUE B                              </td>\n",
       "      <td>             </td>\n",
       "      <td>...</td>\n",
       "      <td> 1</td>\n",
       "      <td> 1</td>\n",
       "      <td>  2</td>\n",
       "      <td> 1400</td>\n",
       "      <td> 1839</td>\n",
       "      <td> 1901</td>\n",
       "      <td> 1</td>\n",
       "      <td> S1</td>\n",
       "      <td>       0</td>\n",
       "      <td>2014-12-05</td>\n",
       "    </tr>\n",
       "    <tr>\n",
       "      <th>2</th>\n",
       "      <td> 1</td>\n",
       "      <td> ALPHABET CITY            </td>\n",
       "      <td> 03  THREE FAMILY DWELLINGS                  </td>\n",
       "      <td>  1</td>\n",
       "      <td> 377</td>\n",
       "      <td> 66</td>\n",
       "      <td>  </td>\n",
       "      <td> C0</td>\n",
       "      <td> 243 EAST 7TH   STREET                    </td>\n",
       "      <td>             </td>\n",
       "      <td>...</td>\n",
       "      <td> 3</td>\n",
       "      <td> 0</td>\n",
       "      <td>  3</td>\n",
       "      <td> 2381</td>\n",
       "      <td> 3084</td>\n",
       "      <td> 1899</td>\n",
       "      <td> 1</td>\n",
       "      <td> C0</td>\n",
       "      <td> 2900000</td>\n",
       "      <td>2014-11-26</td>\n",
       "    </tr>\n",
       "    <tr>\n",
       "      <th>3</th>\n",
       "      <td> 1</td>\n",
       "      <td> ALPHABET CITY            </td>\n",
       "      <td> 07  RENTALS - WALKUP APARTMENTS             </td>\n",
       "      <td> 2B</td>\n",
       "      <td> 372</td>\n",
       "      <td> 51</td>\n",
       "      <td>  </td>\n",
       "      <td> C7</td>\n",
       "      <td> 300 EAST 2ND   STREET                    </td>\n",
       "      <td>             </td>\n",
       "      <td>...</td>\n",
       "      <td> 8</td>\n",
       "      <td> 2</td>\n",
       "      <td> 10</td>\n",
       "      <td> 2650</td>\n",
       "      <td> 7620</td>\n",
       "      <td> 1920</td>\n",
       "      <td> 2</td>\n",
       "      <td> C7</td>\n",
       "      <td>       0</td>\n",
       "      <td>2014-07-18</td>\n",
       "    </tr>\n",
       "    <tr>\n",
       "      <th>4</th>\n",
       "      <td> 1</td>\n",
       "      <td> ALPHABET CITY            </td>\n",
       "      <td> 07  RENTALS - WALKUP APARTMENTS             </td>\n",
       "      <td> 2A</td>\n",
       "      <td> 373</td>\n",
       "      <td> 63</td>\n",
       "      <td>  </td>\n",
       "      <td> C3</td>\n",
       "      <td> 285 EAST 3RD   STREET                    </td>\n",
       "      <td>             </td>\n",
       "      <td>...</td>\n",
       "      <td> 4</td>\n",
       "      <td> 0</td>\n",
       "      <td>  4</td>\n",
       "      <td> 2084</td>\n",
       "      <td> 2917</td>\n",
       "      <td> 1900</td>\n",
       "      <td> 2</td>\n",
       "      <td> C3</td>\n",
       "      <td> 3100000</td>\n",
       "      <td>2014-08-05</td>\n",
       "    </tr>\n",
       "  </tbody>\n",
       "</table>\n",
       "<p>5 rows × 21 columns</p>\n",
       "</div>"
      ],
      "text/plain": [
       "   BOROUGH               NEIGHBORHOOD  \\\n",
       "0        1  ALPHABET CITY               \n",
       "1        1  ALPHABET CITY               \n",
       "2        1  ALPHABET CITY               \n",
       "3        1  ALPHABET CITY               \n",
       "4        1  ALPHABET CITY               \n",
       "\n",
       "                        BUILDING CLASS CATEGORY TAX CLASS AT PRESENT  BLOCK  \\\n",
       "0  01  ONE FAMILY DWELLINGS                                        1    400   \n",
       "1  01  ONE FAMILY DWELLINGS                                        1    402   \n",
       "2  03  THREE FAMILY DWELLINGS                                      1    377   \n",
       "3  07  RENTALS - WALKUP APARTMENTS                                2B    372   \n",
       "4  07  RENTALS - WALKUP APARTMENTS                                2A    373   \n",
       "\n",
       "   LOT EASE-MENT BUILDING CLASS AT PRESENT  \\\n",
       "0   19                                  A4   \n",
       "1   42                                  S1   \n",
       "2   66                                  C0   \n",
       "3   51                                  C7   \n",
       "4   63                                  C3   \n",
       "\n",
       "                                     ADDRESS APARTMENT NUMBER    ...      \\\n",
       "0  526 EAST 5TH STREET                                           ...       \n",
       "1  96 AVENUE B                                                   ...       \n",
       "2  243 EAST 7TH   STREET                                         ...       \n",
       "3  300 EAST 2ND   STREET                                         ...       \n",
       "4  285 EAST 3RD   STREET                                         ...       \n",
       "\n",
       "   RESIDENTIAL UNITS  COMMERCIAL UNITS  TOTAL UNITS  LAND SQUARE FEET  \\\n",
       "0                  1                 0            1              1883   \n",
       "1                  1                 1            2              1400   \n",
       "2                  3                 0            3              2381   \n",
       "3                  8                 2           10              2650   \n",
       "4                  4                 0            4              2084   \n",
       "\n",
       "   GROSS SQUARE FEET  YEAR BUILT  TAX CLASS AT TIME OF SALE  \\\n",
       "0               5200        1900                          1   \n",
       "1               1839        1901                          1   \n",
       "2               3084        1899                          1   \n",
       "3               7620        1920                          2   \n",
       "4               2917        1900                          2   \n",
       "\n",
       "   BUILDING CLASS AT TIME OF SALE SALE PRICE  SALE DATE  \n",
       "0                              A4    6500000 2015-03-18  \n",
       "1                              S1          0 2014-12-05  \n",
       "2                              C0    2900000 2014-11-26  \n",
       "3                              C7          0 2014-07-18  \n",
       "4                              C3    3100000 2014-08-05  \n",
       "\n",
       "[5 rows x 21 columns]"
      ]
     },
     "execution_count": 39,
     "metadata": {},
     "output_type": "execute_result"
    }
   ],
   "source": [
    "housingData[0:5]"
   ]
  },
  {
   "cell_type": "code",
   "execution_count": 37,
   "metadata": {
    "collapsed": false
   },
   "outputs": [
    {
     "name": "stderr",
     "output_type": "stream",
     "text": [
      "/Users/Ryan/anaconda/lib/python2.7/site-packages/matplotlib/axes/_base.py:2562: UserWarning: Attempting to set identical left==right results\n",
      "in singular transformations; automatically expanding.\n",
      "left=1.0, right=1.0\n",
      "  'left=%s, right=%s') % (left, right))\n",
      "/Users/Ryan/anaconda/lib/python2.7/site-packages/matplotlib/axes/_base.py:2809: UserWarning: Attempting to set identical bottom==top results\n",
      "in singular transformations; automatically expanding.\n",
      "bottom=1.0, top=1.0\n",
      "  'bottom=%s, top=%s') % (bottom, top))\n"
     ]
    }
   ],
   "source": [
    "a = pd.scatter_matrix(housingData, alpha=0.05, figsize=(10,10))"
   ]
  },
  {
   "cell_type": "code",
   "execution_count": 4,
   "metadata": {
    "collapsed": false
   },
   "outputs": [
    {
     "data": {
      "text/plain": [
       "3384110.0909558069"
      ]
     },
     "execution_count": 4,
     "metadata": {},
     "output_type": "execute_result"
    }
   ],
   "source": [
    "housingData['SALE PRICE'].mean()"
   ]
  },
  {
   "cell_type": "code",
   "execution_count": 70,
   "metadata": {
    "collapsed": false
   },
   "outputs": [],
   "source": [
    "#SALE PRICE = b + a1(YEAR BUILT) + a2(LAND SQUARE FEET)\n",
    "saleprice = housingData['SALE PRICE']\n",
    "yearbuilt = housingData['YEAR BUILT']\n",
    "landsqft = housingData['LAND SQUARE FEET']\n",
    "units = housingData['TOTAL UNITS']\n",
    "block = housingData['BLOCK']\n",
    "grssqft = housingData['GROSS SQUARE FEET']\n",
    "zipcode = housingData['ZIP CODE']"
   ]
  },
  {
   "cell_type": "code",
   "execution_count": 72,
   "metadata": {
    "collapsed": false
   },
   "outputs": [],
   "source": [
    "# The dependent variable\n",
    "y = np.matrix(saleprice).transpose()\n",
    "# The independent variables shaped as columns\n",
    "x1 = np.matrix(yearbuilt).transpose()\n",
    "x2 = np.matrix(landsqft).transpose()\n",
    "x3 = np.matrix(units).transpose()\n",
    "x4 = np.matrix(block).transpose()\n",
    "x5 = np.matrix(grssqft).transpose()\n",
    "x6 = np.matrix(zipcode).transpose()"
   ]
  },
  {
   "cell_type": "code",
   "execution_count": 77,
   "metadata": {
    "collapsed": false
   },
   "outputs": [],
   "source": [
    "x = np.column_stack([x3, x5])"
   ]
  },
  {
   "cell_type": "code",
   "execution_count": 78,
   "metadata": {
    "collapsed": false
   },
   "outputs": [],
   "source": [
    "X = sm.add_constant(x)\n",
    "model = sm.OLS(y,X)\n",
    "f = model.fit()"
   ]
  },
  {
   "cell_type": "code",
   "execution_count": 79,
   "metadata": {
    "collapsed": false
   },
   "outputs": [
    {
     "data": {
      "text/html": [
       "<table class=\"simpletable\">\n",
       "<caption>OLS Regression Results</caption>\n",
       "<tr>\n",
       "  <th>Dep. Variable:</th>            <td>y</td>        <th>  R-squared:         </th>  <td>   0.391</td>  \n",
       "</tr>\n",
       "<tr>\n",
       "  <th>Model:</th>                   <td>OLS</td>       <th>  Adj. R-squared:    </th>  <td>   0.391</td>  \n",
       "</tr>\n",
       "<tr>\n",
       "  <th>Method:</th>             <td>Least Squares</td>  <th>  F-statistic:       </th>  <td>   6880.</td>  \n",
       "</tr>\n",
       "<tr>\n",
       "  <th>Date:</th>             <td>Mon, 06 Jul 2015</td> <th>  Prob (F-statistic):</th>   <td>  0.00</td>   \n",
       "</tr>\n",
       "<tr>\n",
       "  <th>Time:</th>                 <td>21:00:54</td>     <th>  Log-Likelihood:    </th> <td>-3.9995e+05</td>\n",
       "</tr>\n",
       "<tr>\n",
       "  <th>No. Observations:</th>      <td> 21406</td>      <th>  AIC:               </th>  <td>7.999e+05</td> \n",
       "</tr>\n",
       "<tr>\n",
       "  <th>Df Residuals:</th>          <td> 21403</td>      <th>  BIC:               </th>  <td>7.999e+05</td> \n",
       "</tr>\n",
       "<tr>\n",
       "  <th>Df Model:</th>              <td>     2</td>      <th>                     </th>      <td> </td>     \n",
       "</tr>\n",
       "<tr>\n",
       "  <th>Covariance Type:</th>      <td>nonrobust</td>    <th>                     </th>      <td> </td>     \n",
       "</tr>\n",
       "</table>\n",
       "<table class=\"simpletable\">\n",
       "<tr>\n",
       "    <td></td>       <th>coef</th>     <th>std err</th>      <th>t</th>      <th>P>|t|</th> <th>[95.0% Conf. Int.]</th> \n",
       "</tr>\n",
       "<tr>\n",
       "  <th>const</th> <td> 1.142e+06</td> <td> 2.17e+05</td> <td>    5.257</td> <td> 0.000</td> <td> 7.16e+05  1.57e+06</td>\n",
       "</tr>\n",
       "<tr>\n",
       "  <th>x1</th>    <td> 1.563e+05</td> <td> 5862.601</td> <td>   26.658</td> <td> 0.000</td> <td> 1.45e+05  1.68e+05</td>\n",
       "</tr>\n",
       "<tr>\n",
       "  <th>x2</th>    <td>  198.1872</td> <td>    4.847</td> <td>   40.885</td> <td> 0.000</td> <td>  188.686   207.688</td>\n",
       "</tr>\n",
       "</table>\n",
       "<table class=\"simpletable\">\n",
       "<tr>\n",
       "  <th>Omnibus:</th>       <td>64126.007</td> <th>  Durbin-Watson:     </th>    <td>   1.839</td>   \n",
       "</tr>\n",
       "<tr>\n",
       "  <th>Prob(Omnibus):</th>  <td> 0.000</td>   <th>  Jarque-Bera (JB):  </th> <td>6456703470.795</td>\n",
       "</tr>\n",
       "<tr>\n",
       "  <th>Skew:</th>           <td>43.613</td>   <th>  Prob(JB):          </th>    <td>    0.00</td>   \n",
       "</tr>\n",
       "<tr>\n",
       "  <th>Kurtosis:</th>      <td>2692.149</td>  <th>  Cond. No.          </th>    <td>8.16e+04</td>   \n",
       "</tr>\n",
       "</table>"
      ],
      "text/plain": [
       "<class 'statsmodels.iolib.summary.Summary'>\n",
       "\"\"\"\n",
       "                            OLS Regression Results                            \n",
       "==============================================================================\n",
       "Dep. Variable:                      y   R-squared:                       0.391\n",
       "Model:                            OLS   Adj. R-squared:                  0.391\n",
       "Method:                 Least Squares   F-statistic:                     6880.\n",
       "Date:                Mon, 06 Jul 2015   Prob (F-statistic):               0.00\n",
       "Time:                        21:00:54   Log-Likelihood:            -3.9995e+05\n",
       "No. Observations:               21406   AIC:                         7.999e+05\n",
       "Df Residuals:                   21403   BIC:                         7.999e+05\n",
       "Df Model:                           2                                         \n",
       "Covariance Type:            nonrobust                                         \n",
       "==============================================================================\n",
       "                 coef    std err          t      P>|t|      [95.0% Conf. Int.]\n",
       "------------------------------------------------------------------------------\n",
       "const       1.142e+06   2.17e+05      5.257      0.000      7.16e+05  1.57e+06\n",
       "x1          1.563e+05   5862.601     26.658      0.000      1.45e+05  1.68e+05\n",
       "x2           198.1872      4.847     40.885      0.000       188.686   207.688\n",
       "==============================================================================\n",
       "Omnibus:                    64126.007   Durbin-Watson:                   1.839\n",
       "Prob(Omnibus):                  0.000   Jarque-Bera (JB):       6456703470.795\n",
       "Skew:                          43.613   Prob(JB):                         0.00\n",
       "Kurtosis:                    2692.149   Cond. No.                     8.16e+04\n",
       "==============================================================================\n",
       "\n",
       "Warnings:\n",
       "[1] Standard Errors assume that the covariance matrix of the errors is correctly specified.\n",
       "[2] The condition number is large, 8.16e+04. This might indicate that there are\n",
       "strong multicollinearity or other numerical problems.\n",
       "\"\"\""
      ]
     },
     "execution_count": 79,
     "metadata": {},
     "output_type": "execute_result"
    }
   ],
   "source": [
    "f.summary()"
   ]
  },
  {
   "cell_type": "code",
   "execution_count": 99,
   "metadata": {
    "collapsed": false
   },
   "outputs": [],
   "source": [
    "housingData['High_price'] = housingData['SALE PRICE'].map(lambda x: 1 if x > 10000000 else 0)"
   ]
  },
  {
   "cell_type": "code",
   "execution_count": 130,
   "metadata": {
    "collapsed": false
   },
   "outputs": [
    {
     "data": {
      "text/html": [
       "<div style=\"max-height:1000px;max-width:1500px;overflow:auto;\">\n",
       "<table border=\"1\" class=\"dataframe\">\n",
       "  <thead>\n",
       "    <tr style=\"text-align: right;\">\n",
       "      <th></th>\n",
       "      <th>BOROUGH</th>\n",
       "      <th>NEIGHBORHOOD</th>\n",
       "      <th>BUILDING CLASS CATEGORY</th>\n",
       "      <th>TAX CLASS AT PRESENT</th>\n",
       "      <th>BLOCK</th>\n",
       "      <th>LOT</th>\n",
       "      <th>EASE-MENT</th>\n",
       "      <th>BUILDING CLASS AT PRESENT</th>\n",
       "      <th>ADDRESS</th>\n",
       "      <th>APARTMENT NUMBER</th>\n",
       "      <th>...</th>\n",
       "      <th>TOTAL UNITS</th>\n",
       "      <th>LAND SQUARE FEET</th>\n",
       "      <th>GROSS SQUARE FEET</th>\n",
       "      <th>YEAR BUILT</th>\n",
       "      <th>TAX CLASS AT TIME OF SALE</th>\n",
       "      <th>BUILDING CLASS AT TIME OF SALE</th>\n",
       "      <th>SALE PRICE</th>\n",
       "      <th>SALE DATE</th>\n",
       "      <th>High_price</th>\n",
       "      <th>Intercept</th>\n",
       "    </tr>\n",
       "  </thead>\n",
       "  <tbody>\n",
       "    <tr>\n",
       "      <th>0</th>\n",
       "      <td> 1</td>\n",
       "      <td> ALPHABET CITY            </td>\n",
       "      <td> 01  ONE FAMILY DWELLINGS                    </td>\n",
       "      <td>  1</td>\n",
       "      <td> 400</td>\n",
       "      <td> 19</td>\n",
       "      <td>  </td>\n",
       "      <td> A4</td>\n",
       "      <td> 526 EAST 5TH STREET                      </td>\n",
       "      <td>             </td>\n",
       "      <td>...</td>\n",
       "      <td>  1</td>\n",
       "      <td> 1883</td>\n",
       "      <td> 5200</td>\n",
       "      <td> 1900</td>\n",
       "      <td> 1</td>\n",
       "      <td> A4</td>\n",
       "      <td> 6500000</td>\n",
       "      <td>2015-03-18</td>\n",
       "      <td> 0</td>\n",
       "      <td> 1</td>\n",
       "    </tr>\n",
       "    <tr>\n",
       "      <th>1</th>\n",
       "      <td> 1</td>\n",
       "      <td> ALPHABET CITY            </td>\n",
       "      <td> 01  ONE FAMILY DWELLINGS                    </td>\n",
       "      <td>  1</td>\n",
       "      <td> 402</td>\n",
       "      <td> 42</td>\n",
       "      <td>  </td>\n",
       "      <td> S1</td>\n",
       "      <td> 96 AVENUE B                              </td>\n",
       "      <td>             </td>\n",
       "      <td>...</td>\n",
       "      <td>  2</td>\n",
       "      <td> 1400</td>\n",
       "      <td> 1839</td>\n",
       "      <td> 1901</td>\n",
       "      <td> 1</td>\n",
       "      <td> S1</td>\n",
       "      <td>       0</td>\n",
       "      <td>2014-12-05</td>\n",
       "      <td> 0</td>\n",
       "      <td> 1</td>\n",
       "    </tr>\n",
       "    <tr>\n",
       "      <th>2</th>\n",
       "      <td> 1</td>\n",
       "      <td> ALPHABET CITY            </td>\n",
       "      <td> 03  THREE FAMILY DWELLINGS                  </td>\n",
       "      <td>  1</td>\n",
       "      <td> 377</td>\n",
       "      <td> 66</td>\n",
       "      <td>  </td>\n",
       "      <td> C0</td>\n",
       "      <td> 243 EAST 7TH   STREET                    </td>\n",
       "      <td>             </td>\n",
       "      <td>...</td>\n",
       "      <td>  3</td>\n",
       "      <td> 2381</td>\n",
       "      <td> 3084</td>\n",
       "      <td> 1899</td>\n",
       "      <td> 1</td>\n",
       "      <td> C0</td>\n",
       "      <td> 2900000</td>\n",
       "      <td>2014-11-26</td>\n",
       "      <td> 0</td>\n",
       "      <td> 1</td>\n",
       "    </tr>\n",
       "    <tr>\n",
       "      <th>3</th>\n",
       "      <td> 1</td>\n",
       "      <td> ALPHABET CITY            </td>\n",
       "      <td> 07  RENTALS - WALKUP APARTMENTS             </td>\n",
       "      <td> 2B</td>\n",
       "      <td> 372</td>\n",
       "      <td> 51</td>\n",
       "      <td>  </td>\n",
       "      <td> C7</td>\n",
       "      <td> 300 EAST 2ND   STREET                    </td>\n",
       "      <td>             </td>\n",
       "      <td>...</td>\n",
       "      <td> 10</td>\n",
       "      <td> 2650</td>\n",
       "      <td> 7620</td>\n",
       "      <td> 1920</td>\n",
       "      <td> 2</td>\n",
       "      <td> C7</td>\n",
       "      <td>       0</td>\n",
       "      <td>2014-07-18</td>\n",
       "      <td> 0</td>\n",
       "      <td> 1</td>\n",
       "    </tr>\n",
       "    <tr>\n",
       "      <th>4</th>\n",
       "      <td> 1</td>\n",
       "      <td> ALPHABET CITY            </td>\n",
       "      <td> 07  RENTALS - WALKUP APARTMENTS             </td>\n",
       "      <td> 2A</td>\n",
       "      <td> 373</td>\n",
       "      <td> 63</td>\n",
       "      <td>  </td>\n",
       "      <td> C3</td>\n",
       "      <td> 285 EAST 3RD   STREET                    </td>\n",
       "      <td>             </td>\n",
       "      <td>...</td>\n",
       "      <td>  4</td>\n",
       "      <td> 2084</td>\n",
       "      <td> 2917</td>\n",
       "      <td> 1900</td>\n",
       "      <td> 2</td>\n",
       "      <td> C3</td>\n",
       "      <td> 3100000</td>\n",
       "      <td>2014-08-05</td>\n",
       "      <td> 0</td>\n",
       "      <td> 1</td>\n",
       "    </tr>\n",
       "  </tbody>\n",
       "</table>\n",
       "<p>5 rows × 23 columns</p>\n",
       "</div>"
      ],
      "text/plain": [
       "   BOROUGH               NEIGHBORHOOD  \\\n",
       "0        1  ALPHABET CITY               \n",
       "1        1  ALPHABET CITY               \n",
       "2        1  ALPHABET CITY               \n",
       "3        1  ALPHABET CITY               \n",
       "4        1  ALPHABET CITY               \n",
       "\n",
       "                        BUILDING CLASS CATEGORY TAX CLASS AT PRESENT  BLOCK  \\\n",
       "0  01  ONE FAMILY DWELLINGS                                        1    400   \n",
       "1  01  ONE FAMILY DWELLINGS                                        1    402   \n",
       "2  03  THREE FAMILY DWELLINGS                                      1    377   \n",
       "3  07  RENTALS - WALKUP APARTMENTS                                2B    372   \n",
       "4  07  RENTALS - WALKUP APARTMENTS                                2A    373   \n",
       "\n",
       "   LOT EASE-MENT BUILDING CLASS AT PRESENT  \\\n",
       "0   19                                  A4   \n",
       "1   42                                  S1   \n",
       "2   66                                  C0   \n",
       "3   51                                  C7   \n",
       "4   63                                  C3   \n",
       "\n",
       "                                     ADDRESS APARTMENT NUMBER    ...      \\\n",
       "0  526 EAST 5TH STREET                                           ...       \n",
       "1  96 AVENUE B                                                   ...       \n",
       "2  243 EAST 7TH   STREET                                         ...       \n",
       "3  300 EAST 2ND   STREET                                         ...       \n",
       "4  285 EAST 3RD   STREET                                         ...       \n",
       "\n",
       "   TOTAL UNITS  LAND SQUARE FEET  GROSS SQUARE FEET  YEAR BUILT  \\\n",
       "0            1              1883               5200        1900   \n",
       "1            2              1400               1839        1901   \n",
       "2            3              2381               3084        1899   \n",
       "3           10              2650               7620        1920   \n",
       "4            4              2084               2917        1900   \n",
       "\n",
       "   TAX CLASS AT TIME OF SALE  BUILDING CLASS AT TIME OF SALE  SALE PRICE  \\\n",
       "0                          1                              A4     6500000   \n",
       "1                          1                              S1           0   \n",
       "2                          1                              C0     2900000   \n",
       "3                          2                              C7           0   \n",
       "4                          2                              C3     3100000   \n",
       "\n",
       "   SALE DATE High_price  Intercept  \n",
       "0 2015-03-18          0          1  \n",
       "1 2014-12-05          0          1  \n",
       "2 2014-11-26          0          1  \n",
       "3 2014-07-18          0          1  \n",
       "4 2014-08-05          0          1  \n",
       "\n",
       "[5 rows x 23 columns]"
      ]
     },
     "execution_count": 130,
     "metadata": {},
     "output_type": "execute_result"
    }
   ],
   "source": [
    "housingData[0:5]"
   ]
  },
  {
   "cell_type": "code",
   "execution_count": 101,
   "metadata": {
    "collapsed": true
   },
   "outputs": [],
   "source": [
    "intercept = [1] * len(housingData)\n",
    "housingData['Intercept'] = intercept"
   ]
  },
  {
   "cell_type": "code",
   "execution_count": 102,
   "metadata": {
    "collapsed": true
   },
   "outputs": [],
   "source": [
    "ind_vars = ['Intercept','TOTAL UNITS','GROSS SQUARE FEET']"
   ]
  },
  {
   "cell_type": "code",
   "execution_count": 103,
   "metadata": {
    "collapsed": false
   },
   "outputs": [],
   "source": [
    "df = housingData"
   ]
  },
  {
   "cell_type": "code",
   "execution_count": 104,
   "metadata": {
    "collapsed": false
   },
   "outputs": [],
   "source": [
    "logit = sm.Logit(df['High_price'], df[ind_vars])"
   ]
  },
  {
   "cell_type": "code",
   "execution_count": 90,
   "metadata": {
    "collapsed": false
   },
   "outputs": [
    {
     "name": "stdout",
     "output_type": "stream",
     "text": [
      "Optimization terminated successfully.\n",
      "         Current function value: 0.150949\n",
      "         Iterations 8\n"
     ]
    }
   ],
   "source": [
    "result = logit.fit()"
   ]
  },
  {
   "cell_type": "code",
   "execution_count": 91,
   "metadata": {
    "collapsed": false
   },
   "outputs": [
    {
     "name": "stdout",
     "output_type": "stream",
     "text": [
      "Intercept           -3.395137\n",
      "TOTAL UNITS          0.017833\n",
      "GROSS SQUARE FEET    0.000003\n",
      "dtype: float64\n"
     ]
    }
   ],
   "source": [
    "coeff = result.params\n",
    "print coeff"
   ]
  },
  {
   "cell_type": "code",
   "execution_count": 106,
   "metadata": {
    "collapsed": true
   },
   "outputs": [],
   "source": [
    "def logistic_function(units, grssqft):\n",
    "    prob = 1/(1 + math.exp(coeff[0] + coeff[2]*units+coeff[1]*grssqft))\n",
    "    if prob > 0.7:\n",
    "        p = 1\n",
    "    else:\n",
    "        p = 0\n",
    "    return prob, p"
   ]
  },
  {
   "cell_type": "code",
   "execution_count": 109,
   "metadata": {
    "collapsed": false
   },
   "outputs": [
    {
     "data": {
      "text/plain": [
       "(0.8336581064478015, 1)"
      ]
     },
     "execution_count": 109,
     "metadata": {},
     "output_type": "execute_result"
    }
   ],
   "source": [
    "logistic_function(5,100)"
   ]
  },
  {
   "cell_type": "code",
   "execution_count": 119,
   "metadata": {
    "collapsed": true
   },
   "outputs": [],
   "source": [
    "housingData_original = pd.read_excel('rollingsales_manhattan.xls', skiprows=4)"
   ]
  },
  {
   "cell_type": "code",
   "execution_count": 120,
   "metadata": {
    "collapsed": false
   },
   "outputs": [
    {
     "data": {
      "text/html": [
       "<div style=\"max-height:1000px;max-width:1500px;overflow:auto;\">\n",
       "<table border=\"1\" class=\"dataframe\">\n",
       "  <thead>\n",
       "    <tr style=\"text-align: right;\">\n",
       "      <th></th>\n",
       "      <th>BOROUGH</th>\n",
       "      <th>NEIGHBORHOOD</th>\n",
       "      <th>BUILDING CLASS CATEGORY</th>\n",
       "      <th>TAX CLASS AT PRESENT</th>\n",
       "      <th>BLOCK</th>\n",
       "      <th>LOT</th>\n",
       "      <th>EASE-MENT</th>\n",
       "      <th>BUILDING CLASS AT PRESENT</th>\n",
       "      <th>ADDRESS</th>\n",
       "      <th>APARTMENT NUMBER</th>\n",
       "      <th>...</th>\n",
       "      <th>RESIDENTIAL UNITS</th>\n",
       "      <th>COMMERCIAL UNITS</th>\n",
       "      <th>TOTAL UNITS</th>\n",
       "      <th>LAND SQUARE FEET</th>\n",
       "      <th>GROSS SQUARE FEET</th>\n",
       "      <th>YEAR BUILT</th>\n",
       "      <th>TAX CLASS AT TIME OF SALE</th>\n",
       "      <th>BUILDING CLASS AT TIME OF SALE</th>\n",
       "      <th>SALE PRICE</th>\n",
       "      <th>SALE DATE</th>\n",
       "    </tr>\n",
       "  </thead>\n",
       "  <tbody>\n",
       "    <tr>\n",
       "      <th>0</th>\n",
       "      <td> 1</td>\n",
       "      <td> ALPHABET CITY            </td>\n",
       "      <td> 01  ONE FAMILY DWELLINGS                    </td>\n",
       "      <td>  1</td>\n",
       "      <td> 400</td>\n",
       "      <td> 19</td>\n",
       "      <td>  </td>\n",
       "      <td> A4</td>\n",
       "      <td> 526 EAST 5TH STREET                      </td>\n",
       "      <td>             </td>\n",
       "      <td>...</td>\n",
       "      <td> 1</td>\n",
       "      <td> 0</td>\n",
       "      <td>  1</td>\n",
       "      <td> 1883</td>\n",
       "      <td> 5200</td>\n",
       "      <td> 1900</td>\n",
       "      <td> 1</td>\n",
       "      <td> A4</td>\n",
       "      <td> 6500000</td>\n",
       "      <td>2015-03-18</td>\n",
       "    </tr>\n",
       "    <tr>\n",
       "      <th>1</th>\n",
       "      <td> 1</td>\n",
       "      <td> ALPHABET CITY            </td>\n",
       "      <td> 01  ONE FAMILY DWELLINGS                    </td>\n",
       "      <td>  1</td>\n",
       "      <td> 402</td>\n",
       "      <td> 42</td>\n",
       "      <td>  </td>\n",
       "      <td> S1</td>\n",
       "      <td> 96 AVENUE B                              </td>\n",
       "      <td>             </td>\n",
       "      <td>...</td>\n",
       "      <td> 1</td>\n",
       "      <td> 1</td>\n",
       "      <td>  2</td>\n",
       "      <td> 1400</td>\n",
       "      <td> 1839</td>\n",
       "      <td> 1901</td>\n",
       "      <td> 1</td>\n",
       "      <td> S1</td>\n",
       "      <td>       0</td>\n",
       "      <td>2014-12-05</td>\n",
       "    </tr>\n",
       "    <tr>\n",
       "      <th>2</th>\n",
       "      <td> 1</td>\n",
       "      <td> ALPHABET CITY            </td>\n",
       "      <td> 03  THREE FAMILY DWELLINGS                  </td>\n",
       "      <td>  1</td>\n",
       "      <td> 377</td>\n",
       "      <td> 66</td>\n",
       "      <td>  </td>\n",
       "      <td> C0</td>\n",
       "      <td> 243 EAST 7TH   STREET                    </td>\n",
       "      <td>             </td>\n",
       "      <td>...</td>\n",
       "      <td> 3</td>\n",
       "      <td> 0</td>\n",
       "      <td>  3</td>\n",
       "      <td> 2381</td>\n",
       "      <td> 3084</td>\n",
       "      <td> 1899</td>\n",
       "      <td> 1</td>\n",
       "      <td> C0</td>\n",
       "      <td> 2900000</td>\n",
       "      <td>2014-11-26</td>\n",
       "    </tr>\n",
       "    <tr>\n",
       "      <th>3</th>\n",
       "      <td> 1</td>\n",
       "      <td> ALPHABET CITY            </td>\n",
       "      <td> 07  RENTALS - WALKUP APARTMENTS             </td>\n",
       "      <td> 2B</td>\n",
       "      <td> 372</td>\n",
       "      <td> 51</td>\n",
       "      <td>  </td>\n",
       "      <td> C7</td>\n",
       "      <td> 300 EAST 2ND   STREET                    </td>\n",
       "      <td>             </td>\n",
       "      <td>...</td>\n",
       "      <td> 8</td>\n",
       "      <td> 2</td>\n",
       "      <td> 10</td>\n",
       "      <td> 2650</td>\n",
       "      <td> 7620</td>\n",
       "      <td> 1920</td>\n",
       "      <td> 2</td>\n",
       "      <td> C7</td>\n",
       "      <td>       0</td>\n",
       "      <td>2014-07-18</td>\n",
       "    </tr>\n",
       "    <tr>\n",
       "      <th>4</th>\n",
       "      <td> 1</td>\n",
       "      <td> ALPHABET CITY            </td>\n",
       "      <td> 07  RENTALS - WALKUP APARTMENTS             </td>\n",
       "      <td> 2A</td>\n",
       "      <td> 373</td>\n",
       "      <td> 63</td>\n",
       "      <td>  </td>\n",
       "      <td> C3</td>\n",
       "      <td> 285 EAST 3RD   STREET                    </td>\n",
       "      <td>             </td>\n",
       "      <td>...</td>\n",
       "      <td> 4</td>\n",
       "      <td> 0</td>\n",
       "      <td>  4</td>\n",
       "      <td> 2084</td>\n",
       "      <td> 2917</td>\n",
       "      <td> 1900</td>\n",
       "      <td> 2</td>\n",
       "      <td> C3</td>\n",
       "      <td> 3100000</td>\n",
       "      <td>2014-08-05</td>\n",
       "    </tr>\n",
       "  </tbody>\n",
       "</table>\n",
       "<p>5 rows × 21 columns</p>\n",
       "</div>"
      ],
      "text/plain": [
       "   BOROUGH               NEIGHBORHOOD  \\\n",
       "0        1  ALPHABET CITY               \n",
       "1        1  ALPHABET CITY               \n",
       "2        1  ALPHABET CITY               \n",
       "3        1  ALPHABET CITY               \n",
       "4        1  ALPHABET CITY               \n",
       "\n",
       "                        BUILDING CLASS CATEGORY TAX CLASS AT PRESENT  BLOCK  \\\n",
       "0  01  ONE FAMILY DWELLINGS                                        1    400   \n",
       "1  01  ONE FAMILY DWELLINGS                                        1    402   \n",
       "2  03  THREE FAMILY DWELLINGS                                      1    377   \n",
       "3  07  RENTALS - WALKUP APARTMENTS                                2B    372   \n",
       "4  07  RENTALS - WALKUP APARTMENTS                                2A    373   \n",
       "\n",
       "   LOT EASE-MENT BUILDING CLASS AT PRESENT  \\\n",
       "0   19                                  A4   \n",
       "1   42                                  S1   \n",
       "2   66                                  C0   \n",
       "3   51                                  C7   \n",
       "4   63                                  C3   \n",
       "\n",
       "                                     ADDRESS APARTMENT NUMBER    ...      \\\n",
       "0  526 EAST 5TH STREET                                           ...       \n",
       "1  96 AVENUE B                                                   ...       \n",
       "2  243 EAST 7TH   STREET                                         ...       \n",
       "3  300 EAST 2ND   STREET                                         ...       \n",
       "4  285 EAST 3RD   STREET                                         ...       \n",
       "\n",
       "   RESIDENTIAL UNITS  COMMERCIAL UNITS  TOTAL UNITS  LAND SQUARE FEET  \\\n",
       "0                  1                 0            1              1883   \n",
       "1                  1                 1            2              1400   \n",
       "2                  3                 0            3              2381   \n",
       "3                  8                 2           10              2650   \n",
       "4                  4                 0            4              2084   \n",
       "\n",
       "   GROSS SQUARE FEET  YEAR BUILT  TAX CLASS AT TIME OF SALE  \\\n",
       "0               5200        1900                          1   \n",
       "1               1839        1901                          1   \n",
       "2               3084        1899                          1   \n",
       "3               7620        1920                          2   \n",
       "4               2917        1900                          2   \n",
       "\n",
       "   BUILDING CLASS AT TIME OF SALE SALE PRICE  SALE DATE  \n",
       "0                              A4    6500000 2015-03-18  \n",
       "1                              S1          0 2014-12-05  \n",
       "2                              C0    2900000 2014-11-26  \n",
       "3                              C7          0 2014-07-18  \n",
       "4                              C3    3100000 2014-08-05  \n",
       "\n",
       "[5 rows x 21 columns]"
      ]
     },
     "execution_count": 120,
     "metadata": {},
     "output_type": "execute_result"
    }
   ],
   "source": [
    "housingData_original[0:5]"
   ]
  },
  {
   "cell_type": "code",
   "execution_count": 121,
   "metadata": {
    "collapsed": true
   },
   "outputs": [],
   "source": [
    "df1 = housingData_original "
   ]
  },
  {
   "cell_type": "code",
   "execution_count": 122,
   "metadata": {
    "collapsed": true
   },
   "outputs": [],
   "source": [
    "df1Train, df1Test = train_test_split(df, test_size=.2) #the proportion of the dataset to include in the test split."
   ]
  },
  {
   "cell_type": "code",
   "execution_count": 123,
   "metadata": {
    "collapsed": false
   },
   "outputs": [
    {
     "data": {
      "text/plain": [
       "array([[1, u'UPPER WEST SIDE (79-96)  ',\n",
       "        u'10  COOPS - ELEVATOR APARTMENTS             ', ...,\n",
       "        Timestamp('2014-09-25 00:00:00'), 0, 1],\n",
       "       [1, u'GREENWICH VILLAGE-WEST   ',\n",
       "        u'13  CONDOS - ELEVATOR APARTMENTS            ', ...,\n",
       "        Timestamp('2014-06-12 00:00:00'), 0, 1],\n",
       "       [1, u'UPPER WEST SIDE (79-96)  ',\n",
       "        u'10  COOPS - ELEVATOR APARTMENTS             ', ...,\n",
       "        Timestamp('2014-11-19 00:00:00'), 0, 1],\n",
       "       ..., \n",
       "       [1, u'UPPER EAST SIDE (79-96)  ',\n",
       "        u'07  RENTALS - WALKUP APARTMENTS             ', ...,\n",
       "        Timestamp('2014-09-09 00:00:00'), 0, 1],\n",
       "       [1, u'UPPER EAST SIDE (79-96)  ',\n",
       "        u'13  CONDOS - ELEVATOR APARTMENTS            ', ...,\n",
       "        Timestamp('2014-08-11 00:00:00'), 0, 1],\n",
       "       [1, u'UPPER WEST SIDE (79-96)  ',\n",
       "        u'10  COOPS - ELEVATOR APARTMENTS             ', ...,\n",
       "        Timestamp('2014-10-14 00:00:00'), 0, 1]], dtype=object)"
      ]
     },
     "execution_count": 123,
     "metadata": {},
     "output_type": "execute_result"
    }
   ],
   "source": [
    "df1Train"
   ]
  },
  {
   "cell_type": "code",
   "execution_count": 124,
   "metadata": {
    "collapsed": false
   },
   "outputs": [
    {
     "data": {
      "text/plain": [
       "array([u'UPPER WEST SIDE (79-96)  ', u'GREENWICH VILLAGE-WEST   ',\n",
       "       u'UPPER WEST SIDE (79-96)  ', ..., u'UPPER EAST SIDE (79-96)  ',\n",
       "       u'UPPER EAST SIDE (79-96)  ', u'UPPER WEST SIDE (79-96)  '], dtype=object)"
      ]
     },
     "execution_count": 124,
     "metadata": {},
     "output_type": "execute_result"
    }
   ],
   "source": [
    "cl = df1Train[:,1] # this is the subset of labels for the training set\n",
    "cl"
   ]
  },
  {
   "cell_type": "code",
   "execution_count": 129,
   "metadata": {
    "collapsed": false
   },
   "outputs": [
    {
     "data": {
      "text/plain": [
       "array([u'UPPER EAST SIDE (79-96)  ', u'SOHO                     ',\n",
       "       u'CLINTON                  ', ..., u'UPPER EAST SIDE (59-79)  ',\n",
       "       u'MIDTOWN WEST             ', u'HARLEM-CENTRAL           '], dtype=object)"
      ]
     },
     "execution_count": 129,
     "metadata": {},
     "output_type": "execute_result"
    }
   ],
   "source": [
    "# subset of labels for the test set, we're withholding these\n",
    "true_labels = df1Test[:,1]\n",
    "true_labels"
   ]
  },
  {
   "cell_type": "code",
   "execution_count": 126,
   "metadata": {
    "collapsed": false
   },
   "outputs": [
    {
     "ename": "ValueError",
     "evalue": "could not convert string to float: UPPER WEST SIDE (79-96)  ",
     "output_type": "error",
     "traceback": [
      "\u001b[0;31m---------------------------------------------------------------------------\u001b[0m",
      "\u001b[0;31mValueError\u001b[0m                                Traceback (most recent call last)",
      "\u001b[0;32m<ipython-input-126-94824909de2e>\u001b[0m in \u001b[0;36m<module>\u001b[0;34m()\u001b[0m\n\u001b[1;32m      1\u001b[0m \u001b[0mmodel\u001b[0m \u001b[0;34m=\u001b[0m \u001b[0mKNeighborsClassifier\u001b[0m\u001b[0;34m(\u001b[0m\u001b[0mn_neighbors\u001b[0m\u001b[0;34m=\u001b[0m\u001b[0;36m3\u001b[0m\u001b[0;34m)\u001b[0m\u001b[0;34m\u001b[0m\u001b[0m\n\u001b[0;32m----> 2\u001b[0;31m \u001b[0mmodel\u001b[0m\u001b[0;34m.\u001b[0m\u001b[0mfit\u001b[0m\u001b[0;34m(\u001b[0m\u001b[0mdf1Train\u001b[0m\u001b[0;34m[\u001b[0m\u001b[0;34m:\u001b[0m\u001b[0;34m,\u001b[0m\u001b[0;34m:\u001b[0m\u001b[0;36m2\u001b[0m\u001b[0;34m]\u001b[0m\u001b[0;34m,\u001b[0m \u001b[0mdf1Train\u001b[0m\u001b[0;34m[\u001b[0m\u001b[0;34m:\u001b[0m\u001b[0;34m,\u001b[0m\u001b[0;36m2\u001b[0m\u001b[0;34m]\u001b[0m\u001b[0;34m)\u001b[0m\u001b[0;34m\u001b[0m\u001b[0m\n\u001b[0m",
      "\u001b[0;32m/Users/Ryan/anaconda/lib/python2.7/site-packages/sklearn/neighbors/base.pyc\u001b[0m in \u001b[0;36mfit\u001b[0;34m(self, X, y)\u001b[0m\n\u001b[1;32m    647\u001b[0m             \u001b[0mself\u001b[0m\u001b[0;34m.\u001b[0m\u001b[0m_y\u001b[0m \u001b[0;34m=\u001b[0m \u001b[0mself\u001b[0m\u001b[0;34m.\u001b[0m\u001b[0m_y\u001b[0m\u001b[0;34m.\u001b[0m\u001b[0mravel\u001b[0m\u001b[0;34m(\u001b[0m\u001b[0;34m)\u001b[0m\u001b[0;34m\u001b[0m\u001b[0m\n\u001b[1;32m    648\u001b[0m \u001b[0;34m\u001b[0m\u001b[0m\n\u001b[0;32m--> 649\u001b[0;31m         \u001b[0;32mreturn\u001b[0m \u001b[0mself\u001b[0m\u001b[0;34m.\u001b[0m\u001b[0m_fit\u001b[0m\u001b[0;34m(\u001b[0m\u001b[0mX\u001b[0m\u001b[0;34m)\u001b[0m\u001b[0;34m\u001b[0m\u001b[0m\n\u001b[0m\u001b[1;32m    650\u001b[0m \u001b[0;34m\u001b[0m\u001b[0m\n\u001b[1;32m    651\u001b[0m \u001b[0;34m\u001b[0m\u001b[0m\n",
      "\u001b[0;32m/Users/Ryan/anaconda/lib/python2.7/site-packages/sklearn/neighbors/base.pyc\u001b[0m in \u001b[0;36m_fit\u001b[0;34m(self, X)\u001b[0m\n\u001b[1;32m    236\u001b[0m             self._tree = KDTree(X, self.leaf_size,\n\u001b[1;32m    237\u001b[0m                                 \u001b[0mmetric\u001b[0m\u001b[0;34m=\u001b[0m\u001b[0mself\u001b[0m\u001b[0;34m.\u001b[0m\u001b[0meffective_metric_\u001b[0m\u001b[0;34m,\u001b[0m\u001b[0;34m\u001b[0m\u001b[0m\n\u001b[0;32m--> 238\u001b[0;31m                                 **self.effective_metric_params_)\n\u001b[0m\u001b[1;32m    239\u001b[0m         \u001b[0;32melif\u001b[0m \u001b[0mself\u001b[0m\u001b[0;34m.\u001b[0m\u001b[0m_fit_method\u001b[0m \u001b[0;34m==\u001b[0m \u001b[0;34m'brute'\u001b[0m\u001b[0;34m:\u001b[0m\u001b[0;34m\u001b[0m\u001b[0m\n\u001b[1;32m    240\u001b[0m             \u001b[0mself\u001b[0m\u001b[0;34m.\u001b[0m\u001b[0m_tree\u001b[0m \u001b[0;34m=\u001b[0m \u001b[0mNone\u001b[0m\u001b[0;34m\u001b[0m\u001b[0m\n",
      "\u001b[0;32mbinary_tree.pxi\u001b[0m in \u001b[0;36msklearn.neighbors.kd_tree.BinaryTree.__init__ (sklearn/neighbors/kd_tree.c:8326)\u001b[0;34m()\u001b[0m\n",
      "\u001b[0;32m/Users/Ryan/anaconda/lib/python2.7/site-packages/numpy/core/numeric.pyc\u001b[0m in \u001b[0;36masarray\u001b[0;34m(a, dtype, order)\u001b[0m\n\u001b[1;32m    460\u001b[0m \u001b[0;34m\u001b[0m\u001b[0m\n\u001b[1;32m    461\u001b[0m     \"\"\"\n\u001b[0;32m--> 462\u001b[0;31m     \u001b[0;32mreturn\u001b[0m \u001b[0marray\u001b[0m\u001b[0;34m(\u001b[0m\u001b[0ma\u001b[0m\u001b[0;34m,\u001b[0m \u001b[0mdtype\u001b[0m\u001b[0;34m,\u001b[0m \u001b[0mcopy\u001b[0m\u001b[0;34m=\u001b[0m\u001b[0mFalse\u001b[0m\u001b[0;34m,\u001b[0m \u001b[0morder\u001b[0m\u001b[0;34m=\u001b[0m\u001b[0morder\u001b[0m\u001b[0;34m)\u001b[0m\u001b[0;34m\u001b[0m\u001b[0m\n\u001b[0m\u001b[1;32m    463\u001b[0m \u001b[0;34m\u001b[0m\u001b[0m\n\u001b[1;32m    464\u001b[0m \u001b[0;32mdef\u001b[0m \u001b[0masanyarray\u001b[0m\u001b[0;34m(\u001b[0m\u001b[0ma\u001b[0m\u001b[0;34m,\u001b[0m \u001b[0mdtype\u001b[0m\u001b[0;34m=\u001b[0m\u001b[0mNone\u001b[0m\u001b[0;34m,\u001b[0m \u001b[0morder\u001b[0m\u001b[0;34m=\u001b[0m\u001b[0mNone\u001b[0m\u001b[0;34m)\u001b[0m\u001b[0;34m:\u001b[0m\u001b[0;34m\u001b[0m\u001b[0m\n",
      "\u001b[0;31mValueError\u001b[0m: could not convert string to float: UPPER WEST SIDE (79-96)  "
     ]
    }
   ],
   "source": [
    "model = KNeighborsClassifier(n_neighbors=3)\n",
    "model.fit(df1Train[:,:2], df1Train[:,2])"
   ]
  },
  {
   "cell_type": "code",
   "execution_count": null,
   "metadata": {
    "collapsed": true
   },
   "outputs": [],
   "source": []
  }
 ],
 "metadata": {
  "kernelspec": {
   "display_name": "Python 2",
   "language": "python",
   "name": "python2"
  },
  "language_info": {
   "codemirror_mode": {
    "name": "ipython",
    "version": 2
   },
   "file_extension": ".py",
   "mimetype": "text/x-python",
   "name": "python",
   "nbconvert_exporter": "python",
   "pygments_lexer": "ipython2",
   "version": "2.7.9"
  }
 },
 "nbformat": 4,
 "nbformat_minor": 0
}
