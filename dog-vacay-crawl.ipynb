{
 "cells": [
  {
   "cell_type": "code",
   "execution_count": 16,
   "metadata": {
    "_datascience": {},
    "collapsed": false
   },
   "outputs": [],
   "source": [
    "import requests\n",
    "from bs4 import BeautifulSoup\n",
    "import time\n",
    "import pandas as pd\n",
    "import sqlite3 as lite"
   ]
  },
  {
   "cell_type": "code",
   "execution_count": 2,
   "metadata": {
    "_datascience": {},
    "collapsed": true
   },
   "outputs": [],
   "source": [
    "# First page to crawl\n",
    "url = 'https://dogvacay.com/dog-boarding--tx--austin'"
   ]
  },
  {
   "cell_type": "code",
   "execution_count": 4,
   "metadata": {
    "collapsed": true
   },
   "outputs": [],
   "source": [
    "headers = {'User-Agent': 'Mozilla/5.0 (Macintosh; Intel Mac OS X 10_10_0) AppleWebKit/537.36 (KHTML, like Gecko) Chrome/43.0.2357.124 Safari/537.36'}"
   ]
  },
  {
   "cell_type": "code",
   "execution_count": 5,
   "metadata": {
    "_datascience": {},
    "collapsed": false
   },
   "outputs": [
    {
     "name": "stdout",
     "output_type": "stream",
     "text": [
      "https://dogvacay.com/dog-boarding--tx--austin?p=1\n",
      "https://dogvacay.com/dog-boarding--tx--austin?p=2\n",
      "https://dogvacay.com/dog-boarding--tx--austin?p=3\n",
      "https://dogvacay.com/dog-boarding--tx--austin?p=4\n",
      "https://dogvacay.com/dog-boarding--tx--austin?p=5\n",
      "https://dogvacay.com/dog-boarding--tx--austin?p=6\n",
      "https://dogvacay.com/dog-boarding--tx--austin?p=7\n"
     ]
    }
   ],
   "source": [
    "# TODO: check if the page has multiple pages (most do, and use the url below to get the 2nd, 3rd, etc page data too)\n",
    "# https://dogvacay.com/dog-boarding--tx--austin?p=2\n",
    "running = True\n",
    "page = 1\n",
    "while running:\n",
    "    url = \"https://dogvacay.com/dog-boarding--tx--austin?p=\"+str(page)\n",
    "    print url\n",
    "    r = requests.get(url, headers=headers)\n",
    "    soup = BeautifulSoup(r.text)\n",
    "    time.sleep(1)\n",
    "    pagination_links = soup.findAll('a', {'class': 'pagination-link'})\n",
    "    running = False\n",
    "    for pl in pagination_links:\n",
    "        if pl.text.find('Next') == 0:\n",
    "            running = True\n",
    "    page+=1"
   ]
  },
  {
   "cell_type": "code",
   "execution_count": 22,
   "metadata": {
    "_datascience": {},
    "collapsed": true
   },
   "outputs": [],
   "source": [
    "# TODO: set up a loop over other cities too"
   ]
  },
  {
   "cell_type": "code",
   "execution_count": 23,
   "metadata": {
    "collapsed": true
   },
   "outputs": [],
   "source": [
    "cities = {'tx' : \"austin\"\n",
    "          , 'ca' : 'los-angeles'\n",
    "          , 'ga' : 'atlanta'\n",
    "          , 'ma' : 'boston'\n",
    "          , 'nc' : 'charlotte'\n",
    "          , 'tx' : 'dallas'\n",
    "          , 'co' : 'denver'\n",
    "          , 'tx' : 'houston'\n",
    "          , 'fl' : 'miami'\n",
    "          , 'mn' : 'minneapolis'\n",
    "          , 'ny' : 'new-york'\n",
    "          , 'pa' : 'philadelphia'\n",
    "          , 'az' : 'phoenix'\n",
    "          , 'or' : 'portland'\n",
    "          , 'ca' : 'san-francisco'\n",
    "          , 'ca' : 'san-diego'\n",
    "          , 'wa' : 'seattle'\n",
    "          , 'dc' : 'washington'\n",
    "         }"
   ]
  },
  {
   "cell_type": "code",
   "execution_count": 35,
   "metadata": {
    "collapsed": false
   },
   "outputs": [
    {
     "name": "stdout",
     "output_type": "stream",
     "text": [
      "https://dogvacay.com/dog-boarding--or--portland?p=1\n",
      "https://dogvacay.com/dog-boarding--or--portland?p=2\n",
      "https://dogvacay.com/dog-boarding--or--portland?p=3\n",
      "https://dogvacay.com/dog-boarding--or--portland?p=4\n"
     ]
    },
    {
     "ename": "KeyboardInterrupt",
     "evalue": "",
     "output_type": "error",
     "traceback": [
      "\u001b[0;31m---------------------------------------------------------------------------\u001b[0m",
      "\u001b[0;31mKeyboardInterrupt\u001b[0m                         Traceback (most recent call last)",
      "\u001b[0;32m<ipython-input-35-c06a671b2f35>\u001b[0m in \u001b[0;36m<module>\u001b[0;34m()\u001b[0m\n\u001b[1;32m      6\u001b[0m     \u001b[0mr\u001b[0m \u001b[0;34m=\u001b[0m \u001b[0mrequests\u001b[0m\u001b[0;34m.\u001b[0m\u001b[0mget\u001b[0m\u001b[0;34m(\u001b[0m\u001b[0murl\u001b[0m\u001b[0;34m,\u001b[0m \u001b[0mheaders\u001b[0m\u001b[0;34m=\u001b[0m\u001b[0mheaders\u001b[0m\u001b[0;34m)\u001b[0m\u001b[0;34m\u001b[0m\u001b[0m\n\u001b[1;32m      7\u001b[0m     \u001b[0msoup\u001b[0m \u001b[0;34m=\u001b[0m \u001b[0mBeautifulSoup\u001b[0m\u001b[0;34m(\u001b[0m\u001b[0mr\u001b[0m\u001b[0;34m.\u001b[0m\u001b[0mtext\u001b[0m\u001b[0;34m)\u001b[0m\u001b[0;34m\u001b[0m\u001b[0m\n\u001b[0;32m----> 8\u001b[0;31m     \u001b[0mtime\u001b[0m\u001b[0;34m.\u001b[0m\u001b[0msleep\u001b[0m\u001b[0;34m(\u001b[0m\u001b[0;36m1\u001b[0m\u001b[0;34m)\u001b[0m\u001b[0;34m\u001b[0m\u001b[0m\n\u001b[0m\u001b[1;32m      9\u001b[0m     \u001b[0mpagination_links\u001b[0m \u001b[0;34m=\u001b[0m \u001b[0msoup\u001b[0m\u001b[0;34m.\u001b[0m\u001b[0mfindAll\u001b[0m\u001b[0;34m(\u001b[0m\u001b[0;34m'a'\u001b[0m\u001b[0;34m,\u001b[0m \u001b[0;34m{\u001b[0m\u001b[0;34m'class'\u001b[0m\u001b[0;34m:\u001b[0m \u001b[0;34m'pagination-link'\u001b[0m\u001b[0;34m}\u001b[0m\u001b[0;34m)\u001b[0m\u001b[0;34m\u001b[0m\u001b[0m\n\u001b[1;32m     10\u001b[0m     \u001b[0mrunning\u001b[0m \u001b[0;34m=\u001b[0m \u001b[0mFalse\u001b[0m\u001b[0;34m\u001b[0m\u001b[0m\n",
      "\u001b[0;31mKeyboardInterrupt\u001b[0m: "
     ]
    }
   ],
   "source": [
    "running = True\n",
    "page = 1\n",
    "while running:\n",
    "    url = \"https://dogvacay.com/dog-boarding--\" + k + \"--\" + v + \"?p=\"+str(page)\n",
    "    print url\n",
    "    r = requests.get(url, headers=headers)\n",
    "    soup = BeautifulSoup(r.text)\n",
    "    time.sleep(1)\n",
    "    pagination_links = soup.findAll('a', {'class': 'pagination-link'})\n",
    "    running = False\n",
    "    for pl in pagination_links:\n",
    "        if pl.text.find('Next') == 0:\n",
    "            running = True\n",
    "    page+=1"
   ]
  },
  {
   "cell_type": "code",
   "execution_count": 20,
   "metadata": {
    "_datascience": {},
    "collapsed": false
   },
   "outputs": [],
   "source": [
    "# This gets the page from the web, and also waits one second after you do\n",
    "# The one second wait is to make sure you don't accidentally make too many requests which is bad netiquette\n",
    "r = requests.get(url, headers=headers)\n",
    "time.sleep(1)"
   ]
  },
  {
   "cell_type": "code",
   "execution_count": 21,
   "metadata": {
    "_datascience": {},
    "collapsed": true
   },
   "outputs": [],
   "source": [
    "# TODO: set up a loop until you've checked all pages"
   ]
  },
  {
   "cell_type": "code",
   "execution_count": 23,
   "metadata": {
    "_datascience": {},
    "collapsed": false
   },
   "outputs": [],
   "source": [
    "# Convert the text to a beautiful soup object\n",
    "soup = BeautifulSoup(r.content)"
   ]
  },
  {
   "cell_type": "code",
   "execution_count": 24,
   "metadata": {
    "_datascience": {},
    "collapsed": false
   },
   "outputs": [
    {
     "data": {
      "text/plain": [
       "15"
      ]
     },
     "execution_count": 24,
     "metadata": {},
     "output_type": "execute_result"
    }
   ],
   "source": [
    "# Remeber the \"inspect element\" trick I showed you in Chrome?  Use that to find the data you want\n",
    "sitters = soup.findAll('div', {'class': 'card-content'})\n",
    "len(sitters)"
   ]
  },
  {
   "cell_type": "code",
   "execution_count": 30,
   "metadata": {
    "_datascience": {},
    "collapsed": false
   },
   "outputs": [
    {
     "data": {
      "text/plain": [
       "200"
      ]
     },
     "execution_count": 30,
     "metadata": {},
     "output_type": "execute_result"
    }
   ],
   "source": [
    "# Make sure you got a 200 response, otherwise it indicates an error\n",
    "r.status_code"
   ]
  },
  {
   "cell_type": "code",
   "execution_count": 113,
   "metadata": {
    "_datascience": {},
    "collapsed": false
   },
   "outputs": [
    {
     "data": {
      "text/html": [
       "<div style=\"max-height:1000px;max-width:1500px;overflow:auto;\">\n",
       "<table border=\"1\" class=\"dataframe\">\n",
       "  <thead>\n",
       "    <tr style=\"text-align: right;\">\n",
       "      <th></th>\n",
       "      <th>city</th>\n",
       "      <th>fee</th>\n",
       "      <th>ratings</th>\n",
       "      <th>repeat</th>\n",
       "      <th>response_time</th>\n",
       "      <th>review</th>\n",
       "      <th>services</th>\n",
       "    </tr>\n",
       "  </thead>\n",
       "  <tbody>\n",
       "    <tr>\n",
       "      <th>0 </th>\n",
       "      <td> Austin</td>\n",
       "      <td> 50</td>\n",
       "      <td> 4.5</td>\n",
       "      <td> 0</td>\n",
       "      <td> Few Hours                        </td>\n",
       "      <td>  3</td>\n",
       "      <td>       Boarding, Sitting, and Pick up and Drop off</td>\n",
       "    </tr>\n",
       "    <tr>\n",
       "      <th>1 </th>\n",
       "      <td> Austin</td>\n",
       "      <td> 30</td>\n",
       "      <td> 5.0</td>\n",
       "      <td> 8</td>\n",
       "      <td> Few Hours                        </td>\n",
       "      <td>  9</td>\n",
       "      <td> Boarding, Sitting, Daycare, Checkups and Visit...</td>\n",
       "    </tr>\n",
       "    <tr>\n",
       "      <th>2 </th>\n",
       "      <td> Austin</td>\n",
       "      <td> 28</td>\n",
       "      <td> 5.0</td>\n",
       "      <td> 1</td>\n",
       "      <td> Few Hours                        </td>\n",
       "      <td>  1</td>\n",
       "      <td> Boarding, Sitting, Daycare, Checkups and Visit...</td>\n",
       "    </tr>\n",
       "    <tr>\n",
       "      <th>3 </th>\n",
       "      <td> Austin</td>\n",
       "      <td> 30</td>\n",
       "      <td> 5.0</td>\n",
       "      <td> 1</td>\n",
       "      <td> Few Hours                        </td>\n",
       "      <td>  4</td>\n",
       "      <td>                 Boarding and Pick up and Drop off</td>\n",
       "    </tr>\n",
       "    <tr>\n",
       "      <th>4 </th>\n",
       "      <td> Austin</td>\n",
       "      <td> 32</td>\n",
       "      <td> 0.0</td>\n",
       "      <td> 0</td>\n",
       "      <td> Few Hours                        </td>\n",
       "      <td>  0</td>\n",
       "      <td>                 Boarding and Pick up and Drop off</td>\n",
       "    </tr>\n",
       "    <tr>\n",
       "      <th>5 </th>\n",
       "      <td> Austin</td>\n",
       "      <td> 32</td>\n",
       "      <td> 5.0</td>\n",
       "      <td> 2</td>\n",
       "      <td> Few Hours                        </td>\n",
       "      <td>  9</td>\n",
       "      <td> Boarding, Sitting, Daycare, Checkups and Visit...</td>\n",
       "    </tr>\n",
       "    <tr>\n",
       "      <th>6 </th>\n",
       "      <td> Austin</td>\n",
       "      <td> 30</td>\n",
       "      <td> 5.0</td>\n",
       "      <td> 1</td>\n",
       "      <td> Few Hours                        </td>\n",
       "      <td>  5</td>\n",
       "      <td>                    Boarding, Sitting, and Bathing</td>\n",
       "    </tr>\n",
       "    <tr>\n",
       "      <th>7 </th>\n",
       "      <td> Austin</td>\n",
       "      <td> 45</td>\n",
       "      <td> 5.0</td>\n",
       "      <td> 3</td>\n",
       "      <td> Few Hours                        </td>\n",
       "      <td>  4</td>\n",
       "      <td>                                          Boarding</td>\n",
       "    </tr>\n",
       "    <tr>\n",
       "      <th>8 </th>\n",
       "      <td> Austin</td>\n",
       "      <td> 40</td>\n",
       "      <td> 5.0</td>\n",
       "      <td> 0</td>\n",
       "      <td> Few Hours                        </td>\n",
       "      <td>  1</td>\n",
       "      <td>                                          Boarding</td>\n",
       "    </tr>\n",
       "    <tr>\n",
       "      <th>9 </th>\n",
       "      <td> Austin</td>\n",
       "      <td> 30</td>\n",
       "      <td> 5.0</td>\n",
       "      <td> 1</td>\n",
       "      <td> Few Hours                        </td>\n",
       "      <td>  1</td>\n",
       "      <td> Boarding, Sitting, Daycare, Checkups and Visit...</td>\n",
       "    </tr>\n",
       "    <tr>\n",
       "      <th>10</th>\n",
       "      <td> Austin</td>\n",
       "      <td> 40</td>\n",
       "      <td> 5.0</td>\n",
       "      <td> 2</td>\n",
       "      <td> Few Hours                        </td>\n",
       "      <td>  2</td>\n",
       "      <td>       Boarding, Daycare, and Pick up and Drop off</td>\n",
       "    </tr>\n",
       "    <tr>\n",
       "      <th>11</th>\n",
       "      <td> Austin</td>\n",
       "      <td> 30</td>\n",
       "      <td> 5.0</td>\n",
       "      <td> 1</td>\n",
       "      <td> Few Hours                        </td>\n",
       "      <td>  2</td>\n",
       "      <td>    Boarding, Daycare, Walking, Training, and more</td>\n",
       "    </tr>\n",
       "    <tr>\n",
       "      <th>12</th>\n",
       "      <td> Austin</td>\n",
       "      <td> 35</td>\n",
       "      <td> 5.0</td>\n",
       "      <td> 1</td>\n",
       "      <td> Few Hours                        </td>\n",
       "      <td>  2</td>\n",
       "      <td> Boarding, Sitting, Daycare, Checkups and Visit...</td>\n",
       "    </tr>\n",
       "    <tr>\n",
       "      <th>13</th>\n",
       "      <td> Austin</td>\n",
       "      <td> 35</td>\n",
       "      <td> 5.0</td>\n",
       "      <td> 1</td>\n",
       "      <td> Few Hours                        </td>\n",
       "      <td> 32</td>\n",
       "      <td>       Boarding, Daycare, and Pick up and Drop off</td>\n",
       "    </tr>\n",
       "    <tr>\n",
       "      <th>14</th>\n",
       "      <td> Austin</td>\n",
       "      <td> 25</td>\n",
       "      <td> 3.0</td>\n",
       "      <td> 0</td>\n",
       "      <td> Few Hours                        </td>\n",
       "      <td>  2</td>\n",
       "      <td> Boarding, Checkups and Visits, Bathing, and Pi...</td>\n",
       "    </tr>\n",
       "  </tbody>\n",
       "</table>\n",
       "</div>"
      ],
      "text/plain": [
       "      city fee  ratings repeat                      response_time  review  \\\n",
       "0   Austin  50      4.5      0  Few Hours                               3   \n",
       "1   Austin  30      5.0      8  Few Hours                               9   \n",
       "2   Austin  28      5.0      1  Few Hours                               1   \n",
       "3   Austin  30      5.0      1  Few Hours                               4   \n",
       "4   Austin  32      0.0      0  Few Hours                               0   \n",
       "5   Austin  32      5.0      2  Few Hours                               9   \n",
       "6   Austin  30      5.0      1  Few Hours                               5   \n",
       "7   Austin  45      5.0      3  Few Hours                               4   \n",
       "8   Austin  40      5.0      0  Few Hours                               1   \n",
       "9   Austin  30      5.0      1  Few Hours                               1   \n",
       "10  Austin  40      5.0      2  Few Hours                               2   \n",
       "11  Austin  30      5.0      1  Few Hours                               2   \n",
       "12  Austin  35      5.0      1  Few Hours                               2   \n",
       "13  Austin  35      5.0      1  Few Hours                              32   \n",
       "14  Austin  25      3.0      0  Few Hours                               2   \n",
       "\n",
       "                                             services  \n",
       "0         Boarding, Sitting, and Pick up and Drop off  \n",
       "1   Boarding, Sitting, Daycare, Checkups and Visit...  \n",
       "2   Boarding, Sitting, Daycare, Checkups and Visit...  \n",
       "3                   Boarding and Pick up and Drop off  \n",
       "4                   Boarding and Pick up and Drop off  \n",
       "5   Boarding, Sitting, Daycare, Checkups and Visit...  \n",
       "6                      Boarding, Sitting, and Bathing  \n",
       "7                                            Boarding  \n",
       "8                                            Boarding  \n",
       "9   Boarding, Sitting, Daycare, Checkups and Visit...  \n",
       "10        Boarding, Daycare, and Pick up and Drop off  \n",
       "11     Boarding, Daycare, Walking, Training, and more  \n",
       "12  Boarding, Sitting, Daycare, Checkups and Visit...  \n",
       "13        Boarding, Daycare, and Pick up and Drop off  \n",
       "14  Boarding, Checkups and Visits, Bathing, and Pi...  "
      ]
     },
     "execution_count": 113,
     "metadata": {},
     "output_type": "execute_result"
    }
   ],
   "source": [
    "# Data extraction phase\n",
    "# TODO: This is a work in progress.  You should have a go at getting it working.\n",
    "# TODO: Pick which important fields you want to extract, find them, build the data frame\n",
    "\n",
    "sitter = sitters[3]\n",
    "times = []\n",
    "fees = []\n",
    "reviews = []\n",
    "repeats = []\n",
    "city = []\n",
    "service = []\n",
    "rating = []\n",
    "\n",
    "for sitter in sitters:\n",
    "    response_time = sitter.findAll('div', {'class': 'icon-wrapper'})[0].text.strip('\\n')[19:]\n",
    "    fee = sitter.findAll('div', {'class': 'price price--primary u-text-center'})\n",
    "    review = sitter.find('span', {'class': 'vcard-review'})\n",
    "    if review is not None and len(review) > 0:\n",
    "        review = int(review.text.replace('Reviews', '').replace('Review', '').strip())\n",
    "    else:\n",
    "        review = 0\n",
    "    repeat = sitter.findAll('div', {'class': 'icon-wrapper'})\n",
    "    if len(repeat) == 2:\n",
    "        repeat = repeat[1].text.strip('\\n')[1]\n",
    "    else:\n",
    "        repeat = 0\n",
    "    services = sitter.findAll('div', {'class': 'vcard-line-item'})\n",
    "    full_star = sitter.findAll('i', {'class': 'ck-star'})\n",
    "    ratings = len(full_star)\n",
    "    half_star = sitter.findAll('i', {'class': 'ck-star-half'})\n",
    "    if len(half_star) > 0:\n",
    "        ratings += .5\n",
    "    fees.append(fee[0].text.strip('\\n$')[:2])\n",
    "    city.append('Austin')\n",
    "    times.append(response_time)\n",
    "    reviews.append(review)\n",
    "    repeats.append(repeat)\n",
    "    service.append(services[-1].text.strip('\\n'))\n",
    "    rating.append(ratings)\n",
    "    \n",
    "\n",
    "df = pd.DataFrame({'city': city, 'fee': fees, 'response_time': times, 'review' : reviews, 'repeat' : repeats, 'services' : service, 'ratings': rating})\n",
    "df"
   ]
  },
  {
   "cell_type": "code",
   "execution_count": null,
   "metadata": {
    "collapsed": true
   },
   "outputs": [],
   "source": []
  }
 ],
 "metadata": {
  "_datascience": {},
  "kernelspec": {
   "display_name": "Python 2",
   "language": "python",
   "name": "python2"
  },
  "language_info": {
   "codemirror_mode": {
    "name": "ipython",
    "version": 2
   },
   "file_extension": ".py",
   "mimetype": "text/x-python",
   "name": "python",
   "nbconvert_exporter": "python",
   "pygments_lexer": "ipython2",
   "version": "2.7.9"
  }
 },
 "nbformat": 4,
 "nbformat_minor": 0
}
