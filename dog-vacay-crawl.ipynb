{
 "cells": [
  {
   "cell_type": "code",
   "execution_count": 13,
   "metadata": {
    "_datascience": {},
    "collapsed": false
   },
   "outputs": [],
   "source": [
    "import requests\n",
    "import BeautifulSoup as soup\n",
    "import time\n",
    "import pandas as pd"
   ]
  },
  {
   "cell_type": "code",
   "execution_count": 4,
   "metadata": {
    "_datascience": {},
    "collapsed": true
   },
   "outputs": [],
   "source": [
    "# First page to crawl\n",
    "url = 'https://dogvacay.com/dog-boarding--tx--austin'"
   ]
  },
  {
   "cell_type": "code",
   "execution_count": 5,
   "metadata": {
    "_datascience": {},
    "collapsed": true
   },
   "outputs": [],
   "source": [
    "# TODO: check if the page has multiple pages (most do, and use the url below to get the 2nd, 3rd, etc page data too)\n",
    "# https://dogvacay.com/dog-boarding--tx--austin?p=2"
   ]
  },
  {
   "cell_type": "code",
   "execution_count": 6,
   "metadata": {
    "_datascience": {},
    "collapsed": true
   },
   "outputs": [],
   "source": [
    "# TODO: set up a loop until you've checked all pages"
   ]
  },
  {
   "cell_type": "code",
   "execution_count": 7,
   "metadata": {
    "_datascience": {},
    "collapsed": true
   },
   "outputs": [],
   "source": [
    "# TODO: set up a loop over other cities too"
   ]
  },
  {
   "cell_type": "code",
   "execution_count": 8,
   "metadata": {
    "_datascience": {},
    "collapsed": true
   },
   "outputs": [],
   "source": [
    "# This gets the page from the web, and also waits one second after you do\n",
    "# The one second wait is to make sure you don't accidentally make too many requests which is bad netiquette\n",
    "r = requests.get(url)\n",
    "time.sleep(1)"
   ]
  },
  {
   "cell_type": "code",
   "execution_count": 9,
   "metadata": {
    "_datascience": {},
    "collapsed": false
   },
   "outputs": [
    {
     "data": {
      "text/plain": [
       "200"
      ]
     },
     "execution_count": 9,
     "metadata": {},
     "output_type": "execute_result"
    }
   ],
   "source": [
    "# Make sure you got a 200 response, otherwise it indicates an error\n",
    "r.status_code"
   ]
  },
  {
   "cell_type": "code",
   "execution_count": 10,
   "metadata": {
    "_datascience": {},
    "collapsed": true
   },
   "outputs": [],
   "source": [
    "# Convert the text to a beautiful soup object\n",
    "s = soup.BeautifulSoup(r.text)"
   ]
  },
  {
   "cell_type": "code",
   "execution_count": 11,
   "metadata": {
    "_datascience": {},
    "collapsed": false
   },
   "outputs": [
    {
     "data": {
      "text/plain": [
       "15"
      ]
     },
     "execution_count": 11,
     "metadata": {},
     "output_type": "execute_result"
    }
   ],
   "source": [
    "# Remeber the \"inspect element\" trick I showed you in Chrome?  Use that to find the data you want\n",
    "sitters = s.findAll('div', {'class': 'card-content'})\n",
    "len(sitters)"
   ]
  },
  {
   "cell_type": "code",
   "execution_count": 14,
   "metadata": {
    "_datascience": {},
    "collapsed": false
   },
   "outputs": [
    {
     "data": {
      "text/html": [
       "<div style=\"max-height:1000px;max-width:1500px;overflow:auto;\">\n",
       "<table border=\"1\" class=\"dataframe\">\n",
       "  <thead>\n",
       "    <tr style=\"text-align: right;\">\n",
       "      <th></th>\n",
       "      <th>city</th>\n",
       "      <th>fee</th>\n",
       "    </tr>\n",
       "  </thead>\n",
       "  <tbody>\n",
       "    <tr>\n",
       "      <th>0</th>\n",
       "      <td>Austin</td>\n",
       "      <td>[&lt;div class=\"price price--primary u-text-cente...</td>\n",
       "    </tr>\n",
       "    <tr>\n",
       "      <th>1</th>\n",
       "      <td>Austin</td>\n",
       "      <td>[&lt;div class=\"price price--primary u-text-cente...</td>\n",
       "    </tr>\n",
       "    <tr>\n",
       "      <th>2</th>\n",
       "      <td>Austin</td>\n",
       "      <td>[&lt;div class=\"price price--primary u-text-cente...</td>\n",
       "    </tr>\n",
       "    <tr>\n",
       "      <th>3</th>\n",
       "      <td>Austin</td>\n",
       "      <td>[&lt;div class=\"price price--primary u-text-cente...</td>\n",
       "    </tr>\n",
       "    <tr>\n",
       "      <th>4</th>\n",
       "      <td>Austin</td>\n",
       "      <td>[&lt;div class=\"price price--primary u-text-cente...</td>\n",
       "    </tr>\n",
       "    <tr>\n",
       "      <th>5</th>\n",
       "      <td>Austin</td>\n",
       "      <td>[&lt;div class=\"price price--primary u-text-cente...</td>\n",
       "    </tr>\n",
       "    <tr>\n",
       "      <th>6</th>\n",
       "      <td>Austin</td>\n",
       "      <td>[&lt;div class=\"price price--primary u-text-cente...</td>\n",
       "    </tr>\n",
       "    <tr>\n",
       "      <th>7</th>\n",
       "      <td>Austin</td>\n",
       "      <td>[&lt;div class=\"price price--primary u-text-cente...</td>\n",
       "    </tr>\n",
       "    <tr>\n",
       "      <th>8</th>\n",
       "      <td>Austin</td>\n",
       "      <td>[&lt;div class=\"price price--primary u-text-cente...</td>\n",
       "    </tr>\n",
       "    <tr>\n",
       "      <th>9</th>\n",
       "      <td>Austin</td>\n",
       "      <td>[&lt;div class=\"price price--primary u-text-cente...</td>\n",
       "    </tr>\n",
       "    <tr>\n",
       "      <th>10</th>\n",
       "      <td>Austin</td>\n",
       "      <td>[&lt;div class=\"price price--primary u-text-cente...</td>\n",
       "    </tr>\n",
       "    <tr>\n",
       "      <th>11</th>\n",
       "      <td>Austin</td>\n",
       "      <td>[&lt;div class=\"price price--primary u-text-cente...</td>\n",
       "    </tr>\n",
       "    <tr>\n",
       "      <th>12</th>\n",
       "      <td>Austin</td>\n",
       "      <td>[&lt;div class=\"price price--primary u-text-cente...</td>\n",
       "    </tr>\n",
       "    <tr>\n",
       "      <th>13</th>\n",
       "      <td>Austin</td>\n",
       "      <td>[&lt;div class=\"price price--primary u-text-cente...</td>\n",
       "    </tr>\n",
       "    <tr>\n",
       "      <th>14</th>\n",
       "      <td>Austin</td>\n",
       "      <td>[&lt;div class=\"price price--primary u-text-cente...</td>\n",
       "    </tr>\n",
       "  </tbody>\n",
       "</table>\n",
       "</div>"
      ],
      "text/plain": [
       "      city                                                fee\n",
       "0   Austin  [<div class=\"price price--primary u-text-cente...\n",
       "1   Austin  [<div class=\"price price--primary u-text-cente...\n",
       "2   Austin  [<div class=\"price price--primary u-text-cente...\n",
       "3   Austin  [<div class=\"price price--primary u-text-cente...\n",
       "4   Austin  [<div class=\"price price--primary u-text-cente...\n",
       "5   Austin  [<div class=\"price price--primary u-text-cente...\n",
       "6   Austin  [<div class=\"price price--primary u-text-cente...\n",
       "7   Austin  [<div class=\"price price--primary u-text-cente...\n",
       "8   Austin  [<div class=\"price price--primary u-text-cente...\n",
       "9   Austin  [<div class=\"price price--primary u-text-cente...\n",
       "10  Austin  [<div class=\"price price--primary u-text-cente...\n",
       "11  Austin  [<div class=\"price price--primary u-text-cente...\n",
       "12  Austin  [<div class=\"price price--primary u-text-cente...\n",
       "13  Austin  [<div class=\"price price--primary u-text-cente...\n",
       "14  Austin  [<div class=\"price price--primary u-text-cente..."
      ]
     },
     "execution_count": 14,
     "metadata": {},
     "output_type": "execute_result"
    }
   ],
   "source": [
    "# Data extraction phase\n",
    "# TODO: This is a work in progress.  You should have a go at getting it working.\n",
    "# TODO: Pick which important fields you want to extract, find them, build the data frame\n",
    "\n",
    "sitter = sitters[0]\n",
    "times = []\n",
    "fees = []\n",
    "city = []\n",
    "for sitter in sitters:\n",
    "    response_time = sitter.findAll('div', {'class': 'icon-wrapper'})\n",
    "    fee = sitter.findAll('div', {'class': 'price price--primary u-text-center'})\n",
    "    fees.append(fee)\n",
    "    city.append('Austin')\n",
    "\n",
    "df = pd.DataFrame({'city': city, 'fee': fees})\n",
    "df"
   ]
  },
  {
   "cell_type": "code",
   "execution_count": null,
   "metadata": {
    "_datascience": {},
    "collapsed": true
   },
   "outputs": [],
   "source": []
  }
 ],
 "metadata": {
  "_datascience": {},
  "kernelspec": {
   "display_name": "Python 2",
   "language": "python",
   "name": "python2"
  },
  "language_info": {
   "codemirror_mode": {
    "name": "ipython",
    "version": 2
   },
   "file_extension": ".py",
   "mimetype": "text/x-python",
   "name": "python",
   "nbconvert_exporter": "python",
   "pygments_lexer": "ipython2",
   "version": "2.7.6"
  }
 },
 "nbformat": 4,
 "nbformat_minor": 0
}
